{
  "nbformat": 4,
  "nbformat_minor": 0,
  "metadata": {
    "colab": {
      "provenance": [],
      "gpuType": "T4",
      "include_colab_link": true
    },
    "kernelspec": {
      "name": "python3",
      "display_name": "Python 3"
    },
    "language_info": {
      "name": "python"
    },
    "gpuClass": "standard"
  },
  "cells": [
    {
      "cell_type": "markdown",
      "metadata": {
        "id": "view-in-github",
        "colab_type": "text"
      },
      "source": [
        "<a href=\"https://colab.research.google.com/github/thaohung13/Project.cuoi.ky.AI/blob/main/DETECT10FLOWER.ipynb\" target=\"_parent\"><img src=\"https://colab.research.google.com/assets/colab-badge.svg\" alt=\"Open In Colab\"/></a>"
      ]
    },
    {
      "cell_type": "code",
      "execution_count": 2,
      "metadata": {
        "id": "dECoW6YblV-z"
      },
      "outputs": [],
      "source": [
        "from os import listdir\n",
        "from numpy import asarray, save\n",
        "from keras.utils import load_img\n",
        "from keras.utils import img_to_array\n",
        "import numpy as np\n",
        "from sklearn.model_selection import train_test_split\n",
        "from keras.datasets import cifar100\n",
        "import matplotlib.pyplot as plt\n",
        "from keras.layers import Dense, Dropout, Flatten, Conv2D, MaxPooling2D, Normalization\n",
        "from keras.models import Sequential, Model\n",
        "from keras import Input\n",
        "from keras.layers import LeakyReLU\n",
        "from keras.optimizers import Adam"
      ]
    },
    {
      "cell_type": "code",
      "source": [
        "from google.colab import drive\n",
        "drive.mount('/content/drive')"
      ],
      "metadata": {
        "colab": {
          "base_uri": "https://localhost:8080/"
        },
        "id": "U4XLAeBllbTr",
        "outputId": "58db166f-cbc0-4f37-e6a1-c5a96f318ed3"
      },
      "execution_count": 1,
      "outputs": [
        {
          "output_type": "stream",
          "name": "stdout",
          "text": [
            "Mounted at /content/drive\n"
          ]
        }
      ]
    },
    {
      "cell_type": "code",
      "source": [
        "from numpy import asarray\n",
        "\n",
        "folder = '/content/drive/MyDrive/AI -Trần Thảo Hưng -20146344/DATA2/'\n",
        "photos, labels = list(), list()\n",
        "for file in listdir(folder):\n",
        "  output = 0.0\n",
        "  if file.startswith('Hong'):\n",
        "    output = 0\n",
        "  if file.startswith('Su'):\n",
        "    output = 1\n",
        "  if file.startswith('Sen'):\n",
        "    output = 2\n",
        "  if file.startswith('Mai'):\n",
        "    output = 3\n",
        "  if file.startswith('HaiDuong'):\n",
        "    output = 4\n",
        "  if file.startswith('HongMon'):\n",
        "    output = 5\n",
        "  if file.startswith('ThienDieu'):\n",
        "    output = 6\n",
        "  if file.startswith('CucVanTho'):\n",
        "    output = 7\n",
        "  if file.startswith('HuongDuong'):\n",
        "    output = 8\n",
        "  if file.startswith('DaUyenThao'):\n",
        "    output = 9\n",
        "  photo = load_img(folder + file, target_size=(128, 128))\n",
        "  photo = img_to_array(photo)\n",
        "  photos.append(photo)\n",
        "  labels.append(output)\n",
        "\n",
        "photos = asarray(photos)\n",
        "labels = asarray(labels)\n",
        "print(photos.shape, labels.shape)\n",
        "save('/content/drive/MyDrive/AI -Trần Thảo Hưng -20146344/model/HOA_PHOTOS1', photos)\n",
        "save('/content/drive/MyDrive/AI -Trần Thảo Hưng -20146344/model/HOA_LABELS1', labels)"
      ],
      "metadata": {
        "colab": {
          "base_uri": "https://localhost:8080/"
        },
        "id": "sNT-XeT4ldXZ",
        "outputId": "1e81ba47-881a-49ab-e750-98adb8860ad1"
      },
      "execution_count": 3,
      "outputs": [
        {
          "output_type": "stream",
          "name": "stdout",
          "text": [
            "(1245, 128, 128, 3) (1245,)\n"
          ]
        }
      ]
    },
    {
      "cell_type": "code",
      "source": [
        "# Load images and labels\n",
        "from keras.utils import to_categorical #one hot encoding\n",
        "photos = np.load('/content/drive/MyDrive/AI -Trần Thảo Hưng -20146344/model/HOA_PHOTOS1.npy')\n",
        "labels = np.load('/content/drive/MyDrive/AI -Trần Thảo Hưng -20146344/model/HOA_LABELS1.npy')\n",
        "labels_one_hot = to_categorical(labels)\n",
        "x_train, x_test, y_train, y_test = train_test_split(photos, labels_one_hot, test_size = 0.2, random_state = 128)"
      ],
      "metadata": {
        "id": "lp7XL7SblsKl"
      },
      "execution_count": 4,
      "outputs": []
    },
    {
      "cell_type": "code",
      "source": [
        "model = Sequential()\n",
        "#Convolutional\n",
        "model.add(Conv2D(8, kernel_size= (3,3), activation= 'relu', input_shape = (128,128,3), padding= 'same'))\n",
        "model.add(MaxPooling2D((2,2), padding= 'same'))\n",
        "\n",
        "model.add(Conv2D(16, kernel_size= (3,3), activation= 'relu', padding= 'same'))\n",
        "model.add(MaxPooling2D((2,2), padding= 'same'))\n",
        "\n",
        "model.add(Conv2D(32, kernel_size= (3,3), activation= 'relu', padding= 'same'))\n",
        "model.add(Conv2D(32, kernel_size= (3,3), activation= 'relu', padding= 'same'))\n",
        "model.add(MaxPooling2D((2,2), padding= 'same'))\n",
        "\n",
        "model.add(Conv2D(64, kernel_size= (3,3), activation= 'relu', padding= 'same'))\n",
        "model.add(Conv2D(64, kernel_size= (3,3), activation= 'relu', padding= 'same'))\n",
        "model.add(MaxPooling2D((2,2), padding= 'same'))\n",
        "\n",
        "# Fully connected layers\n",
        "model.add(Flatten())\n",
        "model.add(Dense(512, activation= 'relu'))\n",
        "model.add(Dropout(0.5))\n",
        "model.add(Dense(512, activation= 'relu'))\n",
        "model.add(Dropout(0.5))\n",
        "model.add(Dense(10, activation= 'softmax'))\n",
        "model.summary()"
      ],
      "metadata": {
        "colab": {
          "base_uri": "https://localhost:8080/"
        },
        "id": "N0JYyJhIlt-9",
        "outputId": "2cb4b3fa-3686-4d10-a1a5-efa24db8a27f"
      },
      "execution_count": 5,
      "outputs": [
        {
          "output_type": "stream",
          "name": "stdout",
          "text": [
            "Model: \"sequential\"\n",
            "_________________________________________________________________\n",
            " Layer (type)                Output Shape              Param #   \n",
            "=================================================================\n",
            " conv2d (Conv2D)             (None, 128, 128, 8)       224       \n",
            "                                                                 \n",
            " max_pooling2d (MaxPooling2D  (None, 64, 64, 8)        0         \n",
            " )                                                               \n",
            "                                                                 \n",
            " conv2d_1 (Conv2D)           (None, 64, 64, 16)        1168      \n",
            "                                                                 \n",
            " max_pooling2d_1 (MaxPooling  (None, 32, 32, 16)       0         \n",
            " 2D)                                                             \n",
            "                                                                 \n",
            " conv2d_2 (Conv2D)           (None, 32, 32, 32)        4640      \n",
            "                                                                 \n",
            " conv2d_3 (Conv2D)           (None, 32, 32, 32)        9248      \n",
            "                                                                 \n",
            " max_pooling2d_2 (MaxPooling  (None, 16, 16, 32)       0         \n",
            " 2D)                                                             \n",
            "                                                                 \n",
            " conv2d_4 (Conv2D)           (None, 16, 16, 64)        18496     \n",
            "                                                                 \n",
            " conv2d_5 (Conv2D)           (None, 16, 16, 64)        36928     \n",
            "                                                                 \n",
            " max_pooling2d_3 (MaxPooling  (None, 8, 8, 64)         0         \n",
            " 2D)                                                             \n",
            "                                                                 \n",
            " flatten (Flatten)           (None, 4096)              0         \n",
            "                                                                 \n",
            " dense (Dense)               (None, 512)               2097664   \n",
            "                                                                 \n",
            " dropout (Dropout)           (None, 512)               0         \n",
            "                                                                 \n",
            " dense_1 (Dense)             (None, 512)               262656    \n",
            "                                                                 \n",
            " dropout_1 (Dropout)         (None, 512)               0         \n",
            "                                                                 \n",
            " dense_2 (Dense)             (None, 10)                5130      \n",
            "                                                                 \n",
            "=================================================================\n",
            "Total params: 2,436,154\n",
            "Trainable params: 2,436,154\n",
            "Non-trainable params: 0\n",
            "_________________________________________________________________\n"
          ]
        }
      ]
    },
    {
      "cell_type": "code",
      "source": [
        "#from keras.preprocessing.image import ImageDataGenerator\n",
        "#aug = ImageDataGenerator(rotation_range=20, zoom_range=0.2,\n",
        "#    rescale=1./255,\n",
        "#\twidth_shift_range=0.2,\n",
        "#    height_shift_range=0.2,\n",
        "#\thorizontal_flip=True,\n",
        "#    brightness_range=[0.2,1.5], fill_mode=\"nearest\")"
      ],
      "metadata": {
        "id": "1zSCX0v-lwHa"
      },
      "execution_count": null,
      "outputs": []
    },
    {
      "cell_type": "code",
      "source": [
        "x_train.shape"
      ],
      "metadata": {
        "colab": {
          "base_uri": "https://localhost:8080/"
        },
        "id": "AkhvQL9vlySs",
        "outputId": "1574bf31-9025-472c-c896-a345ac7f3ca1"
      },
      "execution_count": 6,
      "outputs": [
        {
          "output_type": "execute_result",
          "data": {
            "text/plain": [
              "(996, 128, 128, 3)"
            ]
          },
          "metadata": {},
          "execution_count": 6
        }
      ]
    },
    {
      "cell_type": "code",
      "source": [
        "y_train.shape"
      ],
      "metadata": {
        "colab": {
          "base_uri": "https://localhost:8080/"
        },
        "id": "f8YA8GNcl0EJ",
        "outputId": "7c968841-5615-4283-aa80-bbc0874b5861"
      },
      "execution_count": 7,
      "outputs": [
        {
          "output_type": "execute_result",
          "data": {
            "text/plain": [
              "(996, 10)"
            ]
          },
          "metadata": {},
          "execution_count": 7
        }
      ]
    },
    {
      "cell_type": "code",
      "source": [
        "# Training\n",
        "batch_size=64\n",
        "epochs=30   \n",
        "\n",
        "model.compile(optimizer = Adam(), loss = 'categorical_crossentropy', metrics = ['accuracy'])\n",
        "train=model.fit(x_train,y_train,batch_size=batch_size,epochs=epochs,verbose=1)\n",
        "eval = model.evaluate(x_test, y_test)\n",
        "print('Test loss: ', eval[0])\n",
        "print('Test accuracy: ', eval[1])"
      ],
      "metadata": {
        "colab": {
          "base_uri": "https://localhost:8080/"
        },
        "id": "_yw-dLT9l1qR",
        "outputId": "b71172fb-8454-4fb0-e93f-f5b5db6c08d8"
      },
      "execution_count": 10,
      "outputs": [
        {
          "output_type": "stream",
          "name": "stdout",
          "text": [
            "Epoch 1/30\n",
            "16/16 [==============================] - 20s 1s/step - loss: 4.5607 - accuracy: 0.1867\n",
            "Epoch 2/30\n",
            "16/16 [==============================] - 18s 1s/step - loss: 2.0256 - accuracy: 0.3002\n",
            "Epoch 3/30\n",
            "16/16 [==============================] - 17s 1s/step - loss: 1.7146 - accuracy: 0.3845\n",
            "Epoch 4/30\n",
            "16/16 [==============================] - 18s 1s/step - loss: 1.4575 - accuracy: 0.4719\n",
            "Epoch 5/30\n",
            "16/16 [==============================] - 22s 1s/step - loss: 1.1937 - accuracy: 0.5622\n",
            "Epoch 6/30\n",
            "16/16 [==============================] - 22s 1s/step - loss: 0.9596 - accuracy: 0.6928\n",
            "Epoch 7/30\n",
            "16/16 [==============================] - 17s 1s/step - loss: 0.8035 - accuracy: 0.7199\n",
            "Epoch 8/30\n",
            "16/16 [==============================] - 18s 1s/step - loss: 0.6037 - accuracy: 0.7932\n",
            "Epoch 9/30\n",
            "16/16 [==============================] - 20s 1s/step - loss: 0.5372 - accuracy: 0.8343\n",
            "Epoch 10/30\n",
            "16/16 [==============================] - 19s 1s/step - loss: 0.4212 - accuracy: 0.8614\n",
            "Epoch 11/30\n",
            "16/16 [==============================] - 18s 1s/step - loss: 0.3253 - accuracy: 0.8886\n",
            "Epoch 12/30\n",
            "16/16 [==============================] - 18s 1s/step - loss: 0.2386 - accuracy: 0.9257\n",
            "Epoch 13/30\n",
            "16/16 [==============================] - 19s 1s/step - loss: 0.2662 - accuracy: 0.9217\n",
            "Epoch 14/30\n",
            "16/16 [==============================] - 20s 1s/step - loss: 0.1644 - accuracy: 0.9498\n",
            "Epoch 15/30\n",
            "16/16 [==============================] - 18s 1s/step - loss: 0.1421 - accuracy: 0.9518\n",
            "Epoch 16/30\n",
            "16/16 [==============================] - 20s 1s/step - loss: 0.1510 - accuracy: 0.9488\n",
            "Epoch 17/30\n",
            "16/16 [==============================] - 18s 1s/step - loss: 0.1324 - accuracy: 0.9618\n",
            "Epoch 18/30\n",
            "16/16 [==============================] - 19s 1s/step - loss: 0.0796 - accuracy: 0.9739\n",
            "Epoch 19/30\n",
            "16/16 [==============================] - 19s 1s/step - loss: 0.0598 - accuracy: 0.9839\n",
            "Epoch 20/30\n",
            "16/16 [==============================] - 18s 1s/step - loss: 0.0368 - accuracy: 0.9900\n",
            "Epoch 21/30\n",
            "16/16 [==============================] - 18s 1s/step - loss: 0.0336 - accuracy: 0.9890\n",
            "Epoch 22/30\n",
            "16/16 [==============================] - 19s 1s/step - loss: 0.0869 - accuracy: 0.9719\n",
            "Epoch 23/30\n",
            "16/16 [==============================] - 19s 1s/step - loss: 0.1150 - accuracy: 0.9629\n",
            "Epoch 24/30\n",
            "16/16 [==============================] - 19s 1s/step - loss: 0.0720 - accuracy: 0.9759\n",
            "Epoch 25/30\n",
            "16/16 [==============================] - 19s 1s/step - loss: 0.0431 - accuracy: 0.9849\n",
            "Epoch 26/30\n",
            "16/16 [==============================] - 21s 1s/step - loss: 0.0447 - accuracy: 0.9869\n",
            "Epoch 27/30\n",
            "16/16 [==============================] - 20s 1s/step - loss: 0.0378 - accuracy: 0.9890\n",
            "Epoch 28/30\n",
            "16/16 [==============================] - 18s 1s/step - loss: 0.0298 - accuracy: 0.9910\n",
            "Epoch 29/30\n",
            "16/16 [==============================] - 18s 1s/step - loss: 0.0292 - accuracy: 0.9910\n",
            "Epoch 30/30\n",
            "16/16 [==============================] - 19s 1s/step - loss: 0.0209 - accuracy: 0.9920\n",
            "8/8 [==============================] - 3s 268ms/step - loss: 1.3398 - accuracy: 0.7711\n",
            "Test loss:  1.3397880792617798\n",
            "Test accuracy:  0.7710843086242676\n"
          ]
        }
      ]
    },
    {
      "cell_type": "code",
      "source": [
        "test_loss, test_acc = model.evaluate(x_test, y_test)\n",
        "print(\"Accuracy:\", test_acc)\n",
        "print('Loss:', test_loss)"
      ],
      "metadata": {
        "colab": {
          "base_uri": "https://localhost:8080/"
        },
        "id": "Wtu6uksGl3Mj",
        "outputId": "fff6a14b-08d0-4998-fa2d-3db57928fd20"
      },
      "execution_count": 11,
      "outputs": [
        {
          "output_type": "stream",
          "name": "stdout",
          "text": [
            "8/8 [==============================] - 1s 149ms/step - loss: 1.3398 - accuracy: 0.7711\n",
            "Accuracy: 0.7710843086242676\n",
            "Loss: 1.3397880792617798\n"
          ]
        }
      ]
    },
    {
      "cell_type": "code",
      "source": [
        "accuracy = train.history['accuracy']\n",
        "loss = train.history['loss']\n",
        "epochs = range(len(accuracy))\n",
        "plt.plot(epochs, accuracy, 'bo', label = 'Training accuracy')\n",
        "plt.plot(epochs, loss, 'b', label = 'Traning loss')\n",
        "plt.show()"
      ],
      "metadata": {
        "colab": {
          "base_uri": "https://localhost:8080/",
          "height": 430
        },
        "id": "CfCxsXpwl48j",
        "outputId": "574ef6c6-031b-499c-c94f-bd2c71249355"
      },
      "execution_count": 12,
      "outputs": [
        {
          "output_type": "display_data",
          "data": {
            "text/plain": [
              "<Figure size 640x480 with 1 Axes>"
            ],
            "image/png": "[encoded data removed]"
          },
          "metadata": {}
        }
      ]
    },
    {
      "cell_type": "code",
      "source": [
        "#Save model\n",
        "model.save('/content/drive/MyDrive/Colab Notebooks/FLOWER/MODEL_FLOWER.h5')"
      ],
      "metadata": {
        "id": "cSLb0JqDl7lt"
      },
      "execution_count": 13,
      "outputs": []
    }
  ]
}