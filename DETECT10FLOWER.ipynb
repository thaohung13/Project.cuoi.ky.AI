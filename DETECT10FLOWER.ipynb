{
  "nbformat": 4,
  "nbformat_minor": 0,
  "metadata": {
    "colab": {
      "provenance": [],
      "gpuType": "T4",
      "include_colab_link": true
    },
    "kernelspec": {
      "name": "python3",
      "display_name": "Python 3"
    },
    "language_info": {
      "name": "python"
    },
    "gpuClass": "standard",
    "accelerator": "GPU"
  },
  "cells": [
    {
      "cell_type": "markdown",
      "metadata": {
        "id": "view-in-github",
        "colab_type": "text"
      },
      "source": [
        "<a href=\"https://colab.research.google.com/github/thaohung13/Project.cuoi.ky.AI/blob/main/DETECT10FLOWER.ipynb\" target=\"_parent\"><img src=\"https://colab.research.google.com/assets/colab-badge.svg\" alt=\"Open In Colab\"/></a>"
      ]
    },
    {
      "cell_type": "code",
      "execution_count": 158,
      "metadata": {
        "id": "dECoW6YblV-z"
      },
      "outputs": [],
      "source": [
        "from os import listdir\n",
        "from numpy import asarray, save\n",
        "from keras.utils import load_img\n",
        "from keras.utils import img_to_array\n",
        "import numpy as np\n",
        "from sklearn.model_selection import train_test_split\n",
        "from keras.datasets import cifar100\n",
        "import matplotlib.pyplot as plt\n",
        "from keras.layers import Dense, Dropout, Flatten, Conv2D, MaxPooling2D, Normalization\n",
        "from keras.models import Sequential, Model\n",
        "from keras import Input\n",
        "from keras.layers import LeakyReLU\n",
        "from keras.optimizers import Adam"
      ]
    },
    {
      "cell_type": "code",
      "source": [
        "from google.colab import drive\n",
        "drive.mount('/content/drive')"
      ],
      "metadata": {
        "colab": {
          "base_uri": "https://localhost:8080/"
        },
        "id": "U4XLAeBllbTr",
        "outputId": "8f3043e3-9071-453f-9c1f-0e9051d936c9"
      },
      "execution_count": 159,
      "outputs": [
        {
          "output_type": "stream",
          "name": "stdout",
          "text": [
            "Drive already mounted at /content/drive; to attempt to forcibly remount, call drive.mount(\"/content/drive\", force_remount=True).\n"
          ]
        }
      ]
    },
    {
      "cell_type": "code",
      "source": [
        "from numpy import asarray\n",
        "\n",
        "folder = '/content/drive/MyDrive/AI -Trần Thảo Hưng -20146344/DATA2/'\n",
        "photos, labels = list(), list()\n",
        "for file in listdir(folder):\n",
        "  output = 0.0\n",
        "  if file.startswith('Hong'):\n",
        "    output = 0\n",
        "  if file.startswith('Su'):\n",
        "    output = 1\n",
        "  if file.startswith('Sen'):\n",
        "    output = 2\n",
        "  if file.startswith('Mai'):\n",
        "    output = 3\n",
        "  if file.startswith('HaiDuong'):\n",
        "    output = 4\n",
        "  if file.startswith('HongMon'):\n",
        "    output = 5\n",
        "  if file.startswith('ThienDieu'):\n",
        "    output = 6\n",
        "  if file.startswith('CucVanTho'):\n",
        "    output = 7\n",
        "  if file.startswith('HuongDuong'):\n",
        "    output = 8\n",
        "  if file.startswith('DaUyenThao'):\n",
        "    output = 9\n",
        "  photo = load_img(folder + file, target_size=(128, 128))\n",
        "  photo = img_to_array(photo)\n",
        "  photos.append(photo)\n",
        "  labels.append(output)\n",
        "\n",
        "photos = asarray(photos)\n",
        "labels = asarray(labels)\n",
        "print(photos.shape, labels.shape)\n",
        "save('/content/drive/MyDrive/AI -Trần Thảo Hưng -20146344/model/HOA_PHOTOS4', photos)\n",
        "save('/content/drive/MyDrive/AI -Trần Thảo Hưng -20146344/model/HOA_LABELS4', labels)"
      ],
      "metadata": {
        "colab": {
          "base_uri": "https://localhost:8080/"
        },
        "id": "sNT-XeT4ldXZ",
        "outputId": "97112572-81ea-4314-e2b9-e899f729ca99"
      },
      "execution_count": 160,
      "outputs": [
        {
          "output_type": "stream",
          "name": "stdout",
          "text": [
            "(1245, 128, 128, 3) (1245,)\n"
          ]
        }
      ]
    },
    {
      "cell_type": "code",
      "source": [
        "# Load images and labels\n",
        "from keras.utils import to_categorical #one hot encoding\n",
        "photos = np.load('/content/drive/MyDrive/AI -Trần Thảo Hưng -20146344/model/HOA_PHOTOS4.npy')\n",
        "labels = np.load('/content/drive/MyDrive/AI -Trần Thảo Hưng -20146344/model/HOA_LABELS4.npy')\n",
        "labels_one_hot = to_categorical(labels)\n",
        "x_train, x_test, y_train, y_test = train_test_split(photos, labels_one_hot, test_size = 0.2, random_state = 128)"
      ],
      "metadata": {
        "id": "lp7XL7SblsKl"
      },
      "execution_count": 161,
      "outputs": []
    },
    {
      "cell_type": "code",
      "source": [
        "model = Sequential()\n",
        "#Convolutional\n",
        "model.add(Conv2D(8, kernel_size= (3,3), activation= 'relu', input_shape = (128,128,3), padding= 'same'))\n",
        "model.add(Conv2D(8, kernel_size= (3,3), activation= 'relu', padding= 'same'))\n",
        "model.add(MaxPooling2D((2,2), padding= 'same'))\n",
        "\n",
        "model.add(Conv2D(16, kernel_size= (3,3), activation= 'relu', padding= 'same'))\n",
        "model.add(Conv2D(16, kernel_size= (3,3), activation= 'relu', padding= 'same'))\n",
        "model.add(MaxPooling2D((2,2), padding= 'same'))\n",
        "\n",
        "model.add(Conv2D(32, kernel_size= (3,3), activation= 'relu', padding= 'same'))\n",
        "model.add(Conv2D(32, kernel_size= (3,3), activation= 'relu', padding= 'same'))\n",
        "model.add(MaxPooling2D((2,2), padding= 'same'))\n",
        "\n",
        "model.add(Conv2D(64, kernel_size= (3,3), activation= 'relu', padding= 'same'))\n",
        "model.add(Conv2D(64, kernel_size= (3,3), activation= 'relu', padding= 'same'))\n",
        "model.add(MaxPooling2D((2,2), padding= 'same'))\n",
        "\n",
        "model.add(Conv2D(64, kernel_size= (2,2), activation= 'relu', padding= 'same'))\n",
        "model.add(Conv2D(64, kernel_size= (2,2), activation= 'relu', padding= 'same'))\n",
        "model.add(MaxPooling2D((2,2), padding= 'same'))\n",
        "\n",
        "# Fully connected layers\n",
        "model.add(Flatten())\n",
        "model.add(Dense(512, activation= 'relu'))\n",
        "model.add(Dropout(0.25))\n",
        "model.add(Dense(512, activation= 'relu'))\n",
        "model.add(Dropout(0.25))\n",
        "model.add(Dense(10, activation= 'softmax'))\n",
        "model.summary()"
      ],
      "metadata": {
        "colab": {
          "base_uri": "https://localhost:8080/"
        },
        "id": "N0JYyJhIlt-9",
        "outputId": "3c0cf919-2739-47af-c93a-06ace9fe9963"
      },
      "execution_count": 162,
      "outputs": [
        {
          "output_type": "stream",
          "name": "stdout",
          "text": [
            "Model: \"sequential_19\"\n",
            "_________________________________________________________________\n",
            " Layer (type)                Output Shape              Param #   \n",
            "=================================================================\n",
            " conv2d_161 (Conv2D)         (None, 128, 128, 8)       224       \n",
            "                                                                 \n",
            " conv2d_162 (Conv2D)         (None, 128, 128, 8)       584       \n",
            "                                                                 \n",
            " max_pooling2d_73 (MaxPoolin  (None, 64, 64, 8)        0         \n",
            " g2D)                                                            \n",
            "                                                                 \n",
            " conv2d_163 (Conv2D)         (None, 64, 64, 16)        1168      \n",
            "                                                                 \n",
            " conv2d_164 (Conv2D)         (None, 64, 64, 16)        2320      \n",
            "                                                                 \n",
            " max_pooling2d_74 (MaxPoolin  (None, 32, 32, 16)       0         \n",
            " g2D)                                                            \n",
            "                                                                 \n",
            " conv2d_165 (Conv2D)         (None, 32, 32, 32)        4640      \n",
            "                                                                 \n",
            " conv2d_166 (Conv2D)         (None, 32, 32, 32)        9248      \n",
            "                                                                 \n",
            " max_pooling2d_75 (MaxPoolin  (None, 16, 16, 32)       0         \n",
            " g2D)                                                            \n",
            "                                                                 \n",
            " conv2d_167 (Conv2D)         (None, 16, 16, 64)        18496     \n",
            "                                                                 \n",
            " conv2d_168 (Conv2D)         (None, 16, 16, 64)        36928     \n",
            "                                                                 \n",
            " max_pooling2d_76 (MaxPoolin  (None, 8, 8, 64)         0         \n",
            " g2D)                                                            \n",
            "                                                                 \n",
            " conv2d_169 (Conv2D)         (None, 8, 8, 64)          16448     \n",
            "                                                                 \n",
            " conv2d_170 (Conv2D)         (None, 8, 8, 64)          16448     \n",
            "                                                                 \n",
            " max_pooling2d_77 (MaxPoolin  (None, 4, 4, 64)         0         \n",
            " g2D)                                                            \n",
            "                                                                 \n",
            " flatten_14 (Flatten)        (None, 1024)              0         \n",
            "                                                                 \n",
            " dense_58 (Dense)            (None, 512)               524800    \n",
            "                                                                 \n",
            " dropout_44 (Dropout)        (None, 512)               0         \n",
            "                                                                 \n",
            " dense_59 (Dense)            (None, 512)               262656    \n",
            "                                                                 \n",
            " dropout_45 (Dropout)        (None, 512)               0         \n",
            "                                                                 \n",
            " dense_60 (Dense)            (None, 10)                5130      \n",
            "                                                                 \n",
            "=================================================================\n",
            "Total params: 899,090\n",
            "Trainable params: 899,090\n",
            "Non-trainable params: 0\n",
            "_________________________________________________________________\n"
          ]
        }
      ]
    },
    {
      "cell_type": "code",
      "source": [
        "x_train.shape"
      ],
      "metadata": {
        "colab": {
          "base_uri": "https://localhost:8080/"
        },
        "id": "AkhvQL9vlySs",
        "outputId": "05e264c8-780f-436e-cba1-f3391a6629dd"
      },
      "execution_count": 163,
      "outputs": [
        {
          "output_type": "execute_result",
          "data": {
            "text/plain": [
              "(996, 128, 128, 3)"
            ]
          },
          "metadata": {},
          "execution_count": 163
        }
      ]
    },
    {
      "cell_type": "code",
      "source": [
        "y_train.shape"
      ],
      "metadata": {
        "colab": {
          "base_uri": "https://localhost:8080/"
        },
        "id": "f8YA8GNcl0EJ",
        "outputId": "0e6ce57c-c782-446b-c435-ae76dd879393"
      },
      "execution_count": 164,
      "outputs": [
        {
          "output_type": "execute_result",
          "data": {
            "text/plain": [
              "(996, 10)"
            ]
          },
          "metadata": {},
          "execution_count": 164
        }
      ]
    },
    {
      "cell_type": "code",
      "source": [
        "# Training\n",
        "batch_size=64\n",
        "epochs=50   \n",
        "\n",
        "model.compile(optimizer = Adam(), loss = 'categorical_crossentropy', metrics = ['accuracy'])\n",
        "train=model.fit(x_train,y_train,batch_size=batch_size,epochs=epochs,verbose=1)\n",
        "eval = model.evaluate(x_test, y_test)\n",
        "print('Test loss: ', eval[0])\n",
        "print('Test accuracy: ', eval[1])"
      ],
      "metadata": {
        "colab": {
          "base_uri": "https://localhost:8080/"
        },
        "id": "_yw-dLT9l1qR",
        "outputId": "95a5875e-fa50-466c-f752-24cbf7dffa9d"
      },
      "execution_count": 165,
      "outputs": [
        {
          "output_type": "stream",
          "name": "stdout",
          "text": [
            "Epoch 1/50\n",
            "16/16 [==============================] - 2s 35ms/step - loss: 2.2307 - accuracy: 0.2420\n",
            "Epoch 2/50\n",
            "16/16 [==============================] - 0s 27ms/step - loss: 2.0189 - accuracy: 0.2821\n",
            "Epoch 3/50\n",
            "16/16 [==============================] - 0s 26ms/step - loss: 1.8114 - accuracy: 0.3574\n",
            "Epoch 4/50\n",
            "16/16 [==============================] - 0s 27ms/step - loss: 1.6199 - accuracy: 0.4197\n",
            "Epoch 5/50\n",
            "16/16 [==============================] - 0s 26ms/step - loss: 1.2879 - accuracy: 0.5412\n",
            "Epoch 6/50\n",
            "16/16 [==============================] - 0s 27ms/step - loss: 1.1264 - accuracy: 0.5974\n",
            "Epoch 7/50\n",
            "16/16 [==============================] - 0s 28ms/step - loss: 0.9207 - accuracy: 0.6757\n",
            "Epoch 8/50\n",
            "16/16 [==============================] - 0s 27ms/step - loss: 0.7426 - accuracy: 0.7319\n",
            "Epoch 9/50\n",
            "16/16 [==============================] - 0s 27ms/step - loss: 0.5336 - accuracy: 0.7932\n",
            "Epoch 10/50\n",
            "16/16 [==============================] - 0s 27ms/step - loss: 0.6435 - accuracy: 0.7791\n",
            "Epoch 11/50\n",
            "16/16 [==============================] - 0s 27ms/step - loss: 0.4705 - accuracy: 0.8394\n",
            "Epoch 12/50\n",
            "16/16 [==============================] - 0s 27ms/step - loss: 0.2802 - accuracy: 0.8966\n",
            "Epoch 13/50\n",
            "16/16 [==============================] - 0s 27ms/step - loss: 0.2687 - accuracy: 0.8976\n",
            "Epoch 14/50\n",
            "16/16 [==============================] - 0s 27ms/step - loss: 0.1933 - accuracy: 0.9367\n",
            "Epoch 15/50\n",
            "16/16 [==============================] - 0s 27ms/step - loss: 0.2156 - accuracy: 0.9247\n",
            "Epoch 16/50\n",
            "16/16 [==============================] - 0s 27ms/step - loss: 0.2097 - accuracy: 0.9287\n",
            "Epoch 17/50\n",
            "16/16 [==============================] - 0s 29ms/step - loss: 0.1527 - accuracy: 0.9468\n",
            "Epoch 18/50\n",
            "16/16 [==============================] - 0s 29ms/step - loss: 0.1203 - accuracy: 0.9548\n",
            "Epoch 19/50\n",
            "16/16 [==============================] - 0s 29ms/step - loss: 0.0846 - accuracy: 0.9739\n",
            "Epoch 20/50\n",
            "16/16 [==============================] - 0s 29ms/step - loss: 0.0548 - accuracy: 0.9799\n",
            "Epoch 21/50\n",
            "16/16 [==============================] - 0s 29ms/step - loss: 0.0309 - accuracy: 0.9910\n",
            "Epoch 22/50\n",
            "16/16 [==============================] - 1s 32ms/step - loss: 0.0589 - accuracy: 0.9819\n",
            "Epoch 23/50\n",
            "16/16 [==============================] - 1s 31ms/step - loss: 0.1218 - accuracy: 0.9629\n",
            "Epoch 24/50\n",
            "16/16 [==============================] - 0s 29ms/step - loss: 0.1438 - accuracy: 0.9608\n",
            "Epoch 25/50\n",
            "16/16 [==============================] - 0s 29ms/step - loss: 0.0525 - accuracy: 0.9849\n",
            "Epoch 26/50\n",
            "16/16 [==============================] - 0s 28ms/step - loss: 0.0380 - accuracy: 0.9910\n",
            "Epoch 27/50\n",
            "16/16 [==============================] - 0s 30ms/step - loss: 0.0180 - accuracy: 0.9950\n",
            "Epoch 28/50\n",
            "16/16 [==============================] - 0s 31ms/step - loss: 0.0454 - accuracy: 0.9849\n",
            "Epoch 29/50\n",
            "16/16 [==============================] - 0s 30ms/step - loss: 0.0306 - accuracy: 0.9940\n",
            "Epoch 30/50\n",
            "16/16 [==============================] - 0s 27ms/step - loss: 0.0335 - accuracy: 0.9920\n",
            "Epoch 31/50\n",
            "16/16 [==============================] - 0s 27ms/step - loss: 0.0466 - accuracy: 0.9819\n",
            "Epoch 32/50\n",
            "16/16 [==============================] - 0s 28ms/step - loss: 0.0278 - accuracy: 0.9930\n",
            "Epoch 33/50\n",
            "16/16 [==============================] - 0s 28ms/step - loss: 0.0114 - accuracy: 0.9970\n",
            "Epoch 34/50\n",
            "16/16 [==============================] - 0s 28ms/step - loss: 0.0077 - accuracy: 0.9970\n",
            "Epoch 35/50\n",
            "16/16 [==============================] - 0s 28ms/step - loss: 0.0116 - accuracy: 0.9970\n",
            "Epoch 36/50\n",
            "16/16 [==============================] - 0s 27ms/step - loss: 0.0276 - accuracy: 0.9910\n",
            "Epoch 37/50\n",
            "16/16 [==============================] - 0s 27ms/step - loss: 0.0779 - accuracy: 0.9769\n",
            "Epoch 38/50\n",
            "16/16 [==============================] - 0s 28ms/step - loss: 0.0383 - accuracy: 0.9859\n",
            "Epoch 39/50\n",
            "16/16 [==============================] - 0s 27ms/step - loss: 0.1705 - accuracy: 0.9518\n",
            "Epoch 40/50\n",
            "16/16 [==============================] - 0s 27ms/step - loss: 0.1051 - accuracy: 0.9789\n",
            "Epoch 41/50\n",
            "16/16 [==============================] - 0s 28ms/step - loss: 0.0726 - accuracy: 0.9749\n",
            "Epoch 42/50\n",
            "16/16 [==============================] - 0s 28ms/step - loss: 0.0273 - accuracy: 0.9920\n",
            "Epoch 43/50\n",
            "16/16 [==============================] - 0s 28ms/step - loss: 0.0339 - accuracy: 0.9880\n",
            "Epoch 44/50\n",
            "16/16 [==============================] - 0s 28ms/step - loss: 0.0073 - accuracy: 0.9980\n",
            "Epoch 45/50\n",
            "16/16 [==============================] - 0s 28ms/step - loss: 0.0060 - accuracy: 0.9990\n",
            "Epoch 46/50\n",
            "16/16 [==============================] - 0s 28ms/step - loss: 0.0026 - accuracy: 1.0000\n",
            "Epoch 47/50\n",
            "16/16 [==============================] - 1s 37ms/step - loss: 0.0051 - accuracy: 0.9990\n",
            "Epoch 48/50\n",
            "16/16 [==============================] - 0s 30ms/step - loss: 0.0158 - accuracy: 0.9930\n",
            "Epoch 49/50\n",
            "16/16 [==============================] - 1s 36ms/step - loss: 0.1386 - accuracy: 0.9518\n",
            "Epoch 50/50\n",
            "16/16 [==============================] - 0s 30ms/step - loss: 0.0589 - accuracy: 0.9819\n",
            "8/8 [==============================] - 0s 9ms/step - loss: 0.8831 - accuracy: 0.8554\n",
            "Test loss:  0.8830901980400085\n",
            "Test accuracy:  0.8554216623306274\n"
          ]
        }
      ]
    },
    {
      "cell_type": "code",
      "source": [
        "test_loss, test_acc = model.evaluate(x_test, y_test)\n",
        "print(\"Accuracy:\", test_acc)\n",
        "print('Loss:', test_loss)"
      ],
      "metadata": {
        "colab": {
          "base_uri": "https://localhost:8080/"
        },
        "id": "Wtu6uksGl3Mj",
        "outputId": "0f7c5658-99e6-4996-b3b7-7edfa74d2a82"
      },
      "execution_count": 166,
      "outputs": [
        {
          "output_type": "stream",
          "name": "stdout",
          "text": [
            "8/8 [==============================] - 0s 9ms/step - loss: 0.8831 - accuracy: 0.8554\n",
            "Accuracy: 0.8554216623306274\n",
            "Loss: 0.8830901980400085\n"
          ]
        }
      ]
    },
    {
      "cell_type": "code",
      "source": [
        "accuracy = train.history['accuracy']\n",
        "loss = train.history['loss']\n",
        "epochs = range(len(accuracy))\n",
        "plt.plot(epochs, accuracy, 'bo', label = 'Training accuracy')\n",
        "plt.plot(epochs, loss, 'b', label = 'Traning loss')\n",
        "plt.show()"
      ],
      "metadata": {
        "colab": {
          "base_uri": "https://localhost:8080/",
          "height": 430
        },
        "id": "CfCxsXpwl48j",
        "outputId": "95b631d2-7367-4630-a34c-605de741cee3"
      },
      "execution_count": 167,
      "outputs": [
        {
          "output_type": "display_data",
          "data": {
            "text/plain": [
              "<Figure size 640x480 with 1 Axes>"
            ],
            "image/png": "[encoded data removed]"
          },
          "metadata": {}
        }
      ]
    },
    {
      "cell_type": "code",
      "source": [
        "#Save model\n",
        "model.save('/content/drive/MyDrive/Colab Notebooks/FLOWER/MODEL_FLOWER4.h5')"
      ],
      "metadata": {
        "id": "cSLb0JqDl7lt"
      },
      "execution_count": 168,
      "outputs": []
    }
  ]
}