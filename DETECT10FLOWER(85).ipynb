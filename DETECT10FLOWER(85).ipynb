{
  "nbformat": 4,
  "nbformat_minor": 0,
  "metadata": {
    "colab": {
      "provenance": [],
      "gpuType": "T4",
      "include_colab_link": true
    },
    "kernelspec": {
      "name": "python3",
      "display_name": "Python 3"
    },
    "language_info": {
      "name": "python"
    },
    "gpuClass": "standard",
    "accelerator": "GPU"
  },
  "cells": [
    {
      "cell_type": "markdown",
      "metadata": {
        "id": "view-in-github",
        "colab_type": "text"
      },
      "source": [
        "<a href=\"https://colab.research.google.com/github/thaohung13/Project.cuoi.ky.AI/blob/main/DETECT10FLOWER(85).ipynb\" target=\"_parent\"><img src=\"https://colab.research.google.com/assets/colab-badge.svg\" alt=\"Open In Colab\"/></a>"
      ]
    },
    {
      "cell_type": "code",
      "execution_count": 180,
      "metadata": {
        "id": "dECoW6YblV-z"
      },
      "outputs": [],
      "source": [
        "from os import listdir\n",
        "from numpy import asarray, save\n",
        "from keras.utils import load_img\n",
        "from keras.utils import img_to_array\n",
        "import numpy as np\n",
        "from sklearn.model_selection import train_test_split\n",
        "from keras.datasets import cifar100\n",
        "import matplotlib.pyplot as plt\n",
        "from keras.layers import Dense, Dropout, Flatten, Conv2D, MaxPooling2D, Normalization\n",
        "from keras.models import Sequential, Model\n",
        "from keras import Input\n",
        "from keras.layers import LeakyReLU\n",
        "from keras.optimizers import Adam"
      ]
    },
    {
      "cell_type": "code",
      "source": [
        "from google.colab import drive\n",
        "drive.mount('/content/drive')"
      ],
      "metadata": {
        "colab": {
          "base_uri": "https://localhost:8080/"
        },
        "id": "U4XLAeBllbTr",
        "outputId": "330d735b-fe6f-4847-a743-b1c883be17ac"
      },
      "execution_count": 181,
      "outputs": [
        {
          "output_type": "stream",
          "name": "stdout",
          "text": [
            "Drive already mounted at /content/drive; to attempt to forcibly remount, call drive.mount(\"/content/drive\", force_remount=True).\n"
          ]
        }
      ]
    },
    {
      "cell_type": "code",
      "source": [
        "from numpy import asarray\n",
        "\n",
        "folder = '/content/drive/MyDrive/AI -Trần Thảo Hưng -20146344/DATA2/'\n",
        "photos, labels = list(), list()\n",
        "for file in listdir(folder):\n",
        "  output = 0.0\n",
        "  if file.startswith('Hong'):\n",
        "    output = 0\n",
        "  if file.startswith('Su'):\n",
        "    output = 1\n",
        "  if file.startswith('Sen'):\n",
        "    output = 2\n",
        "  if file.startswith('Mai'):\n",
        "    output = 3\n",
        "  if file.startswith('HaiDuong'):\n",
        "    output = 4\n",
        "  if file.startswith('HongMon'):\n",
        "    output = 5\n",
        "  if file.startswith('ThienDieu'):\n",
        "    output = 6\n",
        "  if file.startswith('CucVanTho'):\n",
        "    output = 7\n",
        "  if file.startswith('HuongDuong'):\n",
        "    output = 8\n",
        "  if file.startswith('DaUyenThao'):\n",
        "    output = 9\n",
        "  photo = load_img(folder + file, target_size=(128, 128))\n",
        "  photo = img_to_array(photo)\n",
        "  photos.append(photo)\n",
        "  labels.append(output)\n",
        "\n",
        "photos = asarray(photos)\n",
        "labels = asarray(labels)\n",
        "print(photos.shape, labels.shape)\n",
        "save('/content/drive/MyDrive/AI -Trần Thảo Hưng -20146344/model/HOA_PHOTOS5', photos)\n",
        "save('/content/drive/MyDrive/AI -Trần Thảo Hưng -20146344/model/HOA_LABELS5', labels)"
      ],
      "metadata": {
        "colab": {
          "base_uri": "https://localhost:8080/"
        },
        "id": "sNT-XeT4ldXZ",
        "outputId": "dc0a92d9-b8a5-4230-d7bb-ff18ce41cd39"
      },
      "execution_count": 182,
      "outputs": [
        {
          "output_type": "stream",
          "name": "stdout",
          "text": [
            "(1245, 128, 128, 3) (1245,)\n"
          ]
        }
      ]
    },
    {
      "cell_type": "code",
      "source": [
        "# Load images and labels\n",
        "from keras.utils import to_categorical #one hot encoding\n",
        "photos = np.load('/content/drive/MyDrive/AI -Trần Thảo Hưng -20146344/model/HOA_PHOTOS5.npy')\n",
        "labels = np.load('/content/drive/MyDrive/AI -Trần Thảo Hưng -20146344/model/HOA_LABELS5.npy')\n",
        "labels_one_hot = to_categorical(labels)\n",
        "x_train, x_test, y_train, y_test = train_test_split(photos, labels_one_hot, test_size = 0.2, random_state = 128)"
      ],
      "metadata": {
        "id": "lp7XL7SblsKl"
      },
      "execution_count": 183,
      "outputs": []
    },
    {
      "cell_type": "code",
      "source": [
        "model = Sequential()\n",
        "#Convolutional\n",
        "model.add(Conv2D(8, kernel_size= (3,3), activation= 'relu', input_shape = (128,128,3), padding= 'same'))\n",
        "model.add(Conv2D(8, kernel_size= (3,3), activation= 'relu', padding= 'same'))\n",
        "model.add(MaxPooling2D((2,2), padding= 'same'))\n",
        "\n",
        "model.add(Conv2D(16, kernel_size= (3,3), activation= 'relu', padding= 'same'))\n",
        "model.add(Conv2D(16, kernel_size= (3,3), activation= 'relu', padding= 'same'))\n",
        "model.add(MaxPooling2D((2,2), padding= 'same'))\n",
        "\n",
        "model.add(Conv2D(32, kernel_size= (3,3), activation= 'relu', padding= 'same'))\n",
        "model.add(Conv2D(32, kernel_size= (3,3), activation= 'relu', padding= 'same'))\n",
        "model.add(MaxPooling2D((2,2), padding= 'same'))\n",
        "\n",
        "model.add(Conv2D(64, kernel_size= (3,3), activation= 'relu', padding= 'same'))\n",
        "model.add(Conv2D(64, kernel_size= (3,3), activation= 'relu', padding= 'same'))\n",
        "model.add(MaxPooling2D((2,2), padding= 'same'))\n",
        "\n",
        "model.add(Conv2D(64, kernel_size= (2,2), activation= 'relu', padding= 'same'))\n",
        "model.add(Conv2D(64, kernel_size= (2,2), activation= 'relu', padding= 'same'))\n",
        "model.add(MaxPooling2D((2,2), padding= 'same'))\n",
        "\n",
        "# Fully connected layers\n",
        "model.add(Flatten())\n",
        "model.add(Dense(512, activation= 'relu'))\n",
        "model.add(Dropout(0.25))\n",
        "model.add(Dense(512, activation= 'relu'))\n",
        "model.add(Dropout(0.25))\n",
        "model.add(Dense(10, activation= 'softmax'))\n",
        "model.summary()"
      ],
      "metadata": {
        "colab": {
          "base_uri": "https://localhost:8080/"
        },
        "id": "N0JYyJhIlt-9",
        "outputId": "b4dd5639-d805-455f-8294-5a3e9f540753"
      },
      "execution_count": 184,
      "outputs": [
        {
          "output_type": "stream",
          "name": "stdout",
          "text": [
            "Model: \"sequential_21\"\n",
            "_________________________________________________________________\n",
            " Layer (type)                Output Shape              Param #   \n",
            "=================================================================\n",
            " conv2d_181 (Conv2D)         (None, 128, 128, 8)       224       \n",
            "                                                                 \n",
            " conv2d_182 (Conv2D)         (None, 128, 128, 8)       584       \n",
            "                                                                 \n",
            " max_pooling2d_83 (MaxPoolin  (None, 64, 64, 8)        0         \n",
            " g2D)                                                            \n",
            "                                                                 \n",
            " conv2d_183 (Conv2D)         (None, 64, 64, 16)        1168      \n",
            "                                                                 \n",
            " conv2d_184 (Conv2D)         (None, 64, 64, 16)        2320      \n",
            "                                                                 \n",
            " max_pooling2d_84 (MaxPoolin  (None, 32, 32, 16)       0         \n",
            " g2D)                                                            \n",
            "                                                                 \n",
            " conv2d_185 (Conv2D)         (None, 32, 32, 32)        4640      \n",
            "                                                                 \n",
            " conv2d_186 (Conv2D)         (None, 32, 32, 32)        9248      \n",
            "                                                                 \n",
            " max_pooling2d_85 (MaxPoolin  (None, 16, 16, 32)       0         \n",
            " g2D)                                                            \n",
            "                                                                 \n",
            " conv2d_187 (Conv2D)         (None, 16, 16, 64)        18496     \n",
            "                                                                 \n",
            " conv2d_188 (Conv2D)         (None, 16, 16, 64)        36928     \n",
            "                                                                 \n",
            " max_pooling2d_86 (MaxPoolin  (None, 8, 8, 64)         0         \n",
            " g2D)                                                            \n",
            "                                                                 \n",
            " conv2d_189 (Conv2D)         (None, 8, 8, 64)          16448     \n",
            "                                                                 \n",
            " conv2d_190 (Conv2D)         (None, 8, 8, 64)          16448     \n",
            "                                                                 \n",
            " max_pooling2d_87 (MaxPoolin  (None, 4, 4, 64)         0         \n",
            " g2D)                                                            \n",
            "                                                                 \n",
            " flatten_16 (Flatten)        (None, 1024)              0         \n",
            "                                                                 \n",
            " dense_64 (Dense)            (None, 512)               524800    \n",
            "                                                                 \n",
            " dropout_48 (Dropout)        (None, 512)               0         \n",
            "                                                                 \n",
            " dense_65 (Dense)            (None, 512)               262656    \n",
            "                                                                 \n",
            " dropout_49 (Dropout)        (None, 512)               0         \n",
            "                                                                 \n",
            " dense_66 (Dense)            (None, 10)                5130      \n",
            "                                                                 \n",
            "=================================================================\n",
            "Total params: 899,090\n",
            "Trainable params: 899,090\n",
            "Non-trainable params: 0\n",
            "_________________________________________________________________\n"
          ]
        }
      ]
    },
    {
      "cell_type": "code",
      "source": [
        "x_train.shape"
      ],
      "metadata": {
        "colab": {
          "base_uri": "https://localhost:8080/"
        },
        "id": "AkhvQL9vlySs",
        "outputId": "3bba6135-4c38-44a5-91b4-91a09a90d750"
      },
      "execution_count": 185,
      "outputs": [
        {
          "output_type": "execute_result",
          "data": {
            "text/plain": [
              "(996, 128, 128, 3)"
            ]
          },
          "metadata": {},
          "execution_count": 185
        }
      ]
    },
    {
      "cell_type": "code",
      "source": [
        "y_train.shape"
      ],
      "metadata": {
        "colab": {
          "base_uri": "https://localhost:8080/"
        },
        "id": "f8YA8GNcl0EJ",
        "outputId": "6d6c0d6d-3d53-4f9b-e9d7-7a2f30173758"
      },
      "execution_count": 186,
      "outputs": [
        {
          "output_type": "execute_result",
          "data": {
            "text/plain": [
              "(996, 10)"
            ]
          },
          "metadata": {},
          "execution_count": 186
        }
      ]
    },
    {
      "cell_type": "code",
      "source": [
        "# Training\n",
        "batch_size=64\n",
        "epochs=40   \n",
        "\n",
        "model.compile(optimizer = Adam(), loss = 'categorical_crossentropy', metrics = ['accuracy'])\n",
        "train=model.fit(x_train,y_train,batch_size=batch_size,epochs=epochs,verbose=1)\n",
        "eval = model.evaluate(x_test, y_test)\n",
        "print('Test loss: ', eval[0])\n",
        "print('Test accuracy: ', eval[1])"
      ],
      "metadata": {
        "colab": {
          "base_uri": "https://localhost:8080/"
        },
        "id": "_yw-dLT9l1qR",
        "outputId": "4de39f5f-d9fe-49ff-d07c-af99ef9812f5"
      },
      "execution_count": 187,
      "outputs": [
        {
          "output_type": "stream",
          "name": "stdout",
          "text": [
            "Epoch 1/40\n",
            "16/16 [==============================] - 2s 39ms/step - loss: 2.3468 - accuracy: 0.2410\n",
            "Epoch 2/40\n",
            "16/16 [==============================] - 0s 29ms/step - loss: 1.9461 - accuracy: 0.2992\n",
            "Epoch 3/40\n",
            "16/16 [==============================] - 0s 31ms/step - loss: 1.5670 - accuracy: 0.3946\n",
            "Epoch 4/40\n",
            "16/16 [==============================] - 0s 29ms/step - loss: 1.2666 - accuracy: 0.5030\n",
            "Epoch 5/40\n",
            "16/16 [==============================] - 0s 29ms/step - loss: 1.0396 - accuracy: 0.6285\n",
            "Epoch 6/40\n",
            "16/16 [==============================] - 0s 27ms/step - loss: 1.0210 - accuracy: 0.6426\n",
            "Epoch 7/40\n",
            "16/16 [==============================] - 0s 27ms/step - loss: 0.7933 - accuracy: 0.7129\n",
            "Epoch 8/40\n",
            "16/16 [==============================] - 0s 28ms/step - loss: 0.5988 - accuracy: 0.7962\n",
            "Epoch 9/40\n",
            "16/16 [==============================] - 0s 26ms/step - loss: 0.5487 - accuracy: 0.8012\n",
            "Epoch 10/40\n",
            "16/16 [==============================] - 0s 27ms/step - loss: 0.4248 - accuracy: 0.8584\n",
            "Epoch 11/40\n",
            "16/16 [==============================] - 0s 26ms/step - loss: 0.3198 - accuracy: 0.8946\n",
            "Epoch 12/40\n",
            "16/16 [==============================] - 0s 27ms/step - loss: 0.2638 - accuracy: 0.9086\n",
            "Epoch 13/40\n",
            "16/16 [==============================] - 0s 27ms/step - loss: 0.2918 - accuracy: 0.9127\n",
            "Epoch 14/40\n",
            "16/16 [==============================] - 0s 26ms/step - loss: 0.1941 - accuracy: 0.9357\n",
            "Epoch 15/40\n",
            "16/16 [==============================] - 0s 27ms/step - loss: 0.1921 - accuracy: 0.9347\n",
            "Epoch 16/40\n",
            "16/16 [==============================] - 0s 30ms/step - loss: 0.1769 - accuracy: 0.9398\n",
            "Epoch 17/40\n",
            "16/16 [==============================] - 0s 31ms/step - loss: 0.1450 - accuracy: 0.9498\n",
            "Epoch 18/40\n",
            "16/16 [==============================] - 1s 32ms/step - loss: 0.1295 - accuracy: 0.9669\n",
            "Epoch 19/40\n",
            "16/16 [==============================] - 1s 32ms/step - loss: 0.1328 - accuracy: 0.9578\n",
            "Epoch 20/40\n",
            "16/16 [==============================] - 0s 27ms/step - loss: 0.0835 - accuracy: 0.9719\n",
            "Epoch 21/40\n",
            "16/16 [==============================] - 0s 28ms/step - loss: 0.1089 - accuracy: 0.9659\n",
            "Epoch 22/40\n",
            "16/16 [==============================] - 0s 27ms/step - loss: 0.1317 - accuracy: 0.9548\n",
            "Epoch 23/40\n",
            "16/16 [==============================] - 0s 27ms/step - loss: 0.0718 - accuracy: 0.9759\n",
            "Epoch 24/40\n",
            "16/16 [==============================] - 0s 27ms/step - loss: 0.0825 - accuracy: 0.9719\n",
            "Epoch 25/40\n",
            "16/16 [==============================] - 0s 26ms/step - loss: 0.1380 - accuracy: 0.9578\n",
            "Epoch 26/40\n",
            "16/16 [==============================] - 0s 27ms/step - loss: 0.0952 - accuracy: 0.9699\n",
            "Epoch 27/40\n",
            "16/16 [==============================] - 0s 27ms/step - loss: 0.0907 - accuracy: 0.9759\n",
            "Epoch 28/40\n",
            "16/16 [==============================] - 0s 29ms/step - loss: 0.0761 - accuracy: 0.9789\n",
            "Epoch 29/40\n",
            "16/16 [==============================] - 0s 30ms/step - loss: 0.0337 - accuracy: 0.9890\n",
            "Epoch 30/40\n",
            "16/16 [==============================] - 0s 29ms/step - loss: 0.0328 - accuracy: 0.9900\n",
            "Epoch 31/40\n",
            "16/16 [==============================] - 0s 30ms/step - loss: 0.0099 - accuracy: 0.9970\n",
            "Epoch 32/40\n",
            "16/16 [==============================] - 0s 30ms/step - loss: 0.0144 - accuracy: 0.9960\n",
            "Epoch 33/40\n",
            "16/16 [==============================] - 0s 29ms/step - loss: 0.0394 - accuracy: 0.9869\n",
            "Epoch 34/40\n",
            "16/16 [==============================] - 0s 28ms/step - loss: 0.4662 - accuracy: 0.8695\n",
            "Epoch 35/40\n",
            "16/16 [==============================] - 0s 28ms/step - loss: 0.2280 - accuracy: 0.9297\n",
            "Epoch 36/40\n",
            "16/16 [==============================] - 0s 27ms/step - loss: 0.0917 - accuracy: 0.9739\n",
            "Epoch 37/40\n",
            "16/16 [==============================] - 0s 27ms/step - loss: 0.0899 - accuracy: 0.9729\n",
            "Epoch 38/40\n",
            "16/16 [==============================] - 0s 27ms/step - loss: 0.0632 - accuracy: 0.9809\n",
            "Epoch 39/40\n",
            "16/16 [==============================] - 0s 27ms/step - loss: 0.0308 - accuracy: 0.9920\n",
            "Epoch 40/40\n",
            "16/16 [==============================] - 0s 26ms/step - loss: 0.0046 - accuracy: 0.9990\n",
            "8/8 [==============================] - 0s 6ms/step - loss: 0.7533 - accuracy: 0.8594\n",
            "Test loss:  0.7532832026481628\n",
            "Test accuracy:  0.8594377636909485\n"
          ]
        }
      ]
    },
    {
      "cell_type": "code",
      "source": [
        "test_loss, test_acc = model.evaluate(x_test, y_test)\n",
        "print(\"Accuracy:\", test_acc)\n",
        "print('Loss:', test_loss)"
      ],
      "metadata": {
        "colab": {
          "base_uri": "https://localhost:8080/"
        },
        "id": "Wtu6uksGl3Mj",
        "outputId": "a7c20b16-0450-4e5d-b2ab-6018b418010e"
      },
      "execution_count": 188,
      "outputs": [
        {
          "output_type": "stream",
          "name": "stdout",
          "text": [
            "8/8 [==============================] - 0s 6ms/step - loss: 0.7533 - accuracy: 0.8594\n",
            "Accuracy: 0.8594377636909485\n",
            "Loss: 0.7532832026481628\n"
          ]
        }
      ]
    },
    {
      "cell_type": "code",
      "source": [
        "accuracy = train.history['accuracy']\n",
        "loss = train.history['loss']\n",
        "epochs = range(len(accuracy))\n",
        "plt.plot(epochs, accuracy, 'bo', label = 'Training accuracy')\n",
        "plt.plot(epochs, loss, 'b', label = 'Traning loss')\n",
        "plt.show()"
      ],
      "metadata": {
        "colab": {
          "base_uri": "https://localhost:8080/",
          "height": 430
        },
        "id": "CfCxsXpwl48j",
        "outputId": "1cea6c71-6521-46f9-858b-83729a792ced"
      },
      "execution_count": 189,
      "outputs": [
        {
          "output_type": "display_data",
          "data": {
            "text/plain": [
              "<Figure size 640x480 with 1 Axes>"
            ],
            "image/png": "[encoded data removed]"
          },
          "metadata": {}
        }
      ]
    },
    {
      "cell_type": "code",
      "source": [
        "#Save model\n",
        "model.save('/content/drive/MyDrive/Colab Notebooks/FLOWER/MODEL_FLOWER5.h5')"
      ],
      "metadata": {
        "id": "cSLb0JqDl7lt"
      },
      "execution_count": 190,
      "outputs": []
    }
  ]
}