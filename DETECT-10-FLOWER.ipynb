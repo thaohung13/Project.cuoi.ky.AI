{
  "nbformat": 4,
  "nbformat_minor": 0,
  "metadata": {
    "colab": {
      "provenance": [],
      "gpuType": "T4",
      "include_colab_link": true
    },
    "kernelspec": {
      "name": "python3",
      "display_name": "Python 3"
    },
    "language_info": {
      "name": "python"
    },
    "accelerator": "GPU",
    "gpuClass": "standard"
  },
  "cells": [
    {
      "cell_type": "markdown",
      "metadata": {
        "id": "view-in-github",
        "colab_type": "text"
      },
      "source": [
        "<a href=\"https://colab.research.google.com/github/thaohung13/Project.cuoi.ky.AI/blob/main/DETECT-10-FLOWER.ipynb\" target=\"_parent\"><img src=\"https://colab.research.google.com/assets/colab-badge.svg\" alt=\"Open In Colab\"/></a>"
      ]
    },
    {
      "cell_type": "code",
      "execution_count": 1,
      "metadata": {
        "id": "dECoW6YblV-z"
      },
      "outputs": [],
      "source": [
        "from os import listdir\n",
        "from numpy import asarray, save\n",
        "from keras.utils import load_img\n",
        "from keras.utils import img_to_array\n",
        "import numpy as np\n",
        "from sklearn.model_selection import train_test_split\n",
        "from keras.datasets import cifar100\n",
        "import matplotlib.pyplot as plt\n",
        "from keras.layers import Dense, Dropout, Flatten, Conv2D, MaxPooling2D, Normalization\n",
        "from keras.models import Sequential, Model\n",
        "from keras import Input\n",
        "from keras.layers import LeakyReLU\n",
        "from keras.optimizers import Adam"
      ]
    },
    {
      "cell_type": "code",
      "source": [
        "from google.colab import drive\n",
        "drive.mount('/content/drive')"
      ],
      "metadata": {
        "colab": {
          "base_uri": "https://localhost:8080/"
        },
        "id": "U4XLAeBllbTr",
        "outputId": "490ccc3f-be7c-4400-c2d9-53ec355bb90e"
      },
      "execution_count": 2,
      "outputs": [
        {
          "output_type": "stream",
          "name": "stdout",
          "text": [
            "Mounted at /content/drive\n"
          ]
        }
      ]
    },
    {
      "cell_type": "code",
      "source": [
        "from numpy import asarray\n",
        "\n",
        "folder = '/content/drive/MyDrive/AI -Trần Thảo Hưng -20146344/DATA1/'\n",
        "photos, labels = list(), list()\n",
        "for file in listdir(folder):\n",
        "  output = 0.0\n",
        "  if file.startswith('Hoa Dạ Uyên Thảo'):\n",
        "    output= 0\n",
        "  if file.startswith('Hoa Hải Đường'):\n",
        "    output= 1\n",
        "  if file.startswith('Hoa Hồng'):\n",
        "    output= 2\n",
        "  if file.startswith('Hoa Hồng Môn'):\n",
        "    output= 3\n",
        "  if file.startswith('Hoa Mai'):\n",
        "    output= 4\n",
        "  if file.startswith('Hoa Sen'):\n",
        "    output= 5\n",
        "  if file.startswith('Hoa Sứ Đỏ '):\n",
        "    output= 6\n",
        "  if file.startswith('Hoa Sứ Trắng'):\n",
        "    output= 7\n",
        "  if file.startswith('Hoa Thiên Điểu'):\n",
        "    output= 8\n",
        "  if file.startswith('Hoa Vạn Thọ'):\n",
        "    output= 9 \n",
        "  photo = load_img(folder + file, target_size=(128, 128))\n",
        "  photo = img_to_array(photo)\n",
        "  photos.append(photo)\n",
        "  labels.append(output)\n",
        "\n",
        "photos = asarray(photos)\n",
        "labels = asarray(labels)\n",
        "print(photos.shape, labels.shape)\n",
        "save('/content/drive/MyDrive/AI -Trần Thảo Hưng -20146344/model/HOA_PHOTOS', photos)\n",
        "save('/content/drive/MyDrive/AI -Trần Thảo Hưng -20146344/model/HOA_LABELS', labels)"
      ],
      "metadata": {
        "colab": {
          "base_uri": "https://localhost:8080/"
        },
        "id": "sNT-XeT4ldXZ",
        "outputId": "6e9d18b0-ddcc-406c-c78d-c71f77e5d364"
      },
      "execution_count": 3,
      "outputs": [
        {
          "output_type": "stream",
          "name": "stdout",
          "text": [
            "(1046, 128, 128, 3) (1046,)\n"
          ]
        }
      ]
    },
    {
      "cell_type": "code",
      "source": [
        "# Load images and labels\n",
        "from keras.utils import to_categorical #one hot encoding\n",
        "photos = np.load('/content/drive/MyDrive/AI -Trần Thảo Hưng -20146344/model/HOA_PHOTOS.npy')\n",
        "labels = np.load('/content/drive/MyDrive/AI -Trần Thảo Hưng -20146344/model/HOA_LABELS.npy')\n",
        "labels_one_hot = to_categorical(labels)\n",
        "x_train, x_test, y_train, y_test = train_test_split(photos, labels_one_hot, test_size = 0.2, random_state = 128)"
      ],
      "metadata": {
        "id": "lp7XL7SblsKl"
      },
      "execution_count": 4,
      "outputs": []
    },
    {
      "cell_type": "code",
      "source": [
        "model = Sequential()\n",
        "#Convolutional\n",
        "model.add(Conv2D(8, kernel_size= (3,3), activation= 'relu', input_shape = (128,128,3), padding= 'same'))\n",
        "model.add(MaxPooling2D((2,2), padding= 'same'))\n",
        "\n",
        "model.add(Conv2D(16, kernel_size= (3,3), activation= 'relu', padding= 'same'))\n",
        "model.add(MaxPooling2D((2,2), padding= 'same'))\n",
        "\n",
        "model.add(Conv2D(32, kernel_size= (3,3), activation= 'relu', padding= 'same'))\n",
        "model.add(Conv2D(32, kernel_size= (3,3), activation= 'relu', padding= 'same'))\n",
        "model.add(MaxPooling2D((2,2), padding= 'same'))\n",
        "\n",
        "model.add(Conv2D(64, kernel_size= (3,3), activation= 'relu', padding= 'same'))\n",
        "model.add(Conv2D(64, kernel_size= (3,3), activation= 'relu', padding= 'same'))\n",
        "model.add(MaxPooling2D((2,2), padding= 'same'))\n",
        "\n",
        "# Fully connected layers\n",
        "model.add(Flatten())\n",
        "model.add(Dense(512, activation= 'relu'))\n",
        "model.add(Dropout(0.5))\n",
        "model.add(Dense(512, activation= 'relu'))\n",
        "model.add(Dropout(0.5))\n",
        "model.add(Dense(6, activation= 'softmax'))\n",
        "model.compile(loss='categorical_crossentropy', optimizer = Adam(), metrics=['accuracy'])\n",
        "model.summary()"
      ],
      "metadata": {
        "colab": {
          "base_uri": "https://localhost:8080/"
        },
        "id": "N0JYyJhIlt-9",
        "outputId": "dc9016c3-a68b-4eef-93db-5719f2259c65"
      },
      "execution_count": 5,
      "outputs": [
        {
          "output_type": "stream",
          "name": "stdout",
          "text": [
            "Model: \"sequential\"\n",
            "_________________________________________________________________\n",
            " Layer (type)                Output Shape              Param #   \n",
            "=================================================================\n",
            " conv2d (Conv2D)             (None, 128, 128, 8)       224       \n",
            "                                                                 \n",
            " max_pooling2d (MaxPooling2D  (None, 64, 64, 8)        0         \n",
            " )                                                               \n",
            "                                                                 \n",
            " conv2d_1 (Conv2D)           (None, 64, 64, 16)        1168      \n",
            "                                                                 \n",
            " max_pooling2d_1 (MaxPooling  (None, 32, 32, 16)       0         \n",
            " 2D)                                                             \n",
            "                                                                 \n",
            " conv2d_2 (Conv2D)           (None, 32, 32, 32)        4640      \n",
            "                                                                 \n",
            " conv2d_3 (Conv2D)           (None, 32, 32, 32)        9248      \n",
            "                                                                 \n",
            " max_pooling2d_2 (MaxPooling  (None, 16, 16, 32)       0         \n",
            " 2D)                                                             \n",
            "                                                                 \n",
            " conv2d_4 (Conv2D)           (None, 16, 16, 64)        18496     \n",
            "                                                                 \n",
            " conv2d_5 (Conv2D)           (None, 16, 16, 64)        36928     \n",
            "                                                                 \n",
            " max_pooling2d_3 (MaxPooling  (None, 8, 8, 64)         0         \n",
            " 2D)                                                             \n",
            "                                                                 \n",
            " flatten (Flatten)           (None, 4096)              0         \n",
            "                                                                 \n",
            " dense (Dense)               (None, 512)               2097664   \n",
            "                                                                 \n",
            " dropout (Dropout)           (None, 512)               0         \n",
            "                                                                 \n",
            " dense_1 (Dense)             (None, 512)               262656    \n",
            "                                                                 \n",
            " dropout_1 (Dropout)         (None, 512)               0         \n",
            "                                                                 \n",
            " dense_2 (Dense)             (None, 6)                 3078      \n",
            "                                                                 \n",
            "=================================================================\n",
            "Total params: 2,434,102\n",
            "Trainable params: 2,434,102\n",
            "Non-trainable params: 0\n",
            "_________________________________________________________________\n"
          ]
        }
      ]
    },
    {
      "cell_type": "code",
      "source": [
        "from keras.preprocessing.image import ImageDataGenerator\n",
        "aug = ImageDataGenerator(rotation_range=20, zoom_range=0.2,\n",
        "    rescale=1./255,\n",
        "\twidth_shift_range=0.2,\n",
        "    height_shift_range=0.2,\n",
        "\thorizontal_flip=True,\n",
        "    brightness_range=[0.2,1.5], fill_mode=\"nearest\")"
      ],
      "metadata": {
        "id": "1zSCX0v-lwHa"
      },
      "execution_count": 6,
      "outputs": []
    },
    {
      "cell_type": "code",
      "source": [
        "x_train.shape"
      ],
      "metadata": {
        "colab": {
          "base_uri": "https://localhost:8080/"
        },
        "id": "AkhvQL9vlySs",
        "outputId": "b69b2cc4-372c-4a32-b676-1d59858d80f2"
      },
      "execution_count": 7,
      "outputs": [
        {
          "output_type": "execute_result",
          "data": {
            "text/plain": [
              "(836, 128, 128, 3)"
            ]
          },
          "metadata": {},
          "execution_count": 7
        }
      ]
    },
    {
      "cell_type": "code",
      "source": [
        "y_train.shape"
      ],
      "metadata": {
        "colab": {
          "base_uri": "https://localhost:8080/"
        },
        "id": "f8YA8GNcl0EJ",
        "outputId": "6fbff7fb-ba21-4b1d-d5a5-26f12b4ea3c3"
      },
      "execution_count": 8,
      "outputs": [
        {
          "output_type": "execute_result",
          "data": {
            "text/plain": [
              "(836, 6)"
            ]
          },
          "metadata": {},
          "execution_count": 8
        }
      ]
    },
    {
      "cell_type": "code",
      "source": [
        "train = model.fit_generator(aug.flow(x_train, y_train, batch_size=64),\n",
        "                               epochs=200,\n",
        "                               validation_data=aug.flow(x_test,y_test,\n",
        "                               batch_size=len(x_test)))"
      ],
      "metadata": {
        "colab": {
          "base_uri": "https://localhost:8080/"
        },
        "id": "_yw-dLT9l1qR",
        "outputId": "20f9ed6e-ac3d-431f-e2d5-4694001cb72a"
      },
      "execution_count": 9,
      "outputs": [
        {
          "output_type": "stream",
          "name": "stderr",
          "text": [
            "<ipython-input-9-0351de05a4f3>:1: UserWarning: `Model.fit_generator` is deprecated and will be removed in a future version. Please use `Model.fit`, which supports generators.\n",
            "  train = model.fit_generator(aug.flow(x_train, y_train, batch_size=64),\n"
          ]
        },
        {
          "output_type": "stream",
          "name": "stdout",
          "text": [
            "Epoch 1/200\n",
            "14/14 [==============================] - 17s 560ms/step - loss: 1.0227 - accuracy: 0.7500 - val_loss: 0.6378 - val_accuracy: 0.8190\n",
            "Epoch 2/200\n",
            "14/14 [==============================] - 4s 323ms/step - loss: 0.6702 - accuracy: 0.8062 - val_loss: 0.5667 - val_accuracy: 0.8190\n",
            "Epoch 3/200\n",
            "14/14 [==============================] - 6s 434ms/step - loss: 0.5999 - accuracy: 0.8050 - val_loss: 0.5154 - val_accuracy: 0.8190\n",
            "Epoch 4/200\n",
            "14/14 [==============================] - 4s 321ms/step - loss: 0.5739 - accuracy: 0.8050 - val_loss: 0.4900 - val_accuracy: 0.8190\n",
            "Epoch 5/200\n",
            "14/14 [==============================] - 4s 316ms/step - loss: 0.5631 - accuracy: 0.8050 - val_loss: 0.4736 - val_accuracy: 0.8190\n",
            "Epoch 6/200\n",
            "14/14 [==============================] - 6s 428ms/step - loss: 0.5246 - accuracy: 0.8050 - val_loss: 0.4558 - val_accuracy: 0.8190\n",
            "Epoch 7/200\n",
            "14/14 [==============================] - 4s 314ms/step - loss: 0.4891 - accuracy: 0.8062 - val_loss: 0.3855 - val_accuracy: 0.8333\n",
            "Epoch 8/200\n",
            "14/14 [==============================] - 5s 360ms/step - loss: 0.4472 - accuracy: 0.8182 - val_loss: 0.3567 - val_accuracy: 0.8238\n",
            "Epoch 9/200\n",
            "14/14 [==============================] - 5s 364ms/step - loss: 0.4321 - accuracy: 0.8325 - val_loss: 0.5139 - val_accuracy: 0.7476\n",
            "Epoch 10/200\n",
            "14/14 [==============================] - 4s 313ms/step - loss: 0.4720 - accuracy: 0.8074 - val_loss: 0.3885 - val_accuracy: 0.8333\n",
            "Epoch 11/200\n",
            "14/14 [==============================] - 5s 393ms/step - loss: 0.4518 - accuracy: 0.8230 - val_loss: 0.3924 - val_accuracy: 0.8476\n",
            "Epoch 12/200\n",
            "14/14 [==============================] - 4s 319ms/step - loss: 0.4091 - accuracy: 0.8361 - val_loss: 0.2900 - val_accuracy: 0.8762\n",
            "Epoch 13/200\n",
            "14/14 [==============================] - 6s 440ms/step - loss: 0.4331 - accuracy: 0.8134 - val_loss: 0.3232 - val_accuracy: 0.8619\n",
            "Epoch 14/200\n",
            "14/14 [==============================] - 4s 340ms/step - loss: 0.3664 - accuracy: 0.8397 - val_loss: 0.3211 - val_accuracy: 0.8714\n",
            "Epoch 15/200\n",
            "14/14 [==============================] - 4s 315ms/step - loss: 0.3384 - accuracy: 0.8684 - val_loss: 0.2951 - val_accuracy: 0.9000\n",
            "Epoch 16/200\n",
            "14/14 [==============================] - 6s 433ms/step - loss: 0.3341 - accuracy: 0.8648 - val_loss: 0.2864 - val_accuracy: 0.8905\n",
            "Epoch 17/200\n",
            "14/14 [==============================] - 4s 314ms/step - loss: 0.3345 - accuracy: 0.8732 - val_loss: 0.3693 - val_accuracy: 0.8476\n",
            "Epoch 18/200\n",
            "14/14 [==============================] - 6s 442ms/step - loss: 0.3265 - accuracy: 0.8780 - val_loss: 0.2968 - val_accuracy: 0.8714\n",
            "Epoch 19/200\n",
            "14/14 [==============================] - 4s 315ms/step - loss: 0.3608 - accuracy: 0.8541 - val_loss: 0.3266 - val_accuracy: 0.9000\n",
            "Epoch 20/200\n",
            "14/14 [==============================] - 6s 431ms/step - loss: 0.3306 - accuracy: 0.8648 - val_loss: 0.2889 - val_accuracy: 0.9048\n",
            "Epoch 21/200\n",
            "14/14 [==============================] - 4s 312ms/step - loss: 0.3319 - accuracy: 0.8852 - val_loss: 0.2437 - val_accuracy: 0.9048\n",
            "Epoch 22/200\n",
            "14/14 [==============================] - 4s 319ms/step - loss: 0.2779 - accuracy: 0.8888 - val_loss: 0.2454 - val_accuracy: 0.9048\n",
            "Epoch 23/200\n",
            "14/14 [==============================] - 6s 435ms/step - loss: 0.3027 - accuracy: 0.8792 - val_loss: 0.3563 - val_accuracy: 0.8762\n",
            "Epoch 24/200\n",
            "14/14 [==============================] - 4s 316ms/step - loss: 0.3286 - accuracy: 0.8744 - val_loss: 0.2700 - val_accuracy: 0.8905\n",
            "Epoch 25/200\n",
            "14/14 [==============================] - 4s 315ms/step - loss: 0.2808 - accuracy: 0.8911 - val_loss: 0.2818 - val_accuracy: 0.8810\n",
            "Epoch 26/200\n",
            "14/14 [==============================] - 6s 415ms/step - loss: 0.2582 - accuracy: 0.9043 - val_loss: 0.2378 - val_accuracy: 0.9000\n",
            "Epoch 27/200\n",
            "14/14 [==============================] - 4s 313ms/step - loss: 0.2628 - accuracy: 0.9067 - val_loss: 0.2616 - val_accuracy: 0.9238\n",
            "Epoch 28/200\n",
            "14/14 [==============================] - 6s 443ms/step - loss: 0.2439 - accuracy: 0.9127 - val_loss: 0.2858 - val_accuracy: 0.9000\n",
            "Epoch 29/200\n",
            "14/14 [==============================] - 4s 317ms/step - loss: 0.2402 - accuracy: 0.9043 - val_loss: 0.2132 - val_accuracy: 0.9286\n",
            "Epoch 30/200\n",
            "14/14 [==============================] - 6s 434ms/step - loss: 0.2767 - accuracy: 0.8911 - val_loss: 0.3600 - val_accuracy: 0.8381\n",
            "Epoch 31/200\n",
            "14/14 [==============================] - 4s 314ms/step - loss: 0.2656 - accuracy: 0.9007 - val_loss: 0.2190 - val_accuracy: 0.9286\n",
            "Epoch 32/200\n",
            "14/14 [==============================] - 6s 448ms/step - loss: 0.2399 - accuracy: 0.9103 - val_loss: 0.2667 - val_accuracy: 0.9000\n",
            "Epoch 33/200\n",
            "14/14 [==============================] - 5s 317ms/step - loss: 0.2386 - accuracy: 0.9211 - val_loss: 0.2485 - val_accuracy: 0.9048\n",
            "Epoch 34/200\n",
            "14/14 [==============================] - 5s 344ms/step - loss: 0.2541 - accuracy: 0.9163 - val_loss: 0.5465 - val_accuracy: 0.7714\n",
            "Epoch 35/200\n",
            "14/14 [==============================] - 7s 504ms/step - loss: 0.3528 - accuracy: 0.8624 - val_loss: 0.2695 - val_accuracy: 0.9048\n",
            "Epoch 36/200\n",
            "14/14 [==============================] - 4s 319ms/step - loss: 0.2524 - accuracy: 0.8995 - val_loss: 0.3417 - val_accuracy: 0.9000\n",
            "Epoch 37/200\n",
            "14/14 [==============================] - 6s 421ms/step - loss: 0.2823 - accuracy: 0.9055 - val_loss: 0.2600 - val_accuracy: 0.8905\n",
            "Epoch 38/200\n",
            "14/14 [==============================] - 4s 314ms/step - loss: 0.2533 - accuracy: 0.9067 - val_loss: 0.2011 - val_accuracy: 0.9333\n",
            "Epoch 39/200\n",
            "14/14 [==============================] - 5s 360ms/step - loss: 0.2099 - accuracy: 0.9318 - val_loss: 0.2275 - val_accuracy: 0.9000\n",
            "Epoch 40/200\n",
            "14/14 [==============================] - 5s 404ms/step - loss: 0.2187 - accuracy: 0.9211 - val_loss: 0.2228 - val_accuracy: 0.9048\n",
            "Epoch 41/200\n",
            "14/14 [==============================] - 4s 317ms/step - loss: 0.1822 - accuracy: 0.9294 - val_loss: 0.1934 - val_accuracy: 0.9238\n",
            "Epoch 42/200\n",
            "14/14 [==============================] - 6s 408ms/step - loss: 0.1943 - accuracy: 0.9270 - val_loss: 0.5383 - val_accuracy: 0.7857\n",
            "Epoch 43/200\n",
            "14/14 [==============================] - 4s 312ms/step - loss: 0.4124 - accuracy: 0.8457 - val_loss: 0.2611 - val_accuracy: 0.9095\n",
            "Epoch 44/200\n",
            "14/14 [==============================] - 6s 453ms/step - loss: 0.2829 - accuracy: 0.9091 - val_loss: 0.2734 - val_accuracy: 0.9190\n",
            "Epoch 45/200\n",
            "14/14 [==============================] - 4s 317ms/step - loss: 0.2443 - accuracy: 0.9127 - val_loss: 0.2726 - val_accuracy: 0.9048\n",
            "Epoch 46/200\n",
            "14/14 [==============================] - 6s 429ms/step - loss: 0.2500 - accuracy: 0.9151 - val_loss: 0.2132 - val_accuracy: 0.9190\n",
            "Epoch 47/200\n",
            "14/14 [==============================] - 4s 316ms/step - loss: 0.2105 - accuracy: 0.9378 - val_loss: 0.2582 - val_accuracy: 0.9143\n",
            "Epoch 48/200\n",
            "14/14 [==============================] - 5s 362ms/step - loss: 0.2061 - accuracy: 0.9282 - val_loss: 0.2329 - val_accuracy: 0.9238\n",
            "Epoch 49/200\n",
            "14/14 [==============================] - 5s 368ms/step - loss: 0.2020 - accuracy: 0.9402 - val_loss: 0.2163 - val_accuracy: 0.9238\n",
            "Epoch 50/200\n",
            "14/14 [==============================] - 6s 430ms/step - loss: 0.1799 - accuracy: 0.9318 - val_loss: 0.2730 - val_accuracy: 0.8905\n",
            "Epoch 51/200\n",
            "14/14 [==============================] - 4s 335ms/step - loss: 0.2001 - accuracy: 0.9199 - val_loss: 0.2685 - val_accuracy: 0.9048\n",
            "Epoch 52/200\n",
            "14/14 [==============================] - 4s 317ms/step - loss: 0.2566 - accuracy: 0.9067 - val_loss: 0.3108 - val_accuracy: 0.8762\n",
            "Epoch 53/200\n",
            "14/14 [==============================] - 6s 431ms/step - loss: 0.2502 - accuracy: 0.9055 - val_loss: 0.2388 - val_accuracy: 0.9190\n",
            "Epoch 54/200\n",
            "14/14 [==============================] - 4s 313ms/step - loss: 0.1927 - accuracy: 0.9342 - val_loss: 0.1995 - val_accuracy: 0.9238\n",
            "Epoch 55/200\n",
            "14/14 [==============================] - 6s 450ms/step - loss: 0.4008 - accuracy: 0.8840 - val_loss: 0.2984 - val_accuracy: 0.8952\n",
            "Epoch 56/200\n",
            "14/14 [==============================] - 4s 318ms/step - loss: 0.4437 - accuracy: 0.8457 - val_loss: 0.3131 - val_accuracy: 0.8762\n",
            "Epoch 57/200\n",
            "14/14 [==============================] - 5s 383ms/step - loss: 0.2693 - accuracy: 0.9067 - val_loss: 0.2755 - val_accuracy: 0.9095\n",
            "Epoch 58/200\n",
            "14/14 [==============================] - 4s 318ms/step - loss: 0.2546 - accuracy: 0.9055 - val_loss: 0.2560 - val_accuracy: 0.9000\n",
            "Epoch 59/200\n",
            "14/14 [==============================] - 6s 438ms/step - loss: 0.2267 - accuracy: 0.9163 - val_loss: 0.2699 - val_accuracy: 0.9095\n",
            "Epoch 60/200\n",
            "14/14 [==============================] - 4s 322ms/step - loss: 0.1944 - accuracy: 0.9294 - val_loss: 0.2270 - val_accuracy: 0.9190\n",
            "Epoch 61/200\n",
            "14/14 [==============================] - 6s 465ms/step - loss: 0.2219 - accuracy: 0.9163 - val_loss: 0.2542 - val_accuracy: 0.9048\n",
            "Epoch 62/200\n",
            "14/14 [==============================] - 4s 311ms/step - loss: 0.2226 - accuracy: 0.9115 - val_loss: 0.2468 - val_accuracy: 0.8952\n",
            "Epoch 63/200\n",
            "14/14 [==============================] - 6s 434ms/step - loss: 0.2024 - accuracy: 0.9294 - val_loss: 0.2529 - val_accuracy: 0.9143\n",
            "Epoch 64/200\n",
            "14/14 [==============================] - 4s 317ms/step - loss: 0.1985 - accuracy: 0.9318 - val_loss: 0.2370 - val_accuracy: 0.9143\n",
            "Epoch 65/200\n",
            "14/14 [==============================] - 6s 433ms/step - loss: 0.1822 - accuracy: 0.9234 - val_loss: 0.2097 - val_accuracy: 0.9095\n",
            "Epoch 66/200\n",
            "14/14 [==============================] - 4s 316ms/step - loss: 0.1548 - accuracy: 0.9450 - val_loss: 0.1867 - val_accuracy: 0.9476\n",
            "Epoch 67/200\n",
            "14/14 [==============================] - 6s 439ms/step - loss: 0.1935 - accuracy: 0.9354 - val_loss: 0.2258 - val_accuracy: 0.9143\n",
            "Epoch 68/200\n",
            "14/14 [==============================] - 4s 318ms/step - loss: 0.1921 - accuracy: 0.9270 - val_loss: 0.2042 - val_accuracy: 0.9429\n",
            "Epoch 69/200\n",
            "14/14 [==============================] - 6s 403ms/step - loss: 0.1601 - accuracy: 0.9474 - val_loss: 0.2182 - val_accuracy: 0.9143\n",
            "Epoch 70/200\n",
            "14/14 [==============================] - 5s 325ms/step - loss: 0.1513 - accuracy: 0.9510 - val_loss: 0.2251 - val_accuracy: 0.9190\n",
            "Epoch 71/200\n",
            "14/14 [==============================] - 4s 313ms/step - loss: 0.1585 - accuracy: 0.9450 - val_loss: 0.2357 - val_accuracy: 0.9095\n",
            "Epoch 72/200\n",
            "14/14 [==============================] - 6s 431ms/step - loss: 0.1325 - accuracy: 0.9486 - val_loss: 0.2043 - val_accuracy: 0.9333\n",
            "Epoch 73/200\n",
            "14/14 [==============================] - 4s 338ms/step - loss: 0.1482 - accuracy: 0.9522 - val_loss: 0.2389 - val_accuracy: 0.9238\n",
            "Epoch 74/200\n",
            "14/14 [==============================] - 4s 314ms/step - loss: 0.1808 - accuracy: 0.9414 - val_loss: 0.2659 - val_accuracy: 0.9143\n",
            "Epoch 75/200\n",
            "14/14 [==============================] - 6s 433ms/step - loss: 0.1747 - accuracy: 0.9462 - val_loss: 0.2714 - val_accuracy: 0.9190\n",
            "Epoch 76/200\n",
            "14/14 [==============================] - 4s 319ms/step - loss: 0.2521 - accuracy: 0.9043 - val_loss: 0.2271 - val_accuracy: 0.9238\n",
            "Epoch 77/200\n",
            "14/14 [==============================] - 5s 343ms/step - loss: 0.1453 - accuracy: 0.9438 - val_loss: 0.2214 - val_accuracy: 0.9286\n",
            "Epoch 78/200\n",
            "14/14 [==============================] - 6s 401ms/step - loss: 0.1579 - accuracy: 0.9462 - val_loss: 0.1815 - val_accuracy: 0.9286\n",
            "Epoch 79/200\n",
            "14/14 [==============================] - 5s 387ms/step - loss: 0.1366 - accuracy: 0.9545 - val_loss: 0.1817 - val_accuracy: 0.9333\n",
            "Epoch 80/200\n",
            "14/14 [==============================] - 5s 342ms/step - loss: 0.1207 - accuracy: 0.9522 - val_loss: 0.1373 - val_accuracy: 0.9381\n",
            "Epoch 81/200\n",
            "14/14 [==============================] - 4s 313ms/step - loss: 0.1381 - accuracy: 0.9498 - val_loss: 0.1883 - val_accuracy: 0.9429\n",
            "Epoch 82/200\n",
            "14/14 [==============================] - 7s 524ms/step - loss: 0.1278 - accuracy: 0.9474 - val_loss: 0.2474 - val_accuracy: 0.9048\n",
            "Epoch 83/200\n",
            "14/14 [==============================] - 4s 316ms/step - loss: 0.1336 - accuracy: 0.9474 - val_loss: 0.2112 - val_accuracy: 0.9333\n",
            "Epoch 84/200\n",
            "14/14 [==============================] - 5s 324ms/step - loss: 0.1149 - accuracy: 0.9617 - val_loss: 0.1633 - val_accuracy: 0.9286\n",
            "Epoch 85/200\n",
            "14/14 [==============================] - 6s 418ms/step - loss: 0.1166 - accuracy: 0.9665 - val_loss: 0.2048 - val_accuracy: 0.9286\n",
            "Epoch 86/200\n",
            "14/14 [==============================] - 4s 342ms/step - loss: 0.1754 - accuracy: 0.9354 - val_loss: 0.2043 - val_accuracy: 0.9286\n",
            "Epoch 87/200\n",
            "14/14 [==============================] - 5s 374ms/step - loss: 0.1279 - accuracy: 0.9593 - val_loss: 0.1540 - val_accuracy: 0.9286\n",
            "Epoch 88/200\n",
            "14/14 [==============================] - 4s 317ms/step - loss: 0.1098 - accuracy: 0.9605 - val_loss: 0.2580 - val_accuracy: 0.9238\n",
            "Epoch 89/200\n",
            "14/14 [==============================] - 6s 431ms/step - loss: 0.2644 - accuracy: 0.9175 - val_loss: 0.2554 - val_accuracy: 0.9095\n",
            "Epoch 90/200\n",
            "14/14 [==============================] - 4s 318ms/step - loss: 0.1727 - accuracy: 0.9366 - val_loss: 0.1776 - val_accuracy: 0.9238\n",
            "Epoch 91/200\n",
            "14/14 [==============================] - 4s 318ms/step - loss: 0.1940 - accuracy: 0.9366 - val_loss: 0.3364 - val_accuracy: 0.8667\n",
            "Epoch 92/200\n",
            "14/14 [==============================] - 6s 410ms/step - loss: 0.1895 - accuracy: 0.9378 - val_loss: 0.2273 - val_accuracy: 0.9333\n",
            "Epoch 93/200\n",
            "14/14 [==============================] - 6s 439ms/step - loss: 0.1903 - accuracy: 0.9294 - val_loss: 0.1903 - val_accuracy: 0.9000\n",
            "Epoch 94/200\n",
            "14/14 [==============================] - 4s 309ms/step - loss: 0.1992 - accuracy: 0.9211 - val_loss: 0.2036 - val_accuracy: 0.9048\n",
            "Epoch 95/200\n",
            "14/14 [==============================] - 6s 431ms/step - loss: 0.1365 - accuracy: 0.9522 - val_loss: 0.1886 - val_accuracy: 0.9286\n",
            "Epoch 96/200\n",
            "14/14 [==============================] - 4s 311ms/step - loss: 0.1222 - accuracy: 0.9569 - val_loss: 0.2166 - val_accuracy: 0.9143\n",
            "Epoch 97/200\n",
            "14/14 [==============================] - 4s 316ms/step - loss: 0.1112 - accuracy: 0.9689 - val_loss: 0.2128 - val_accuracy: 0.9286\n",
            "Epoch 98/200\n",
            "14/14 [==============================] - 6s 423ms/step - loss: 0.1130 - accuracy: 0.9581 - val_loss: 0.2271 - val_accuracy: 0.9238\n",
            "Epoch 99/200\n",
            "14/14 [==============================] - 4s 312ms/step - loss: 0.1152 - accuracy: 0.9593 - val_loss: 0.1992 - val_accuracy: 0.9143\n",
            "Epoch 100/200\n",
            "14/14 [==============================] - 5s 349ms/step - loss: 0.0997 - accuracy: 0.9665 - val_loss: 0.1658 - val_accuracy: 0.9524\n",
            "Epoch 101/200\n",
            "14/14 [==============================] - 7s 529ms/step - loss: 0.0885 - accuracy: 0.9665 - val_loss: 0.2058 - val_accuracy: 0.9476\n",
            "Epoch 102/200\n",
            "14/14 [==============================] - 5s 314ms/step - loss: 0.0853 - accuracy: 0.9725 - val_loss: 0.1393 - val_accuracy: 0.9476\n",
            "Epoch 103/200\n",
            "14/14 [==============================] - 6s 424ms/step - loss: 0.0994 - accuracy: 0.9677 - val_loss: 0.2030 - val_accuracy: 0.9286\n",
            "Epoch 104/200\n",
            "14/14 [==============================] - 4s 336ms/step - loss: 0.1260 - accuracy: 0.9522 - val_loss: 0.1879 - val_accuracy: 0.9333\n",
            "Epoch 105/200\n",
            "14/14 [==============================] - 4s 311ms/step - loss: 0.0947 - accuracy: 0.9617 - val_loss: 0.1881 - val_accuracy: 0.9381\n",
            "Epoch 106/200\n",
            "14/14 [==============================] - 6s 427ms/step - loss: 0.0764 - accuracy: 0.9737 - val_loss: 0.2034 - val_accuracy: 0.9381\n",
            "Epoch 107/200\n",
            "14/14 [==============================] - 4s 318ms/step - loss: 0.0749 - accuracy: 0.9749 - val_loss: 0.2204 - val_accuracy: 0.9333\n",
            "Epoch 108/200\n",
            "14/14 [==============================] - 5s 324ms/step - loss: 0.1072 - accuracy: 0.9629 - val_loss: 0.1775 - val_accuracy: 0.9333\n",
            "Epoch 109/200\n",
            "14/14 [==============================] - 5s 362ms/step - loss: 0.0857 - accuracy: 0.9665 - val_loss: 0.1671 - val_accuracy: 0.9429\n",
            "Epoch 110/200\n",
            "14/14 [==============================] - 4s 313ms/step - loss: 0.0774 - accuracy: 0.9773 - val_loss: 0.1542 - val_accuracy: 0.9429\n",
            "Epoch 111/200\n",
            "14/14 [==============================] - 7s 480ms/step - loss: 0.0669 - accuracy: 0.9737 - val_loss: 0.1767 - val_accuracy: 0.9333\n",
            "Epoch 112/200\n",
            "14/14 [==============================] - 4s 313ms/step - loss: 0.0748 - accuracy: 0.9785 - val_loss: 0.1143 - val_accuracy: 0.9667\n",
            "Epoch 113/200\n",
            "14/14 [==============================] - 5s 342ms/step - loss: 0.0823 - accuracy: 0.9665 - val_loss: 0.1985 - val_accuracy: 0.9381\n",
            "Epoch 114/200\n",
            "14/14 [==============================] - 5s 373ms/step - loss: 0.0889 - accuracy: 0.9725 - val_loss: 0.1726 - val_accuracy: 0.9571\n",
            "Epoch 115/200\n",
            "14/14 [==============================] - 7s 504ms/step - loss: 0.0707 - accuracy: 0.9677 - val_loss: 0.1789 - val_accuracy: 0.9476\n",
            "Epoch 116/200\n",
            "14/14 [==============================] - 4s 313ms/step - loss: 0.0686 - accuracy: 0.9737 - val_loss: 0.2360 - val_accuracy: 0.9333\n",
            "Epoch 117/200\n",
            "14/14 [==============================] - 5s 343ms/step - loss: 0.0755 - accuracy: 0.9785 - val_loss: 0.1455 - val_accuracy: 0.9667\n",
            "Epoch 118/200\n",
            "14/14 [==============================] - 5s 369ms/step - loss: 0.0735 - accuracy: 0.9725 - val_loss: 0.1340 - val_accuracy: 0.9619\n",
            "Epoch 119/200\n",
            "14/14 [==============================] - 4s 313ms/step - loss: 0.0893 - accuracy: 0.9725 - val_loss: 0.1491 - val_accuracy: 0.9429\n",
            "Epoch 120/200\n",
            "14/14 [==============================] - 7s 483ms/step - loss: 0.0733 - accuracy: 0.9749 - val_loss: 0.2127 - val_accuracy: 0.9238\n",
            "Epoch 121/200\n",
            "14/14 [==============================] - 4s 317ms/step - loss: 0.0861 - accuracy: 0.9701 - val_loss: 0.1697 - val_accuracy: 0.9381\n",
            "Epoch 122/200\n",
            "14/14 [==============================] - 4s 311ms/step - loss: 0.0728 - accuracy: 0.9749 - val_loss: 0.1782 - val_accuracy: 0.9524\n",
            "Epoch 123/200\n",
            "14/14 [==============================] - 6s 418ms/step - loss: 0.0633 - accuracy: 0.9761 - val_loss: 0.1713 - val_accuracy: 0.9429\n",
            "Epoch 124/200\n",
            "14/14 [==============================] - 4s 316ms/step - loss: 0.1685 - accuracy: 0.9462 - val_loss: 0.2290 - val_accuracy: 0.9190\n",
            "Epoch 125/200\n",
            "14/14 [==============================] - 6s 445ms/step - loss: 0.1080 - accuracy: 0.9689 - val_loss: 0.2286 - val_accuracy: 0.9333\n",
            "Epoch 126/200\n",
            "14/14 [==============================] - 4s 313ms/step - loss: 0.0910 - accuracy: 0.9713 - val_loss: 0.1542 - val_accuracy: 0.9429\n",
            "Epoch 127/200\n",
            "14/14 [==============================] - 4s 315ms/step - loss: 0.0855 - accuracy: 0.9713 - val_loss: 0.1768 - val_accuracy: 0.9524\n",
            "Epoch 128/200\n",
            "14/14 [==============================] - 6s 427ms/step - loss: 0.1150 - accuracy: 0.9641 - val_loss: 0.2605 - val_accuracy: 0.9333\n",
            "Epoch 129/200\n",
            "14/14 [==============================] - 4s 316ms/step - loss: 0.0910 - accuracy: 0.9761 - val_loss: 0.1952 - val_accuracy: 0.9286\n",
            "Epoch 130/200\n",
            "14/14 [==============================] - 4s 322ms/step - loss: 0.0863 - accuracy: 0.9761 - val_loss: 0.3033 - val_accuracy: 0.9190\n",
            "Epoch 131/200\n",
            "14/14 [==============================] - 6s 403ms/step - loss: 0.1692 - accuracy: 0.9402 - val_loss: 0.2758 - val_accuracy: 0.9143\n",
            "Epoch 132/200\n",
            "14/14 [==============================] - 5s 402ms/step - loss: 0.1383 - accuracy: 0.9545 - val_loss: 0.1623 - val_accuracy: 0.9524\n",
            "Epoch 133/200\n",
            "14/14 [==============================] - 5s 347ms/step - loss: 0.0896 - accuracy: 0.9653 - val_loss: 0.1713 - val_accuracy: 0.9333\n",
            "Epoch 134/200\n",
            "14/14 [==============================] - 4s 313ms/step - loss: 0.0594 - accuracy: 0.9821 - val_loss: 0.1197 - val_accuracy: 0.9429\n",
            "Epoch 135/200\n",
            "14/14 [==============================] - 6s 428ms/step - loss: 0.0775 - accuracy: 0.9677 - val_loss: 0.1944 - val_accuracy: 0.9381\n",
            "Epoch 136/200\n",
            "14/14 [==============================] - 4s 312ms/step - loss: 0.0729 - accuracy: 0.9713 - val_loss: 0.2621 - val_accuracy: 0.9238\n",
            "Epoch 137/200\n",
            "14/14 [==============================] - 4s 320ms/step - loss: 0.0996 - accuracy: 0.9605 - val_loss: 0.1666 - val_accuracy: 0.9476\n",
            "Epoch 138/200\n",
            "14/14 [==============================] - 8s 550ms/step - loss: 0.0797 - accuracy: 0.9713 - val_loss: 0.2429 - val_accuracy: 0.9429\n",
            "Epoch 139/200\n",
            "14/14 [==============================] - 4s 315ms/step - loss: 0.0833 - accuracy: 0.9653 - val_loss: 0.1334 - val_accuracy: 0.9476\n",
            "Epoch 140/200\n",
            "14/14 [==============================] - 5s 345ms/step - loss: 0.0616 - accuracy: 0.9785 - val_loss: 0.1591 - val_accuracy: 0.9476\n",
            "Epoch 141/200\n",
            "14/14 [==============================] - 5s 380ms/step - loss: 0.0419 - accuracy: 0.9868 - val_loss: 0.1505 - val_accuracy: 0.9524\n",
            "Epoch 142/200\n",
            "14/14 [==============================] - 4s 312ms/step - loss: 0.0452 - accuracy: 0.9856 - val_loss: 0.1272 - val_accuracy: 0.9476\n",
            "Epoch 143/200\n",
            "14/14 [==============================] - 6s 467ms/step - loss: 0.0475 - accuracy: 0.9785 - val_loss: 0.1405 - val_accuracy: 0.9571\n",
            "Epoch 144/200\n",
            "14/14 [==============================] - 4s 314ms/step - loss: 0.0365 - accuracy: 0.9856 - val_loss: 0.1193 - val_accuracy: 0.9667\n",
            "Epoch 145/200\n",
            "14/14 [==============================] - 4s 317ms/step - loss: 0.0448 - accuracy: 0.9856 - val_loss: 0.1260 - val_accuracy: 0.9429\n",
            "Epoch 146/200\n",
            "14/14 [==============================] - 6s 430ms/step - loss: 0.0442 - accuracy: 0.9809 - val_loss: 0.2509 - val_accuracy: 0.9333\n",
            "Epoch 147/200\n",
            "14/14 [==============================] - 4s 312ms/step - loss: 0.0468 - accuracy: 0.9844 - val_loss: 0.1591 - val_accuracy: 0.9476\n",
            "Epoch 148/200\n",
            "14/14 [==============================] - 5s 341ms/step - loss: 0.0404 - accuracy: 0.9916 - val_loss: 0.2191 - val_accuracy: 0.9333\n",
            "Epoch 149/200\n",
            "14/14 [==============================] - 5s 382ms/step - loss: 0.0530 - accuracy: 0.9844 - val_loss: 0.1785 - val_accuracy: 0.9524\n",
            "Epoch 150/200\n",
            "14/14 [==============================] - 4s 312ms/step - loss: 0.0628 - accuracy: 0.9797 - val_loss: 0.1263 - val_accuracy: 0.9619\n",
            "Epoch 151/200\n",
            "14/14 [==============================] - 6s 469ms/step - loss: 0.0448 - accuracy: 0.9809 - val_loss: 0.1863 - val_accuracy: 0.9476\n",
            "Epoch 152/200\n",
            "14/14 [==============================] - 4s 313ms/step - loss: 0.0427 - accuracy: 0.9892 - val_loss: 0.2287 - val_accuracy: 0.9429\n",
            "Epoch 153/200\n",
            "14/14 [==============================] - 4s 316ms/step - loss: 0.0376 - accuracy: 0.9916 - val_loss: 0.1164 - val_accuracy: 0.9429\n",
            "Epoch 154/200\n",
            "14/14 [==============================] - 6s 416ms/step - loss: 0.0500 - accuracy: 0.9785 - val_loss: 0.1666 - val_accuracy: 0.9571\n",
            "Epoch 155/200\n",
            "14/14 [==============================] - 4s 312ms/step - loss: 0.0797 - accuracy: 0.9701 - val_loss: 0.1215 - val_accuracy: 0.9429\n",
            "Epoch 156/200\n",
            "14/14 [==============================] - 5s 365ms/step - loss: 0.0530 - accuracy: 0.9785 - val_loss: 0.1304 - val_accuracy: 0.9667\n",
            "Epoch 157/200\n",
            "14/14 [==============================] - 5s 376ms/step - loss: 0.0566 - accuracy: 0.9785 - val_loss: 0.2092 - val_accuracy: 0.9476\n",
            "Epoch 158/200\n",
            "14/14 [==============================] - 4s 312ms/step - loss: 0.0606 - accuracy: 0.9844 - val_loss: 0.1295 - val_accuracy: 0.9571\n",
            "Epoch 159/200\n",
            "14/14 [==============================] - 5s 376ms/step - loss: 0.0634 - accuracy: 0.9797 - val_loss: 0.2312 - val_accuracy: 0.9476\n",
            "Epoch 160/200\n",
            "14/14 [==============================] - 4s 314ms/step - loss: 0.0493 - accuracy: 0.9785 - val_loss: 0.1881 - val_accuracy: 0.9333\n",
            "Epoch 161/200\n",
            "14/14 [==============================] - 6s 425ms/step - loss: 0.0376 - accuracy: 0.9868 - val_loss: 0.1146 - val_accuracy: 0.9524\n",
            "Epoch 162/200\n",
            "14/14 [==============================] - 4s 312ms/step - loss: 0.0486 - accuracy: 0.9821 - val_loss: 0.1328 - val_accuracy: 0.9619\n",
            "Epoch 163/200\n",
            "14/14 [==============================] - 5s 342ms/step - loss: 0.0465 - accuracy: 0.9833 - val_loss: 0.1849 - val_accuracy: 0.9571\n",
            "Epoch 164/200\n",
            "14/14 [==============================] - 6s 391ms/step - loss: 0.0917 - accuracy: 0.9725 - val_loss: 0.1634 - val_accuracy: 0.9571\n",
            "Epoch 165/200\n",
            "14/14 [==============================] - 4s 311ms/step - loss: 0.0902 - accuracy: 0.9713 - val_loss: 0.2615 - val_accuracy: 0.9286\n",
            "Epoch 166/200\n",
            "14/14 [==============================] - 5s 373ms/step - loss: 0.0697 - accuracy: 0.9737 - val_loss: 0.3224 - val_accuracy: 0.9238\n",
            "Epoch 167/200\n",
            "14/14 [==============================] - 5s 347ms/step - loss: 0.1729 - accuracy: 0.9366 - val_loss: 0.1442 - val_accuracy: 0.9524\n",
            "Epoch 168/200\n",
            "14/14 [==============================] - 4s 314ms/step - loss: 0.0918 - accuracy: 0.9761 - val_loss: 0.1636 - val_accuracy: 0.9476\n",
            "Epoch 169/200\n",
            "14/14 [==============================] - 6s 422ms/step - loss: 0.0555 - accuracy: 0.9773 - val_loss: 0.1609 - val_accuracy: 0.9476\n",
            "Epoch 170/200\n",
            "14/14 [==============================] - 4s 316ms/step - loss: 0.0462 - accuracy: 0.9797 - val_loss: 0.1627 - val_accuracy: 0.9429\n",
            "Epoch 171/200\n",
            "14/14 [==============================] - 4s 333ms/step - loss: 0.0317 - accuracy: 0.9892 - val_loss: 0.2057 - val_accuracy: 0.9571\n",
            "Epoch 172/200\n",
            "14/14 [==============================] - 6s 417ms/step - loss: 0.0292 - accuracy: 0.9880 - val_loss: 0.2375 - val_accuracy: 0.9381\n",
            "Epoch 173/200\n",
            "14/14 [==============================] - 4s 314ms/step - loss: 0.0508 - accuracy: 0.9797 - val_loss: 0.1531 - val_accuracy: 0.9619\n",
            "Epoch 174/200\n",
            "14/14 [==============================] - 6s 489ms/step - loss: 0.0277 - accuracy: 0.9904 - val_loss: 0.1489 - val_accuracy: 0.9619\n",
            "Epoch 175/200\n",
            "14/14 [==============================] - 4s 311ms/step - loss: 0.0213 - accuracy: 0.9928 - val_loss: 0.2079 - val_accuracy: 0.9571\n",
            "Epoch 176/200\n",
            "14/14 [==============================] - 6s 424ms/step - loss: 0.0222 - accuracy: 0.9904 - val_loss: 0.1754 - val_accuracy: 0.9619\n",
            "Epoch 177/200\n",
            "14/14 [==============================] - 4s 317ms/step - loss: 0.0336 - accuracy: 0.9880 - val_loss: 0.2333 - val_accuracy: 0.9429\n",
            "Epoch 178/200\n",
            "14/14 [==============================] - 4s 311ms/step - loss: 0.0643 - accuracy: 0.9749 - val_loss: 0.2461 - val_accuracy: 0.9238\n",
            "Epoch 179/200\n",
            "14/14 [==============================] - 6s 424ms/step - loss: 0.0535 - accuracy: 0.9809 - val_loss: 0.1982 - val_accuracy: 0.9429\n",
            "Epoch 180/200\n",
            "14/14 [==============================] - 4s 309ms/step - loss: 0.0309 - accuracy: 0.9868 - val_loss: 0.2605 - val_accuracy: 0.9238\n",
            "Epoch 181/200\n",
            "14/14 [==============================] - 4s 316ms/step - loss: 0.0649 - accuracy: 0.9856 - val_loss: 0.3180 - val_accuracy: 0.9190\n",
            "Epoch 182/200\n",
            "14/14 [==============================] - 6s 414ms/step - loss: 0.0560 - accuracy: 0.9809 - val_loss: 0.2332 - val_accuracy: 0.9381\n",
            "Epoch 183/200\n",
            "14/14 [==============================] - 6s 458ms/step - loss: 0.0832 - accuracy: 0.9725 - val_loss: 0.2673 - val_accuracy: 0.9190\n",
            "Epoch 184/200\n",
            "14/14 [==============================] - 4s 314ms/step - loss: 0.0946 - accuracy: 0.9689 - val_loss: 0.1708 - val_accuracy: 0.9238\n",
            "Epoch 185/200\n",
            "14/14 [==============================] - 6s 440ms/step - loss: 0.0566 - accuracy: 0.9809 - val_loss: 0.1830 - val_accuracy: 0.9429\n",
            "Epoch 186/200\n",
            "14/14 [==============================] - 4s 320ms/step - loss: 0.0696 - accuracy: 0.9761 - val_loss: 0.2425 - val_accuracy: 0.9286\n",
            "Epoch 187/200\n",
            "14/14 [==============================] - 4s 315ms/step - loss: 0.0602 - accuracy: 0.9809 - val_loss: 0.2071 - val_accuracy: 0.9286\n",
            "Epoch 188/200\n",
            "14/14 [==============================] - 6s 434ms/step - loss: 0.0711 - accuracy: 0.9749 - val_loss: 0.3050 - val_accuracy: 0.9000\n",
            "Epoch 189/200\n",
            "14/14 [==============================] - 5s 333ms/step - loss: 0.0585 - accuracy: 0.9809 - val_loss: 0.1611 - val_accuracy: 0.9476\n",
            "Epoch 190/200\n",
            "14/14 [==============================] - 6s 411ms/step - loss: 0.0487 - accuracy: 0.9856 - val_loss: 0.2307 - val_accuracy: 0.9238\n",
            "Epoch 191/200\n",
            "14/14 [==============================] - 4s 318ms/step - loss: 0.0729 - accuracy: 0.9689 - val_loss: 0.2262 - val_accuracy: 0.9476\n",
            "Epoch 192/200\n",
            "14/14 [==============================] - 6s 411ms/step - loss: 0.0466 - accuracy: 0.9856 - val_loss: 0.2052 - val_accuracy: 0.9524\n",
            "Epoch 193/200\n",
            "14/14 [==============================] - 4s 318ms/step - loss: 0.0322 - accuracy: 0.9904 - val_loss: 0.2347 - val_accuracy: 0.9476\n",
            "Epoch 194/200\n",
            "14/14 [==============================] - 6s 433ms/step - loss: 0.0312 - accuracy: 0.9868 - val_loss: 0.2005 - val_accuracy: 0.9476\n",
            "Epoch 195/200\n",
            "14/14 [==============================] - 4s 335ms/step - loss: 0.0477 - accuracy: 0.9856 - val_loss: 0.2077 - val_accuracy: 0.9524\n",
            "Epoch 196/200\n",
            "14/14 [==============================] - 5s 352ms/step - loss: 0.0224 - accuracy: 0.9940 - val_loss: 0.2295 - val_accuracy: 0.9571\n",
            "Epoch 197/200\n",
            "14/14 [==============================] - 6s 397ms/step - loss: 0.2435 - accuracy: 0.9234 - val_loss: 0.3876 - val_accuracy: 0.8857\n",
            "Epoch 198/200\n",
            "14/14 [==============================] - 5s 390ms/step - loss: 0.2264 - accuracy: 0.9294 - val_loss: 0.1609 - val_accuracy: 0.9429\n",
            "Epoch 199/200\n",
            "14/14 [==============================] - 5s 341ms/step - loss: 0.2181 - accuracy: 0.9342 - val_loss: 0.2175 - val_accuracy: 0.9238\n",
            "Epoch 200/200\n",
            "14/14 [==============================] - 4s 318ms/step - loss: 0.1435 - accuracy: 0.9533 - val_loss: 0.2122 - val_accuracy: 0.9286\n"
          ]
        }
      ]
    },
    {
      "cell_type": "code",
      "source": [
        "test_loss, test_acc = model.evaluate(x_test, y_test)\n",
        "print(\"Accuracy:\", test_acc)\n",
        "print('Loss:', test_loss)"
      ],
      "metadata": {
        "colab": {
          "base_uri": "https://localhost:8080/"
        },
        "id": "Wtu6uksGl3Mj",
        "outputId": "9032dc7f-0cf9-4864-efa0-c9f5db01816b"
      },
      "execution_count": 10,
      "outputs": [
        {
          "output_type": "stream",
          "name": "stdout",
          "text": [
            "7/7 [==============================] - 0s 33ms/step - loss: 19.7271 - accuracy: 0.9048\n",
            "Accuracy: 0.9047619104385376\n",
            "Loss: 19.727128982543945\n"
          ]
        }
      ]
    },
    {
      "cell_type": "code",
      "source": [
        "accuracy = train.history['accuracy']\n",
        "loss = train.history['loss']\n",
        "epochs = range(len(accuracy))\n",
        "plt.plot(epochs, accuracy, 'bo', label = 'Training accuracy')\n",
        "plt.plot(epochs, loss, 'b', label = 'Traning loss')\n",
        "plt.show()"
      ],
      "metadata": {
        "colab": {
          "base_uri": "https://localhost:8080/",
          "height": 430
        },
        "id": "CfCxsXpwl48j",
        "outputId": "b5889cc3-5134-4751-b6e6-2cc07d518643"
      },
      "execution_count": 11,
      "outputs": [
        {
          "output_type": "display_data",
          "data": {
            "text/plain": [
              "<Figure size 640x480 with 1 Axes>"
            ],
            "image/png": "[encoded data removed]"
          },
          "metadata": {}
        }
      ]
    },
    {
      "cell_type": "code",
      "source": [
        "#Save model\n",
        "model.save('/content/drive/MyDrive/Colab Notebooks/FLOWER/MODEL_INCEPTION.h5')"
      ],
      "metadata": {
        "id": "cSLb0JqDl7lt"
      },
      "execution_count": 12,
      "outputs": []
    }
  ]
}