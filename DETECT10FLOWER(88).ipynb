{
  "nbformat": 4,
  "nbformat_minor": 0,
  "metadata": {
    "colab": {
      "provenance": [],
      "gpuType": "T4",
      "include_colab_link": true
    },
    "kernelspec": {
      "name": "python3",
      "display_name": "Python 3"
    },
    "language_info": {
      "name": "python"
    },
    "gpuClass": "standard",
    "accelerator": "GPU"
  },
  "cells": [
    {
      "cell_type": "markdown",
      "metadata": {
        "id": "view-in-github",
        "colab_type": "text"
      },
      "source": [
        "<a href=\"https://colab.research.google.com/github/thaohung13/Project.cuoi.ky.AI/blob/main/DETECT10FLOWER(88).ipynb\" target=\"_parent\"><img src=\"https://colab.research.google.com/assets/colab-badge.svg\" alt=\"Open In Colab\"/></a>"
      ]
    },
    {
      "cell_type": "code",
      "execution_count": 335,
      "metadata": {
        "id": "dECoW6YblV-z"
      },
      "outputs": [],
      "source": [
        "from os import listdir\n",
        "from numpy import asarray, save\n",
        "from keras.utils import load_img\n",
        "from keras.utils import img_to_array\n",
        "import numpy as np\n",
        "from sklearn.model_selection import train_test_split\n",
        "from keras.datasets import cifar100\n",
        "import matplotlib.pyplot as plt\n",
        "from keras.layers import Dense, Dropout, Flatten, Conv2D, MaxPooling2D, Normalization\n",
        "from keras.models import Sequential, Model\n",
        "from keras import Input\n",
        "from keras.layers import LeakyReLU\n",
        "from keras.optimizers import Adam"
      ]
    },
    {
      "cell_type": "code",
      "source": [
        "from google.colab import drive\n",
        "drive.mount('/content/drive')"
      ],
      "metadata": {
        "colab": {
          "base_uri": "https://localhost:8080/"
        },
        "id": "U4XLAeBllbTr",
        "outputId": "0a53146e-9c01-4f0e-ee85-02b85208c0b4"
      },
      "execution_count": 336,
      "outputs": [
        {
          "output_type": "stream",
          "name": "stdout",
          "text": [
            "Drive already mounted at /content/drive; to attempt to forcibly remount, call drive.mount(\"/content/drive\", force_remount=True).\n"
          ]
        }
      ]
    },
    {
      "cell_type": "code",
      "source": [
        "from numpy import asarray\n",
        "\n",
        "folder = '/content/drive/MyDrive/AI -Trần Thảo Hưng -20146344/DATA2/'\n",
        "photos, labels = list(), list()\n",
        "for file in listdir(folder):\n",
        "  output = 0.0\n",
        "  if file.startswith('Hong'):\n",
        "    output = 0\n",
        "  if file.startswith('Su'):\n",
        "    output = 1\n",
        "  if file.startswith('Sen'):\n",
        "    output = 2\n",
        "  if file.startswith('Mai'):\n",
        "    output = 3\n",
        "  if file.startswith('PhongLuDo'):\n",
        "    output = 4\n",
        "  if file.startswith('HongMon'):\n",
        "    output = 5\n",
        "  if file.startswith('ThienDieu'):\n",
        "    output = 6\n",
        "  if file.startswith('CucVanTho'):\n",
        "    output = 7\n",
        "  if file.startswith('HuongDuong'):\n",
        "    output = 8\n",
        "  if file.startswith('DaUyenThao'):\n",
        "    output = 9\n",
        "  photo = load_img(folder + file, target_size=(128, 128))\n",
        "  photo = img_to_array(photo)\n",
        "  photos.append(photo)\n",
        "  labels.append(output)\n",
        "\n",
        "photos = asarray(photos)\n",
        "labels = asarray(labels)\n",
        "print(photos.shape, labels.shape)\n",
        "save('/content/drive/MyDrive/AI -Trần Thảo Hưng -20146344/model/FL_PHOTOS1', photos)\n",
        "save('/content/drive/MyDrive/AI -Trần Thảo Hưng -20146344/model/FL_LABELS1', labels)"
      ],
      "metadata": {
        "colab": {
          "base_uri": "https://localhost:8080/"
        },
        "id": "sNT-XeT4ldXZ",
        "outputId": "a24ad636-93d7-48ef-a8d7-f51a8fca9a36"
      },
      "execution_count": 337,
      "outputs": [
        {
          "output_type": "stream",
          "name": "stdout",
          "text": [
            "(1245, 128, 128, 3) (1245,)\n"
          ]
        }
      ]
    },
    {
      "cell_type": "code",
      "source": [
        "# Load images and labels\n",
        "from keras.utils import to_categorical #one hot encoding\n",
        "photos = np.load('/content/drive/MyDrive/AI -Trần Thảo Hưng -20146344/model/FL_PHOTOS1.npy')\n",
        "labels = np.load('/content/drive/MyDrive/AI -Trần Thảo Hưng -20146344/model/FL_LABELS1.npy')\n",
        "labels_one_hot = to_categorical(labels)\n",
        "x_train, x_test, y_train, y_test = train_test_split(photos, labels_one_hot, test_size = 0.2, random_state = 128)"
      ],
      "metadata": {
        "id": "lp7XL7SblsKl"
      },
      "execution_count": 453,
      "outputs": []
    },
    {
      "cell_type": "code",
      "source": [
        "model = Sequential()\n",
        "#Convolutional\n",
        "model.add(Conv2D(8, kernel_size= (3,3), activation= 'relu', input_shape = (128,128,3), padding= 'same'))\n",
        "model.add(Conv2D(8, kernel_size= (3,3), activation= 'relu', padding= 'same'))\n",
        "model.add(MaxPooling2D((2,2), padding= 'same'))\n",
        "\n",
        "model.add(Conv2D(16, kernel_size= (3,3), activation= 'relu', padding= 'same'))\n",
        "model.add(Conv2D(16, kernel_size= (3,3), activation= 'relu', padding= 'same'))\n",
        "model.add(MaxPooling2D((2,2), padding= 'same'))\n",
        "\n",
        "model.add(Conv2D(32, kernel_size= (3,3), activation= 'relu', padding= 'same'))\n",
        "model.add(Conv2D(32, kernel_size= (3,3), activation= 'relu', padding= 'same'))\n",
        "model.add(MaxPooling2D((2,2), padding= 'same'))\n",
        "\n",
        "model.add(Conv2D(128, kernel_size= (3,3), activation= 'relu', padding= 'same'))\n",
        "model.add(Conv2D(128, kernel_size= (3,3), activation= 'relu', padding= 'same'))\n",
        "model.add(MaxPooling2D((2,2), padding= 'same'))\n",
        "\n",
        "model.add(Conv2D(512, kernel_size= (5,5), activation= 'relu', padding= 'same'))\n",
        "model.add(Conv2D(512, kernel_size= (5,5), activation= 'relu', padding= 'same'))\n",
        "model.add(MaxPooling2D((4,4), padding= 'same'))\n",
        "\n",
        "# Fully connected layers\n",
        "model.add(Flatten())\n",
        "model.add(Dense(512, activation= 'relu'))\n",
        "model.add(Dropout(0.1))\n",
        "model.add(Dense(512, activation= 'relu'))\n",
        "model.add(Dropout(0.1))\n",
        "model.add(Dense(10, activation= 'softmax'))\n",
        "model.summary()"
      ],
      "metadata": {
        "colab": {
          "base_uri": "https://localhost:8080/"
        },
        "id": "N0JYyJhIlt-9",
        "outputId": "07289374-1100-4ef7-be0b-b513db7b8751"
      },
      "execution_count": 454,
      "outputs": [
        {
          "output_type": "stream",
          "name": "stdout",
          "text": [
            "Model: \"sequential_53\"\n",
            "_________________________________________________________________\n",
            " Layer (type)                Output Shape              Param #   \n",
            "=================================================================\n",
            " conv2d_523 (Conv2D)         (None, 128, 128, 8)       224       \n",
            "                                                                 \n",
            " conv2d_524 (Conv2D)         (None, 128, 128, 8)       584       \n",
            "                                                                 \n",
            " max_pooling2d_263 (MaxPooli  (None, 64, 64, 8)        0         \n",
            " ng2D)                                                           \n",
            "                                                                 \n",
            " conv2d_525 (Conv2D)         (None, 64, 64, 16)        1168      \n",
            "                                                                 \n",
            " conv2d_526 (Conv2D)         (None, 64, 64, 16)        2320      \n",
            "                                                                 \n",
            " max_pooling2d_264 (MaxPooli  (None, 32, 32, 16)       0         \n",
            " ng2D)                                                           \n",
            "                                                                 \n",
            " conv2d_527 (Conv2D)         (None, 32, 32, 32)        4640      \n",
            "                                                                 \n",
            " conv2d_528 (Conv2D)         (None, 32, 32, 32)        9248      \n",
            "                                                                 \n",
            " max_pooling2d_265 (MaxPooli  (None, 16, 16, 32)       0         \n",
            " ng2D)                                                           \n",
            "                                                                 \n",
            " conv2d_529 (Conv2D)         (None, 16, 16, 128)       36992     \n",
            "                                                                 \n",
            " conv2d_530 (Conv2D)         (None, 16, 16, 128)       147584    \n",
            "                                                                 \n",
            " max_pooling2d_266 (MaxPooli  (None, 8, 8, 128)        0         \n",
            " ng2D)                                                           \n",
            "                                                                 \n",
            " conv2d_531 (Conv2D)         (None, 8, 8, 512)         1638912   \n",
            "                                                                 \n",
            " conv2d_532 (Conv2D)         (None, 8, 8, 512)         6554112   \n",
            "                                                                 \n",
            " max_pooling2d_267 (MaxPooli  (None, 2, 2, 512)        0         \n",
            " ng2D)                                                           \n",
            "                                                                 \n",
            " flatten_53 (Flatten)        (None, 2048)              0         \n",
            "                                                                 \n",
            " dense_161 (Dense)           (None, 512)               1049088   \n",
            "                                                                 \n",
            " dropout_107 (Dropout)       (None, 512)               0         \n",
            "                                                                 \n",
            " dense_162 (Dense)           (None, 512)               262656    \n",
            "                                                                 \n",
            " dropout_108 (Dropout)       (None, 512)               0         \n",
            "                                                                 \n",
            " dense_163 (Dense)           (None, 10)                5130      \n",
            "                                                                 \n",
            "=================================================================\n",
            "Total params: 9,712,658\n",
            "Trainable params: 9,712,658\n",
            "Non-trainable params: 0\n",
            "_________________________________________________________________\n"
          ]
        }
      ]
    },
    {
      "cell_type": "code",
      "source": [
        "x_train.shape"
      ],
      "metadata": {
        "colab": {
          "base_uri": "https://localhost:8080/"
        },
        "id": "AkhvQL9vlySs",
        "outputId": "27bb5ef5-e7cc-4854-f9b7-37a987fa8a8a"
      },
      "execution_count": 420,
      "outputs": [
        {
          "output_type": "execute_result",
          "data": {
            "text/plain": [
              "(996, 128, 128, 3)"
            ]
          },
          "metadata": {},
          "execution_count": 420
        }
      ]
    },
    {
      "cell_type": "code",
      "source": [
        "y_train.shape"
      ],
      "metadata": {
        "colab": {
          "base_uri": "https://localhost:8080/"
        },
        "id": "f8YA8GNcl0EJ",
        "outputId": "4ef3af4b-d76c-42f1-d4a1-95341ce112f3"
      },
      "execution_count": 421,
      "outputs": [
        {
          "output_type": "execute_result",
          "data": {
            "text/plain": [
              "(996, 10)"
            ]
          },
          "metadata": {},
          "execution_count": 421
        }
      ]
    },
    {
      "cell_type": "code",
      "source": [
        "# Training\n",
        "batch_size= 16\n",
        "epochs= 80   \n",
        "\n",
        "model.compile(optimizer = Adam(), loss = 'categorical_crossentropy', metrics = ['accuracy'])\n",
        "train=model.fit(x_train,y_train,batch_size=batch_size,epochs=epochs,verbose=1)\n",
        "eval = model.evaluate(x_test, y_test)\n",
        "print('Test loss: ', eval[0])\n",
        "print('Test accuracy: ', eval[1])"
      ],
      "metadata": {
        "colab": {
          "base_uri": "https://localhost:8080/"
        },
        "id": "_yw-dLT9l1qR",
        "outputId": "2d62723a-bc6d-4147-99e7-e7f1191a5c41"
      },
      "execution_count": 455,
      "outputs": [
        {
          "output_type": "stream",
          "name": "stdout",
          "text": [
            "Epoch 1/80\n",
            "63/63 [==============================] - 4s 32ms/step - loss: 2.4014 - accuracy: 0.2490\n",
            "Epoch 2/80\n",
            "63/63 [==============================] - 2s 27ms/step - loss: 1.8444 - accuracy: 0.2992\n",
            "Epoch 3/80\n",
            "63/63 [==============================] - 2s 26ms/step - loss: 1.6363 - accuracy: 0.3404\n",
            "Epoch 4/80\n",
            "63/63 [==============================] - 2s 26ms/step - loss: 1.4911 - accuracy: 0.4147\n",
            "Epoch 5/80\n",
            "63/63 [==============================] - 2s 26ms/step - loss: 1.3307 - accuracy: 0.4940\n",
            "Epoch 6/80\n",
            "63/63 [==============================] - 2s 27ms/step - loss: 1.1728 - accuracy: 0.5653\n",
            "Epoch 7/80\n",
            "63/63 [==============================] - 2s 26ms/step - loss: 1.0047 - accuracy: 0.6265\n",
            "Epoch 8/80\n",
            "63/63 [==============================] - 2s 27ms/step - loss: 0.8517 - accuracy: 0.7048\n",
            "Epoch 9/80\n",
            "63/63 [==============================] - 2s 28ms/step - loss: 0.6759 - accuracy: 0.7530\n",
            "Epoch 10/80\n",
            "63/63 [==============================] - 2s 27ms/step - loss: 0.5331 - accuracy: 0.8002\n",
            "Epoch 11/80\n",
            "63/63 [==============================] - 2s 26ms/step - loss: 0.5939 - accuracy: 0.7871\n",
            "Epoch 12/80\n",
            "63/63 [==============================] - 2s 27ms/step - loss: 0.5706 - accuracy: 0.8153\n",
            "Epoch 13/80\n",
            "63/63 [==============================] - 2s 27ms/step - loss: 0.3977 - accuracy: 0.8574\n",
            "Epoch 14/80\n",
            "63/63 [==============================] - 2s 27ms/step - loss: 0.3898 - accuracy: 0.8655\n",
            "Epoch 15/80\n",
            "63/63 [==============================] - 2s 26ms/step - loss: 0.3093 - accuracy: 0.8946\n",
            "Epoch 16/80\n",
            "63/63 [==============================] - 2s 27ms/step - loss: 0.2480 - accuracy: 0.9177\n",
            "Epoch 17/80\n",
            "63/63 [==============================] - 2s 28ms/step - loss: 0.3165 - accuracy: 0.8936\n",
            "Epoch 18/80\n",
            "63/63 [==============================] - 2s 28ms/step - loss: 0.2957 - accuracy: 0.9016\n",
            "Epoch 19/80\n",
            "63/63 [==============================] - 2s 27ms/step - loss: 0.1431 - accuracy: 0.9508\n",
            "Epoch 20/80\n",
            "63/63 [==============================] - 2s 28ms/step - loss: 0.4443 - accuracy: 0.8855\n",
            "Epoch 21/80\n",
            "63/63 [==============================] - 2s 27ms/step - loss: 0.3173 - accuracy: 0.9177\n",
            "Epoch 22/80\n",
            "63/63 [==============================] - 2s 27ms/step - loss: 0.1222 - accuracy: 0.9548\n",
            "Epoch 23/80\n",
            "63/63 [==============================] - 2s 27ms/step - loss: 0.1210 - accuracy: 0.9558\n",
            "Epoch 24/80\n",
            "63/63 [==============================] - 2s 28ms/step - loss: 0.1991 - accuracy: 0.9307\n",
            "Epoch 25/80\n",
            "63/63 [==============================] - 2s 28ms/step - loss: 0.1006 - accuracy: 0.9689\n",
            "Epoch 26/80\n",
            "63/63 [==============================] - 2s 28ms/step - loss: 0.0523 - accuracy: 0.9829\n",
            "Epoch 27/80\n",
            "63/63 [==============================] - 2s 28ms/step - loss: 0.0167 - accuracy: 0.9940\n",
            "Epoch 28/80\n",
            "63/63 [==============================] - 2s 27ms/step - loss: 0.0234 - accuracy: 0.9940\n",
            "Epoch 29/80\n",
            "63/63 [==============================] - 2s 27ms/step - loss: 0.1364 - accuracy: 0.9709\n",
            "Epoch 30/80\n",
            "63/63 [==============================] - 2s 27ms/step - loss: 0.3226 - accuracy: 0.8986\n",
            "Epoch 31/80\n",
            "63/63 [==============================] - 2s 27ms/step - loss: 0.2253 - accuracy: 0.9388\n",
            "Epoch 32/80\n",
            "63/63 [==============================] - 2s 28ms/step - loss: 0.1029 - accuracy: 0.9709\n",
            "Epoch 33/80\n",
            "63/63 [==============================] - 2s 28ms/step - loss: 0.0190 - accuracy: 0.9940\n",
            "Epoch 34/80\n",
            "63/63 [==============================] - 2s 28ms/step - loss: 0.0475 - accuracy: 0.9859\n",
            "Epoch 35/80\n",
            "63/63 [==============================] - 2s 28ms/step - loss: 0.2440 - accuracy: 0.9237\n",
            "Epoch 36/80\n",
            "63/63 [==============================] - 2s 28ms/step - loss: 0.1268 - accuracy: 0.9558\n",
            "Epoch 37/80\n",
            "63/63 [==============================] - 2s 27ms/step - loss: 0.2265 - accuracy: 0.9367\n",
            "Epoch 38/80\n",
            "63/63 [==============================] - 2s 27ms/step - loss: 0.0397 - accuracy: 0.9910\n",
            "Epoch 39/80\n",
            "63/63 [==============================] - 2s 28ms/step - loss: 0.0373 - accuracy: 0.9930\n",
            "Epoch 40/80\n",
            "63/63 [==============================] - 2s 28ms/step - loss: 0.0307 - accuracy: 0.9930\n",
            "Epoch 41/80\n",
            "63/63 [==============================] - 2s 30ms/step - loss: 0.0301 - accuracy: 0.9900\n",
            "Epoch 42/80\n",
            "63/63 [==============================] - 2s 29ms/step - loss: 0.0241 - accuracy: 0.9930\n",
            "Epoch 43/80\n",
            "63/63 [==============================] - 2s 28ms/step - loss: 0.0110 - accuracy: 0.9960\n",
            "Epoch 44/80\n",
            "63/63 [==============================] - 2s 28ms/step - loss: 0.0153 - accuracy: 0.9960\n",
            "Epoch 45/80\n",
            "63/63 [==============================] - 2s 28ms/step - loss: 0.1304 - accuracy: 0.9719\n",
            "Epoch 46/80\n",
            "63/63 [==============================] - 2s 28ms/step - loss: 0.2078 - accuracy: 0.9448\n",
            "Epoch 47/80\n",
            "63/63 [==============================] - 2s 28ms/step - loss: 0.1634 - accuracy: 0.9568\n",
            "Epoch 48/80\n",
            "63/63 [==============================] - 2s 28ms/step - loss: 0.1300 - accuracy: 0.9649\n",
            "Epoch 49/80\n",
            "63/63 [==============================] - 2s 30ms/step - loss: 0.1008 - accuracy: 0.9769\n",
            "Epoch 50/80\n",
            "63/63 [==============================] - 2s 29ms/step - loss: 0.1289 - accuracy: 0.9719\n",
            "Epoch 51/80\n",
            "63/63 [==============================] - 2s 28ms/step - loss: 0.1230 - accuracy: 0.9729\n",
            "Epoch 52/80\n",
            "63/63 [==============================] - 2s 28ms/step - loss: 0.0631 - accuracy: 0.9829\n",
            "Epoch 53/80\n",
            "63/63 [==============================] - 2s 28ms/step - loss: 0.0090 - accuracy: 0.9980\n",
            "Epoch 54/80\n",
            "63/63 [==============================] - 2s 28ms/step - loss: 6.2330e-04 - accuracy: 1.0000\n",
            "Epoch 55/80\n",
            "63/63 [==============================] - 2s 28ms/step - loss: 2.2504e-04 - accuracy: 1.0000\n",
            "Epoch 56/80\n",
            "63/63 [==============================] - 2s 29ms/step - loss: 6.0602e-05 - accuracy: 1.0000\n",
            "Epoch 57/80\n",
            "63/63 [==============================] - 2s 30ms/step - loss: 1.4916e-05 - accuracy: 1.0000\n",
            "Epoch 58/80\n",
            "63/63 [==============================] - 2s 29ms/step - loss: 2.4147e-05 - accuracy: 1.0000\n",
            "Epoch 59/80\n",
            "63/63 [==============================] - 2s 28ms/step - loss: 1.3497e-05 - accuracy: 1.0000\n",
            "Epoch 60/80\n",
            "63/63 [==============================] - 2s 27ms/step - loss: 6.1965e-06 - accuracy: 1.0000\n",
            "Epoch 61/80\n",
            "63/63 [==============================] - 2s 27ms/step - loss: 3.3366e-06 - accuracy: 1.0000\n",
            "Epoch 62/80\n",
            "63/63 [==============================] - 2s 27ms/step - loss: 4.3951e-06 - accuracy: 1.0000\n",
            "Epoch 63/80\n",
            "63/63 [==============================] - 2s 28ms/step - loss: 2.7110e-06 - accuracy: 1.0000\n",
            "Epoch 64/80\n",
            "63/63 [==============================] - 2s 28ms/step - loss: 2.1990e-06 - accuracy: 1.0000\n",
            "Epoch 65/80\n",
            "63/63 [==============================] - 2s 28ms/step - loss: 4.3788e-06 - accuracy: 1.0000\n",
            "Epoch 66/80\n",
            "63/63 [==============================] - 2s 29ms/step - loss: 3.7980e-06 - accuracy: 1.0000\n",
            "Epoch 67/80\n",
            "63/63 [==============================] - 2s 27ms/step - loss: 3.7340e-05 - accuracy: 1.0000\n",
            "Epoch 68/80\n",
            "63/63 [==============================] - 2s 28ms/step - loss: 3.0113e-06 - accuracy: 1.0000\n",
            "Epoch 69/80\n",
            "63/63 [==============================] - 2s 28ms/step - loss: 3.7367e-06 - accuracy: 1.0000\n",
            "Epoch 70/80\n",
            "63/63 [==============================] - 2s 29ms/step - loss: 1.2168e-06 - accuracy: 1.0000\n",
            "Epoch 71/80\n",
            "63/63 [==============================] - 2s 28ms/step - loss: 1.4350e-06 - accuracy: 1.0000\n",
            "Epoch 72/80\n",
            "63/63 [==============================] - 2s 29ms/step - loss: 2.8866e-06 - accuracy: 1.0000\n",
            "Epoch 73/80\n",
            "63/63 [==============================] - 2s 29ms/step - loss: 6.7122e-06 - accuracy: 1.0000\n",
            "Epoch 74/80\n",
            "63/63 [==============================] - 2s 28ms/step - loss: 4.0990e-06 - accuracy: 1.0000\n",
            "Epoch 75/80\n",
            "63/63 [==============================] - 2s 28ms/step - loss: 3.3957e-06 - accuracy: 1.0000\n",
            "Epoch 76/80\n",
            "63/63 [==============================] - 2s 27ms/step - loss: 1.6735e-06 - accuracy: 1.0000\n",
            "Epoch 77/80\n",
            "63/63 [==============================] - 2s 28ms/step - loss: 2.0768e-06 - accuracy: 1.0000\n",
            "Epoch 78/80\n",
            "63/63 [==============================] - 2s 27ms/step - loss: 9.5028e-07 - accuracy: 1.0000\n",
            "Epoch 79/80\n",
            "63/63 [==============================] - 2s 28ms/step - loss: 1.7615e-06 - accuracy: 1.0000\n",
            "Epoch 80/80\n",
            "63/63 [==============================] - 2s 29ms/step - loss: 1.3167e-06 - accuracy: 1.0000\n",
            "8/8 [==============================] - 1s 46ms/step - loss: 1.3394 - accuracy: 0.8835\n",
            "Test loss:  1.3393728733062744\n",
            "Test accuracy:  0.8835341334342957\n"
          ]
        }
      ]
    },
    {
      "cell_type": "code",
      "source": [
        "test_loss, test_acc = model.evaluate(x_test, y_test)\n",
        "print(\"Accuracy:\", test_acc)\n",
        "print('Loss:', test_loss)"
      ],
      "metadata": {
        "colab": {
          "base_uri": "https://localhost:8080/"
        },
        "id": "Wtu6uksGl3Mj",
        "outputId": "76ce4d16-5481-4368-8412-d5d3545e9668"
      },
      "execution_count": 456,
      "outputs": [
        {
          "output_type": "stream",
          "name": "stdout",
          "text": [
            "8/8 [==============================] - 0s 19ms/step - loss: 1.3394 - accuracy: 0.8835\n",
            "Accuracy: 0.8835341334342957\n",
            "Loss: 1.3393728733062744\n"
          ]
        }
      ]
    },
    {
      "cell_type": "code",
      "source": [
        "accuracy = train.history['accuracy']\n",
        "loss = train.history['loss']\n",
        "epochs = range(len(accuracy))\n",
        "plt.plot(epochs, accuracy, 'bo', label = 'Training accuracy')\n",
        "plt.plot(epochs, loss, 'b', label = 'Traning loss')\n",
        "plt.show()"
      ],
      "metadata": {
        "colab": {
          "base_uri": "https://localhost:8080/",
          "height": 432
        },
        "id": "CfCxsXpwl48j",
        "outputId": "807a5b74-d007-4f78-87eb-0b838b14948e"
      },
      "execution_count": 457,
      "outputs": [
        {
          "output_type": "display_data",
          "data": {
            "text/plain": [
              "<Figure size 640x480 with 1 Axes>"
            ],
            "image/png": "[encoded data removed]"
          },
          "metadata": {}
        }
      ]
    },
    {
      "cell_type": "code",
      "source": [
        "#Save model\n",
        "model.save('/content/drive/MyDrive/AI -Trần Thảo Hưng -20146344/file model/MODEL3.h5')"
      ],
      "metadata": {
        "id": "cSLb0JqDl7lt"
      },
      "execution_count": 458,
      "outputs": []
    }
  ]
}