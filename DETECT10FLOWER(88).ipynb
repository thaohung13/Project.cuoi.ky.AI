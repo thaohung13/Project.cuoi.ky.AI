{
  "nbformat": 4,
  "nbformat_minor": 0,
  "metadata": {
    "colab": {
      "provenance": [],
      "gpuType": "T4",
      "include_colab_link": true
    },
    "kernelspec": {
      "name": "python3",
      "display_name": "Python 3"
    },
    "language_info": {
      "name": "python"
    },
    "gpuClass": "standard",
    "accelerator": "GPU"
  },
  "cells": [
    {
      "cell_type": "markdown",
      "metadata": {
        "id": "view-in-github",
        "colab_type": "text"
      },
      "source": [
        "<a href=\"https://colab.research.google.com/github/thaohung13/Project.cuoi.ky.AI/blob/main/DETECT10FLOWER(88).ipynb\" target=\"_parent\"><img src=\"https://colab.research.google.com/assets/colab-badge.svg\" alt=\"Open In Colab\"/></a>"
      ]
    },
    {
      "cell_type": "code",
      "execution_count": 335,
      "metadata": {
        "id": "dECoW6YblV-z"
      },
      "outputs": [],
      "source": [
        "from os import listdir\n",
        "from numpy import asarray, save\n",
        "from keras.utils import load_img\n",
        "from keras.utils import img_to_array\n",
        "import numpy as np\n",
        "from sklearn.model_selection import train_test_split\n",
        "from keras.datasets import cifar100\n",
        "import matplotlib.pyplot as plt\n",
        "from keras.layers import Dense, Dropout, Flatten, Conv2D, MaxPooling2D, Normalization\n",
        "from keras.models import Sequential, Model\n",
        "from keras import Input\n",
        "from keras.layers import LeakyReLU\n",
        "from keras.optimizers import Adam"
      ]
    },
    {
      "cell_type": "code",
      "source": [
        "from google.colab import drive\n",
        "drive.mount('/content/drive')"
      ],
      "metadata": {
        "colab": {
          "base_uri": "https://localhost:8080/"
        },
        "id": "U4XLAeBllbTr",
        "outputId": "0a53146e-9c01-4f0e-ee85-02b85208c0b4"
      },
      "execution_count": 336,
      "outputs": [
        {
          "output_type": "stream",
          "name": "stdout",
          "text": [
            "Drive already mounted at /content/drive; to attempt to forcibly remount, call drive.mount(\"/content/drive\", force_remount=True).\n"
          ]
        }
      ]
    },
    {
      "cell_type": "code",
      "source": [
        "from numpy import asarray\n",
        "\n",
        "folder = '/content/drive/MyDrive/AI -Trần Thảo Hưng -20146344/DATA2/'\n",
        "photos, labels = list(), list()\n",
        "for file in listdir(folder):\n",
        "  output = 0.0\n",
        "  if file.startswith('Hong'):\n",
        "    output = 0\n",
        "  if file.startswith('Su'):\n",
        "    output = 1\n",
        "  if file.startswith('Sen'):\n",
        "    output = 2\n",
        "  if file.startswith('Mai'):\n",
        "    output = 3\n",
        "  if file.startswith('PhongLuDo'):\n",
        "    output = 4\n",
        "  if file.startswith('HongMon'):\n",
        "    output = 5\n",
        "  if file.startswith('ThienDieu'):\n",
        "    output = 6\n",
        "  if file.startswith('CucVanTho'):\n",
        "    output = 7\n",
        "  if file.startswith('HuongDuong'):\n",
        "    output = 8\n",
        "  if file.startswith('DaUyenThao'):\n",
        "    output = 9\n",
        "  photo = load_img(folder + file, target_size=(128, 128))\n",
        "  photo = img_to_array(photo)\n",
        "  photos.append(photo)\n",
        "  labels.append(output)\n",
        "\n",
        "photos = asarray(photos)\n",
        "labels = asarray(labels)\n",
        "print(photos.shape, labels.shape)\n",
        "save('/content/drive/MyDrive/AI -Trần Thảo Hưng -20146344/model/FL_PHOTOS1', photos)\n",
        "save('/content/drive/MyDrive/AI -Trần Thảo Hưng -20146344/model/FL_LABELS1', labels)"
      ],
      "metadata": {
        "colab": {
          "base_uri": "https://localhost:8080/"
        },
        "id": "sNT-XeT4ldXZ",
        "outputId": "a24ad636-93d7-48ef-a8d7-f51a8fca9a36"
      },
      "execution_count": 337,
      "outputs": [
        {
          "output_type": "stream",
          "name": "stdout",
          "text": [
            "(1245, 128, 128, 3) (1245,)\n"
          ]
        }
      ]
    },
    {
      "cell_type": "code",
      "source": [
        "# Load images and labels\n",
        "from keras.utils import to_categorical #one hot encoding\n",
        "photos = np.load('/content/drive/MyDrive/AI -Trần Thảo Hưng -20146344/model/FL_PHOTOS1.npy')\n",
        "labels = np.load('/content/drive/MyDrive/AI -Trần Thảo Hưng -20146344/model/FL_LABELS1.npy')\n",
        "labels_one_hot = to_categorical(labels)\n",
        "x_train, x_test, y_train, y_test = train_test_split(photos, labels_one_hot, test_size = 0.2, random_state = 128)"
      ],
      "metadata": {
        "id": "lp7XL7SblsKl"
      },
      "execution_count": 360,
      "outputs": []
    },
    {
      "cell_type": "code",
      "source": [
        "model = Sequential()\n",
        "#Convolutional\n",
        "model.add(Conv2D(8, kernel_size= (3,3), activation= 'relu', input_shape = (128,128,3), padding= 'same'))\n",
        "model.add(Conv2D(8, kernel_size= (3,3), activation= 'relu', padding= 'same'))\n",
        "model.add(MaxPooling2D((2,2), padding= 'same'))\n",
        "\n",
        "model.add(Conv2D(16, kernel_size= (3,3), activation= 'relu', padding= 'same'))\n",
        "model.add(Conv2D(16, kernel_size= (3,3), activation= 'relu', padding= 'same'))\n",
        "model.add(MaxPooling2D((2,2), padding= 'same'))\n",
        "\n",
        "model.add(Conv2D(32, kernel_size= (3,3), activation= 'relu', padding= 'same'))\n",
        "model.add(Conv2D(32, kernel_size= (3,3), activation= 'relu', padding= 'same'))\n",
        "model.add(MaxPooling2D((2,2), padding= 'same'))\n",
        "\n",
        "model.add(Conv2D(64, kernel_size= (3,3), activation= 'relu', padding= 'same'))\n",
        "model.add(Conv2D(64, kernel_size= (3,3), activation= 'relu', padding= 'same'))\n",
        "model.add(MaxPooling2D((2,2), padding= 'same'))\n",
        "\n",
        "model.add(Conv2D(64, kernel_size= (2,2), activation= 'relu', padding= 'same'))\n",
        "model.add(Conv2D(64, kernel_size= (2,2), activation= 'relu', padding= 'same'))\n",
        "model.add(MaxPooling2D((2,2), padding= 'same'))\n",
        "\n",
        "# Fully connected layers\n",
        "model.add(Flatten())\n",
        "model.add(Dense(512, activation= 'relu'))\n",
        "model.add(Dropout(0.25))\n",
        "model.add(Dense(512, activation= 'relu'))\n",
        "model.add(Dropout(0.25))\n",
        "model.add(Dense(10, activation= 'softmax'))\n",
        "model.summary()"
      ],
      "metadata": {
        "colab": {
          "base_uri": "https://localhost:8080/"
        },
        "id": "N0JYyJhIlt-9",
        "outputId": "702506f7-f417-4e87-9950-7d207070a1c5"
      },
      "execution_count": 361,
      "outputs": [
        {
          "output_type": "stream",
          "name": "stdout",
          "text": [
            "Model: \"sequential_33\"\n",
            "_________________________________________________________________\n",
            " Layer (type)                Output Shape              Param #   \n",
            "=================================================================\n",
            " conv2d_330 (Conv2D)         (None, 128, 128, 8)       224       \n",
            "                                                                 \n",
            " conv2d_331 (Conv2D)         (None, 128, 128, 8)       584       \n",
            "                                                                 \n",
            " max_pooling2d_165 (MaxPooli  (None, 64, 64, 8)        0         \n",
            " ng2D)                                                           \n",
            "                                                                 \n",
            " conv2d_332 (Conv2D)         (None, 64, 64, 16)        1168      \n",
            "                                                                 \n",
            " conv2d_333 (Conv2D)         (None, 64, 64, 16)        2320      \n",
            "                                                                 \n",
            " max_pooling2d_166 (MaxPooli  (None, 32, 32, 16)       0         \n",
            " ng2D)                                                           \n",
            "                                                                 \n",
            " conv2d_334 (Conv2D)         (None, 32, 32, 32)        4640      \n",
            "                                                                 \n",
            " conv2d_335 (Conv2D)         (None, 32, 32, 32)        9248      \n",
            "                                                                 \n",
            " max_pooling2d_167 (MaxPooli  (None, 16, 16, 32)       0         \n",
            " ng2D)                                                           \n",
            "                                                                 \n",
            " conv2d_336 (Conv2D)         (None, 16, 16, 64)        18496     \n",
            "                                                                 \n",
            " conv2d_337 (Conv2D)         (None, 16, 16, 64)        36928     \n",
            "                                                                 \n",
            " max_pooling2d_168 (MaxPooli  (None, 8, 8, 64)         0         \n",
            " ng2D)                                                           \n",
            "                                                                 \n",
            " conv2d_338 (Conv2D)         (None, 8, 8, 64)          16448     \n",
            "                                                                 \n",
            " conv2d_339 (Conv2D)         (None, 8, 8, 64)          16448     \n",
            "                                                                 \n",
            " max_pooling2d_169 (MaxPooli  (None, 4, 4, 64)         0         \n",
            " ng2D)                                                           \n",
            "                                                                 \n",
            " flatten_33 (Flatten)        (None, 1024)              0         \n",
            "                                                                 \n",
            " dense_103 (Dense)           (None, 512)               524800    \n",
            "                                                                 \n",
            " dropout_70 (Dropout)        (None, 512)               0         \n",
            "                                                                 \n",
            " dense_104 (Dense)           (None, 512)               262656    \n",
            "                                                                 \n",
            " dropout_71 (Dropout)        (None, 512)               0         \n",
            "                                                                 \n",
            " dense_105 (Dense)           (None, 10)                5130      \n",
            "                                                                 \n",
            "=================================================================\n",
            "Total params: 899,090\n",
            "Trainable params: 899,090\n",
            "Non-trainable params: 0\n",
            "_________________________________________________________________\n"
          ]
        }
      ]
    },
    {
      "cell_type": "code",
      "source": [
        "x_train.shape"
      ],
      "metadata": {
        "colab": {
          "base_uri": "https://localhost:8080/"
        },
        "id": "AkhvQL9vlySs",
        "outputId": "d866fcba-bfaa-44d7-ba6c-acc771620784"
      },
      "execution_count": 362,
      "outputs": [
        {
          "output_type": "execute_result",
          "data": {
            "text/plain": [
              "(996, 128, 128, 3)"
            ]
          },
          "metadata": {},
          "execution_count": 362
        }
      ]
    },
    {
      "cell_type": "code",
      "source": [
        "y_train.shape"
      ],
      "metadata": {
        "colab": {
          "base_uri": "https://localhost:8080/"
        },
        "id": "f8YA8GNcl0EJ",
        "outputId": "ad73582d-91f4-4bc7-e14d-0e8035c186a4"
      },
      "execution_count": 363,
      "outputs": [
        {
          "output_type": "execute_result",
          "data": {
            "text/plain": [
              "(996, 10)"
            ]
          },
          "metadata": {},
          "execution_count": 363
        }
      ]
    },
    {
      "cell_type": "code",
      "source": [
        "# Training\n",
        "batch_size= 64\n",
        "epochs= 80   \n",
        "\n",
        "model.compile(optimizer = Adam(), loss = 'categorical_crossentropy', metrics = ['accuracy'])\n",
        "train=model.fit(x_train,y_train,batch_size=batch_size,epochs=epochs,verbose=1)\n",
        "eval = model.evaluate(x_test, y_test)\n",
        "print('Test loss: ', eval[0])\n",
        "print('Test accuracy: ', eval[1])"
      ],
      "metadata": {
        "colab": {
          "base_uri": "https://localhost:8080/"
        },
        "id": "_yw-dLT9l1qR",
        "outputId": "e0c36c5c-c125-46f6-f81c-530e38130105"
      },
      "execution_count": 364,
      "outputs": [
        {
          "output_type": "stream",
          "name": "stdout",
          "text": [
            "Epoch 1/80\n",
            "16/16 [==============================] - 1s 34ms/step - loss: 2.2366 - accuracy: 0.2590\n",
            "Epoch 2/80\n",
            "16/16 [==============================] - 0s 27ms/step - loss: 1.8865 - accuracy: 0.3062\n",
            "Epoch 3/80\n",
            "16/16 [==============================] - 0s 27ms/step - loss: 1.5931 - accuracy: 0.3594\n",
            "Epoch 4/80\n",
            "16/16 [==============================] - 0s 27ms/step - loss: 1.3253 - accuracy: 0.4849\n",
            "Epoch 5/80\n",
            "16/16 [==============================] - 0s 27ms/step - loss: 1.0406 - accuracy: 0.6074\n",
            "Epoch 6/80\n",
            "16/16 [==============================] - 0s 26ms/step - loss: 0.8671 - accuracy: 0.6747\n",
            "Epoch 7/80\n",
            "16/16 [==============================] - 0s 28ms/step - loss: 0.6886 - accuracy: 0.7329\n",
            "Epoch 8/80\n",
            "16/16 [==============================] - 0s 27ms/step - loss: 0.6215 - accuracy: 0.7691\n",
            "Epoch 9/80\n",
            "16/16 [==============================] - 0s 26ms/step - loss: 0.5375 - accuracy: 0.8102\n",
            "Epoch 10/80\n",
            "16/16 [==============================] - 0s 27ms/step - loss: 0.4012 - accuracy: 0.8504\n",
            "Epoch 11/80\n",
            "16/16 [==============================] - 0s 27ms/step - loss: 0.4417 - accuracy: 0.8424\n",
            "Epoch 12/80\n",
            "16/16 [==============================] - 0s 27ms/step - loss: 0.3160 - accuracy: 0.8876\n",
            "Epoch 13/80\n",
            "16/16 [==============================] - 0s 27ms/step - loss: 0.2308 - accuracy: 0.9207\n",
            "Epoch 14/80\n",
            "16/16 [==============================] - 0s 27ms/step - loss: 0.1999 - accuracy: 0.9277\n",
            "Epoch 15/80\n",
            "16/16 [==============================] - 0s 29ms/step - loss: 0.1711 - accuracy: 0.9438\n",
            "Epoch 16/80\n",
            "16/16 [==============================] - 0s 30ms/step - loss: 0.1652 - accuracy: 0.9498\n",
            "Epoch 17/80\n",
            "16/16 [==============================] - 0s 30ms/step - loss: 0.1335 - accuracy: 0.9518\n",
            "Epoch 18/80\n",
            "16/16 [==============================] - 1s 32ms/step - loss: 0.1149 - accuracy: 0.9639\n",
            "Epoch 19/80\n",
            "16/16 [==============================] - 0s 30ms/step - loss: 0.0818 - accuracy: 0.9659\n",
            "Epoch 20/80\n",
            "16/16 [==============================] - 0s 30ms/step - loss: 0.1207 - accuracy: 0.9558\n",
            "Epoch 21/80\n",
            "16/16 [==============================] - 0s 30ms/step - loss: 0.0563 - accuracy: 0.9859\n",
            "Epoch 22/80\n",
            "16/16 [==============================] - 0s 29ms/step - loss: 0.0538 - accuracy: 0.9829\n",
            "Epoch 23/80\n",
            "16/16 [==============================] - 0s 28ms/step - loss: 0.2046 - accuracy: 0.9428\n",
            "Epoch 24/80\n",
            "16/16 [==============================] - 0s 27ms/step - loss: 0.1194 - accuracy: 0.9608\n",
            "Epoch 25/80\n",
            "16/16 [==============================] - 0s 27ms/step - loss: 0.1118 - accuracy: 0.9689\n",
            "Epoch 26/80\n",
            "16/16 [==============================] - 0s 27ms/step - loss: 0.0303 - accuracy: 0.9910\n",
            "Epoch 27/80\n",
            "16/16 [==============================] - 0s 26ms/step - loss: 0.0208 - accuracy: 0.9960\n",
            "Epoch 28/80\n",
            "16/16 [==============================] - 0s 27ms/step - loss: 0.0157 - accuracy: 0.9940\n",
            "Epoch 29/80\n",
            "16/16 [==============================] - 0s 27ms/step - loss: 0.0060 - accuracy: 0.9990\n",
            "Epoch 30/80\n",
            "16/16 [==============================] - 0s 27ms/step - loss: 0.0131 - accuracy: 0.9960\n",
            "Epoch 31/80\n",
            "16/16 [==============================] - 0s 27ms/step - loss: 0.0140 - accuracy: 0.9930\n",
            "Epoch 32/80\n",
            "16/16 [==============================] - 0s 27ms/step - loss: 0.0139 - accuracy: 0.9930\n",
            "Epoch 33/80\n",
            "16/16 [==============================] - 0s 27ms/step - loss: 0.0662 - accuracy: 0.9719\n",
            "Epoch 34/80\n",
            "16/16 [==============================] - 0s 27ms/step - loss: 0.0767 - accuracy: 0.9699\n",
            "Epoch 35/80\n",
            "16/16 [==============================] - 0s 26ms/step - loss: 0.0333 - accuracy: 0.9900\n",
            "Epoch 36/80\n",
            "16/16 [==============================] - 0s 26ms/step - loss: 0.0481 - accuracy: 0.9819\n",
            "Epoch 37/80\n",
            "16/16 [==============================] - 0s 27ms/step - loss: 0.1649 - accuracy: 0.9488\n",
            "Epoch 38/80\n",
            "16/16 [==============================] - 0s 27ms/step - loss: 0.0574 - accuracy: 0.9789\n",
            "Epoch 39/80\n",
            "16/16 [==============================] - 0s 27ms/step - loss: 0.0234 - accuracy: 0.9930\n",
            "Epoch 40/80\n",
            "16/16 [==============================] - 0s 26ms/step - loss: 0.0099 - accuracy: 1.0000\n",
            "Epoch 41/80\n",
            "16/16 [==============================] - 0s 26ms/step - loss: 0.0055 - accuracy: 0.9990\n",
            "Epoch 42/80\n",
            "16/16 [==============================] - 0s 27ms/step - loss: 0.0101 - accuracy: 0.9980\n",
            "Epoch 43/80\n",
            "16/16 [==============================] - 0s 27ms/step - loss: 0.0049 - accuracy: 0.9990\n",
            "Epoch 44/80\n",
            "16/16 [==============================] - 0s 27ms/step - loss: 0.1904 - accuracy: 0.9458\n",
            "Epoch 45/80\n",
            "16/16 [==============================] - 0s 27ms/step - loss: 0.1959 - accuracy: 0.9357\n",
            "Epoch 46/80\n",
            "16/16 [==============================] - 0s 29ms/step - loss: 0.0366 - accuracy: 0.9880\n",
            "Epoch 47/80\n",
            "16/16 [==============================] - 0s 30ms/step - loss: 0.0217 - accuracy: 0.9930\n",
            "Epoch 48/80\n",
            "16/16 [==============================] - 1s 32ms/step - loss: 0.0166 - accuracy: 0.9960\n",
            "Epoch 49/80\n",
            "16/16 [==============================] - 1s 33ms/step - loss: 0.0051 - accuracy: 0.9990\n",
            "Epoch 50/80\n",
            "16/16 [==============================] - 1s 32ms/step - loss: 0.0053 - accuracy: 0.9980\n",
            "Epoch 51/80\n",
            "16/16 [==============================] - 1s 32ms/step - loss: 0.0132 - accuracy: 0.9950\n",
            "Epoch 52/80\n",
            "16/16 [==============================] - 1s 32ms/step - loss: 0.0761 - accuracy: 0.9809\n",
            "Epoch 53/80\n",
            "16/16 [==============================] - 1s 32ms/step - loss: 0.0436 - accuracy: 0.9900\n",
            "Epoch 54/80\n",
            "16/16 [==============================] - 1s 32ms/step - loss: 0.0157 - accuracy: 0.9950\n",
            "Epoch 55/80\n",
            "16/16 [==============================] - 1s 33ms/step - loss: 0.0038 - accuracy: 0.9990\n",
            "Epoch 56/80\n",
            "16/16 [==============================] - 0s 31ms/step - loss: 0.0017 - accuracy: 1.0000\n",
            "Epoch 57/80\n",
            "16/16 [==============================] - 1s 32ms/step - loss: 0.0020 - accuracy: 0.9990\n",
            "Epoch 58/80\n",
            "16/16 [==============================] - 0s 31ms/step - loss: 0.0042 - accuracy: 0.9980\n",
            "Epoch 59/80\n",
            "16/16 [==============================] - 0s 31ms/step - loss: 0.0034 - accuracy: 1.0000\n",
            "Epoch 60/80\n",
            "16/16 [==============================] - 0s 28ms/step - loss: 0.0011 - accuracy: 1.0000\n",
            "Epoch 61/80\n",
            "16/16 [==============================] - 0s 27ms/step - loss: 1.8564e-04 - accuracy: 1.0000\n",
            "Epoch 62/80\n",
            "16/16 [==============================] - 0s 27ms/step - loss: 5.1538e-04 - accuracy: 1.0000\n",
            "Epoch 63/80\n",
            "16/16 [==============================] - 0s 27ms/step - loss: 5.4707e-04 - accuracy: 1.0000\n",
            "Epoch 64/80\n",
            "16/16 [==============================] - 0s 27ms/step - loss: 3.7912e-04 - accuracy: 1.0000\n",
            "Epoch 65/80\n",
            "16/16 [==============================] - 0s 27ms/step - loss: 4.2712e-04 - accuracy: 1.0000\n",
            "Epoch 66/80\n",
            "16/16 [==============================] - 0s 27ms/step - loss: 7.3606e-05 - accuracy: 1.0000\n",
            "Epoch 67/80\n",
            "16/16 [==============================] - 0s 27ms/step - loss: 4.6793e-04 - accuracy: 1.0000\n",
            "Epoch 68/80\n",
            "16/16 [==============================] - 0s 28ms/step - loss: 2.7003e-04 - accuracy: 1.0000\n",
            "Epoch 69/80\n",
            "16/16 [==============================] - 0s 27ms/step - loss: 1.6226e-04 - accuracy: 1.0000\n",
            "Epoch 70/80\n",
            "16/16 [==============================] - 0s 26ms/step - loss: 7.7406e-05 - accuracy: 1.0000\n",
            "Epoch 71/80\n",
            "16/16 [==============================] - 0s 27ms/step - loss: 6.7727e-05 - accuracy: 1.0000\n",
            "Epoch 72/80\n",
            "16/16 [==============================] - 0s 27ms/step - loss: 2.9929e-05 - accuracy: 1.0000\n",
            "Epoch 73/80\n",
            "16/16 [==============================] - 0s 27ms/step - loss: 6.7250e-05 - accuracy: 1.0000\n",
            "Epoch 74/80\n",
            "16/16 [==============================] - 0s 27ms/step - loss: 6.7041e-05 - accuracy: 1.0000\n",
            "Epoch 75/80\n",
            "16/16 [==============================] - 0s 27ms/step - loss: 3.3656e-05 - accuracy: 1.0000\n",
            "Epoch 76/80\n",
            "16/16 [==============================] - 0s 27ms/step - loss: 2.1738e-05 - accuracy: 1.0000\n",
            "Epoch 77/80\n",
            "16/16 [==============================] - 0s 27ms/step - loss: 1.3149e-04 - accuracy: 1.0000\n",
            "Epoch 78/80\n",
            "16/16 [==============================] - 0s 27ms/step - loss: 1.0283e-04 - accuracy: 1.0000\n",
            "Epoch 79/80\n",
            "16/16 [==============================] - 0s 28ms/step - loss: 3.1157e-05 - accuracy: 1.0000\n",
            "Epoch 80/80\n",
            "16/16 [==============================] - 0s 27ms/step - loss: 6.8029e-05 - accuracy: 1.0000\n",
            "8/8 [==============================] - 0s 11ms/step - loss: 0.9927 - accuracy: 0.8755\n",
            "Test loss:  0.9927156567573547\n",
            "Test accuracy:  0.8755019903182983\n"
          ]
        }
      ]
    },
    {
      "cell_type": "code",
      "source": [
        "test_loss, test_acc = model.evaluate(x_test, y_test)\n",
        "print(\"Accuracy:\", test_acc)\n",
        "print('Loss:', test_loss)"
      ],
      "metadata": {
        "colab": {
          "base_uri": "https://localhost:8080/"
        },
        "id": "Wtu6uksGl3Mj",
        "outputId": "9137b151-26f5-429e-c8ba-8926c5eb1c38"
      },
      "execution_count": 365,
      "outputs": [
        {
          "output_type": "stream",
          "name": "stdout",
          "text": [
            "8/8 [==============================] - 0s 9ms/step - loss: 0.9927 - accuracy: 0.8755\n",
            "Accuracy: 0.8755019903182983\n",
            "Loss: 0.9927156567573547\n"
          ]
        }
      ]
    },
    {
      "cell_type": "code",
      "source": [
        "accuracy = train.history['accuracy']\n",
        "loss = train.history['loss']\n",
        "epochs = range(len(accuracy))\n",
        "plt.plot(epochs, accuracy, 'bo', label = 'Training accuracy')\n",
        "plt.plot(epochs, loss, 'b', label = 'Traning loss')\n",
        "plt.show()"
      ],
      "metadata": {
        "colab": {
          "base_uri": "https://localhost:8080/",
          "height": 430
        },
        "id": "CfCxsXpwl48j",
        "outputId": "1b0ca032-4dd1-45b7-ff67-648e3bed2260"
      },
      "execution_count": 366,
      "outputs": [
        {
          "output_type": "display_data",
          "data": {
            "text/plain": [
              "<Figure size 640x480 with 1 Axes>"
            ],
            "image/png": "[encoded data removed]"
          },
          "metadata": {}
        }
      ]
    },
    {
      "cell_type": "code",
      "source": [
        "#Save model\n",
        "model.save('/content/drive/MyDrive/AI -Trần Thảo Hưng -20146344/file model/MODEL1.h5')"
      ],
      "metadata": {
        "id": "cSLb0JqDl7lt"
      },
      "execution_count": 345,
      "outputs": []
    }
  ]
}