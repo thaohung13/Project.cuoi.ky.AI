{
  "nbformat": 4,
  "nbformat_minor": 0,
  "metadata": {
    "colab": {
      "provenance": [],
      "gpuType": "T4",
      "include_colab_link": true
    },
    "kernelspec": {
      "name": "python3",
      "display_name": "Python 3"
    },
    "language_info": {
      "name": "python"
    },
    "gpuClass": "standard",
    "accelerator": "GPU"
  },
  "cells": [
    {
      "cell_type": "markdown",
      "metadata": {
        "id": "view-in-github",
        "colab_type": "text"
      },
      "source": [
        "<a href=\"https://colab.research.google.com/github/thaohung13/Project.cuoi.ky.AI/blob/main/DETECT10FLOWER(86%2B).ipynb\" target=\"_parent\"><img src=\"https://colab.research.google.com/assets/colab-badge.svg\" alt=\"Open In Colab\"/></a>"
      ]
    },
    {
      "cell_type": "code",
      "execution_count": 258,
      "metadata": {
        "id": "dECoW6YblV-z"
      },
      "outputs": [],
      "source": [
        "from os import listdir\n",
        "from numpy import asarray, save\n",
        "from keras.utils import load_img\n",
        "from keras.utils import img_to_array\n",
        "import numpy as np\n",
        "from sklearn.model_selection import train_test_split\n",
        "from keras.datasets import cifar100\n",
        "import matplotlib.pyplot as plt\n",
        "from keras.layers import Dense, Dropout, Flatten, Conv2D, MaxPooling2D, Normalization\n",
        "from keras.models import Sequential, Model\n",
        "from keras import Input\n",
        "from keras.layers import LeakyReLU\n",
        "from keras.optimizers import Adam"
      ]
    },
    {
      "cell_type": "code",
      "source": [
        "from google.colab import drive\n",
        "drive.mount('/content/drive')"
      ],
      "metadata": {
        "colab": {
          "base_uri": "https://localhost:8080/"
        },
        "id": "U4XLAeBllbTr",
        "outputId": "5f01a774-5647-4254-ecd4-9ab24a23a846"
      },
      "execution_count": 259,
      "outputs": [
        {
          "output_type": "stream",
          "name": "stdout",
          "text": [
            "Drive already mounted at /content/drive; to attempt to forcibly remount, call drive.mount(\"/content/drive\", force_remount=True).\n"
          ]
        }
      ]
    },
    {
      "cell_type": "code",
      "source": [
        "from numpy import asarray\n",
        "\n",
        "folder = '/content/drive/MyDrive/AI -Trần Thảo Hưng -20146344/DATA2/'\n",
        "photos, labels = list(), list()\n",
        "for file in listdir(folder):\n",
        "  output = 0.0\n",
        "  if file.startswith('Hong'):\n",
        "    output = 0\n",
        "  if file.startswith('Su'):\n",
        "    output = 1\n",
        "  if file.startswith('Sen'):\n",
        "    output = 2\n",
        "  if file.startswith('Mai'):\n",
        "    output = 3\n",
        "  if file.startswith('PhongLuDo'):\n",
        "    output = 4\n",
        "  if file.startswith('HongMon'):\n",
        "    output = 5\n",
        "  if file.startswith('ThienDieu'):\n",
        "    output = 6\n",
        "  if file.startswith('CucVanTho'):\n",
        "    output = 7\n",
        "  if file.startswith('HuongDuong'):\n",
        "    output = 8\n",
        "  if file.startswith('DaUyenThao'):\n",
        "    output = 9\n",
        "  photo = load_img(folder + file, target_size=(128, 128))\n",
        "  photo = img_to_array(photo)\n",
        "  photos.append(photo)\n",
        "  labels.append(output)\n",
        "\n",
        "photos = asarray(photos)\n",
        "labels = asarray(labels)\n",
        "print(photos.shape, labels.shape)\n",
        "save('/content/drive/MyDrive/AI -Trần Thảo Hưng -20146344/model/FL_PHOTOS', photos)\n",
        "save('/content/drive/MyDrive/AI -Trần Thảo Hưng -20146344/model/FL_LABELS', labels)"
      ],
      "metadata": {
        "colab": {
          "base_uri": "https://localhost:8080/"
        },
        "id": "sNT-XeT4ldXZ",
        "outputId": "183749a3-3e99-493b-9566-1409e393d904"
      },
      "execution_count": 260,
      "outputs": [
        {
          "output_type": "stream",
          "name": "stdout",
          "text": [
            "(1245, 128, 128, 3) (1245,)\n"
          ]
        }
      ]
    },
    {
      "cell_type": "code",
      "source": [
        "# Load images and labels\n",
        "from keras.utils import to_categorical #one hot encoding\n",
        "photos = np.load('/content/drive/MyDrive/AI -Trần Thảo Hưng -20146344/model/FL_PHOTOS.npy')\n",
        "labels = np.load('/content/drive/MyDrive/AI -Trần Thảo Hưng -20146344/model/FL_LABELS.npy')\n",
        "labels_one_hot = to_categorical(labels)\n",
        "x_train, x_test, y_train, y_test = train_test_split(photos, labels_one_hot, test_size = 0.2, random_state = 128)"
      ],
      "metadata": {
        "id": "lp7XL7SblsKl"
      },
      "execution_count": 261,
      "outputs": []
    },
    {
      "cell_type": "code",
      "source": [
        "model = Sequential()\n",
        "#Convolutional\n",
        "model.add(Conv2D(8, kernel_size= (3,3), activation= 'relu', input_shape = (128,128,3), padding= 'same'))\n",
        "model.add(Conv2D(8, kernel_size= (3,3), activation= 'relu', padding= 'same'))\n",
        "model.add(MaxPooling2D((2,2), padding= 'same'))\n",
        "\n",
        "model.add(Conv2D(16, kernel_size= (3,3), activation= 'relu', padding= 'same'))\n",
        "model.add(Conv2D(16, kernel_size= (3,3), activation= 'relu', padding= 'same'))\n",
        "model.add(MaxPooling2D((2,2), padding= 'same'))\n",
        "\n",
        "model.add(Conv2D(32, kernel_size= (3,3), activation= 'relu', padding= 'same'))\n",
        "model.add(Conv2D(32, kernel_size= (3,3), activation= 'relu', padding= 'same'))\n",
        "model.add(MaxPooling2D((2,2), padding= 'same'))\n",
        "\n",
        "model.add(Conv2D(64, kernel_size= (3,3), activation= 'relu', padding= 'same'))\n",
        "model.add(Conv2D(64, kernel_size= (3,3), activation= 'relu', padding= 'same'))\n",
        "model.add(MaxPooling2D((2,2), padding= 'same'))\n",
        "\n",
        "model.add(Conv2D(64, kernel_size= (2,2), activation= 'relu', padding= 'same'))\n",
        "model.add(Conv2D(64, kernel_size= (2,2), activation= 'relu', padding= 'same'))\n",
        "model.add(MaxPooling2D((2,2), padding= 'same'))\n",
        "\n",
        "# Fully connected layers\n",
        "model.add(Flatten())\n",
        "model.add(Dense(512, activation= 'relu'))\n",
        "model.add(Dropout(0.25))\n",
        "model.add(Dense(512, activation= 'relu'))\n",
        "model.add(Dropout(0.25))\n",
        "model.add(Dense(10, activation= 'softmax'))\n",
        "model.summary()"
      ],
      "metadata": {
        "colab": {
          "base_uri": "https://localhost:8080/"
        },
        "id": "N0JYyJhIlt-9",
        "outputId": "6dfeb8ed-dd81-4a56-c51c-8b3044ba8d74"
      },
      "execution_count": 262,
      "outputs": [
        {
          "output_type": "stream",
          "name": "stdout",
          "text": [
            "Model: \"sequential_23\"\n",
            "_________________________________________________________________\n",
            " Layer (type)                Output Shape              Param #   \n",
            "=================================================================\n",
            " conv2d_230 (Conv2D)         (None, 128, 128, 8)       224       \n",
            "                                                                 \n",
            " conv2d_231 (Conv2D)         (None, 128, 128, 8)       584       \n",
            "                                                                 \n",
            " max_pooling2d_115 (MaxPooli  (None, 64, 64, 8)        0         \n",
            " ng2D)                                                           \n",
            "                                                                 \n",
            " conv2d_232 (Conv2D)         (None, 64, 64, 16)        1168      \n",
            "                                                                 \n",
            " conv2d_233 (Conv2D)         (None, 64, 64, 16)        2320      \n",
            "                                                                 \n",
            " max_pooling2d_116 (MaxPooli  (None, 32, 32, 16)       0         \n",
            " ng2D)                                                           \n",
            "                                                                 \n",
            " conv2d_234 (Conv2D)         (None, 32, 32, 32)        4640      \n",
            "                                                                 \n",
            " conv2d_235 (Conv2D)         (None, 32, 32, 32)        9248      \n",
            "                                                                 \n",
            " max_pooling2d_117 (MaxPooli  (None, 16, 16, 32)       0         \n",
            " ng2D)                                                           \n",
            "                                                                 \n",
            " conv2d_236 (Conv2D)         (None, 16, 16, 64)        18496     \n",
            "                                                                 \n",
            " conv2d_237 (Conv2D)         (None, 16, 16, 64)        36928     \n",
            "                                                                 \n",
            " max_pooling2d_118 (MaxPooli  (None, 8, 8, 64)         0         \n",
            " ng2D)                                                           \n",
            "                                                                 \n",
            " conv2d_238 (Conv2D)         (None, 8, 8, 64)          16448     \n",
            "                                                                 \n",
            " conv2d_239 (Conv2D)         (None, 8, 8, 64)          16448     \n",
            "                                                                 \n",
            " max_pooling2d_119 (MaxPooli  (None, 4, 4, 64)         0         \n",
            " ng2D)                                                           \n",
            "                                                                 \n",
            " flatten_23 (Flatten)        (None, 1024)              0         \n",
            "                                                                 \n",
            " dense_73 (Dense)            (None, 512)               524800    \n",
            "                                                                 \n",
            " dropout_50 (Dropout)        (None, 512)               0         \n",
            "                                                                 \n",
            " dense_74 (Dense)            (None, 512)               262656    \n",
            "                                                                 \n",
            " dropout_51 (Dropout)        (None, 512)               0         \n",
            "                                                                 \n",
            " dense_75 (Dense)            (None, 10)                5130      \n",
            "                                                                 \n",
            "=================================================================\n",
            "Total params: 899,090\n",
            "Trainable params: 899,090\n",
            "Non-trainable params: 0\n",
            "_________________________________________________________________\n"
          ]
        }
      ]
    },
    {
      "cell_type": "code",
      "source": [
        "x_train.shape"
      ],
      "metadata": {
        "colab": {
          "base_uri": "https://localhost:8080/"
        },
        "id": "AkhvQL9vlySs",
        "outputId": "6c26343f-3e89-440d-d75e-a521a2171c79"
      },
      "execution_count": 263,
      "outputs": [
        {
          "output_type": "execute_result",
          "data": {
            "text/plain": [
              "(996, 128, 128, 3)"
            ]
          },
          "metadata": {},
          "execution_count": 263
        }
      ]
    },
    {
      "cell_type": "code",
      "source": [
        "y_train.shape"
      ],
      "metadata": {
        "colab": {
          "base_uri": "https://localhost:8080/"
        },
        "id": "f8YA8GNcl0EJ",
        "outputId": "d31f64a2-1d26-43ee-f36f-bea74fb52d2d"
      },
      "execution_count": 264,
      "outputs": [
        {
          "output_type": "execute_result",
          "data": {
            "text/plain": [
              "(996, 10)"
            ]
          },
          "metadata": {},
          "execution_count": 264
        }
      ]
    },
    {
      "cell_type": "code",
      "source": [
        "# Training\n",
        "batch_size= 32\n",
        "epochs= 80   \n",
        "\n",
        "model.compile(optimizer = Adam(), loss = 'categorical_crossentropy', metrics = ['accuracy'])\n",
        "train=model.fit(x_train,y_train,batch_size=batch_size,epochs=epochs,verbose=1)\n",
        "eval = model.evaluate(x_test, y_test)\n",
        "print('Test loss: ', eval[0])\n",
        "print('Test accuracy: ', eval[1])"
      ],
      "metadata": {
        "colab": {
          "base_uri": "https://localhost:8080/"
        },
        "id": "_yw-dLT9l1qR",
        "outputId": "71438d5d-ae1b-4194-ed17-7c7188cabaee"
      },
      "execution_count": 265,
      "outputs": [
        {
          "output_type": "stream",
          "name": "stdout",
          "text": [
            "Epoch 1/80\n",
            "32/32 [==============================] - 2s 20ms/step - loss: 2.0864 - accuracy: 0.2620\n",
            "Epoch 2/80\n",
            "32/32 [==============================] - 1s 16ms/step - loss: 1.9234 - accuracy: 0.2741\n",
            "Epoch 3/80\n",
            "32/32 [==============================] - 1s 17ms/step - loss: 1.4990 - accuracy: 0.4207\n",
            "Epoch 4/80\n",
            "32/32 [==============================] - 1s 16ms/step - loss: 1.2049 - accuracy: 0.5432\n",
            "Epoch 5/80\n",
            "32/32 [==============================] - 1s 16ms/step - loss: 1.0566 - accuracy: 0.6145\n",
            "Epoch 6/80\n",
            "32/32 [==============================] - 1s 17ms/step - loss: 0.8274 - accuracy: 0.7098\n",
            "Epoch 7/80\n",
            "32/32 [==============================] - 1s 18ms/step - loss: 0.7343 - accuracy: 0.7219\n",
            "Epoch 8/80\n",
            "32/32 [==============================] - 1s 16ms/step - loss: 0.6360 - accuracy: 0.7811\n",
            "Epoch 9/80\n",
            "32/32 [==============================] - 1s 18ms/step - loss: 0.5397 - accuracy: 0.8163\n",
            "Epoch 10/80\n",
            "32/32 [==============================] - 1s 17ms/step - loss: 0.4364 - accuracy: 0.8454\n",
            "Epoch 11/80\n",
            "32/32 [==============================] - 1s 16ms/step - loss: 0.3945 - accuracy: 0.8735\n",
            "Epoch 12/80\n",
            "32/32 [==============================] - 0s 15ms/step - loss: 0.3513 - accuracy: 0.8775\n",
            "Epoch 13/80\n",
            "32/32 [==============================] - 1s 16ms/step - loss: 0.3989 - accuracy: 0.8665\n",
            "Epoch 14/80\n",
            "32/32 [==============================] - 1s 18ms/step - loss: 0.3461 - accuracy: 0.8695\n",
            "Epoch 15/80\n",
            "32/32 [==============================] - 1s 18ms/step - loss: 0.2105 - accuracy: 0.9247\n",
            "Epoch 16/80\n",
            "32/32 [==============================] - 1s 17ms/step - loss: 0.1425 - accuracy: 0.9528\n",
            "Epoch 17/80\n",
            "32/32 [==============================] - 1s 18ms/step - loss: 0.1208 - accuracy: 0.9548\n",
            "Epoch 18/80\n",
            "32/32 [==============================] - 1s 17ms/step - loss: 0.0754 - accuracy: 0.9769\n",
            "Epoch 19/80\n",
            "32/32 [==============================] - 1s 18ms/step - loss: 0.0738 - accuracy: 0.9759\n",
            "Epoch 20/80\n",
            "32/32 [==============================] - 1s 17ms/step - loss: 0.1930 - accuracy: 0.9367\n",
            "Epoch 21/80\n",
            "32/32 [==============================] - 0s 15ms/step - loss: 0.4610 - accuracy: 0.8594\n",
            "Epoch 22/80\n",
            "32/32 [==============================] - 0s 15ms/step - loss: 0.2230 - accuracy: 0.9337\n",
            "Epoch 23/80\n",
            "32/32 [==============================] - 1s 16ms/step - loss: 0.1986 - accuracy: 0.9448\n",
            "Epoch 24/80\n",
            "32/32 [==============================] - 0s 15ms/step - loss: 0.2133 - accuracy: 0.9347\n",
            "Epoch 25/80\n",
            "32/32 [==============================] - 0s 15ms/step - loss: 0.0975 - accuracy: 0.9699\n",
            "Epoch 26/80\n",
            "32/32 [==============================] - 1s 16ms/step - loss: 0.0979 - accuracy: 0.9739\n",
            "Epoch 27/80\n",
            "32/32 [==============================] - 1s 16ms/step - loss: 0.0674 - accuracy: 0.9729\n",
            "Epoch 28/80\n",
            "32/32 [==============================] - 0s 15ms/step - loss: 0.1157 - accuracy: 0.9669\n",
            "Epoch 29/80\n",
            "32/32 [==============================] - 1s 17ms/step - loss: 0.0393 - accuracy: 0.9910\n",
            "Epoch 30/80\n",
            "32/32 [==============================] - 1s 18ms/step - loss: 0.0161 - accuracy: 0.9950\n",
            "Epoch 31/80\n",
            "32/32 [==============================] - 1s 17ms/step - loss: 0.0087 - accuracy: 0.9960\n",
            "Epoch 32/80\n",
            "32/32 [==============================] - 1s 18ms/step - loss: 0.0320 - accuracy: 0.9910\n",
            "Epoch 33/80\n",
            "32/32 [==============================] - 1s 28ms/step - loss: 0.0220 - accuracy: 0.9950\n",
            "Epoch 34/80\n",
            "32/32 [==============================] - 1s 18ms/step - loss: 0.0249 - accuracy: 0.9930\n",
            "Epoch 35/80\n",
            "32/32 [==============================] - 1s 18ms/step - loss: 0.0523 - accuracy: 0.9859\n",
            "Epoch 36/80\n",
            "32/32 [==============================] - 1s 16ms/step - loss: 0.0842 - accuracy: 0.9759\n",
            "Epoch 37/80\n",
            "32/32 [==============================] - 1s 16ms/step - loss: 0.0339 - accuracy: 0.9839\n",
            "Epoch 38/80\n",
            "32/32 [==============================] - 0s 15ms/step - loss: 0.0559 - accuracy: 0.9799\n",
            "Epoch 39/80\n",
            "32/32 [==============================] - 1s 16ms/step - loss: 0.0884 - accuracy: 0.9699\n",
            "Epoch 40/80\n",
            "32/32 [==============================] - 0s 16ms/step - loss: 0.3878 - accuracy: 0.8886\n",
            "Epoch 41/80\n",
            "32/32 [==============================] - 1s 16ms/step - loss: 0.1156 - accuracy: 0.9629\n",
            "Epoch 42/80\n",
            "32/32 [==============================] - 0s 16ms/step - loss: 0.0261 - accuracy: 0.9910\n",
            "Epoch 43/80\n",
            "32/32 [==============================] - 1s 16ms/step - loss: 0.0163 - accuracy: 0.9950\n",
            "Epoch 44/80\n",
            "32/32 [==============================] - 0s 15ms/step - loss: 0.0103 - accuracy: 0.9970\n",
            "Epoch 45/80\n",
            "32/32 [==============================] - 0s 15ms/step - loss: 0.0214 - accuracy: 0.9920\n",
            "Epoch 46/80\n",
            "32/32 [==============================] - 0s 15ms/step - loss: 0.0365 - accuracy: 0.9880\n",
            "Epoch 47/80\n",
            "32/32 [==============================] - 1s 16ms/step - loss: 0.0384 - accuracy: 0.9890\n",
            "Epoch 48/80\n",
            "32/32 [==============================] - 1s 16ms/step - loss: 0.3099 - accuracy: 0.9207\n",
            "Epoch 49/80\n",
            "32/32 [==============================] - 1s 16ms/step - loss: 0.0414 - accuracy: 0.9890\n",
            "Epoch 50/80\n",
            "32/32 [==============================] - 1s 20ms/step - loss: 0.0119 - accuracy: 0.9990\n",
            "Epoch 51/80\n",
            "32/32 [==============================] - 1s 17ms/step - loss: 0.0029 - accuracy: 1.0000\n",
            "Epoch 52/80\n",
            "32/32 [==============================] - 0s 15ms/step - loss: 0.0032 - accuracy: 0.9990\n",
            "Epoch 53/80\n",
            "32/32 [==============================] - 0s 15ms/step - loss: 0.0166 - accuracy: 0.9980\n",
            "Epoch 54/80\n",
            "32/32 [==============================] - 0s 15ms/step - loss: 0.0081 - accuracy: 0.9980\n",
            "Epoch 55/80\n",
            "32/32 [==============================] - 1s 16ms/step - loss: 0.0022 - accuracy: 1.0000\n",
            "Epoch 56/80\n",
            "32/32 [==============================] - 1s 17ms/step - loss: 8.1890e-04 - accuracy: 1.0000\n",
            "Epoch 57/80\n",
            "32/32 [==============================] - 1s 18ms/step - loss: 6.1080e-04 - accuracy: 1.0000\n",
            "Epoch 58/80\n",
            "32/32 [==============================] - 1s 18ms/step - loss: 9.7172e-04 - accuracy: 1.0000\n",
            "Epoch 59/80\n",
            "32/32 [==============================] - 1s 17ms/step - loss: 0.0581 - accuracy: 0.9849\n",
            "Epoch 60/80\n",
            "32/32 [==============================] - 1s 17ms/step - loss: 0.0793 - accuracy: 0.9789\n",
            "Epoch 61/80\n",
            "32/32 [==============================] - 1s 18ms/step - loss: 0.1343 - accuracy: 0.9639\n",
            "Epoch 62/80\n",
            "32/32 [==============================] - 1s 19ms/step - loss: 0.0241 - accuracy: 0.9950\n",
            "Epoch 63/80\n",
            "32/32 [==============================] - 1s 17ms/step - loss: 0.0048 - accuracy: 0.9980\n",
            "Epoch 64/80\n",
            "32/32 [==============================] - 1s 16ms/step - loss: 0.0063 - accuracy: 0.9970\n",
            "Epoch 65/80\n",
            "32/32 [==============================] - 0s 16ms/step - loss: 0.0014 - accuracy: 1.0000\n",
            "Epoch 66/80\n",
            "32/32 [==============================] - 1s 16ms/step - loss: 4.9605e-04 - accuracy: 1.0000\n",
            "Epoch 67/80\n",
            "32/32 [==============================] - 0s 15ms/step - loss: 0.0066 - accuracy: 0.9980\n",
            "Epoch 68/80\n",
            "32/32 [==============================] - 1s 16ms/step - loss: 0.0190 - accuracy: 0.9950\n",
            "Epoch 69/80\n",
            "32/32 [==============================] - 1s 16ms/step - loss: 0.0238 - accuracy: 0.9920\n",
            "Epoch 70/80\n",
            "32/32 [==============================] - 1s 16ms/step - loss: 0.1010 - accuracy: 0.9659\n",
            "Epoch 71/80\n",
            "32/32 [==============================] - 1s 16ms/step - loss: 0.1510 - accuracy: 0.9588\n",
            "Epoch 72/80\n",
            "32/32 [==============================] - 1s 16ms/step - loss: 0.0691 - accuracy: 0.9789\n",
            "Epoch 73/80\n",
            "32/32 [==============================] - 1s 16ms/step - loss: 0.0188 - accuracy: 0.9950\n",
            "Epoch 74/80\n",
            "32/32 [==============================] - 1s 16ms/step - loss: 0.0141 - accuracy: 0.9960\n",
            "Epoch 75/80\n",
            "32/32 [==============================] - 0s 15ms/step - loss: 0.1281 - accuracy: 0.9699\n",
            "Epoch 76/80\n",
            "32/32 [==============================] - 1s 16ms/step - loss: 0.0596 - accuracy: 0.9799\n",
            "Epoch 77/80\n",
            "32/32 [==============================] - 0s 15ms/step - loss: 0.0243 - accuracy: 0.9920\n",
            "Epoch 78/80\n",
            "32/32 [==============================] - 0s 15ms/step - loss: 0.0075 - accuracy: 0.9980\n",
            "Epoch 79/80\n",
            "32/32 [==============================] - 1s 16ms/step - loss: 0.0019 - accuracy: 0.9990\n",
            "Epoch 80/80\n",
            "32/32 [==============================] - 1s 16ms/step - loss: 0.0151 - accuracy: 0.9970\n",
            "8/8 [==============================] - 0s 7ms/step - loss: 1.0348 - accuracy: 0.8635\n",
            "Test loss:  1.0347580909729004\n",
            "Test accuracy:  0.8634538054466248\n"
          ]
        }
      ]
    },
    {
      "cell_type": "code",
      "source": [
        "test_loss, test_acc = model.evaluate(x_test, y_test)\n",
        "print(\"Accuracy:\", test_acc)\n",
        "print('Loss:', test_loss)"
      ],
      "metadata": {
        "colab": {
          "base_uri": "https://localhost:8080/"
        },
        "id": "Wtu6uksGl3Mj",
        "outputId": "317344c0-6679-40cb-c1af-08e7876ba71d"
      },
      "execution_count": 266,
      "outputs": [
        {
          "output_type": "stream",
          "name": "stdout",
          "text": [
            "8/8 [==============================] - 0s 7ms/step - loss: 1.0348 - accuracy: 0.8635\n",
            "Accuracy: 0.8634538054466248\n",
            "Loss: 1.0347580909729004\n"
          ]
        }
      ]
    },
    {
      "cell_type": "code",
      "source": [
        "accuracy = train.history['accuracy']\n",
        "loss = train.history['loss']\n",
        "epochs = range(len(accuracy))\n",
        "plt.plot(epochs, accuracy, 'bo', label = 'Training accuracy')\n",
        "plt.plot(epochs, loss, 'b', label = 'Traning loss')\n",
        "plt.show()"
      ],
      "metadata": {
        "colab": {
          "base_uri": "https://localhost:8080/",
          "height": 430
        },
        "id": "CfCxsXpwl48j",
        "outputId": "7116bd56-9c35-4a9a-b59f-714a0f8fe570"
      },
      "execution_count": 267,
      "outputs": [
        {
          "output_type": "display_data",
          "data": {
            "text/plain": [
              "<Figure size 640x480 with 1 Axes>"
            ],
            "image/png": "[encoded data removed]"
          },
          "metadata": {}
        }
      ]
    },
    {
      "cell_type": "code",
      "source": [
        "#Save model\n",
        "model.save('/content/drive/MyDrive/AI -Trần Thảo Hưng -20146344/file model/MODEL.h5')"
      ],
      "metadata": {
        "id": "cSLb0JqDl7lt"
      },
      "execution_count": 268,
      "outputs": []
    }
  ]
}