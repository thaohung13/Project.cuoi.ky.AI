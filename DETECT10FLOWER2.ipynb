{
  "nbformat": 4,
  "nbformat_minor": 0,
  "metadata": {
    "colab": {
      "provenance": [],
      "gpuType": "T4",
      "include_colab_link": true
    },
    "kernelspec": {
      "name": "python3",
      "display_name": "Python 3"
    },
    "language_info": {
      "name": "python"
    },
    "gpuClass": "standard"
  },
  "cells": [
    {
      "cell_type": "markdown",
      "metadata": {
        "id": "view-in-github",
        "colab_type": "text"
      },
      "source": [
        "<a href=\"https://colab.research.google.com/github/thaohung13/Project.cuoi.ky.AI/blob/main/DETECT10FLOWER2.ipynb\" target=\"_parent\"><img src=\"https://colab.research.google.com/assets/colab-badge.svg\" alt=\"Open In Colab\"/></a>"
      ]
    },
    {
      "cell_type": "code",
      "execution_count": 13,
      "metadata": {
        "id": "dECoW6YblV-z"
      },
      "outputs": [],
      "source": [
        "from os import listdir\n",
        "from numpy import asarray, save\n",
        "from keras.utils import load_img\n",
        "from keras.utils import img_to_array\n",
        "import numpy as np\n",
        "from sklearn.model_selection import train_test_split\n",
        "from keras.datasets import cifar100\n",
        "import matplotlib.pyplot as plt\n",
        "from keras.layers import Dense, Dropout, Flatten, Conv2D, MaxPooling2D, Normalization\n",
        "from keras.models import Sequential, Model\n",
        "from keras import Input\n",
        "from keras.layers import LeakyReLU\n",
        "from keras.optimizers import Adam"
      ]
    },
    {
      "cell_type": "code",
      "source": [
        "from google.colab import drive\n",
        "drive.mount('/content/drive')"
      ],
      "metadata": {
        "colab": {
          "base_uri": "https://localhost:8080/"
        },
        "id": "U4XLAeBllbTr",
        "outputId": "ce801846-66b5-487b-e23c-b7a9e0503bf9"
      },
      "execution_count": 14,
      "outputs": [
        {
          "output_type": "stream",
          "name": "stdout",
          "text": [
            "Drive already mounted at /content/drive; to attempt to forcibly remount, call drive.mount(\"/content/drive\", force_remount=True).\n"
          ]
        }
      ]
    },
    {
      "cell_type": "code",
      "source": [
        "from numpy import asarray\n",
        "\n",
        "folder = '/content/drive/MyDrive/AI -Trần Thảo Hưng -20146344/DATA2/'\n",
        "photos, labels = list(), list()\n",
        "for file in listdir(folder):\n",
        "  output = 0.0\n",
        "  if file.startswith('Hong'):\n",
        "    output = 0\n",
        "  if file.startswith('Su'):\n",
        "    output = 1\n",
        "  if file.startswith('Sen'):\n",
        "    output = 2\n",
        "  if file.startswith('Mai'):\n",
        "    output = 3\n",
        "  if file.startswith('HaiDuong'):\n",
        "    output = 4\n",
        "  if file.startswith('HongMon'):\n",
        "    output = 5\n",
        "  if file.startswith('ThienDieu'):\n",
        "    output = 6\n",
        "  if file.startswith('CucVanTho'):\n",
        "    output = 7\n",
        "  if file.startswith('HuongDuong'):\n",
        "    output = 8\n",
        "  if file.startswith('DaUyenThao'):\n",
        "    output = 9\n",
        "  photo = load_img(folder + file, target_size=(128, 128))\n",
        "  photo = img_to_array(photo)\n",
        "  photos.append(photo)\n",
        "  labels.append(output)\n",
        "\n",
        "photos = asarray(photos)\n",
        "labels = asarray(labels)\n",
        "print(photos.shape, labels.shape)\n",
        "save('/content/drive/MyDrive/AI -Trần Thảo Hưng -20146344/model/HOA_PHOTOS2', photos)\n",
        "save('/content/drive/MyDrive/AI -Trần Thảo Hưng -20146344/model/HOA_LABELS2', labels)"
      ],
      "metadata": {
        "colab": {
          "base_uri": "https://localhost:8080/"
        },
        "id": "sNT-XeT4ldXZ",
        "outputId": "b96486ad-fca3-4e83-d3b4-d5b207a51187"
      },
      "execution_count": 15,
      "outputs": [
        {
          "output_type": "stream",
          "name": "stdout",
          "text": [
            "(1245, 128, 128, 3) (1245,)\n"
          ]
        }
      ]
    },
    {
      "cell_type": "code",
      "source": [
        "# Load images and labels\n",
        "from keras.utils import to_categorical #one hot encoding\n",
        "photos = np.load('/content/drive/MyDrive/AI -Trần Thảo Hưng -20146344/model/HOA_PHOTOS2.npy')\n",
        "labels = np.load('/content/drive/MyDrive/AI -Trần Thảo Hưng -20146344/model/HOA_LABELS2.npy')\n",
        "labels_one_hot = to_categorical(labels)\n",
        "x_train, x_test, y_train, y_test = train_test_split(photos, labels_one_hot, test_size = 0.2, random_state = 128)"
      ],
      "metadata": {
        "id": "lp7XL7SblsKl"
      },
      "execution_count": 16,
      "outputs": []
    },
    {
      "cell_type": "code",
      "source": [
        "model = Sequential()\n",
        "#Convolutional\n",
        "model.add(Conv2D(8, kernel_size= (3,3), activation= 'relu', input_shape = (128,128,3), padding= 'same'))\n",
        "model.add(MaxPooling2D((2,2), padding= 'same'))\n",
        "\n",
        "model.add(Conv2D(16, kernel_size= (3,3), activation= 'relu', padding= 'same'))\n",
        "model.add(MaxPooling2D((2,2), padding= 'same'))\n",
        "\n",
        "model.add(Conv2D(32, kernel_size= (3,3), activation= 'relu', padding= 'same'))\n",
        "model.add(MaxPooling2D((2,2), padding= 'same'))\n",
        "\n",
        "model.add(Conv2D(64, kernel_size= (3,3), activation= 'relu', padding= 'same'))\n",
        "model.add(MaxPooling2D((2,2), padding= 'same'))\n",
        "\n",
        "model.add(Conv2D(128, kernel_size= (3,3), activation= 'relu', padding= 'same'))\n",
        "model.add(MaxPooling2D((2,2), padding = 'same'))\n",
        "\n",
        "model.add(Conv2D(256, kernel_size= (3,3), activation= 'relu', padding= 'same'))\n",
        "model.add(MaxPooling2D((2,2), padding = 'same'))\n",
        "\n",
        "model.add(Conv2D(512, kernel_size= (3,3), activation= 'relu', padding= 'same'))\n",
        "model.add(MaxPooling2D((2,2), padding = 'same'))\n",
        "\n",
        "model.add(Conv2D(1024, kernel_size= (3,3), activation= 'relu', padding= 'same'))\n",
        "model.add(MaxPooling2D((2,2), padding = 'same'))\n",
        "\n",
        "# Fully connected layers\n",
        "model.add(Flatten())\n",
        "model.add(Dense(512, activation= 'relu'))\n",
        "model.add(Dropout(0.5))\n",
        "model.add(Dense(512, activation= 'relu'))\n",
        "model.add(Dropout(0.5))\n",
        "model.add(Dense(512, activation= 'relu'))\n",
        "model.add(Dropout(0.5))\n",
        "model.add(Dense(512, activation= 'relu'))\n",
        "model.add(Dropout(0.5))\n",
        "model.add(Dense(10, activation= 'softmax'))\n",
        "model.summary()"
      ],
      "metadata": {
        "colab": {
          "base_uri": "https://localhost:8080/"
        },
        "id": "N0JYyJhIlt-9",
        "outputId": "bcc83b56-9ddf-4163-fc99-2754d94e68f7"
      },
      "execution_count": 17,
      "outputs": [
        {
          "output_type": "stream",
          "name": "stdout",
          "text": [
            "Model: \"sequential_1\"\n",
            "_________________________________________________________________\n",
            " Layer (type)                Output Shape              Param #   \n",
            "=================================================================\n",
            " conv2d_10 (Conv2D)          (None, 128, 128, 8)       224       \n",
            "                                                                 \n",
            " max_pooling2d_6 (MaxPooling  (None, 64, 64, 8)        0         \n",
            " 2D)                                                             \n",
            "                                                                 \n",
            " conv2d_11 (Conv2D)          (None, 64, 64, 16)        1168      \n",
            "                                                                 \n",
            " max_pooling2d_7 (MaxPooling  (None, 32, 32, 16)       0         \n",
            " 2D)                                                             \n",
            "                                                                 \n",
            " conv2d_12 (Conv2D)          (None, 32, 32, 32)        4640      \n",
            "                                                                 \n",
            " max_pooling2d_8 (MaxPooling  (None, 16, 16, 32)       0         \n",
            " 2D)                                                             \n",
            "                                                                 \n",
            " conv2d_13 (Conv2D)          (None, 16, 16, 64)        18496     \n",
            "                                                                 \n",
            " max_pooling2d_9 (MaxPooling  (None, 8, 8, 64)         0         \n",
            " 2D)                                                             \n",
            "                                                                 \n",
            " conv2d_14 (Conv2D)          (None, 8, 8, 128)         73856     \n",
            "                                                                 \n",
            " max_pooling2d_10 (MaxPoolin  (None, 4, 4, 128)        0         \n",
            " g2D)                                                            \n",
            "                                                                 \n",
            " conv2d_15 (Conv2D)          (None, 4, 4, 256)         295168    \n",
            "                                                                 \n",
            " max_pooling2d_11 (MaxPoolin  (None, 2, 2, 256)        0         \n",
            " g2D)                                                            \n",
            "                                                                 \n",
            " conv2d_16 (Conv2D)          (None, 2, 2, 512)         1180160   \n",
            "                                                                 \n",
            " max_pooling2d_12 (MaxPoolin  (None, 1, 1, 512)        0         \n",
            " g2D)                                                            \n",
            "                                                                 \n",
            " conv2d_17 (Conv2D)          (None, 1, 1, 1024)        4719616   \n",
            "                                                                 \n",
            " max_pooling2d_13 (MaxPoolin  (None, 1, 1, 1024)       0         \n",
            " g2D)                                                            \n",
            "                                                                 \n",
            " flatten_1 (Flatten)         (None, 1024)              0         \n",
            "                                                                 \n",
            " dense_3 (Dense)             (None, 512)               524800    \n",
            "                                                                 \n",
            " dropout_2 (Dropout)         (None, 512)               0         \n",
            "                                                                 \n",
            " dense_4 (Dense)             (None, 512)               262656    \n",
            "                                                                 \n",
            " dropout_3 (Dropout)         (None, 512)               0         \n",
            "                                                                 \n",
            " dense_5 (Dense)             (None, 10)                5130      \n",
            "                                                                 \n",
            "=================================================================\n",
            "Total params: 7,085,914\n",
            "Trainable params: 7,085,914\n",
            "Non-trainable params: 0\n",
            "_________________________________________________________________\n"
          ]
        }
      ]
    },
    {
      "cell_type": "code",
      "source": [
        "x_train.shape"
      ],
      "metadata": {
        "colab": {
          "base_uri": "https://localhost:8080/"
        },
        "id": "AkhvQL9vlySs",
        "outputId": "39ce1d40-4d78-485b-c5e9-6b6c97225ef7"
      },
      "execution_count": 18,
      "outputs": [
        {
          "output_type": "execute_result",
          "data": {
            "text/plain": [
              "(996, 128, 128, 3)"
            ]
          },
          "metadata": {},
          "execution_count": 18
        }
      ]
    },
    {
      "cell_type": "code",
      "source": [
        "y_train.shape"
      ],
      "metadata": {
        "colab": {
          "base_uri": "https://localhost:8080/"
        },
        "id": "f8YA8GNcl0EJ",
        "outputId": "3ef55a31-ba75-4003-8d45-0a6f8d29b69d"
      },
      "execution_count": 19,
      "outputs": [
        {
          "output_type": "execute_result",
          "data": {
            "text/plain": [
              "(996, 10)"
            ]
          },
          "metadata": {},
          "execution_count": 19
        }
      ]
    },
    {
      "cell_type": "code",
      "source": [
        "# Training\n",
        "batch_size=64\n",
        "epochs=50   \n",
        "\n",
        "model.compile(optimizer = Adam(), loss = 'categorical_crossentropy', metrics = ['accuracy'])\n",
        "train=model.fit(x_train,y_train,batch_size=batch_size,epochs=epochs,verbose=1)\n",
        "eval = model.evaluate(x_test, y_test)\n",
        "print('Test loss: ', eval[0])\n",
        "print('Test accuracy: ', eval[1])"
      ],
      "metadata": {
        "colab": {
          "base_uri": "https://localhost:8080/"
        },
        "id": "_yw-dLT9l1qR",
        "outputId": "642c8dc4-97b4-41db-e3d9-acaf1a98a561"
      },
      "execution_count": 20,
      "outputs": [
        {
          "output_type": "stream",
          "name": "stdout",
          "text": [
            "Epoch 1/50\n",
            "16/16 [==============================] - 33s 2s/step - loss: 2.2472 - accuracy: 0.2400\n",
            "Epoch 2/50\n",
            "16/16 [==============================] - 30s 2s/step - loss: 2.0344 - accuracy: 0.2811\n",
            "Epoch 3/50\n",
            "16/16 [==============================] - 30s 2s/step - loss: 1.8202 - accuracy: 0.2942\n",
            "Epoch 4/50\n",
            "16/16 [==============================] - 30s 2s/step - loss: 1.5887 - accuracy: 0.3554\n",
            "Epoch 5/50\n",
            "16/16 [==============================] - 30s 2s/step - loss: 1.3504 - accuracy: 0.4659\n",
            "Epoch 6/50\n",
            "16/16 [==============================] - 33s 2s/step - loss: 1.1748 - accuracy: 0.5422\n",
            "Epoch 7/50\n",
            "16/16 [==============================] - 30s 2s/step - loss: 1.0739 - accuracy: 0.5572\n",
            "Epoch 8/50\n",
            "16/16 [==============================] - 30s 2s/step - loss: 0.8623 - accuracy: 0.6175\n",
            "Epoch 9/50\n",
            "16/16 [==============================] - 30s 2s/step - loss: 0.6760 - accuracy: 0.7229\n",
            "Epoch 10/50\n",
            "16/16 [==============================] - 30s 2s/step - loss: 0.7644 - accuracy: 0.7078\n",
            "Epoch 11/50\n",
            "16/16 [==============================] - 30s 2s/step - loss: 0.6442 - accuracy: 0.7450\n",
            "Epoch 12/50\n",
            "16/16 [==============================] - 31s 2s/step - loss: 0.4688 - accuracy: 0.8233\n",
            "Epoch 13/50\n",
            "16/16 [==============================] - 30s 2s/step - loss: 0.3800 - accuracy: 0.8534\n",
            "Epoch 14/50\n",
            "16/16 [==============================] - 30s 2s/step - loss: 0.2766 - accuracy: 0.8906\n",
            "Epoch 15/50\n",
            "16/16 [==============================] - 31s 2s/step - loss: 0.3548 - accuracy: 0.8655\n",
            "Epoch 16/50\n",
            "16/16 [==============================] - 30s 2s/step - loss: 0.3130 - accuracy: 0.8695\n",
            "Epoch 17/50\n",
            "16/16 [==============================] - 29s 2s/step - loss: 0.2610 - accuracy: 0.8916\n",
            "Epoch 18/50\n",
            "16/16 [==============================] - 29s 2s/step - loss: 0.2525 - accuracy: 0.9026\n",
            "Epoch 19/50\n",
            "16/16 [==============================] - 31s 2s/step - loss: 0.2549 - accuracy: 0.9106\n",
            "Epoch 20/50\n",
            "16/16 [==============================] - 30s 2s/step - loss: 0.2908 - accuracy: 0.8996\n",
            "Epoch 21/50\n",
            "16/16 [==============================] - 30s 2s/step - loss: 0.2101 - accuracy: 0.9267\n",
            "Epoch 22/50\n",
            "16/16 [==============================] - 30s 2s/step - loss: 0.2098 - accuracy: 0.9317\n",
            "Epoch 23/50\n",
            "16/16 [==============================] - 30s 2s/step - loss: 0.1955 - accuracy: 0.9207\n",
            "Epoch 24/50\n",
            "16/16 [==============================] - 31s 2s/step - loss: 0.1627 - accuracy: 0.9388\n",
            "Epoch 25/50\n",
            "16/16 [==============================] - 30s 2s/step - loss: 0.1711 - accuracy: 0.9297\n",
            "Epoch 26/50\n",
            "16/16 [==============================] - 30s 2s/step - loss: 0.1116 - accuracy: 0.9488\n",
            "Epoch 27/50\n",
            "16/16 [==============================] - 30s 2s/step - loss: 0.0777 - accuracy: 0.9629\n",
            "Epoch 28/50\n",
            "16/16 [==============================] - 30s 2s/step - loss: 0.0852 - accuracy: 0.9709\n",
            "Epoch 29/50\n",
            "16/16 [==============================] - 30s 2s/step - loss: 0.0504 - accuracy: 0.9779\n",
            "Epoch 30/50\n",
            "16/16 [==============================] - 30s 2s/step - loss: 0.0991 - accuracy: 0.9719\n",
            "Epoch 31/50\n",
            "16/16 [==============================] - 30s 2s/step - loss: 0.1092 - accuracy: 0.9719\n",
            "Epoch 32/50\n",
            "16/16 [==============================] - 30s 2s/step - loss: 0.0759 - accuracy: 0.9779\n",
            "Epoch 33/50\n",
            "16/16 [==============================] - 31s 2s/step - loss: 0.0464 - accuracy: 0.9880\n",
            "Epoch 34/50\n",
            "16/16 [==============================] - 30s 2s/step - loss: 0.0393 - accuracy: 0.9900\n",
            "Epoch 35/50\n",
            "16/16 [==============================] - 30s 2s/step - loss: 0.0543 - accuracy: 0.9859\n",
            "Epoch 36/50\n",
            "16/16 [==============================] - 30s 2s/step - loss: 0.1092 - accuracy: 0.9809\n",
            "Epoch 37/50\n",
            "16/16 [==============================] - 30s 2s/step - loss: 0.0872 - accuracy: 0.9829\n",
            "Epoch 38/50\n",
            "16/16 [==============================] - 30s 2s/step - loss: 0.0696 - accuracy: 0.9799\n",
            "Epoch 39/50\n",
            "16/16 [==============================] - 30s 2s/step - loss: 0.1863 - accuracy: 0.9508\n",
            "Epoch 40/50\n",
            "16/16 [==============================] - 30s 2s/step - loss: 0.0547 - accuracy: 0.9890\n",
            "Epoch 41/50\n",
            "16/16 [==============================] - 30s 2s/step - loss: 0.0901 - accuracy: 0.9779\n",
            "Epoch 42/50\n",
            "16/16 [==============================] - 32s 2s/step - loss: 0.2146 - accuracy: 0.9488\n",
            "Epoch 43/50\n",
            "16/16 [==============================] - 30s 2s/step - loss: 0.1022 - accuracy: 0.9739\n",
            "Epoch 44/50\n",
            "16/16 [==============================] - 30s 2s/step - loss: 0.0447 - accuracy: 0.9849\n",
            "Epoch 45/50\n",
            "16/16 [==============================] - 30s 2s/step - loss: 0.0659 - accuracy: 0.9839\n",
            "Epoch 46/50\n",
            "16/16 [==============================] - 30s 2s/step - loss: 0.0825 - accuracy: 0.9759\n",
            "Epoch 47/50\n",
            "16/16 [==============================] - 30s 2s/step - loss: 0.0705 - accuracy: 0.9799\n",
            "Epoch 48/50\n",
            "16/16 [==============================] - 30s 2s/step - loss: 0.1168 - accuracy: 0.9729\n",
            "Epoch 49/50\n",
            "16/16 [==============================] - 30s 2s/step - loss: 0.1329 - accuracy: 0.9639\n",
            "Epoch 50/50\n",
            "16/16 [==============================] - 30s 2s/step - loss: 0.0553 - accuracy: 0.9839\n",
            "8/8 [==============================] - 1s 121ms/step - loss: 1.1093 - accuracy: 0.7912\n",
            "Test loss:  1.1093298196792603\n",
            "Test accuracy:  0.7911646366119385\n"
          ]
        }
      ]
    },
    {
      "cell_type": "code",
      "source": [
        "test_loss, test_acc = model.evaluate(x_test, y_test)\n",
        "print(\"Accuracy:\", test_acc)\n",
        "print('Loss:', test_loss)"
      ],
      "metadata": {
        "colab": {
          "base_uri": "https://localhost:8080/"
        },
        "id": "Wtu6uksGl3Mj",
        "outputId": "dac3568d-00aa-4f98-f581-ec327529f425"
      },
      "execution_count": 21,
      "outputs": [
        {
          "output_type": "stream",
          "name": "stdout",
          "text": [
            "8/8 [==============================] - 1s 122ms/step - loss: 1.1093 - accuracy: 0.7912\n",
            "Accuracy: 0.7911646366119385\n",
            "Loss: 1.1093298196792603\n"
          ]
        }
      ]
    },
    {
      "cell_type": "code",
      "source": [
        "accuracy = train.history['accuracy']\n",
        "loss = train.history['loss']\n",
        "epochs = range(len(accuracy))\n",
        "plt.plot(epochs, accuracy, 'bo', label = 'Training accuracy')\n",
        "plt.plot(epochs, loss, 'b', label = 'Traning loss')\n",
        "plt.show()"
      ],
      "metadata": {
        "colab": {
          "base_uri": "https://localhost:8080/",
          "height": 430
        },
        "id": "CfCxsXpwl48j",
        "outputId": "c8fb98d7-b1f9-496a-e62b-1fbc7451b25a"
      },
      "execution_count": 22,
      "outputs": [
        {
          "output_type": "display_data",
          "data": {
            "text/plain": [
              "<Figure size 640x480 with 1 Axes>"
            ],
            "image/png": "[encoded data removed]"
          },
          "metadata": {}
        }
      ]
    },
    {
      "cell_type": "code",
      "source": [
        "#Save model\n",
        "model.save('/content/drive/MyDrive/Colab Notebooks/FLOWER/MODEL_FLOWER1.h5')"
      ],
      "metadata": {
        "id": "cSLb0JqDl7lt"
      },
      "execution_count": 23,
      "outputs": []
    }
  ]
}