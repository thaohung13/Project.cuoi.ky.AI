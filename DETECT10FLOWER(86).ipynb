{
  "nbformat": 4,
  "nbformat_minor": 0,
  "metadata": {
    "colab": {
      "provenance": [],
      "gpuType": "T4",
      "include_colab_link": true
    },
    "kernelspec": {
      "name": "python3",
      "display_name": "Python 3"
    },
    "language_info": {
      "name": "python"
    },
    "gpuClass": "standard",
    "accelerator": "GPU"
  },
  "cells": [
    {
      "cell_type": "markdown",
      "metadata": {
        "id": "view-in-github",
        "colab_type": "text"
      },
      "source": [
        "<a href=\"https://colab.research.google.com/github/thaohung13/Project.cuoi.ky.AI/blob/main/DETECT10FLOWER(86).ipynb\" target=\"_parent\"><img src=\"https://colab.research.google.com/assets/colab-badge.svg\" alt=\"Open In Colab\"/></a>"
      ]
    },
    {
      "cell_type": "code",
      "execution_count": 246,
      "metadata": {
        "id": "dECoW6YblV-z"
      },
      "outputs": [],
      "source": [
        "from os import listdir\n",
        "from numpy import asarray, save\n",
        "from keras.utils import load_img\n",
        "from keras.utils import img_to_array\n",
        "import numpy as np\n",
        "from sklearn.model_selection import train_test_split\n",
        "from keras.datasets import cifar100\n",
        "import matplotlib.pyplot as plt\n",
        "from keras.layers import Dense, Dropout, Flatten, Conv2D, MaxPooling2D, Normalization\n",
        "from keras.models import Sequential, Model\n",
        "from keras import Input\n",
        "from keras.layers import LeakyReLU\n",
        "from keras.optimizers import Adam"
      ]
    },
    {
      "cell_type": "code",
      "source": [
        "from google.colab import drive\n",
        "drive.mount('/content/drive')"
      ],
      "metadata": {
        "colab": {
          "base_uri": "https://localhost:8080/"
        },
        "id": "U4XLAeBllbTr",
        "outputId": "07d20205-5b02-488e-f3f1-6ff72bbfe70d"
      },
      "execution_count": 247,
      "outputs": [
        {
          "output_type": "stream",
          "name": "stdout",
          "text": [
            "Drive already mounted at /content/drive; to attempt to forcibly remount, call drive.mount(\"/content/drive\", force_remount=True).\n"
          ]
        }
      ]
    },
    {
      "cell_type": "code",
      "source": [
        "from numpy import asarray\n",
        "\n",
        "folder = '/content/drive/MyDrive/AI -Trần Thảo Hưng -20146344/DATA2/'\n",
        "photos, labels = list(), list()\n",
        "for file in listdir(folder):\n",
        "  output = 0.0\n",
        "  if file.startswith('Hong'):\n",
        "    output = 0\n",
        "  if file.startswith('Su'):\n",
        "    output = 1\n",
        "  if file.startswith('Sen'):\n",
        "    output = 2\n",
        "  if file.startswith('Mai'):\n",
        "    output = 3\n",
        "  if file.startswith('HaiDuong'):\n",
        "    output = 4\n",
        "  if file.startswith('HongMon'):\n",
        "    output = 5\n",
        "  if file.startswith('ThienDieu'):\n",
        "    output = 6\n",
        "  if file.startswith('CucVanTho'):\n",
        "    output = 7\n",
        "  if file.startswith('HuongDuong'):\n",
        "    output = 8\n",
        "  if file.startswith('DaUyenThao'):\n",
        "    output = 9\n",
        "  photo = load_img(folder + file, target_size=(128, 128))\n",
        "  photo = img_to_array(photo)\n",
        "  photos.append(photo)\n",
        "  labels.append(output)\n",
        "\n",
        "photos = asarray(photos)\n",
        "labels = asarray(labels)\n",
        "print(photos.shape, labels.shape)\n",
        "save('/content/drive/MyDrive/AI -Trần Thảo Hưng -20146344/model/HOA_PHOTOS6', photos)\n",
        "save('/content/drive/MyDrive/AI -Trần Thảo Hưng -20146344/model/HOA_LABELS6', labels)"
      ],
      "metadata": {
        "colab": {
          "base_uri": "https://localhost:8080/"
        },
        "id": "sNT-XeT4ldXZ",
        "outputId": "2397dd6e-a872-4de9-aebf-cdd58e17b982"
      },
      "execution_count": 248,
      "outputs": [
        {
          "output_type": "stream",
          "name": "stdout",
          "text": [
            "(1245, 128, 128, 3) (1245,)\n"
          ]
        }
      ]
    },
    {
      "cell_type": "code",
      "source": [
        "# Load images and labels\n",
        "from keras.utils import to_categorical #one hot encoding\n",
        "photos = np.load('/content/drive/MyDrive/AI -Trần Thảo Hưng -20146344/model/HOA_PHOTOS6.npy')\n",
        "labels = np.load('/content/drive/MyDrive/AI -Trần Thảo Hưng -20146344/model/HOA_LABELS6.npy')\n",
        "labels_one_hot = to_categorical(labels)\n",
        "x_train, x_test, y_train, y_test = train_test_split(photos, labels_one_hot, test_size = 0.2, random_state = 128)"
      ],
      "metadata": {
        "id": "lp7XL7SblsKl"
      },
      "execution_count": 249,
      "outputs": []
    },
    {
      "cell_type": "code",
      "source": [
        "model = Sequential()\n",
        "#Convolutional\n",
        "model.add(Conv2D(8, kernel_size= (3,3), activation= 'relu', input_shape = (128,128,3), padding= 'same'))\n",
        "model.add(Conv2D(8, kernel_size= (3,3), activation= 'relu', padding= 'same'))\n",
        "model.add(MaxPooling2D((2,2), padding= 'same'))\n",
        "\n",
        "model.add(Conv2D(16, kernel_size= (3,3), activation= 'relu', padding= 'same'))\n",
        "model.add(Conv2D(16, kernel_size= (3,3), activation= 'relu', padding= 'same'))\n",
        "model.add(MaxPooling2D((2,2), padding= 'same'))\n",
        "\n",
        "model.add(Conv2D(32, kernel_size= (3,3), activation= 'relu', padding= 'same'))\n",
        "model.add(Conv2D(32, kernel_size= (3,3), activation= 'relu', padding= 'same'))\n",
        "model.add(MaxPooling2D((2,2), padding= 'same'))\n",
        "\n",
        "model.add(Conv2D(64, kernel_size= (3,3), activation= 'relu', padding= 'same'))\n",
        "model.add(Conv2D(64, kernel_size= (3,3), activation= 'relu', padding= 'same'))\n",
        "model.add(MaxPooling2D((2,2), padding= 'same'))\n",
        "\n",
        "model.add(Conv2D(64, kernel_size= (2,2), activation= 'relu', padding= 'same'))\n",
        "model.add(Conv2D(64, kernel_size= (2,2), activation= 'relu', padding= 'same'))\n",
        "model.add(MaxPooling2D((2,2), padding= 'same'))\n",
        "\n",
        "# Fully connected layers\n",
        "model.add(Flatten())\n",
        "model.add(Dense(512, activation= 'relu'))\n",
        "model.add(Dropout(0.25))\n",
        "model.add(Dense(512, activation= 'relu'))\n",
        "model.add(Dropout(0.25))\n",
        "model.add(Dense(10, activation= 'softmax'))\n",
        "model.summary()"
      ],
      "metadata": {
        "colab": {
          "base_uri": "https://localhost:8080/"
        },
        "id": "N0JYyJhIlt-9",
        "outputId": "59672775-dfaa-46a4-ad53-36210c7db4fb"
      },
      "execution_count": 250,
      "outputs": [
        {
          "output_type": "stream",
          "name": "stdout",
          "text": [
            "Model: \"sequential_27\"\n",
            "_________________________________________________________________\n",
            " Layer (type)                Output Shape              Param #   \n",
            "=================================================================\n",
            " conv2d_241 (Conv2D)         (None, 128, 128, 8)       224       \n",
            "                                                                 \n",
            " conv2d_242 (Conv2D)         (None, 128, 128, 8)       584       \n",
            "                                                                 \n",
            " max_pooling2d_113 (MaxPooli  (None, 64, 64, 8)        0         \n",
            " ng2D)                                                           \n",
            "                                                                 \n",
            " conv2d_243 (Conv2D)         (None, 64, 64, 16)        1168      \n",
            "                                                                 \n",
            " conv2d_244 (Conv2D)         (None, 64, 64, 16)        2320      \n",
            "                                                                 \n",
            " max_pooling2d_114 (MaxPooli  (None, 32, 32, 16)       0         \n",
            " ng2D)                                                           \n",
            "                                                                 \n",
            " conv2d_245 (Conv2D)         (None, 32, 32, 32)        4640      \n",
            "                                                                 \n",
            " conv2d_246 (Conv2D)         (None, 32, 32, 32)        9248      \n",
            "                                                                 \n",
            " max_pooling2d_115 (MaxPooli  (None, 16, 16, 32)       0         \n",
            " ng2D)                                                           \n",
            "                                                                 \n",
            " conv2d_247 (Conv2D)         (None, 16, 16, 64)        18496     \n",
            "                                                                 \n",
            " conv2d_248 (Conv2D)         (None, 16, 16, 64)        36928     \n",
            "                                                                 \n",
            " max_pooling2d_116 (MaxPooli  (None, 8, 8, 64)         0         \n",
            " ng2D)                                                           \n",
            "                                                                 \n",
            " conv2d_249 (Conv2D)         (None, 8, 8, 64)          16448     \n",
            "                                                                 \n",
            " conv2d_250 (Conv2D)         (None, 8, 8, 64)          16448     \n",
            "                                                                 \n",
            " max_pooling2d_117 (MaxPooli  (None, 4, 4, 64)         0         \n",
            " ng2D)                                                           \n",
            "                                                                 \n",
            " flatten_22 (Flatten)        (None, 1024)              0         \n",
            "                                                                 \n",
            " dense_82 (Dense)            (None, 512)               524800    \n",
            "                                                                 \n",
            " dropout_60 (Dropout)        (None, 512)               0         \n",
            "                                                                 \n",
            " dense_83 (Dense)            (None, 512)               262656    \n",
            "                                                                 \n",
            " dropout_61 (Dropout)        (None, 512)               0         \n",
            "                                                                 \n",
            " dense_84 (Dense)            (None, 10)                5130      \n",
            "                                                                 \n",
            "=================================================================\n",
            "Total params: 899,090\n",
            "Trainable params: 899,090\n",
            "Non-trainable params: 0\n",
            "_________________________________________________________________\n"
          ]
        }
      ]
    },
    {
      "cell_type": "code",
      "source": [
        "x_train.shape"
      ],
      "metadata": {
        "colab": {
          "base_uri": "https://localhost:8080/"
        },
        "id": "AkhvQL9vlySs",
        "outputId": "ae2ffe2a-32a9-46b1-efba-b85db9ebd56c"
      },
      "execution_count": 251,
      "outputs": [
        {
          "output_type": "execute_result",
          "data": {
            "text/plain": [
              "(996, 128, 128, 3)"
            ]
          },
          "metadata": {},
          "execution_count": 251
        }
      ]
    },
    {
      "cell_type": "code",
      "source": [
        "y_train.shape"
      ],
      "metadata": {
        "colab": {
          "base_uri": "https://localhost:8080/"
        },
        "id": "f8YA8GNcl0EJ",
        "outputId": "c3d1c408-df69-432a-ea25-99d091d19175"
      },
      "execution_count": 252,
      "outputs": [
        {
          "output_type": "execute_result",
          "data": {
            "text/plain": [
              "(996, 10)"
            ]
          },
          "metadata": {},
          "execution_count": 252
        }
      ]
    },
    {
      "cell_type": "code",
      "source": [
        "# Training\n",
        "batch_size= 16\n",
        "epochs= 40   \n",
        "\n",
        "model.compile(optimizer = Adam(), loss = 'categorical_crossentropy', metrics = ['accuracy'])\n",
        "train=model.fit(x_train,y_train,batch_size=batch_size,epochs=epochs,verbose=1)\n",
        "eval = model.evaluate(x_test, y_test)\n",
        "print('Test loss: ', eval[0])\n",
        "print('Test accuracy: ', eval[1])"
      ],
      "metadata": {
        "colab": {
          "base_uri": "https://localhost:8080/"
        },
        "id": "_yw-dLT9l1qR",
        "outputId": "e9a4e7cb-d1f8-45c6-ca1c-5afe8767cfed"
      },
      "execution_count": 253,
      "outputs": [
        {
          "output_type": "stream",
          "name": "stdout",
          "text": [
            "Epoch 1/40\n",
            "63/63 [==============================] - 2s 9ms/step - loss: 2.0986 - accuracy: 0.2731\n",
            "Epoch 2/40\n",
            "63/63 [==============================] - 1s 9ms/step - loss: 1.6690 - accuracy: 0.3604\n",
            "Epoch 3/40\n",
            "63/63 [==============================] - 1s 9ms/step - loss: 1.3729 - accuracy: 0.4729\n",
            "Epoch 4/40\n",
            "63/63 [==============================] - 1s 9ms/step - loss: 1.1701 - accuracy: 0.5733\n",
            "Epoch 5/40\n",
            "63/63 [==============================] - 1s 9ms/step - loss: 1.0832 - accuracy: 0.6064\n",
            "Epoch 6/40\n",
            "63/63 [==============================] - 1s 9ms/step - loss: 0.8041 - accuracy: 0.7159\n",
            "Epoch 7/40\n",
            "63/63 [==============================] - 1s 8ms/step - loss: 0.7295 - accuracy: 0.7400\n",
            "Epoch 8/40\n",
            "63/63 [==============================] - 1s 9ms/step - loss: 0.6204 - accuracy: 0.7761\n",
            "Epoch 9/40\n",
            "63/63 [==============================] - 1s 8ms/step - loss: 0.5114 - accuracy: 0.8183\n",
            "Epoch 10/40\n",
            "63/63 [==============================] - 1s 9ms/step - loss: 0.3628 - accuracy: 0.8695\n",
            "Epoch 11/40\n",
            "63/63 [==============================] - 1s 8ms/step - loss: 0.2559 - accuracy: 0.9056\n",
            "Epoch 12/40\n",
            "63/63 [==============================] - 1s 9ms/step - loss: 0.2472 - accuracy: 0.9177\n",
            "Epoch 13/40\n",
            "63/63 [==============================] - 1s 15ms/step - loss: 0.2819 - accuracy: 0.9036\n",
            "Epoch 14/40\n",
            "63/63 [==============================] - 1s 18ms/step - loss: 0.1648 - accuracy: 0.9458\n",
            "Epoch 15/40\n",
            "63/63 [==============================] - 1s 16ms/step - loss: 0.1792 - accuracy: 0.9458\n",
            "Epoch 16/40\n",
            "63/63 [==============================] - 1s 10ms/step - loss: 0.2786 - accuracy: 0.8986\n",
            "Epoch 17/40\n",
            "63/63 [==============================] - 1s 8ms/step - loss: 0.1928 - accuracy: 0.9398\n",
            "Epoch 18/40\n",
            "63/63 [==============================] - 1s 9ms/step - loss: 0.0781 - accuracy: 0.9729\n",
            "Epoch 19/40\n",
            "63/63 [==============================] - 1s 8ms/step - loss: 0.1118 - accuracy: 0.9618\n",
            "Epoch 20/40\n",
            "63/63 [==============================] - 1s 9ms/step - loss: 0.0486 - accuracy: 0.9849\n",
            "Epoch 21/40\n",
            "63/63 [==============================] - 1s 9ms/step - loss: 0.0543 - accuracy: 0.9819\n",
            "Epoch 22/40\n",
            "63/63 [==============================] - 1s 9ms/step - loss: 0.2935 - accuracy: 0.9137\n",
            "Epoch 23/40\n",
            "63/63 [==============================] - 1s 9ms/step - loss: 0.1049 - accuracy: 0.9669\n",
            "Epoch 24/40\n",
            "63/63 [==============================] - 1s 9ms/step - loss: 0.1483 - accuracy: 0.9538\n",
            "Epoch 25/40\n",
            "63/63 [==============================] - 1s 9ms/step - loss: 0.0921 - accuracy: 0.9719\n",
            "Epoch 26/40\n",
            "63/63 [==============================] - 1s 9ms/step - loss: 0.0943 - accuracy: 0.9689\n",
            "Epoch 27/40\n",
            "63/63 [==============================] - 1s 9ms/step - loss: 0.1157 - accuracy: 0.9578\n",
            "Epoch 28/40\n",
            "63/63 [==============================] - 1s 9ms/step - loss: 0.1505 - accuracy: 0.9548\n",
            "Epoch 29/40\n",
            "63/63 [==============================] - 1s 9ms/step - loss: 0.1396 - accuracy: 0.9528\n",
            "Epoch 30/40\n",
            "63/63 [==============================] - 1s 9ms/step - loss: 0.0719 - accuracy: 0.9799\n",
            "Epoch 31/40\n",
            "63/63 [==============================] - 1s 9ms/step - loss: 0.0977 - accuracy: 0.9739\n",
            "Epoch 32/40\n",
            "63/63 [==============================] - 1s 9ms/step - loss: 0.1239 - accuracy: 0.9629\n",
            "Epoch 33/40\n",
            "63/63 [==============================] - 1s 9ms/step - loss: 0.0710 - accuracy: 0.9829\n",
            "Epoch 34/40\n",
            "63/63 [==============================] - 1s 10ms/step - loss: 0.0071 - accuracy: 0.9990\n",
            "Epoch 35/40\n",
            "63/63 [==============================] - 1s 10ms/step - loss: 0.0042 - accuracy: 0.9980\n",
            "Epoch 36/40\n",
            "63/63 [==============================] - 1s 10ms/step - loss: 0.1187 - accuracy: 0.9739\n",
            "Epoch 37/40\n",
            "63/63 [==============================] - 1s 10ms/step - loss: 0.2717 - accuracy: 0.9197\n",
            "Epoch 38/40\n",
            "63/63 [==============================] - 1s 11ms/step - loss: 0.1001 - accuracy: 0.9679\n",
            "Epoch 39/40\n",
            "63/63 [==============================] - 1s 10ms/step - loss: 0.1589 - accuracy: 0.9568\n",
            "Epoch 40/40\n",
            "63/63 [==============================] - 1s 8ms/step - loss: 0.0385 - accuracy: 0.9900\n",
            "8/8 [==============================] - 0s 9ms/step - loss: 0.6932 - accuracy: 0.8594\n",
            "Test loss:  0.693175733089447\n",
            "Test accuracy:  0.8594377636909485\n"
          ]
        }
      ]
    },
    {
      "cell_type": "code",
      "source": [
        "test_loss, test_acc = model.evaluate(x_test, y_test)\n",
        "print(\"Accuracy:\", test_acc)\n",
        "print('Loss:', test_loss)"
      ],
      "metadata": {
        "colab": {
          "base_uri": "https://localhost:8080/"
        },
        "id": "Wtu6uksGl3Mj",
        "outputId": "932b70d0-64f2-4d20-a7bd-c7dfea179de5"
      },
      "execution_count": 254,
      "outputs": [
        {
          "output_type": "stream",
          "name": "stdout",
          "text": [
            "8/8 [==============================] - 0s 9ms/step - loss: 0.6932 - accuracy: 0.8594\n",
            "Accuracy: 0.8594377636909485\n",
            "Loss: 0.693175733089447\n"
          ]
        }
      ]
    },
    {
      "cell_type": "code",
      "source": [
        "accuracy = train.history['accuracy']\n",
        "loss = train.history['loss']\n",
        "epochs = range(len(accuracy))\n",
        "plt.plot(epochs, accuracy, 'bo', label = 'Training accuracy')\n",
        "plt.plot(epochs, loss, 'b', label = 'Traning loss')\n",
        "plt.show()"
      ],
      "metadata": {
        "colab": {
          "base_uri": "https://localhost:8080/",
          "height": 430
        },
        "id": "CfCxsXpwl48j",
        "outputId": "3bf972c1-7fb8-4923-d06d-20cc6054d1e4"
      },
      "execution_count": 255,
      "outputs": [
        {
          "output_type": "display_data",
          "data": {
            "text/plain": [
              "<Figure size 640x480 with 1 Axes>"
            ],
            "image/png": "[encoded data removed]"
          },
          "metadata": {}
        }
      ]
    },
    {
      "cell_type": "code",
      "source": [
        "#Save model\n",
        "model.save('/content/drive/MyDrive/Colab Notebooks/FLOWER/MODEL_FLOWER6.h5')"
      ],
      "metadata": {
        "id": "cSLb0JqDl7lt"
      },
      "execution_count": 256,
      "outputs": []
    }
  ]
}