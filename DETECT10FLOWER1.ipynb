{
  "nbformat": 4,
  "nbformat_minor": 0,
  "metadata": {
    "colab": {
      "provenance": [],
      "gpuType": "T4",
      "include_colab_link": true
    },
    "kernelspec": {
      "name": "python3",
      "display_name": "Python 3"
    },
    "language_info": {
      "name": "python"
    },
    "gpuClass": "standard",
    "accelerator": "GPU"
  },
  "cells": [
    {
      "cell_type": "markdown",
      "metadata": {
        "id": "view-in-github",
        "colab_type": "text"
      },
      "source": [
        "<a href=\"https://colab.research.google.com/github/thaohung13/Project.cuoi.ky.AI/blob/main/DETECT10FLOWER1.ipynb\" target=\"_parent\"><img src=\"https://colab.research.google.com/assets/colab-badge.svg\" alt=\"Open In Colab\"/></a>"
      ]
    },
    {
      "cell_type": "code",
      "execution_count": 57,
      "metadata": {
        "id": "dECoW6YblV-z"
      },
      "outputs": [],
      "source": [
        "from os import listdir\n",
        "from numpy import asarray, save\n",
        "from keras.utils import load_img\n",
        "from keras.utils import img_to_array\n",
        "import numpy as np\n",
        "from sklearn.model_selection import train_test_split\n",
        "from keras.datasets import cifar100\n",
        "import matplotlib.pyplot as plt\n",
        "from keras.layers import Dense, Dropout, Flatten, Conv2D, MaxPooling2D, Normalization\n",
        "from keras.models import Sequential, Model\n",
        "from keras import Input\n",
        "from keras.layers import LeakyReLU\n",
        "from keras.optimizers import Adam"
      ]
    },
    {
      "cell_type": "code",
      "source": [
        "from google.colab import drive\n",
        "drive.mount('/content/drive')"
      ],
      "metadata": {
        "colab": {
          "base_uri": "https://localhost:8080/"
        },
        "id": "U4XLAeBllbTr",
        "outputId": "fd8731a7-a7dc-49fb-9c1a-0acd8547158c"
      },
      "execution_count": 58,
      "outputs": [
        {
          "output_type": "stream",
          "name": "stdout",
          "text": [
            "Drive already mounted at /content/drive; to attempt to forcibly remount, call drive.mount(\"/content/drive\", force_remount=True).\n"
          ]
        }
      ]
    },
    {
      "cell_type": "code",
      "source": [
        "from numpy import asarray\n",
        "\n",
        "folder = '/content/drive/MyDrive/AI -Trần Thảo Hưng -20146344/DATA2/'\n",
        "photos, labels = list(), list()\n",
        "for file in listdir(folder):\n",
        "  output = 0.0\n",
        "  if file.startswith('Hong'):\n",
        "    output = 0\n",
        "  if file.startswith('Su'):\n",
        "    output = 1\n",
        "  if file.startswith('Sen'):\n",
        "    output = 2\n",
        "  if file.startswith('Mai'):\n",
        "    output = 3\n",
        "  if file.startswith('HaiDuong'):\n",
        "    output = 4\n",
        "  if file.startswith('HongMon'):\n",
        "    output = 5\n",
        "  if file.startswith('ThienDieu'):\n",
        "    output = 6\n",
        "  if file.startswith('CucVanTho'):\n",
        "    output = 7\n",
        "  if file.startswith('HuongDuong'):\n",
        "    output = 8\n",
        "  if file.startswith('DaUyenThao'):\n",
        "    output = 9\n",
        "  photo = load_img(folder + file, target_size=(128, 128))\n",
        "  photo = img_to_array(photo)\n",
        "  photos.append(photo)\n",
        "  labels.append(output)\n",
        "\n",
        "photos = asarray(photos)\n",
        "labels = asarray(labels)\n",
        "print(photos.shape, labels.shape)\n",
        "save('/content/drive/MyDrive/AI -Trần Thảo Hưng -20146344/model/HOA_PHOTOS2', photos)\n",
        "save('/content/drive/MyDrive/AI -Trần Thảo Hưng -20146344/model/HOA_LABELS2', labels)"
      ],
      "metadata": {
        "colab": {
          "base_uri": "https://localhost:8080/"
        },
        "id": "sNT-XeT4ldXZ",
        "outputId": "60053e1f-38b9-4f5b-ad83-fdd54ec63730"
      },
      "execution_count": 59,
      "outputs": [
        {
          "output_type": "stream",
          "name": "stdout",
          "text": [
            "(1245, 128, 128, 3) (1245,)\n"
          ]
        }
      ]
    },
    {
      "cell_type": "code",
      "source": [
        "# Load images and labels\n",
        "from keras.utils import to_categorical #one hot encoding\n",
        "photos = np.load('/content/drive/MyDrive/AI -Trần Thảo Hưng -20146344/model/HOA_PHOTOS2.npy')\n",
        "labels = np.load('/content/drive/MyDrive/AI -Trần Thảo Hưng -20146344/model/HOA_LABELS2.npy')\n",
        "labels_one_hot = to_categorical(labels)\n",
        "x_train, x_test, y_train, y_test = train_test_split(photos, labels_one_hot, test_size = 0.2, random_state = 128)"
      ],
      "metadata": {
        "id": "lp7XL7SblsKl"
      },
      "execution_count": 60,
      "outputs": []
    },
    {
      "cell_type": "code",
      "source": [
        "model = Sequential()\n",
        "#Convolutional\n",
        "model.add(Conv2D(8, kernel_size= (3,3), activation= 'relu', input_shape = (128,128,3), padding= 'same'))\n",
        "model.add(MaxPooling2D((2,2), padding= 'same'))\n",
        "\n",
        "model.add(Conv2D(16, kernel_size= (3,3), activation= 'relu', padding= 'same'))\n",
        "model.add(MaxPooling2D((2,2), padding= 'same'))\n",
        "\n",
        "model.add(Conv2D(32, kernel_size= (3,3), activation= 'relu', padding= 'same'))\n",
        "model.add(Conv2D(32, kernel_size= (3,3), activation= 'relu', padding= 'same'))\n",
        "model.add(MaxPooling2D((2,2), padding= 'same'))\n",
        "\n",
        "model.add(Conv2D(64, kernel_size= (3,3), activation= 'relu', padding= 'same'))\n",
        "model.add(Conv2D(64, kernel_size= (3,3), activation= 'relu', padding= 'same'))\n",
        "model.add(MaxPooling2D((2,2), padding= 'same'))\n",
        "\n",
        "model.add(Conv2D(128, kernel_size= (3,3), activation= 'relu', padding= 'same'))\n",
        "model.add(Conv2D(128, kernel_size= (3,3), activation= 'relu', padding= 'same'))\n",
        "model.add(MaxPooling2D((2,2), padding = 'same'))\n",
        "\n",
        "model.add(Conv2D(256, kernel_size= (3,3), activation= 'relu', padding= 'same'))\n",
        "model.add(Conv2D(256, kernel_size= (3,3), activation= 'relu', padding= 'same'))\n",
        "model.add(MaxPooling2D((2,2), padding = 'same'))\n",
        "\n",
        "model.add(Conv2D(512, kernel_size= (3,3), activation= 'relu', padding= 'same'))\n",
        "model.add(Conv2D(512, kernel_size= (3,3), activation= 'relu', padding= 'same'))\n",
        "model.add(MaxPooling2D((2,2), padding = 'same'))\n",
        "\n",
        "model.add(Conv2D(1024, kernel_size= (3,3), activation= 'relu', padding= 'same'))\n",
        "model.add(Conv2D(1024, kernel_size= (3,3), activation= 'relu', padding= 'same'))\n",
        "model.add(MaxPooling2D((2,2), padding = 'same'))\n",
        "\n",
        "# Fully connected layers\n",
        "model.add(Flatten())\n",
        "model.add(Dense(512, activation= 'relu'))\n",
        "model.add(Dropout(0.5))\n",
        "model.add(Dense(512, activation= 'relu'))\n",
        "model.add(Dropout(0.5))\n",
        "model.add(Dense(10, activation= 'softmax'))\n",
        "model.summary()"
      ],
      "metadata": {
        "colab": {
          "base_uri": "https://localhost:8080/"
        },
        "id": "N0JYyJhIlt-9",
        "outputId": "11260c6a-a3b6-4618-cba7-4061acb83b6f"
      },
      "execution_count": 61,
      "outputs": [
        {
          "output_type": "stream",
          "name": "stdout",
          "text": [
            "Model: \"sequential_5\"\n",
            "_________________________________________________________________\n",
            " Layer (type)                Output Shape              Param #   \n",
            "=================================================================\n",
            " conv2d_50 (Conv2D)          (None, 128, 128, 8)       224       \n",
            "                                                                 \n",
            " max_pooling2d_36 (MaxPoolin  (None, 64, 64, 8)        0         \n",
            " g2D)                                                            \n",
            "                                                                 \n",
            " conv2d_51 (Conv2D)          (None, 64, 64, 16)        1168      \n",
            "                                                                 \n",
            " max_pooling2d_37 (MaxPoolin  (None, 32, 32, 16)       0         \n",
            " g2D)                                                            \n",
            "                                                                 \n",
            " conv2d_52 (Conv2D)          (None, 32, 32, 32)        4640      \n",
            "                                                                 \n",
            " conv2d_53 (Conv2D)          (None, 32, 32, 32)        9248      \n",
            "                                                                 \n",
            " max_pooling2d_38 (MaxPoolin  (None, 16, 16, 32)       0         \n",
            " g2D)                                                            \n",
            "                                                                 \n",
            " conv2d_54 (Conv2D)          (None, 16, 16, 64)        18496     \n",
            "                                                                 \n",
            " conv2d_55 (Conv2D)          (None, 16, 16, 64)        36928     \n",
            "                                                                 \n",
            " max_pooling2d_39 (MaxPoolin  (None, 8, 8, 64)         0         \n",
            " g2D)                                                            \n",
            "                                                                 \n",
            " conv2d_56 (Conv2D)          (None, 8, 8, 128)         73856     \n",
            "                                                                 \n",
            " conv2d_57 (Conv2D)          (None, 8, 8, 128)         147584    \n",
            "                                                                 \n",
            " max_pooling2d_40 (MaxPoolin  (None, 4, 4, 128)        0         \n",
            " g2D)                                                            \n",
            "                                                                 \n",
            " conv2d_58 (Conv2D)          (None, 4, 4, 256)         295168    \n",
            "                                                                 \n",
            " conv2d_59 (Conv2D)          (None, 4, 4, 256)         590080    \n",
            "                                                                 \n",
            " max_pooling2d_41 (MaxPoolin  (None, 2, 2, 256)        0         \n",
            " g2D)                                                            \n",
            "                                                                 \n",
            " conv2d_60 (Conv2D)          (None, 2, 2, 512)         1180160   \n",
            "                                                                 \n",
            " conv2d_61 (Conv2D)          (None, 2, 2, 512)         2359808   \n",
            "                                                                 \n",
            " max_pooling2d_42 (MaxPoolin  (None, 1, 1, 512)        0         \n",
            " g2D)                                                            \n",
            "                                                                 \n",
            " conv2d_62 (Conv2D)          (None, 1, 1, 1024)        4719616   \n",
            "                                                                 \n",
            " conv2d_63 (Conv2D)          (None, 1, 1, 1024)        9438208   \n",
            "                                                                 \n",
            " max_pooling2d_43 (MaxPoolin  (None, 1, 1, 1024)       0         \n",
            " g2D)                                                            \n",
            "                                                                 \n",
            " flatten_5 (Flatten)         (None, 1024)              0         \n",
            "                                                                 \n",
            " dense_27 (Dense)            (None, 512)               524800    \n",
            "                                                                 \n",
            " dropout_19 (Dropout)        (None, 512)               0         \n",
            "                                                                 \n",
            " dense_28 (Dense)            (None, 512)               262656    \n",
            "                                                                 \n",
            " dropout_20 (Dropout)        (None, 512)               0         \n",
            "                                                                 \n",
            " dense_29 (Dense)            (None, 10)                5130      \n",
            "                                                                 \n",
            "=================================================================\n",
            "Total params: 19,667,770\n",
            "Trainable params: 19,667,770\n",
            "Non-trainable params: 0\n",
            "_________________________________________________________________\n"
          ]
        }
      ]
    },
    {
      "cell_type": "code",
      "source": [
        "x_train.shape"
      ],
      "metadata": {
        "colab": {
          "base_uri": "https://localhost:8080/"
        },
        "id": "AkhvQL9vlySs",
        "outputId": "e7638205-9609-4cf4-dc4a-7456e951235c"
      },
      "execution_count": 62,
      "outputs": [
        {
          "output_type": "execute_result",
          "data": {
            "text/plain": [
              "(996, 128, 128, 3)"
            ]
          },
          "metadata": {},
          "execution_count": 62
        }
      ]
    },
    {
      "cell_type": "code",
      "source": [
        "y_train.shape"
      ],
      "metadata": {
        "colab": {
          "base_uri": "https://localhost:8080/"
        },
        "id": "f8YA8GNcl0EJ",
        "outputId": "6d765540-9491-464a-b91c-168bd7e2464a"
      },
      "execution_count": 63,
      "outputs": [
        {
          "output_type": "execute_result",
          "data": {
            "text/plain": [
              "(996, 10)"
            ]
          },
          "metadata": {},
          "execution_count": 63
        }
      ]
    },
    {
      "cell_type": "code",
      "source": [
        "# Training\n",
        "batch_size=64\n",
        "epochs=150   \n",
        "\n",
        "model.compile(optimizer = Adam(), loss = 'categorical_crossentropy', metrics = ['accuracy'])\n",
        "train=model.fit(x_train,y_train,batch_size=batch_size,epochs=epochs,verbose=1)\n",
        "eval = model.evaluate(x_test, y_test)\n",
        "print('Test loss: ', eval[0])\n",
        "print('Test accuracy: ', eval[1])"
      ],
      "metadata": {
        "colab": {
          "base_uri": "https://localhost:8080/"
        },
        "id": "_yw-dLT9l1qR",
        "outputId": "6100a354-48a0-49e9-970a-6889612908d7"
      },
      "execution_count": 64,
      "outputs": [
        {
          "output_type": "stream",
          "name": "stdout",
          "text": [
            "Epoch 1/150\n",
            "16/16 [==============================] - 2s 46ms/step - loss: 2.2868 - accuracy: 0.2590\n",
            "Epoch 2/150\n",
            "16/16 [==============================] - 1s 40ms/step - loss: 2.1019 - accuracy: 0.2801\n",
            "Epoch 3/150\n",
            "16/16 [==============================] - 1s 41ms/step - loss: 2.1600 - accuracy: 0.2801\n",
            "Epoch 4/150\n",
            "16/16 [==============================] - 1s 41ms/step - loss: 2.2017 - accuracy: 0.2801\n",
            "Epoch 5/150\n",
            "16/16 [==============================] - 1s 41ms/step - loss: 2.1429 - accuracy: 0.2811\n",
            "Epoch 6/150\n",
            "16/16 [==============================] - 1s 41ms/step - loss: 2.1484 - accuracy: 0.2811\n",
            "Epoch 7/150\n",
            "16/16 [==============================] - 1s 39ms/step - loss: 2.1364 - accuracy: 0.2811\n",
            "Epoch 8/150\n",
            "16/16 [==============================] - 1s 38ms/step - loss: 2.1146 - accuracy: 0.2811\n",
            "Epoch 9/150\n",
            "16/16 [==============================] - 1s 38ms/step - loss: 2.0577 - accuracy: 0.3062\n",
            "Epoch 10/150\n",
            "16/16 [==============================] - 1s 38ms/step - loss: 1.9612 - accuracy: 0.3203\n",
            "Epoch 11/150\n",
            "16/16 [==============================] - 1s 39ms/step - loss: 1.8924 - accuracy: 0.3012\n",
            "Epoch 12/150\n",
            "16/16 [==============================] - 1s 40ms/step - loss: 1.8241 - accuracy: 0.3022\n",
            "Epoch 13/150\n",
            "16/16 [==============================] - 1s 41ms/step - loss: 1.7180 - accuracy: 0.3203\n",
            "Epoch 14/150\n",
            "16/16 [==============================] - 1s 40ms/step - loss: 1.6098 - accuracy: 0.3635\n",
            "Epoch 15/150\n",
            "16/16 [==============================] - 1s 40ms/step - loss: 1.6122 - accuracy: 0.3373\n",
            "Epoch 16/150\n",
            "16/16 [==============================] - 1s 39ms/step - loss: 1.6083 - accuracy: 0.3574\n",
            "Epoch 17/150\n",
            "16/16 [==============================] - 1s 39ms/step - loss: 1.5087 - accuracy: 0.3986\n",
            "Epoch 18/150\n",
            "16/16 [==============================] - 1s 38ms/step - loss: 1.4870 - accuracy: 0.3966\n",
            "Epoch 19/150\n",
            "16/16 [==============================] - 1s 38ms/step - loss: 1.4834 - accuracy: 0.3815\n",
            "Epoch 20/150\n",
            "16/16 [==============================] - 1s 38ms/step - loss: 1.4811 - accuracy: 0.3604\n",
            "Epoch 21/150\n",
            "16/16 [==============================] - 1s 39ms/step - loss: 1.4450 - accuracy: 0.3886\n",
            "Epoch 22/150\n",
            "16/16 [==============================] - 1s 40ms/step - loss: 1.4115 - accuracy: 0.3886\n",
            "Epoch 23/150\n",
            "16/16 [==============================] - 1s 40ms/step - loss: 1.3406 - accuracy: 0.4327\n",
            "Epoch 24/150\n",
            "16/16 [==============================] - 1s 40ms/step - loss: 1.4644 - accuracy: 0.4247\n",
            "Epoch 25/150\n",
            "16/16 [==============================] - 1s 42ms/step - loss: 1.3215 - accuracy: 0.4679\n",
            "Epoch 26/150\n",
            "16/16 [==============================] - 1s 41ms/step - loss: 1.3519 - accuracy: 0.4649\n",
            "Epoch 27/150\n",
            "16/16 [==============================] - 1s 41ms/step - loss: 1.3193 - accuracy: 0.4659\n",
            "Epoch 28/150\n",
            "16/16 [==============================] - 1s 38ms/step - loss: 1.2897 - accuracy: 0.4809\n",
            "Epoch 29/150\n",
            "16/16 [==============================] - 1s 38ms/step - loss: 1.1779 - accuracy: 0.5442\n",
            "Epoch 30/150\n",
            "16/16 [==============================] - 1s 38ms/step - loss: 1.2156 - accuracy: 0.5110\n",
            "Epoch 31/150\n",
            "16/16 [==============================] - 1s 39ms/step - loss: 1.2468 - accuracy: 0.4960\n",
            "Epoch 32/150\n",
            "16/16 [==============================] - 1s 39ms/step - loss: 1.0765 - accuracy: 0.5472\n",
            "Epoch 33/150\n",
            "16/16 [==============================] - 1s 39ms/step - loss: 0.9677 - accuracy: 0.5833\n",
            "Epoch 34/150\n",
            "16/16 [==============================] - 1s 38ms/step - loss: 0.8833 - accuracy: 0.6104\n",
            "Epoch 35/150\n",
            "16/16 [==============================] - 1s 38ms/step - loss: 1.2064 - accuracy: 0.5472\n",
            "Epoch 36/150\n",
            "16/16 [==============================] - 1s 38ms/step - loss: 1.2796 - accuracy: 0.5050\n",
            "Epoch 37/150\n",
            "16/16 [==============================] - 1s 38ms/step - loss: 0.9821 - accuracy: 0.5934\n",
            "Epoch 38/150\n",
            "16/16 [==============================] - 1s 39ms/step - loss: 0.8644 - accuracy: 0.6386\n",
            "Epoch 39/150\n",
            "16/16 [==============================] - 1s 38ms/step - loss: 1.4712 - accuracy: 0.4518\n",
            "Epoch 40/150\n",
            "16/16 [==============================] - 1s 39ms/step - loss: 1.0633 - accuracy: 0.5482\n",
            "Epoch 41/150\n",
            "16/16 [==============================] - 1s 38ms/step - loss: 1.1977 - accuracy: 0.5813\n",
            "Epoch 42/150\n",
            "16/16 [==============================] - 1s 38ms/step - loss: 1.2882 - accuracy: 0.5181\n",
            "Epoch 43/150\n",
            "16/16 [==============================] - 1s 39ms/step - loss: 1.1499 - accuracy: 0.5291\n",
            "Epoch 44/150\n",
            "16/16 [==============================] - 1s 42ms/step - loss: 0.9340 - accuracy: 0.6094\n",
            "Epoch 45/150\n",
            "16/16 [==============================] - 1s 41ms/step - loss: 0.9827 - accuracy: 0.5934\n",
            "Epoch 46/150\n",
            "16/16 [==============================] - 1s 41ms/step - loss: 0.8766 - accuracy: 0.6386\n",
            "Epoch 47/150\n",
            "16/16 [==============================] - 1s 41ms/step - loss: 0.8504 - accuracy: 0.6335\n",
            "Epoch 48/150\n",
            "16/16 [==============================] - 1s 41ms/step - loss: 0.7815 - accuracy: 0.6867\n",
            "Epoch 49/150\n",
            "16/16 [==============================] - 1s 39ms/step - loss: 0.6668 - accuracy: 0.7169\n",
            "Epoch 50/150\n",
            "16/16 [==============================] - 1s 38ms/step - loss: 0.7373 - accuracy: 0.7058\n",
            "Epoch 51/150\n",
            "16/16 [==============================] - 1s 39ms/step - loss: 1.0207 - accuracy: 0.5964\n",
            "Epoch 52/150\n",
            "16/16 [==============================] - 1s 39ms/step - loss: 0.8506 - accuracy: 0.6586\n",
            "Epoch 53/150\n",
            "16/16 [==============================] - 1s 39ms/step - loss: 0.7104 - accuracy: 0.6998\n",
            "Epoch 54/150\n",
            "16/16 [==============================] - 1s 39ms/step - loss: 0.6207 - accuracy: 0.7540\n",
            "Epoch 55/150\n",
            "16/16 [==============================] - 1s 39ms/step - loss: 0.5115 - accuracy: 0.7942\n",
            "Epoch 56/150\n",
            "16/16 [==============================] - 1s 38ms/step - loss: 0.6489 - accuracy: 0.7359\n",
            "Epoch 57/150\n",
            "16/16 [==============================] - 1s 38ms/step - loss: 0.4937 - accuracy: 0.7942\n",
            "Epoch 58/150\n",
            "16/16 [==============================] - 1s 38ms/step - loss: 0.4452 - accuracy: 0.8273\n",
            "Epoch 59/150\n",
            "16/16 [==============================] - 1s 38ms/step - loss: 0.4369 - accuracy: 0.8243\n",
            "Epoch 60/150\n",
            "16/16 [==============================] - 1s 37ms/step - loss: 0.4618 - accuracy: 0.8082\n",
            "Epoch 61/150\n",
            "16/16 [==============================] - 1s 38ms/step - loss: 0.5534 - accuracy: 0.8032\n",
            "Epoch 62/150\n",
            "16/16 [==============================] - 1s 38ms/step - loss: 0.6398 - accuracy: 0.7580\n",
            "Epoch 63/150\n",
            "16/16 [==============================] - 1s 38ms/step - loss: 0.5720 - accuracy: 0.8022\n",
            "Epoch 64/150\n",
            "16/16 [==============================] - 1s 38ms/step - loss: 0.4874 - accuracy: 0.8223\n",
            "Epoch 65/150\n",
            "16/16 [==============================] - 1s 39ms/step - loss: 0.5001 - accuracy: 0.8193\n",
            "Epoch 66/150\n",
            "16/16 [==============================] - 1s 41ms/step - loss: 0.6499 - accuracy: 0.7811\n",
            "Epoch 67/150\n",
            "16/16 [==============================] - 1s 40ms/step - loss: 0.4483 - accuracy: 0.8363\n",
            "Epoch 68/150\n",
            "16/16 [==============================] - 1s 42ms/step - loss: 0.3501 - accuracy: 0.8725\n",
            "Epoch 69/150\n",
            "16/16 [==============================] - 1s 40ms/step - loss: 0.3093 - accuracy: 0.8926\n",
            "Epoch 70/150\n",
            "16/16 [==============================] - 1s 41ms/step - loss: 0.3006 - accuracy: 0.8996\n",
            "Epoch 71/150\n",
            "16/16 [==============================] - 1s 40ms/step - loss: 0.3537 - accuracy: 0.8795\n",
            "Epoch 72/150\n",
            "16/16 [==============================] - 1s 38ms/step - loss: 0.4005 - accuracy: 0.8594\n",
            "Epoch 73/150\n",
            "16/16 [==============================] - 1s 38ms/step - loss: 0.3245 - accuracy: 0.9006\n",
            "Epoch 74/150\n",
            "16/16 [==============================] - 1s 38ms/step - loss: 0.3690 - accuracy: 0.8785\n",
            "Epoch 75/150\n",
            "16/16 [==============================] - 1s 38ms/step - loss: 0.3345 - accuracy: 0.8936\n",
            "Epoch 76/150\n",
            "16/16 [==============================] - 1s 37ms/step - loss: 0.2606 - accuracy: 0.9056\n",
            "Epoch 77/150\n",
            "16/16 [==============================] - 1s 39ms/step - loss: 0.2670 - accuracy: 0.9036\n",
            "Epoch 78/150\n",
            "16/16 [==============================] - 1s 38ms/step - loss: 0.2010 - accuracy: 0.9327\n",
            "Epoch 79/150\n",
            "16/16 [==============================] - 1s 38ms/step - loss: 0.1745 - accuracy: 0.9398\n",
            "Epoch 80/150\n",
            "16/16 [==============================] - 1s 38ms/step - loss: 0.1810 - accuracy: 0.9428\n",
            "Epoch 81/150\n",
            "16/16 [==============================] - 1s 38ms/step - loss: 0.2649 - accuracy: 0.9147\n",
            "Epoch 82/150\n",
            "16/16 [==============================] - 1s 38ms/step - loss: 0.1970 - accuracy: 0.9357\n",
            "Epoch 83/150\n",
            "16/16 [==============================] - 1s 38ms/step - loss: 0.2551 - accuracy: 0.9167\n",
            "Epoch 84/150\n",
            "16/16 [==============================] - 1s 38ms/step - loss: 0.4212 - accuracy: 0.8715\n",
            "Epoch 85/150\n",
            "16/16 [==============================] - 1s 38ms/step - loss: 0.4797 - accuracy: 0.8444\n",
            "Epoch 86/150\n",
            "16/16 [==============================] - 1s 38ms/step - loss: 0.3551 - accuracy: 0.8956\n",
            "Epoch 87/150\n",
            "16/16 [==============================] - 1s 39ms/step - loss: 0.2630 - accuracy: 0.9177\n",
            "Epoch 88/150\n",
            "16/16 [==============================] - 1s 41ms/step - loss: 0.2087 - accuracy: 0.9378\n",
            "Epoch 89/150\n",
            "16/16 [==============================] - 1s 41ms/step - loss: 0.1055 - accuracy: 0.9689\n",
            "Epoch 90/150\n",
            "16/16 [==============================] - 1s 39ms/step - loss: 0.0824 - accuracy: 0.9779\n",
            "Epoch 91/150\n",
            "16/16 [==============================] - 1s 40ms/step - loss: 0.0579 - accuracy: 0.9759\n",
            "Epoch 92/150\n",
            "16/16 [==============================] - 1s 41ms/step - loss: 0.0911 - accuracy: 0.9729\n",
            "Epoch 93/150\n",
            "16/16 [==============================] - 1s 39ms/step - loss: 0.2327 - accuracy: 0.9378\n",
            "Epoch 94/150\n",
            "16/16 [==============================] - 1s 38ms/step - loss: 0.2047 - accuracy: 0.9458\n",
            "Epoch 95/150\n",
            "16/16 [==============================] - 1s 38ms/step - loss: 0.2758 - accuracy: 0.9157\n",
            "Epoch 96/150\n",
            "16/16 [==============================] - 1s 38ms/step - loss: 0.1992 - accuracy: 0.9378\n",
            "Epoch 97/150\n",
            "16/16 [==============================] - 1s 38ms/step - loss: 0.2682 - accuracy: 0.9297\n",
            "Epoch 98/150\n",
            "16/16 [==============================] - 1s 38ms/step - loss: 0.2218 - accuracy: 0.9378\n",
            "Epoch 99/150\n",
            "16/16 [==============================] - 1s 37ms/step - loss: 0.1057 - accuracy: 0.9719\n",
            "Epoch 100/150\n",
            "16/16 [==============================] - 1s 38ms/step - loss: 0.0615 - accuracy: 0.9839\n",
            "Epoch 101/150\n",
            "16/16 [==============================] - 1s 38ms/step - loss: 0.0387 - accuracy: 0.9910\n",
            "Epoch 102/150\n",
            "16/16 [==============================] - 1s 38ms/step - loss: 0.0844 - accuracy: 0.9789\n",
            "Epoch 103/150\n",
            "16/16 [==============================] - 1s 38ms/step - loss: 0.1532 - accuracy: 0.9558\n",
            "Epoch 104/150\n",
            "16/16 [==============================] - 1s 38ms/step - loss: 0.1913 - accuracy: 0.9598\n",
            "Epoch 105/150\n",
            "16/16 [==============================] - 1s 38ms/step - loss: 0.1155 - accuracy: 0.9629\n",
            "Epoch 106/150\n",
            "16/16 [==============================] - 1s 38ms/step - loss: 0.1354 - accuracy: 0.9598\n",
            "Epoch 107/150\n",
            "16/16 [==============================] - 1s 39ms/step - loss: 0.1180 - accuracy: 0.9578\n",
            "Epoch 108/150\n",
            "16/16 [==============================] - 1s 38ms/step - loss: 0.0816 - accuracy: 0.9789\n",
            "Epoch 109/150\n",
            "16/16 [==============================] - 1s 39ms/step - loss: 0.1457 - accuracy: 0.9629\n",
            "Epoch 110/150\n",
            "16/16 [==============================] - 1s 41ms/step - loss: 0.1862 - accuracy: 0.9428\n",
            "Epoch 111/150\n",
            "16/16 [==============================] - 1s 40ms/step - loss: 0.0787 - accuracy: 0.9759\n",
            "Epoch 112/150\n",
            "16/16 [==============================] - 1s 39ms/step - loss: 0.0443 - accuracy: 0.9869\n",
            "Epoch 113/150\n",
            "16/16 [==============================] - 1s 42ms/step - loss: 0.0334 - accuracy: 0.9910\n",
            "Epoch 114/150\n",
            "16/16 [==============================] - 1s 40ms/step - loss: 0.0196 - accuracy: 0.9940\n",
            "Epoch 115/150\n",
            "16/16 [==============================] - 1s 40ms/step - loss: 0.0343 - accuracy: 0.9900\n",
            "Epoch 116/150\n",
            "16/16 [==============================] - 1s 38ms/step - loss: 0.0224 - accuracy: 0.9940\n",
            "Epoch 117/150\n",
            "16/16 [==============================] - 1s 38ms/step - loss: 0.0163 - accuracy: 0.9950\n",
            "Epoch 118/150\n",
            "16/16 [==============================] - 1s 38ms/step - loss: 0.0191 - accuracy: 0.9970\n",
            "Epoch 119/150\n",
            "16/16 [==============================] - 1s 38ms/step - loss: 0.0104 - accuracy: 0.9980\n",
            "Epoch 120/150\n",
            "16/16 [==============================] - 1s 38ms/step - loss: 0.0149 - accuracy: 0.9950\n",
            "Epoch 121/150\n",
            "16/16 [==============================] - 1s 38ms/step - loss: 0.0627 - accuracy: 0.9769\n",
            "Epoch 122/150\n",
            "16/16 [==============================] - 1s 38ms/step - loss: 0.0878 - accuracy: 0.9709\n",
            "Epoch 123/150\n",
            "16/16 [==============================] - 1s 38ms/step - loss: 0.3655 - accuracy: 0.9076\n",
            "Epoch 124/150\n",
            "16/16 [==============================] - 1s 38ms/step - loss: 0.4162 - accuracy: 0.8835\n",
            "Epoch 125/150\n",
            "16/16 [==============================] - 1s 38ms/step - loss: 0.1675 - accuracy: 0.9528\n",
            "Epoch 126/150\n",
            "16/16 [==============================] - 1s 38ms/step - loss: 0.1405 - accuracy: 0.9618\n",
            "Epoch 127/150\n",
            "16/16 [==============================] - 1s 38ms/step - loss: 0.1104 - accuracy: 0.9729\n",
            "Epoch 128/150\n",
            "16/16 [==============================] - 1s 38ms/step - loss: 0.0661 - accuracy: 0.9809\n",
            "Epoch 129/150\n",
            "16/16 [==============================] - 1s 39ms/step - loss: 0.0477 - accuracy: 0.9859\n",
            "Epoch 130/150\n",
            "16/16 [==============================] - 1s 38ms/step - loss: 0.0294 - accuracy: 0.9930\n",
            "Epoch 131/150\n",
            "16/16 [==============================] - 1s 40ms/step - loss: 0.0734 - accuracy: 0.9769\n",
            "Epoch 132/150\n",
            "16/16 [==============================] - 1s 41ms/step - loss: 0.0311 - accuracy: 0.9930\n",
            "Epoch 133/150\n",
            "16/16 [==============================] - 1s 40ms/step - loss: 0.0140 - accuracy: 0.9980\n",
            "Epoch 134/150\n",
            "16/16 [==============================] - 1s 42ms/step - loss: 0.0124 - accuracy: 0.9980\n",
            "Epoch 135/150\n",
            "16/16 [==============================] - 1s 41ms/step - loss: 0.0315 - accuracy: 0.9920\n",
            "Epoch 136/150\n",
            "16/16 [==============================] - 1s 41ms/step - loss: 0.0386 - accuracy: 0.9900\n",
            "Epoch 137/150\n",
            "16/16 [==============================] - 1s 40ms/step - loss: 0.0098 - accuracy: 0.9970\n",
            "Epoch 138/150\n",
            "16/16 [==============================] - 1s 38ms/step - loss: 0.0715 - accuracy: 0.9839\n",
            "Epoch 139/150\n",
            "16/16 [==============================] - 1s 38ms/step - loss: 0.0988 - accuracy: 0.9789\n",
            "Epoch 140/150\n",
            "16/16 [==============================] - 1s 38ms/step - loss: 0.3578 - accuracy: 0.9257\n",
            "Epoch 141/150\n",
            "16/16 [==============================] - 1s 39ms/step - loss: 0.7502 - accuracy: 0.7871\n",
            "Epoch 142/150\n",
            "16/16 [==============================] - 1s 38ms/step - loss: 0.4196 - accuracy: 0.8775\n",
            "Epoch 143/150\n",
            "16/16 [==============================] - 1s 39ms/step - loss: 0.1975 - accuracy: 0.9548\n",
            "Epoch 144/150\n",
            "16/16 [==============================] - 1s 38ms/step - loss: 0.2812 - accuracy: 0.9197\n",
            "Epoch 145/150\n",
            "16/16 [==============================] - 1s 38ms/step - loss: 0.1250 - accuracy: 0.9689\n",
            "Epoch 146/150\n",
            "16/16 [==============================] - 1s 38ms/step - loss: 0.0615 - accuracy: 0.9789\n",
            "Epoch 147/150\n",
            "16/16 [==============================] - 1s 38ms/step - loss: 0.0215 - accuracy: 0.9950\n",
            "Epoch 148/150\n",
            "16/16 [==============================] - 1s 38ms/step - loss: 0.0127 - accuracy: 0.9970\n",
            "Epoch 149/150\n",
            "16/16 [==============================] - 1s 38ms/step - loss: 0.0184 - accuracy: 0.9970\n",
            "Epoch 150/150\n",
            "16/16 [==============================] - 1s 38ms/step - loss: 0.0281 - accuracy: 0.9910\n",
            "8/8 [==============================] - 0s 14ms/step - loss: 1.5978 - accuracy: 0.7751\n",
            "Test loss:  1.597793459892273\n",
            "Test accuracy:  0.7751004099845886\n"
          ]
        }
      ]
    },
    {
      "cell_type": "code",
      "source": [
        "test_loss, test_acc = model.evaluate(x_test, y_test)\n",
        "print(\"Accuracy:\", test_acc)\n",
        "print('Loss:', test_loss)"
      ],
      "metadata": {
        "colab": {
          "base_uri": "https://localhost:8080/"
        },
        "id": "Wtu6uksGl3Mj",
        "outputId": "5b8aa793-4e54-42e0-b2e0-99c41584d015"
      },
      "execution_count": 65,
      "outputs": [
        {
          "output_type": "stream",
          "name": "stdout",
          "text": [
            "8/8 [==============================] - 0s 14ms/step - loss: 1.5978 - accuracy: 0.7751\n",
            "Accuracy: 0.7751004099845886\n",
            "Loss: 1.597793459892273\n"
          ]
        }
      ]
    },
    {
      "cell_type": "code",
      "source": [
        "accuracy = train.history['accuracy']\n",
        "loss = train.history['loss']\n",
        "epochs = range(len(accuracy))\n",
        "plt.plot(epochs, accuracy, 'bo', label = 'Training accuracy')\n",
        "plt.plot(epochs, loss, 'b', label = 'Traning loss')\n",
        "plt.show()"
      ],
      "metadata": {
        "colab": {
          "base_uri": "https://localhost:8080/",
          "height": 430
        },
        "id": "CfCxsXpwl48j",
        "outputId": "9a30283d-8128-4f5f-8a1d-9572a7c1b69c"
      },
      "execution_count": 66,
      "outputs": [
        {
          "output_type": "display_data",
          "data": {
            "text/plain": [
              "<Figure size 640x480 with 1 Axes>"
            ],
            "image/png": "[encoded data removed]"
          },
          "metadata": {}
        }
      ]
    },
    {
      "cell_type": "code",
      "source": [
        "#Save model\n",
        "model.save('/content/drive/MyDrive/Colab Notebooks/FLOWER/MODEL_FLOWER1.h5')"
      ],
      "metadata": {
        "id": "cSLb0JqDl7lt"
      },
      "execution_count": 67,
      "outputs": []
    }
  ]
}