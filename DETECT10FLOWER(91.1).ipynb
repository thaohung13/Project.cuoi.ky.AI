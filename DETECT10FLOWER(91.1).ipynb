{
  "nbformat": 4,
  "nbformat_minor": 0,
  "metadata": {
    "colab": {
      "provenance": [],
      "gpuType": "T4",
      "include_colab_link": true
    },
    "kernelspec": {
      "name": "python3",
      "display_name": "Python 3"
    },
    "language_info": {
      "name": "python"
    },
    "gpuClass": "standard",
    "accelerator": "GPU"
  },
  "cells": [
    {
      "cell_type": "markdown",
      "metadata": {
        "id": "view-in-github",
        "colab_type": "text"
      },
      "source": [
        "<a href=\"https://colab.research.google.com/github/thaohung13/Project.cuoi.ky.AI/blob/main/DETECT10FLOWER(91.1).ipynb\" target=\"_parent\"><img src=\"https://colab.research.google.com/assets/colab-badge.svg\" alt=\"Open In Colab\"/></a>"
      ]
    },
    {
      "cell_type": "code",
      "execution_count": 13,
      "metadata": {
        "id": "dECoW6YblV-z"
      },
      "outputs": [],
      "source": [
        "from os import listdir\n",
        "from numpy import asarray, save\n",
        "from keras.utils import load_img\n",
        "from keras.utils import img_to_array\n",
        "import numpy as np\n",
        "from sklearn.model_selection import train_test_split\n",
        "from keras.datasets import cifar100\n",
        "import matplotlib.pyplot as plt\n",
        "from keras.layers import Dense, Dropout, Flatten, Conv2D, MaxPooling2D, Normalization\n",
        "from keras.models import Sequential, Model\n",
        "from keras import Input\n",
        "from keras.layers import LeakyReLU\n",
        "from keras.optimizers import Adam"
      ]
    },
    {
      "cell_type": "code",
      "source": [
        "from google.colab import drive\n",
        "drive.mount('/content/drive')"
      ],
      "metadata": {
        "colab": {
          "base_uri": "https://localhost:8080/"
        },
        "id": "U4XLAeBllbTr",
        "outputId": "dba2c002-176b-45ea-b6ca-22f9ed29edc3"
      },
      "execution_count": 14,
      "outputs": [
        {
          "output_type": "stream",
          "name": "stdout",
          "text": [
            "Drive already mounted at /content/drive; to attempt to forcibly remount, call drive.mount(\"/content/drive\", force_remount=True).\n"
          ]
        }
      ]
    },
    {
      "cell_type": "code",
      "source": [
        "from numpy import asarray\n",
        "\n",
        "folder = '/content/drive/MyDrive/AI -Trần Thảo Hưng -20146344/DATA2/'\n",
        "photos, labels = list(), list()\n",
        "for file in listdir(folder):\n",
        "  output = 0.0\n",
        "  if file.startswith('Hong'):\n",
        "    output = 0\n",
        "  if file.startswith('Su'):\n",
        "    output = 1\n",
        "  if file.startswith('Sen'):\n",
        "    output = 2\n",
        "  if file.startswith('Mai'):\n",
        "    output = 3\n",
        "  if file.startswith('PhongLuDo'):\n",
        "    output = 4\n",
        "  if file.startswith('HongMon'):\n",
        "    output = 5\n",
        "  if file.startswith('ThienDieu'):\n",
        "    output = 6\n",
        "  if file.startswith('CucVanTho'):\n",
        "    output = 7\n",
        "  if file.startswith('HuongDuong'):\n",
        "    output = 8\n",
        "  if file.startswith('DaUyenThao'):\n",
        "    output = 9\n",
        "  photo = load_img(folder + file, target_size=(128, 128))\n",
        "  photo = img_to_array(photo)\n",
        "  photos.append(photo)\n",
        "  labels.append(output)\n",
        "\n",
        "photos = asarray(photos)\n",
        "labels = asarray(labels)\n",
        "print(photos.shape, labels.shape)\n",
        "save('/content/drive/MyDrive/AI -Trần Thảo Hưng -20146344/model/FL_PHOTOS3', photos)\n",
        "save('/content/drive/MyDrive/AI -Trần Thảo Hưng -20146344/model/FL_LABELS3', labels)"
      ],
      "metadata": {
        "colab": {
          "base_uri": "https://localhost:8080/"
        },
        "id": "sNT-XeT4ldXZ",
        "outputId": "d5279f66-c5ee-4a45-e905-3ee216fcd10d"
      },
      "execution_count": 15,
      "outputs": [
        {
          "output_type": "stream",
          "name": "stdout",
          "text": [
            "(1238, 128, 128, 3) (1238,)\n"
          ]
        }
      ]
    },
    {
      "cell_type": "code",
      "source": [
        "# Load images and labels\n",
        "from keras.utils import to_categorical #one hot encoding\n",
        "photos = np.load('/content/drive/MyDrive/AI -Trần Thảo Hưng -20146344/model/FL_PHOTOS3.npy')\n",
        "labels = np.load('/content/drive/MyDrive/AI -Trần Thảo Hưng -20146344/model/FL_LABELS3.npy')\n",
        "labels_one_hot = to_categorical(labels)\n",
        "x_train, x_test, y_train, y_test = train_test_split(photos, labels_one_hot, test_size = 0.2, random_state = 128)"
      ],
      "metadata": {
        "id": "lp7XL7SblsKl"
      },
      "execution_count": 16,
      "outputs": []
    },
    {
      "cell_type": "code",
      "source": [
        "model = Sequential()\n",
        "#Convolutional\n",
        "model.add(Conv2D(8, kernel_size= (3,3), activation= 'relu', input_shape = (128,128,3), padding= 'same'))\n",
        "model.add(MaxPooling2D((2,2), padding= 'same'))\n",
        "\n",
        "model.add(Conv2D(16, kernel_size= (3,3), activation= 'relu', padding= 'same'))\n",
        "model.add(MaxPooling2D((2,2), padding= 'same'))\n",
        "\n",
        "model.add(Conv2D(32, kernel_size= (3,3), activation= 'relu', padding= 'same'))\n",
        "model.add(Conv2D(32, kernel_size= (3,3), activation= 'relu', padding= 'same'))\n",
        "model.add(MaxPooling2D((2,2), padding= 'same'))\n",
        "\n",
        "model.add(Conv2D(128, kernel_size= (5,5), activation= 'relu', padding= 'same'))\n",
        "model.add(Conv2D(128, kernel_size= (5,5), activation= 'relu', padding= 'same'))\n",
        "model.add(MaxPooling2D((4,4), padding= 'same'))\n",
        "\n",
        "# Fully connected layers\n",
        "model.add(Flatten())\n",
        "model.add(Dense(512, activation= 'relu'))\n",
        "model.add(Dropout(0.5))\n",
        "model.add(Dense(10, activation= 'softmax'))\n",
        "model.compile(loss='categorical_crossentropy', optimizer = Adam(), metrics=['accuracy'])\n",
        "model.summary()"
      ],
      "metadata": {
        "colab": {
          "base_uri": "https://localhost:8080/"
        },
        "id": "N0JYyJhIlt-9",
        "outputId": "9bcbd753-8140-4284-d65b-7b80edf4e21f"
      },
      "execution_count": 17,
      "outputs": [
        {
          "output_type": "stream",
          "name": "stdout",
          "text": [
            "Model: \"sequential_1\"\n",
            "_________________________________________________________________\n",
            " Layer (type)                Output Shape              Param #   \n",
            "=================================================================\n",
            " conv2d_6 (Conv2D)           (None, 128, 128, 8)       224       \n",
            "                                                                 \n",
            " max_pooling2d_4 (MaxPooling  (None, 64, 64, 8)        0         \n",
            " 2D)                                                             \n",
            "                                                                 \n",
            " conv2d_7 (Conv2D)           (None, 64, 64, 16)        1168      \n",
            "                                                                 \n",
            " max_pooling2d_5 (MaxPooling  (None, 32, 32, 16)       0         \n",
            " 2D)                                                             \n",
            "                                                                 \n",
            " conv2d_8 (Conv2D)           (None, 32, 32, 32)        4640      \n",
            "                                                                 \n",
            " conv2d_9 (Conv2D)           (None, 32, 32, 32)        9248      \n",
            "                                                                 \n",
            " max_pooling2d_6 (MaxPooling  (None, 16, 16, 32)       0         \n",
            " 2D)                                                             \n",
            "                                                                 \n",
            " conv2d_10 (Conv2D)          (None, 16, 16, 128)       102528    \n",
            "                                                                 \n",
            " conv2d_11 (Conv2D)          (None, 16, 16, 128)       409728    \n",
            "                                                                 \n",
            " max_pooling2d_7 (MaxPooling  (None, 4, 4, 128)        0         \n",
            " 2D)                                                             \n",
            "                                                                 \n",
            " flatten_1 (Flatten)         (None, 2048)              0         \n",
            "                                                                 \n",
            " dense_2 (Dense)             (None, 512)               1049088   \n",
            "                                                                 \n",
            " dropout_1 (Dropout)         (None, 512)               0         \n",
            "                                                                 \n",
            " dense_3 (Dense)             (None, 10)                5130      \n",
            "                                                                 \n",
            "=================================================================\n",
            "Total params: 1,581,754\n",
            "Trainable params: 1,581,754\n",
            "Non-trainable params: 0\n",
            "_________________________________________________________________\n"
          ]
        }
      ]
    },
    {
      "cell_type": "code",
      "source": [
        "from keras.preprocessing.image import ImageDataGenerator\n",
        "aug = ImageDataGenerator(rotation_range=20, zoom_range=0.2,\n",
        "    rescale=1./255,\n",
        "\twidth_shift_range=0.2,\n",
        "    height_shift_range=0.2,\n",
        "\thorizontal_flip=True,\n",
        "    brightness_range=[0.2,1.5], fill_mode=\"nearest\")"
      ],
      "metadata": {
        "id": "1vL9Bt43NpFR"
      },
      "execution_count": 18,
      "outputs": []
    },
    {
      "cell_type": "code",
      "source": [
        "y_train.shape"
      ],
      "metadata": {
        "colab": {
          "base_uri": "https://localhost:8080/"
        },
        "id": "f8YA8GNcl0EJ",
        "outputId": "09434873-fac4-429f-e78e-4f8c1ab07622"
      },
      "execution_count": 19,
      "outputs": [
        {
          "output_type": "execute_result",
          "data": {
            "text/plain": [
              "(990, 10)"
            ]
          },
          "metadata": {},
          "execution_count": 19
        }
      ]
    },
    {
      "cell_type": "code",
      "source": [
        "# Training \n",
        "train = model.fit_generator(aug.flow(x_train, y_train, batch_size=64),\n",
        "                               epochs=200,\n",
        "                               validation_data=aug.flow(x_test,y_test,\n",
        "                               batch_size=len(x_test)))"
      ],
      "metadata": {
        "colab": {
          "base_uri": "https://localhost:8080/"
        },
        "id": "_yw-dLT9l1qR",
        "outputId": "06c5e7e7-96a5-4b87-ba1d-90d239ed6249"
      },
      "execution_count": 20,
      "outputs": [
        {
          "output_type": "stream",
          "name": "stderr",
          "text": [
            "<ipython-input-20-e3ce0a308667>:2: UserWarning: `Model.fit_generator` is deprecated and will be removed in a future version. Please use `Model.fit`, which supports generators.\n",
            "  train = model.fit_generator(aug.flow(x_train, y_train, batch_size=64),\n"
          ]
        },
        {
          "output_type": "stream",
          "name": "stdout",
          "text": [
            "Epoch 1/200\n",
            "16/16 [==============================] - 11s 628ms/step - loss: 2.1993 - accuracy: 0.2848 - val_loss: 2.1956 - val_accuracy: 0.2298\n",
            "Epoch 2/200\n",
            "16/16 [==============================] - 6s 395ms/step - loss: 2.0779 - accuracy: 0.2848 - val_loss: 2.0964 - val_accuracy: 0.2540\n",
            "Epoch 3/200\n",
            "16/16 [==============================] - 5s 319ms/step - loss: 1.9189 - accuracy: 0.2788 - val_loss: 1.8126 - val_accuracy: 0.2460\n",
            "Epoch 4/200\n",
            "16/16 [==============================] - 7s 462ms/step - loss: 1.6326 - accuracy: 0.3727 - val_loss: 1.4719 - val_accuracy: 0.4516\n",
            "Epoch 5/200\n",
            "16/16 [==============================] - 5s 320ms/step - loss: 1.4718 - accuracy: 0.4253 - val_loss: 1.4979 - val_accuracy: 0.4355\n",
            "Epoch 6/200\n",
            "16/16 [==============================] - 7s 417ms/step - loss: 1.3940 - accuracy: 0.4727 - val_loss: 1.6385 - val_accuracy: 0.4677\n",
            "Epoch 7/200\n",
            "16/16 [==============================] - 5s 320ms/step - loss: 1.3394 - accuracy: 0.4909 - val_loss: 1.1747 - val_accuracy: 0.6250\n",
            "Epoch 8/200\n",
            "16/16 [==============================] - 7s 416ms/step - loss: 1.1921 - accuracy: 0.5596 - val_loss: 1.0856 - val_accuracy: 0.5565\n",
            "Epoch 9/200\n",
            "16/16 [==============================] - 5s 319ms/step - loss: 1.1714 - accuracy: 0.5424 - val_loss: 1.0346 - val_accuracy: 0.5927\n",
            "Epoch 10/200\n",
            "16/16 [==============================] - 7s 442ms/step - loss: 1.0783 - accuracy: 0.5818 - val_loss: 1.0313 - val_accuracy: 0.5605\n",
            "Epoch 11/200\n",
            "16/16 [==============================] - 5s 320ms/step - loss: 1.0167 - accuracy: 0.6040 - val_loss: 0.9642 - val_accuracy: 0.6532\n",
            "Epoch 12/200\n",
            "16/16 [==============================] - 5s 334ms/step - loss: 1.0067 - accuracy: 0.6384 - val_loss: 1.1612 - val_accuracy: 0.5484\n",
            "Epoch 13/200\n",
            "16/16 [==============================] - 5s 319ms/step - loss: 1.0759 - accuracy: 0.5990 - val_loss: 1.0274 - val_accuracy: 0.6129\n",
            "Epoch 14/200\n",
            "16/16 [==============================] - 7s 431ms/step - loss: 0.9704 - accuracy: 0.6525 - val_loss: 0.9243 - val_accuracy: 0.6492\n",
            "Epoch 15/200\n",
            "16/16 [==============================] - 5s 320ms/step - loss: 0.9134 - accuracy: 0.6515 - val_loss: 0.8738 - val_accuracy: 0.6815\n",
            "Epoch 16/200\n",
            "16/16 [==============================] - 6s 381ms/step - loss: 0.8177 - accuracy: 0.6949 - val_loss: 0.7733 - val_accuracy: 0.7056\n",
            "Epoch 17/200\n",
            "16/16 [==============================] - 6s 351ms/step - loss: 0.7640 - accuracy: 0.7232 - val_loss: 0.7633 - val_accuracy: 0.7016\n",
            "Epoch 18/200\n",
            "16/16 [==============================] - 5s 323ms/step - loss: 0.7483 - accuracy: 0.7162 - val_loss: 0.6692 - val_accuracy: 0.7540\n",
            "Epoch 19/200\n",
            "16/16 [==============================] - 7s 417ms/step - loss: 0.7046 - accuracy: 0.7343 - val_loss: 0.8275 - val_accuracy: 0.7218\n",
            "Epoch 20/200\n",
            "16/16 [==============================] - 5s 321ms/step - loss: 0.7939 - accuracy: 0.7071 - val_loss: 0.7177 - val_accuracy: 0.7581\n",
            "Epoch 21/200\n",
            "16/16 [==============================] - 5s 321ms/step - loss: 0.7153 - accuracy: 0.7283 - val_loss: 0.6237 - val_accuracy: 0.8065\n",
            "Epoch 22/200\n",
            "16/16 [==============================] - 6s 359ms/step - loss: 0.6573 - accuracy: 0.7626 - val_loss: 0.5527 - val_accuracy: 0.7944\n",
            "Epoch 23/200\n",
            "16/16 [==============================] - 6s 372ms/step - loss: 0.5693 - accuracy: 0.8051 - val_loss: 0.6904 - val_accuracy: 0.7379\n",
            "Epoch 24/200\n",
            "16/16 [==============================] - 5s 316ms/step - loss: 0.5709 - accuracy: 0.7838 - val_loss: 0.5006 - val_accuracy: 0.8185\n",
            "Epoch 25/200\n",
            "16/16 [==============================] - 6s 411ms/step - loss: 0.5397 - accuracy: 0.8010 - val_loss: 0.6589 - val_accuracy: 0.7863\n",
            "Epoch 26/200\n",
            "16/16 [==============================] - 5s 320ms/step - loss: 0.5306 - accuracy: 0.8101 - val_loss: 0.6108 - val_accuracy: 0.7863\n",
            "Epoch 27/200\n",
            "16/16 [==============================] - 7s 455ms/step - loss: 0.5419 - accuracy: 0.8020 - val_loss: 0.6505 - val_accuracy: 0.8185\n",
            "Epoch 28/200\n",
            "16/16 [==============================] - 5s 317ms/step - loss: 0.5420 - accuracy: 0.8051 - val_loss: 0.5958 - val_accuracy: 0.8024\n",
            "Epoch 29/200\n",
            "16/16 [==============================] - 7s 422ms/step - loss: 0.5302 - accuracy: 0.8162 - val_loss: 0.6382 - val_accuracy: 0.8024\n",
            "Epoch 30/200\n",
            "16/16 [==============================] - 5s 321ms/step - loss: 0.4647 - accuracy: 0.8172 - val_loss: 0.5876 - val_accuracy: 0.8145\n",
            "Epoch 31/200\n",
            "16/16 [==============================] - 6s 410ms/step - loss: 0.4295 - accuracy: 0.8626 - val_loss: 0.6003 - val_accuracy: 0.8065\n",
            "Epoch 32/200\n",
            "16/16 [==============================] - 5s 337ms/step - loss: 0.4069 - accuracy: 0.8576 - val_loss: 0.6768 - val_accuracy: 0.7782\n",
            "Epoch 33/200\n",
            "16/16 [==============================] - 5s 328ms/step - loss: 0.4363 - accuracy: 0.8556 - val_loss: 0.5248 - val_accuracy: 0.8427\n",
            "Epoch 34/200\n",
            "16/16 [==============================] - 6s 414ms/step - loss: 0.4696 - accuracy: 0.8434 - val_loss: 0.6047 - val_accuracy: 0.8105\n",
            "Epoch 35/200\n",
            "16/16 [==============================] - 5s 333ms/step - loss: 0.4473 - accuracy: 0.8444 - val_loss: 0.4365 - val_accuracy: 0.8629\n",
            "Epoch 36/200\n",
            "16/16 [==============================] - 6s 367ms/step - loss: 0.4499 - accuracy: 0.8556 - val_loss: 0.3895 - val_accuracy: 0.8629\n",
            "Epoch 37/200\n",
            "16/16 [==============================] - 6s 351ms/step - loss: 0.3182 - accuracy: 0.8889 - val_loss: 0.4196 - val_accuracy: 0.8750\n",
            "Epoch 38/200\n",
            "16/16 [==============================] - 5s 318ms/step - loss: 0.3898 - accuracy: 0.8495 - val_loss: 0.4925 - val_accuracy: 0.8508\n",
            "Epoch 39/200\n",
            "16/16 [==============================] - 7s 427ms/step - loss: 0.3931 - accuracy: 0.8566 - val_loss: 0.4325 - val_accuracy: 0.8468\n",
            "Epoch 40/200\n",
            "16/16 [==============================] - 5s 321ms/step - loss: 0.2775 - accuracy: 0.9051 - val_loss: 0.5073 - val_accuracy: 0.8427\n",
            "Epoch 41/200\n",
            "16/16 [==============================] - 6s 409ms/step - loss: 0.3003 - accuracy: 0.8939 - val_loss: 0.4021 - val_accuracy: 0.8871\n",
            "Epoch 42/200\n",
            "16/16 [==============================] - 5s 321ms/step - loss: 0.3319 - accuracy: 0.8960 - val_loss: 0.5931 - val_accuracy: 0.8105\n",
            "Epoch 43/200\n",
            "16/16 [==============================] - 6s 411ms/step - loss: 0.3212 - accuracy: 0.8899 - val_loss: 0.3983 - val_accuracy: 0.8548\n",
            "Epoch 44/200\n",
            "16/16 [==============================] - 5s 317ms/step - loss: 0.3714 - accuracy: 0.8747 - val_loss: 0.4707 - val_accuracy: 0.8508\n",
            "Epoch 45/200\n",
            "16/16 [==============================] - 6s 390ms/step - loss: 0.3295 - accuracy: 0.8707 - val_loss: 0.4034 - val_accuracy: 0.8629\n",
            "Epoch 46/200\n",
            "16/16 [==============================] - 5s 328ms/step - loss: 0.2854 - accuracy: 0.8960 - val_loss: 0.4144 - val_accuracy: 0.8831\n",
            "Epoch 47/200\n",
            "16/16 [==============================] - 5s 318ms/step - loss: 0.2506 - accuracy: 0.9131 - val_loss: 0.4513 - val_accuracy: 0.8790\n",
            "Epoch 48/200\n",
            "16/16 [==============================] - 6s 410ms/step - loss: 0.2644 - accuracy: 0.9141 - val_loss: 0.3399 - val_accuracy: 0.8790\n",
            "Epoch 49/200\n",
            "16/16 [==============================] - 5s 317ms/step - loss: 0.2278 - accuracy: 0.9182 - val_loss: 0.4493 - val_accuracy: 0.8750\n",
            "Epoch 50/200\n",
            "16/16 [==============================] - 6s 412ms/step - loss: 0.2200 - accuracy: 0.9242 - val_loss: 0.3592 - val_accuracy: 0.8911\n",
            "Epoch 51/200\n",
            "16/16 [==============================] - 5s 320ms/step - loss: 0.2225 - accuracy: 0.9253 - val_loss: 0.6443 - val_accuracy: 0.8306\n",
            "Epoch 52/200\n",
            "16/16 [==============================] - 5s 345ms/step - loss: 0.2445 - accuracy: 0.9131 - val_loss: 0.4677 - val_accuracy: 0.8427\n",
            "Epoch 53/200\n",
            "16/16 [==============================] - 5s 319ms/step - loss: 0.2222 - accuracy: 0.9273 - val_loss: 0.3688 - val_accuracy: 0.8911\n",
            "Epoch 54/200\n",
            "16/16 [==============================] - 6s 414ms/step - loss: 0.2665 - accuracy: 0.9040 - val_loss: 0.4704 - val_accuracy: 0.9073\n",
            "Epoch 55/200\n",
            "16/16 [==============================] - 5s 341ms/step - loss: 0.2278 - accuracy: 0.9162 - val_loss: 0.4038 - val_accuracy: 0.8952\n",
            "Epoch 56/200\n",
            "16/16 [==============================] - 6s 382ms/step - loss: 0.2236 - accuracy: 0.9131 - val_loss: 0.4752 - val_accuracy: 0.8952\n",
            "Epoch 57/200\n",
            "16/16 [==============================] - 5s 334ms/step - loss: 0.2742 - accuracy: 0.9212 - val_loss: 0.4158 - val_accuracy: 0.8992\n",
            "Epoch 58/200\n",
            "16/16 [==============================] - 5s 317ms/step - loss: 0.2258 - accuracy: 0.9212 - val_loss: 0.4398 - val_accuracy: 0.8871\n",
            "Epoch 59/200\n",
            "16/16 [==============================] - 6s 414ms/step - loss: 0.1947 - accuracy: 0.9475 - val_loss: 0.3626 - val_accuracy: 0.8992\n",
            "Epoch 60/200\n",
            "16/16 [==============================] - 5s 321ms/step - loss: 0.2035 - accuracy: 0.9273 - val_loss: 0.4556 - val_accuracy: 0.8790\n",
            "Epoch 61/200\n",
            "16/16 [==============================] - 7s 418ms/step - loss: 0.2622 - accuracy: 0.9141 - val_loss: 0.5277 - val_accuracy: 0.8669\n",
            "Epoch 62/200\n",
            "16/16 [==============================] - 5s 320ms/step - loss: 0.1894 - accuracy: 0.9384 - val_loss: 0.4302 - val_accuracy: 0.8952\n",
            "Epoch 63/200\n",
            "16/16 [==============================] - 5s 333ms/step - loss: 0.1827 - accuracy: 0.9313 - val_loss: 0.5327 - val_accuracy: 0.8750\n",
            "Epoch 64/200\n",
            "16/16 [==============================] - 6s 379ms/step - loss: 0.1755 - accuracy: 0.9465 - val_loss: 0.4614 - val_accuracy: 0.8871\n",
            "Epoch 65/200\n",
            "16/16 [==============================] - 5s 319ms/step - loss: 0.2794 - accuracy: 0.9101 - val_loss: 0.6007 - val_accuracy: 0.8226\n",
            "Epoch 66/200\n",
            "16/16 [==============================] - 7s 416ms/step - loss: 0.2314 - accuracy: 0.9182 - val_loss: 0.4166 - val_accuracy: 0.8992\n",
            "Epoch 67/200\n",
            "16/16 [==============================] - 5s 323ms/step - loss: 0.1663 - accuracy: 0.9354 - val_loss: 0.4266 - val_accuracy: 0.8831\n",
            "Epoch 68/200\n",
            "16/16 [==============================] - 6s 380ms/step - loss: 0.1938 - accuracy: 0.9303 - val_loss: 0.4707 - val_accuracy: 0.8750\n",
            "Epoch 69/200\n",
            "16/16 [==============================] - 5s 325ms/step - loss: 0.1893 - accuracy: 0.9374 - val_loss: 0.4807 - val_accuracy: 0.8790\n",
            "Epoch 70/200\n",
            "16/16 [==============================] - 6s 414ms/step - loss: 0.1631 - accuracy: 0.9394 - val_loss: 0.4277 - val_accuracy: 0.8871\n",
            "Epoch 71/200\n",
            "16/16 [==============================] - 5s 324ms/step - loss: 0.1524 - accuracy: 0.9505 - val_loss: 0.5053 - val_accuracy: 0.8750\n",
            "Epoch 72/200\n",
            "16/16 [==============================] - 5s 330ms/step - loss: 0.1257 - accuracy: 0.9586 - val_loss: 0.4092 - val_accuracy: 0.9073\n",
            "Epoch 73/200\n",
            "16/16 [==============================] - 5s 325ms/step - loss: 0.1219 - accuracy: 0.9566 - val_loss: 0.3727 - val_accuracy: 0.9153\n",
            "Epoch 74/200\n",
            "16/16 [==============================] - 6s 414ms/step - loss: 0.1062 - accuracy: 0.9636 - val_loss: 0.4623 - val_accuracy: 0.8911\n",
            "Epoch 75/200\n",
            "16/16 [==============================] - 5s 321ms/step - loss: 0.1097 - accuracy: 0.9657 - val_loss: 0.3535 - val_accuracy: 0.8992\n",
            "Epoch 76/200\n",
            "16/16 [==============================] - 6s 413ms/step - loss: 0.1421 - accuracy: 0.9424 - val_loss: 0.3958 - val_accuracy: 0.9073\n",
            "Epoch 77/200\n",
            "16/16 [==============================] - 5s 321ms/step - loss: 0.1755 - accuracy: 0.9414 - val_loss: 0.4165 - val_accuracy: 0.9113\n",
            "Epoch 78/200\n",
            "16/16 [==============================] - 7s 419ms/step - loss: 0.1739 - accuracy: 0.9364 - val_loss: 0.4385 - val_accuracy: 0.8831\n",
            "Epoch 79/200\n",
            "16/16 [==============================] - 5s 327ms/step - loss: 0.1681 - accuracy: 0.9455 - val_loss: 0.5923 - val_accuracy: 0.8911\n",
            "Epoch 80/200\n",
            "16/16 [==============================] - 5s 322ms/step - loss: 0.1537 - accuracy: 0.9495 - val_loss: 0.5715 - val_accuracy: 0.8508\n",
            "Epoch 81/200\n",
            "16/16 [==============================] - 7s 415ms/step - loss: 0.1270 - accuracy: 0.9626 - val_loss: 0.5988 - val_accuracy: 0.8871\n",
            "Epoch 82/200\n",
            "16/16 [==============================] - 5s 320ms/step - loss: 0.1296 - accuracy: 0.9566 - val_loss: 0.3597 - val_accuracy: 0.9153\n",
            "Epoch 83/200\n",
            "16/16 [==============================] - 6s 421ms/step - loss: 0.1209 - accuracy: 0.9566 - val_loss: 0.4517 - val_accuracy: 0.9032\n",
            "Epoch 84/200\n",
            "16/16 [==============================] - 5s 322ms/step - loss: 0.1582 - accuracy: 0.9434 - val_loss: 0.4358 - val_accuracy: 0.8911\n",
            "Epoch 85/200\n",
            "16/16 [==============================] - 7s 420ms/step - loss: 0.1611 - accuracy: 0.9444 - val_loss: 0.3717 - val_accuracy: 0.9032\n",
            "Epoch 86/200\n",
            "16/16 [==============================] - 5s 328ms/step - loss: 0.1539 - accuracy: 0.9455 - val_loss: 0.3895 - val_accuracy: 0.8831\n",
            "Epoch 87/200\n",
            "16/16 [==============================] - 5s 320ms/step - loss: 0.1261 - accuracy: 0.9495 - val_loss: 0.4898 - val_accuracy: 0.8710\n",
            "Epoch 88/200\n",
            "16/16 [==============================] - 7s 413ms/step - loss: 0.1077 - accuracy: 0.9545 - val_loss: 0.5373 - val_accuracy: 0.8911\n",
            "Epoch 89/200\n",
            "16/16 [==============================] - 5s 320ms/step - loss: 0.1096 - accuracy: 0.9636 - val_loss: 0.4999 - val_accuracy: 0.9073\n",
            "Epoch 90/200\n",
            "16/16 [==============================] - 6s 410ms/step - loss: 0.1047 - accuracy: 0.9606 - val_loss: 0.4222 - val_accuracy: 0.8831\n",
            "Epoch 91/200\n",
            "16/16 [==============================] - 5s 320ms/step - loss: 0.1359 - accuracy: 0.9545 - val_loss: 0.4646 - val_accuracy: 0.8629\n",
            "Epoch 92/200\n",
            "16/16 [==============================] - 7s 421ms/step - loss: 0.1390 - accuracy: 0.9515 - val_loss: 0.4571 - val_accuracy: 0.8750\n",
            "Epoch 93/200\n",
            "16/16 [==============================] - 5s 323ms/step - loss: 0.1327 - accuracy: 0.9667 - val_loss: 0.4726 - val_accuracy: 0.9113\n",
            "Epoch 94/200\n",
            "16/16 [==============================] - 7s 421ms/step - loss: 0.1413 - accuracy: 0.9657 - val_loss: 0.6605 - val_accuracy: 0.8750\n",
            "Epoch 95/200\n",
            "16/16 [==============================] - 5s 326ms/step - loss: 0.1384 - accuracy: 0.9515 - val_loss: 0.5712 - val_accuracy: 0.8508\n",
            "Epoch 96/200\n",
            "16/16 [==============================] - 6s 381ms/step - loss: 0.1054 - accuracy: 0.9677 - val_loss: 0.3498 - val_accuracy: 0.9315\n",
            "Epoch 97/200\n",
            "16/16 [==============================] - 6s 341ms/step - loss: 0.1112 - accuracy: 0.9576 - val_loss: 0.4011 - val_accuracy: 0.9073\n",
            "Epoch 98/200\n",
            "16/16 [==============================] - 5s 319ms/step - loss: 0.1005 - accuracy: 0.9687 - val_loss: 0.3925 - val_accuracy: 0.8871\n",
            "Epoch 99/200\n",
            "16/16 [==============================] - 6s 412ms/step - loss: 0.1503 - accuracy: 0.9505 - val_loss: 0.3863 - val_accuracy: 0.9113\n",
            "Epoch 100/200\n",
            "16/16 [==============================] - 6s 367ms/step - loss: 0.1081 - accuracy: 0.9707 - val_loss: 0.4253 - val_accuracy: 0.8992\n",
            "Epoch 101/200\n",
            "16/16 [==============================] - 5s 322ms/step - loss: 0.0769 - accuracy: 0.9768 - val_loss: 0.3820 - val_accuracy: 0.9153\n",
            "Epoch 102/200\n",
            "16/16 [==============================] - 5s 326ms/step - loss: 0.0576 - accuracy: 0.9788 - val_loss: 0.4628 - val_accuracy: 0.9113\n",
            "Epoch 103/200\n",
            "16/16 [==============================] - 6s 389ms/step - loss: 0.0756 - accuracy: 0.9697 - val_loss: 0.5962 - val_accuracy: 0.8992\n",
            "Epoch 104/200\n",
            "16/16 [==============================] - 6s 337ms/step - loss: 0.1443 - accuracy: 0.9535 - val_loss: 0.5941 - val_accuracy: 0.8508\n",
            "Epoch 105/200\n",
            "16/16 [==============================] - 5s 324ms/step - loss: 0.1592 - accuracy: 0.9475 - val_loss: 0.3759 - val_accuracy: 0.9073\n",
            "Epoch 106/200\n",
            "16/16 [==============================] - 7s 417ms/step - loss: 0.1132 - accuracy: 0.9646 - val_loss: 0.3938 - val_accuracy: 0.9194\n",
            "Epoch 107/200\n",
            "16/16 [==============================] - 5s 321ms/step - loss: 0.0676 - accuracy: 0.9758 - val_loss: 0.3186 - val_accuracy: 0.9395\n",
            "Epoch 108/200\n",
            "16/16 [==============================] - 5s 323ms/step - loss: 0.0797 - accuracy: 0.9697 - val_loss: 0.3894 - val_accuracy: 0.9234\n",
            "Epoch 109/200\n",
            "16/16 [==============================] - 7s 422ms/step - loss: 0.0989 - accuracy: 0.9727 - val_loss: 0.4944 - val_accuracy: 0.8831\n",
            "Epoch 110/200\n",
            "16/16 [==============================] - 5s 321ms/step - loss: 0.1303 - accuracy: 0.9606 - val_loss: 0.5916 - val_accuracy: 0.8669\n",
            "Epoch 111/200\n",
            "16/16 [==============================] - 5s 320ms/step - loss: 0.0848 - accuracy: 0.9717 - val_loss: 0.4397 - val_accuracy: 0.9234\n",
            "Epoch 112/200\n",
            "16/16 [==============================] - 5s 320ms/step - loss: 0.0591 - accuracy: 0.9798 - val_loss: 0.5034 - val_accuracy: 0.8992\n",
            "Epoch 113/200\n",
            "16/16 [==============================] - 5s 323ms/step - loss: 0.0903 - accuracy: 0.9697 - val_loss: 0.4894 - val_accuracy: 0.8790\n",
            "Epoch 114/200\n",
            "16/16 [==============================] - 6s 366ms/step - loss: 0.1013 - accuracy: 0.9677 - val_loss: 0.5653 - val_accuracy: 0.8871\n",
            "Epoch 115/200\n",
            "16/16 [==============================] - 6s 351ms/step - loss: 0.0809 - accuracy: 0.9697 - val_loss: 0.5735 - val_accuracy: 0.8750\n",
            "Epoch 116/200\n",
            "16/16 [==============================] - 5s 322ms/step - loss: 0.0893 - accuracy: 0.9687 - val_loss: 0.4369 - val_accuracy: 0.9073\n",
            "Epoch 117/200\n",
            "16/16 [==============================] - 7s 416ms/step - loss: 0.0862 - accuracy: 0.9717 - val_loss: 0.4493 - val_accuracy: 0.8952\n",
            "Epoch 118/200\n",
            "16/16 [==============================] - 5s 323ms/step - loss: 0.0661 - accuracy: 0.9737 - val_loss: 0.5617 - val_accuracy: 0.8911\n",
            "Epoch 119/200\n",
            "16/16 [==============================] - 7s 415ms/step - loss: 0.0472 - accuracy: 0.9828 - val_loss: 0.4700 - val_accuracy: 0.9113\n",
            "Epoch 120/200\n",
            "16/16 [==============================] - 5s 329ms/step - loss: 0.0477 - accuracy: 0.9889 - val_loss: 0.5098 - val_accuracy: 0.9073\n",
            "Epoch 121/200\n",
            "16/16 [==============================] - 6s 412ms/step - loss: 0.0611 - accuracy: 0.9838 - val_loss: 0.5068 - val_accuracy: 0.9234\n",
            "Epoch 122/200\n",
            "16/16 [==============================] - 7s 421ms/step - loss: 0.1120 - accuracy: 0.9677 - val_loss: 0.6841 - val_accuracy: 0.8750\n",
            "Epoch 123/200\n",
            "16/16 [==============================] - 5s 326ms/step - loss: 0.0756 - accuracy: 0.9788 - val_loss: 0.4065 - val_accuracy: 0.9073\n",
            "Epoch 124/200\n",
            "16/16 [==============================] - 5s 320ms/step - loss: 0.0622 - accuracy: 0.9808 - val_loss: 0.4463 - val_accuracy: 0.9194\n",
            "Epoch 125/200\n",
            "16/16 [==============================] - 7s 413ms/step - loss: 0.0886 - accuracy: 0.9737 - val_loss: 0.5117 - val_accuracy: 0.9032\n",
            "Epoch 126/200\n",
            "16/16 [==============================] - 5s 322ms/step - loss: 0.0859 - accuracy: 0.9747 - val_loss: 0.3082 - val_accuracy: 0.9315\n",
            "Epoch 127/200\n",
            "16/16 [==============================] - 6s 412ms/step - loss: 0.0944 - accuracy: 0.9667 - val_loss: 0.4268 - val_accuracy: 0.8992\n",
            "Epoch 128/200\n",
            "16/16 [==============================] - 5s 325ms/step - loss: 0.0776 - accuracy: 0.9758 - val_loss: 0.3915 - val_accuracy: 0.9274\n",
            "Epoch 129/200\n",
            "16/16 [==============================] - 7s 421ms/step - loss: 0.1361 - accuracy: 0.9556 - val_loss: 0.5244 - val_accuracy: 0.8669\n",
            "Epoch 130/200\n",
            "16/16 [==============================] - 5s 323ms/step - loss: 0.1168 - accuracy: 0.9606 - val_loss: 0.4254 - val_accuracy: 0.9194\n",
            "Epoch 131/200\n",
            "16/16 [==============================] - 6s 414ms/step - loss: 0.0580 - accuracy: 0.9828 - val_loss: 0.3790 - val_accuracy: 0.9194\n",
            "Epoch 132/200\n",
            "16/16 [==============================] - 7s 430ms/step - loss: 0.0705 - accuracy: 0.9768 - val_loss: 0.6544 - val_accuracy: 0.8871\n",
            "Epoch 133/200\n",
            "16/16 [==============================] - 5s 329ms/step - loss: 0.0689 - accuracy: 0.9818 - val_loss: 0.5501 - val_accuracy: 0.9194\n",
            "Epoch 134/200\n",
            "16/16 [==============================] - 5s 336ms/step - loss: 0.0406 - accuracy: 0.9859 - val_loss: 0.5003 - val_accuracy: 0.9153\n",
            "Epoch 135/200\n",
            "16/16 [==============================] - 6s 389ms/step - loss: 0.0614 - accuracy: 0.9768 - val_loss: 0.5815 - val_accuracy: 0.9153\n",
            "Epoch 136/200\n",
            "16/16 [==============================] - 5s 318ms/step - loss: 0.0615 - accuracy: 0.9758 - val_loss: 0.3765 - val_accuracy: 0.9234\n",
            "Epoch 137/200\n",
            "16/16 [==============================] - 6s 413ms/step - loss: 0.0301 - accuracy: 0.9879 - val_loss: 0.7015 - val_accuracy: 0.9194\n",
            "Epoch 138/200\n",
            "16/16 [==============================] - 5s 322ms/step - loss: 0.0467 - accuracy: 0.9788 - val_loss: 0.4991 - val_accuracy: 0.9153\n",
            "Epoch 139/200\n",
            "16/16 [==============================] - 7s 439ms/step - loss: 0.0593 - accuracy: 0.9798 - val_loss: 0.4252 - val_accuracy: 0.9113\n",
            "Epoch 140/200\n",
            "16/16 [==============================] - 5s 324ms/step - loss: 0.0865 - accuracy: 0.9758 - val_loss: 0.4432 - val_accuracy: 0.9274\n",
            "Epoch 141/200\n",
            "16/16 [==============================] - 5s 328ms/step - loss: 0.0471 - accuracy: 0.9848 - val_loss: 0.6334 - val_accuracy: 0.9073\n",
            "Epoch 142/200\n",
            "16/16 [==============================] - 6s 390ms/step - loss: 0.0447 - accuracy: 0.9889 - val_loss: 0.6336 - val_accuracy: 0.9194\n",
            "Epoch 143/200\n",
            "16/16 [==============================] - 5s 318ms/step - loss: 0.0810 - accuracy: 0.9778 - val_loss: 0.5645 - val_accuracy: 0.9073\n",
            "Epoch 144/200\n",
            "16/16 [==============================] - 7s 419ms/step - loss: 0.0363 - accuracy: 0.9889 - val_loss: 0.5405 - val_accuracy: 0.8952\n",
            "Epoch 145/200\n",
            "16/16 [==============================] - 5s 319ms/step - loss: 0.0406 - accuracy: 0.9879 - val_loss: 0.5435 - val_accuracy: 0.9234\n",
            "Epoch 146/200\n",
            "16/16 [==============================] - 7s 434ms/step - loss: 0.0720 - accuracy: 0.9808 - val_loss: 0.3186 - val_accuracy: 0.9153\n",
            "Epoch 147/200\n",
            "16/16 [==============================] - 5s 320ms/step - loss: 0.0828 - accuracy: 0.9717 - val_loss: 0.3714 - val_accuracy: 0.9073\n",
            "Epoch 148/200\n",
            "16/16 [==============================] - 5s 335ms/step - loss: 0.0847 - accuracy: 0.9778 - val_loss: 0.5169 - val_accuracy: 0.8911\n",
            "Epoch 149/200\n",
            "16/16 [==============================] - 6s 389ms/step - loss: 0.0933 - accuracy: 0.9758 - val_loss: 0.2777 - val_accuracy: 0.9395\n",
            "Epoch 150/200\n",
            "16/16 [==============================] - 7s 474ms/step - loss: 0.0594 - accuracy: 0.9818 - val_loss: 0.4628 - val_accuracy: 0.9113\n",
            "Epoch 151/200\n",
            "16/16 [==============================] - 5s 321ms/step - loss: 0.0593 - accuracy: 0.9838 - val_loss: 0.4073 - val_accuracy: 0.9113\n",
            "Epoch 152/200\n",
            "16/16 [==============================] - 6s 408ms/step - loss: 0.0658 - accuracy: 0.9798 - val_loss: 0.8260 - val_accuracy: 0.8710\n",
            "Epoch 153/200\n",
            "16/16 [==============================] - 5s 324ms/step - loss: 0.0752 - accuracy: 0.9788 - val_loss: 0.5042 - val_accuracy: 0.8992\n",
            "Epoch 154/200\n",
            "16/16 [==============================] - 6s 395ms/step - loss: 0.0803 - accuracy: 0.9737 - val_loss: 0.7478 - val_accuracy: 0.8871\n",
            "Epoch 155/200\n",
            "16/16 [==============================] - 5s 325ms/step - loss: 0.0791 - accuracy: 0.9768 - val_loss: 0.4987 - val_accuracy: 0.8831\n",
            "Epoch 156/200\n",
            "16/16 [==============================] - 5s 322ms/step - loss: 0.0892 - accuracy: 0.9737 - val_loss: 0.7695 - val_accuracy: 0.8710\n",
            "Epoch 157/200\n",
            "16/16 [==============================] - 7s 407ms/step - loss: 0.0722 - accuracy: 0.9737 - val_loss: 0.6208 - val_accuracy: 0.8911\n",
            "Epoch 158/200\n",
            "16/16 [==============================] - 5s 336ms/step - loss: 0.0713 - accuracy: 0.9707 - val_loss: 0.5642 - val_accuracy: 0.9113\n",
            "Epoch 159/200\n",
            "16/16 [==============================] - 7s 415ms/step - loss: 0.0775 - accuracy: 0.9737 - val_loss: 0.4342 - val_accuracy: 0.9153\n",
            "Epoch 160/200\n",
            "16/16 [==============================] - 5s 319ms/step - loss: 0.0799 - accuracy: 0.9808 - val_loss: 0.6562 - val_accuracy: 0.9032\n",
            "Epoch 161/200\n",
            "16/16 [==============================] - 7s 420ms/step - loss: 0.0837 - accuracy: 0.9707 - val_loss: 0.6377 - val_accuracy: 0.8911\n",
            "Epoch 162/200\n",
            "16/16 [==============================] - 5s 322ms/step - loss: 0.0733 - accuracy: 0.9828 - val_loss: 0.6867 - val_accuracy: 0.8992\n",
            "Epoch 163/200\n",
            "16/16 [==============================] - 5s 322ms/step - loss: 0.0891 - accuracy: 0.9747 - val_loss: 0.4409 - val_accuracy: 0.9234\n",
            "Epoch 164/200\n",
            "16/16 [==============================] - 5s 320ms/step - loss: 0.0803 - accuracy: 0.9747 - val_loss: 0.5754 - val_accuracy: 0.8952\n",
            "Epoch 165/200\n",
            "16/16 [==============================] - 7s 425ms/step - loss: 0.0452 - accuracy: 0.9828 - val_loss: 0.3844 - val_accuracy: 0.9153\n",
            "Epoch 166/200\n",
            "16/16 [==============================] - 5s 324ms/step - loss: 0.0566 - accuracy: 0.9838 - val_loss: 0.6596 - val_accuracy: 0.8952\n",
            "Epoch 167/200\n",
            "16/16 [==============================] - 7s 429ms/step - loss: 0.0715 - accuracy: 0.9798 - val_loss: 0.7526 - val_accuracy: 0.8669\n",
            "Epoch 168/200\n",
            "16/16 [==============================] - 5s 322ms/step - loss: 0.1452 - accuracy: 0.9545 - val_loss: 0.6763 - val_accuracy: 0.8790\n",
            "Epoch 169/200\n",
            "16/16 [==============================] - 5s 317ms/step - loss: 0.1103 - accuracy: 0.9677 - val_loss: 0.5622 - val_accuracy: 0.8871\n",
            "Epoch 170/200\n",
            "16/16 [==============================] - 7s 440ms/step - loss: 0.1136 - accuracy: 0.9646 - val_loss: 0.3883 - val_accuracy: 0.9274\n",
            "Epoch 171/200\n",
            "16/16 [==============================] - 5s 319ms/step - loss: 0.0535 - accuracy: 0.9818 - val_loss: 0.5638 - val_accuracy: 0.9234\n",
            "Epoch 172/200\n",
            "16/16 [==============================] - 5s 341ms/step - loss: 0.0300 - accuracy: 0.9919 - val_loss: 0.6810 - val_accuracy: 0.8831\n",
            "Epoch 173/200\n",
            "16/16 [==============================] - 5s 321ms/step - loss: 0.0739 - accuracy: 0.9778 - val_loss: 0.4403 - val_accuracy: 0.9032\n",
            "Epoch 174/200\n",
            "16/16 [==============================] - 6s 411ms/step - loss: 0.0699 - accuracy: 0.9778 - val_loss: 0.5595 - val_accuracy: 0.8831\n",
            "Epoch 175/200\n",
            "16/16 [==============================] - 5s 323ms/step - loss: 0.0643 - accuracy: 0.9818 - val_loss: 0.4263 - val_accuracy: 0.9032\n",
            "Epoch 176/200\n",
            "16/16 [==============================] - 7s 428ms/step - loss: 0.0820 - accuracy: 0.9758 - val_loss: 0.5513 - val_accuracy: 0.8911\n",
            "Epoch 177/200\n",
            "16/16 [==============================] - 5s 323ms/step - loss: 0.0837 - accuracy: 0.9768 - val_loss: 0.4660 - val_accuracy: 0.8952\n",
            "Epoch 178/200\n",
            "16/16 [==============================] - 7s 414ms/step - loss: 0.0508 - accuracy: 0.9848 - val_loss: 0.5992 - val_accuracy: 0.8911\n",
            "Epoch 179/200\n",
            "16/16 [==============================] - 5s 322ms/step - loss: 0.0532 - accuracy: 0.9808 - val_loss: 0.6111 - val_accuracy: 0.8992\n",
            "Epoch 180/200\n",
            "16/16 [==============================] - 6s 388ms/step - loss: 0.0705 - accuracy: 0.9778 - val_loss: 0.7227 - val_accuracy: 0.8790\n",
            "Epoch 181/200\n",
            "16/16 [==============================] - 5s 320ms/step - loss: 0.0340 - accuracy: 0.9899 - val_loss: 0.6465 - val_accuracy: 0.9113\n",
            "Epoch 182/200\n",
            "16/16 [==============================] - 7s 420ms/step - loss: 0.0362 - accuracy: 0.9848 - val_loss: 0.6164 - val_accuracy: 0.9113\n",
            "Epoch 183/200\n",
            "16/16 [==============================] - 5s 318ms/step - loss: 0.0364 - accuracy: 0.9909 - val_loss: 0.6411 - val_accuracy: 0.8952\n",
            "Epoch 184/200\n",
            "16/16 [==============================] - 7s 442ms/step - loss: 0.0769 - accuracy: 0.9848 - val_loss: 0.4148 - val_accuracy: 0.9153\n",
            "Epoch 185/200\n",
            "16/16 [==============================] - 5s 317ms/step - loss: 0.0629 - accuracy: 0.9838 - val_loss: 0.5484 - val_accuracy: 0.8992\n",
            "Epoch 186/200\n",
            "16/16 [==============================] - 7s 423ms/step - loss: 0.1051 - accuracy: 0.9737 - val_loss: 0.4205 - val_accuracy: 0.9113\n",
            "Epoch 187/200\n",
            "16/16 [==============================] - 5s 326ms/step - loss: 0.0776 - accuracy: 0.9828 - val_loss: 0.3445 - val_accuracy: 0.9194\n",
            "Epoch 188/200\n",
            "16/16 [==============================] - 5s 328ms/step - loss: 0.0537 - accuracy: 0.9859 - val_loss: 0.4281 - val_accuracy: 0.9194\n",
            "Epoch 189/200\n",
            "16/16 [==============================] - 7s 415ms/step - loss: 0.0524 - accuracy: 0.9889 - val_loss: 0.5064 - val_accuracy: 0.8911\n",
            "Epoch 190/200\n",
            "16/16 [==============================] - 5s 321ms/step - loss: 0.0689 - accuracy: 0.9808 - val_loss: 0.3939 - val_accuracy: 0.9153\n",
            "Epoch 191/200\n",
            "16/16 [==============================] - 7s 414ms/step - loss: 0.0429 - accuracy: 0.9838 - val_loss: 0.4063 - val_accuracy: 0.9194\n",
            "Epoch 192/200\n",
            "16/16 [==============================] - 5s 321ms/step - loss: 0.0402 - accuracy: 0.9869 - val_loss: 0.4378 - val_accuracy: 0.9032\n",
            "Epoch 193/200\n",
            "16/16 [==============================] - 7s 421ms/step - loss: 0.0674 - accuracy: 0.9758 - val_loss: 0.4975 - val_accuracy: 0.9073\n",
            "Epoch 194/200\n",
            "16/16 [==============================] - 5s 329ms/step - loss: 0.0593 - accuracy: 0.9828 - val_loss: 0.4295 - val_accuracy: 0.9194\n",
            "Epoch 195/200\n",
            "16/16 [==============================] - 5s 319ms/step - loss: 0.0444 - accuracy: 0.9879 - val_loss: 0.7898 - val_accuracy: 0.8589\n",
            "Epoch 196/200\n",
            "16/16 [==============================] - 6s 416ms/step - loss: 0.0486 - accuracy: 0.9828 - val_loss: 0.7128 - val_accuracy: 0.8911\n",
            "Epoch 197/200\n",
            "16/16 [==============================] - 7s 450ms/step - loss: 0.0516 - accuracy: 0.9939 - val_loss: 0.3802 - val_accuracy: 0.9355\n",
            "Epoch 198/200\n",
            "16/16 [==============================] - 5s 319ms/step - loss: 0.0454 - accuracy: 0.9869 - val_loss: 0.4817 - val_accuracy: 0.9234\n",
            "Epoch 199/200\n",
            "16/16 [==============================] - 6s 348ms/step - loss: 0.0378 - accuracy: 0.9899 - val_loss: 0.4964 - val_accuracy: 0.9234\n",
            "Epoch 200/200\n",
            "16/16 [==============================] - 6s 393ms/step - loss: 0.0557 - accuracy: 0.9838 - val_loss: 0.4542 - val_accuracy: 0.8952\n"
          ]
        }
      ]
    },
    {
      "cell_type": "code",
      "source": [
        "#Đoạn code này đánh giá độ chính xác và sự mất mát của mô hình\n",
        "test_loss, test_acc = model.evaluate(x_test, y_test)\n",
        "print(\"Accuracy:\", test_acc)\n",
        "print('Loss:', test_loss)"
      ],
      "metadata": {
        "colab": {
          "base_uri": "https://localhost:8080/"
        },
        "id": "Wtu6uksGl3Mj",
        "outputId": "0d2d0e4a-9f1c-4808-a7c8-aa6ed143f5b4"
      },
      "execution_count": 21,
      "outputs": [
        {
          "output_type": "stream",
          "name": "stdout",
          "text": [
            "8/8 [==============================] - 0s 21ms/step - loss: 112.1793 - accuracy: 0.9113\n",
            "Accuracy: 0.9112903475761414\n",
            "Loss: 112.17932891845703\n"
          ]
        }
      ]
    },
    {
      "cell_type": "code",
      "source": [
        "# plot the training and validation accuracy over epochs\n",
        "import matplotlib.pyplot as plt\n",
        "plt.plot(train.history['accuracy'], label='Training accuracy')\n",
        "plt.plot(train.history['val_accuracy'], label = 'Validation accuracy')\n",
        "plt.xlabel('Epoch')\n",
        "plt.ylabel('Accuracy')\n",
        "plt.legend()\n",
        "plt.show() "
      ],
      "metadata": {
        "colab": {
          "base_uri": "https://localhost:8080/",
          "height": 449
        },
        "id": "JEVZn2Z7OAc3",
        "outputId": "a81ca10c-2224-4c18-bc7d-c96f780bdc6e"
      },
      "execution_count": 22,
      "outputs": [
        {
          "output_type": "display_data",
          "data": {
            "text/plain": [
              "<Figure size 640x480 with 1 Axes>"
            ],
            "image/png": "[encoded data removed]"
          },
          "metadata": {}
        }
      ]
    },
    {
      "cell_type": "code",
      "source": [
        "accuracy = train.history['accuracy']\n",
        "loss = train.history['loss']\n",
        "epochs = range(len(accuracy))\n",
        "plt.plot(epochs, accuracy, 'bo', label = 'Training accuracy')\n",
        "plt.plot(epochs, loss, 'b', label = 'Traning loss')\n",
        "plt.show()"
      ],
      "metadata": {
        "colab": {
          "base_uri": "https://localhost:8080/",
          "height": 430
        },
        "id": "CfCxsXpwl48j",
        "outputId": "d70daf17-7e9f-4b3b-8e03-3b361c1822e9"
      },
      "execution_count": 23,
      "outputs": [
        {
          "output_type": "display_data",
          "data": {
            "text/plain": [
              "<Figure size 640x480 with 1 Axes>"
            ],
            "image/png": "[encoded data removed]"
          },
          "metadata": {}
        }
      ]
    },
    {
      "cell_type": "code",
      "source": [
        "#Save model\n",
        "model.save('/content/drive/MyDrive/AI -Trần Thảo Hưng -20146344/model/MODEL2.h5')"
      ],
      "metadata": {
        "id": "cSLb0JqDl7lt"
      },
      "execution_count": 24,
      "outputs": []
    }
  ]
}