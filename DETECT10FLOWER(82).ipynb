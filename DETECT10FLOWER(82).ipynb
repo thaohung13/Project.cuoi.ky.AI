{
  "nbformat": 4,
  "nbformat_minor": 0,
  "metadata": {
    "colab": {
      "provenance": [],
      "gpuType": "T4",
      "include_colab_link": true
    },
    "kernelspec": {
      "name": "python3",
      "display_name": "Python 3"
    },
    "language_info": {
      "name": "python"
    },
    "gpuClass": "standard",
    "accelerator": "GPU"
  },
  "cells": [
    {
      "cell_type": "markdown",
      "metadata": {
        "id": "view-in-github",
        "colab_type": "text"
      },
      "source": [
        "<a href=\"https://colab.research.google.com/github/thaohung13/Project.cuoi.ky.AI/blob/main/DETECT10FLOWER(82).ipynb\" target=\"_parent\"><img src=\"https://colab.research.google.com/assets/colab-badge.svg\" alt=\"Open In Colab\"/></a>"
      ]
    },
    {
      "cell_type": "code",
      "execution_count": 67,
      "metadata": {
        "id": "dECoW6YblV-z"
      },
      "outputs": [],
      "source": [
        "from os import listdir\n",
        "from numpy import asarray, save\n",
        "from keras.utils import load_img\n",
        "from keras.utils import img_to_array\n",
        "import numpy as np\n",
        "from sklearn.model_selection import train_test_split\n",
        "from keras.datasets import cifar100\n",
        "import matplotlib.pyplot as plt\n",
        "from keras.layers import Dense, Dropout, Flatten, Conv2D, MaxPooling2D, Normalization\n",
        "from keras.models import Sequential, Model\n",
        "from keras import Input\n",
        "from keras.layers import LeakyReLU\n",
        "from keras.optimizers import Adam"
      ]
    },
    {
      "cell_type": "code",
      "source": [
        "from google.colab import drive\n",
        "drive.mount('/content/drive')"
      ],
      "metadata": {
        "colab": {
          "base_uri": "https://localhost:8080/"
        },
        "id": "U4XLAeBllbTr",
        "outputId": "fb6ff2d0-771c-473a-c840-a1abd28548ef"
      },
      "execution_count": 68,
      "outputs": [
        {
          "output_type": "stream",
          "name": "stdout",
          "text": [
            "Drive already mounted at /content/drive; to attempt to forcibly remount, call drive.mount(\"/content/drive\", force_remount=True).\n"
          ]
        }
      ]
    },
    {
      "cell_type": "code",
      "source": [
        "from numpy import asarray\n",
        "\n",
        "folder = '/content/drive/MyDrive/AI -Trần Thảo Hưng -20146344/DATA2/'\n",
        "photos, labels = list(), list()\n",
        "for file in listdir(folder):\n",
        "  output = 0.0\n",
        "  if file.startswith('Hong'):\n",
        "    output = 0\n",
        "  if file.startswith('Su'):\n",
        "    output = 1\n",
        "  if file.startswith('Sen'):\n",
        "    output = 2\n",
        "  if file.startswith('Mai'):\n",
        "    output = 3\n",
        "  if file.startswith('HaiDuong'):\n",
        "    output = 4\n",
        "  if file.startswith('HongMon'):\n",
        "    output = 5\n",
        "  if file.startswith('ThienDieu'):\n",
        "    output = 6\n",
        "  if file.startswith('CucVanTho'):\n",
        "    output = 7\n",
        "  if file.startswith('HuongDuong'):\n",
        "    output = 8\n",
        "  if file.startswith('DaUyenThao'):\n",
        "    output = 9\n",
        "  photo = load_img(folder + file, target_size=(128, 128))\n",
        "  photo = img_to_array(photo)\n",
        "  photos.append(photo)\n",
        "  labels.append(output)\n",
        "\n",
        "photos = asarray(photos)\n",
        "labels = asarray(labels)\n",
        "print(photos.shape, labels.shape)\n",
        "save('/content/drive/MyDrive/AI -Trần Thảo Hưng -20146344/model/HOA_PHOTOS', photos)\n",
        "save('/content/drive/MyDrive/AI -Trần Thảo Hưng -20146344/model/HOA_LABELS', labels)"
      ],
      "metadata": {
        "colab": {
          "base_uri": "https://localhost:8080/"
        },
        "id": "sNT-XeT4ldXZ",
        "outputId": "cbe6716e-aab1-4dab-b215-4dcb9619b7c9"
      },
      "execution_count": 69,
      "outputs": [
        {
          "output_type": "stream",
          "name": "stdout",
          "text": [
            "(1245, 128, 128, 3) (1245,)\n"
          ]
        }
      ]
    },
    {
      "cell_type": "code",
      "source": [
        "# Load images and labels\n",
        "from keras.utils import to_categorical #one hot encoding\n",
        "photos = np.load('/content/drive/MyDrive/AI -Trần Thảo Hưng -20146344/model/HOA_PHOTOS.npy')\n",
        "labels = np.load('/content/drive/MyDrive/AI -Trần Thảo Hưng -20146344/model/HOA_LABELS.npy')\n",
        "labels_one_hot = to_categorical(labels)\n",
        "x_train, x_test, y_train, y_test = train_test_split(photos, labels_one_hot, test_size = 0.2, random_state = 128)"
      ],
      "metadata": {
        "id": "lp7XL7SblsKl"
      },
      "execution_count": 70,
      "outputs": []
    },
    {
      "cell_type": "code",
      "source": [
        "model = Sequential()\n",
        "#Convolutional\n",
        "model.add(Conv2D(8, kernel_size= (3,3), activation= 'relu', input_shape = (128,128,3), padding= 'same'))\n",
        "model.add(Conv2D(8, kernel_size= (3,3), activation= 'relu', padding= 'same'))\n",
        "model.add(MaxPooling2D((2,2), padding= 'same'))\n",
        "\n",
        "model.add(Conv2D(16, kernel_size= (3,3), activation= 'relu', padding= 'same'))\n",
        "model.add(Conv2D(16, kernel_size= (3,3), activation= 'relu', padding= 'same'))\n",
        "model.add(MaxPooling2D((2,2), padding= 'same'))\n",
        "\n",
        "model.add(Conv2D(32, kernel_size= (3,3), activation= 'relu', padding= 'same'))\n",
        "model.add(Conv2D(32, kernel_size= (3,3), activation= 'relu', padding= 'same'))\n",
        "model.add(MaxPooling2D((2,2), padding= 'same'))\n",
        "\n",
        "model.add(Conv2D(64, kernel_size= (3,3), activation= 'relu', padding= 'same'))\n",
        "model.add(Conv2D(64, kernel_size= (3,3), activation= 'relu', padding= 'same'))\n",
        "model.add(MaxPooling2D((2,2), padding= 'same'))\n",
        "\n",
        "model.add(Conv2D(64, kernel_size= (2,2), activation= 'relu', padding= 'same'))\n",
        "model.add(Conv2D(64, kernel_size= (2,2), activation= 'relu', padding= 'same'))\n",
        "model.add(MaxPooling2D((2,2), padding= 'same'))\n",
        "\n",
        "# Fully connected layers\n",
        "model.add(Flatten())\n",
        "model.add(Dense(512, activation= 'relu'))\n",
        "model.add(Dropout(0.25))\n",
        "model.add(Dense(512, activation= 'relu'))\n",
        "model.add(Dropout(0.25))\n",
        "model.add(Dense(10, activation= 'softmax'))\n",
        "model.summary()"
      ],
      "metadata": {
        "colab": {
          "base_uri": "https://localhost:8080/"
        },
        "id": "N0JYyJhIlt-9",
        "outputId": "adb96263-d7d2-4b86-c7eb-35a6a3527fd8"
      },
      "execution_count": 71,
      "outputs": [
        {
          "output_type": "stream",
          "name": "stdout",
          "text": [
            "Model: \"sequential_11\"\n",
            "_________________________________________________________________\n",
            " Layer (type)                Output Shape              Param #   \n",
            "=================================================================\n",
            " conv2d_65 (Conv2D)          (None, 128, 128, 8)       224       \n",
            "                                                                 \n",
            " conv2d_66 (Conv2D)          (None, 128, 128, 8)       584       \n",
            "                                                                 \n",
            " max_pooling2d_25 (MaxPoolin  (None, 64, 64, 8)        0         \n",
            " g2D)                                                            \n",
            "                                                                 \n",
            " conv2d_67 (Conv2D)          (None, 64, 64, 16)        1168      \n",
            "                                                                 \n",
            " conv2d_68 (Conv2D)          (None, 64, 64, 16)        2320      \n",
            "                                                                 \n",
            " max_pooling2d_26 (MaxPoolin  (None, 32, 32, 16)       0         \n",
            " g2D)                                                            \n",
            "                                                                 \n",
            " conv2d_69 (Conv2D)          (None, 32, 32, 32)        4640      \n",
            "                                                                 \n",
            " conv2d_70 (Conv2D)          (None, 32, 32, 32)        9248      \n",
            "                                                                 \n",
            " max_pooling2d_27 (MaxPoolin  (None, 16, 16, 32)       0         \n",
            " g2D)                                                            \n",
            "                                                                 \n",
            " conv2d_71 (Conv2D)          (None, 16, 16, 64)        18496     \n",
            "                                                                 \n",
            " conv2d_72 (Conv2D)          (None, 16, 16, 64)        36928     \n",
            "                                                                 \n",
            " max_pooling2d_28 (MaxPoolin  (None, 8, 8, 64)         0         \n",
            " g2D)                                                            \n",
            "                                                                 \n",
            " conv2d_73 (Conv2D)          (None, 8, 8, 64)          16448     \n",
            "                                                                 \n",
            " conv2d_74 (Conv2D)          (None, 8, 8, 64)          16448     \n",
            "                                                                 \n",
            " max_pooling2d_29 (MaxPoolin  (None, 4, 4, 64)         0         \n",
            " g2D)                                                            \n",
            "                                                                 \n",
            " flatten_6 (Flatten)         (None, 1024)              0         \n",
            "                                                                 \n",
            " dense_34 (Dense)            (None, 512)               524800    \n",
            "                                                                 \n",
            " dropout_28 (Dropout)        (None, 512)               0         \n",
            "                                                                 \n",
            " dense_35 (Dense)            (None, 512)               262656    \n",
            "                                                                 \n",
            " dropout_29 (Dropout)        (None, 512)               0         \n",
            "                                                                 \n",
            " dense_36 (Dense)            (None, 10)                5130      \n",
            "                                                                 \n",
            "=================================================================\n",
            "Total params: 899,090\n",
            "Trainable params: 899,090\n",
            "Non-trainable params: 0\n",
            "_________________________________________________________________\n"
          ]
        }
      ]
    },
    {
      "cell_type": "code",
      "source": [
        "x_train.shape"
      ],
      "metadata": {
        "colab": {
          "base_uri": "https://localhost:8080/"
        },
        "id": "AkhvQL9vlySs",
        "outputId": "775990e1-f1e0-43b9-fc18-4881502f4815"
      },
      "execution_count": 72,
      "outputs": [
        {
          "output_type": "execute_result",
          "data": {
            "text/plain": [
              "(996, 128, 128, 3)"
            ]
          },
          "metadata": {},
          "execution_count": 72
        }
      ]
    },
    {
      "cell_type": "code",
      "source": [
        "y_train.shape"
      ],
      "metadata": {
        "colab": {
          "base_uri": "https://localhost:8080/"
        },
        "id": "f8YA8GNcl0EJ",
        "outputId": "1c1508c1-afb3-4364-d1b0-9776e49f8a26"
      },
      "execution_count": 73,
      "outputs": [
        {
          "output_type": "execute_result",
          "data": {
            "text/plain": [
              "(996, 10)"
            ]
          },
          "metadata": {},
          "execution_count": 73
        }
      ]
    },
    {
      "cell_type": "code",
      "source": [
        "# Training\n",
        "batch_size=256\n",
        "epochs=50   \n",
        "\n",
        "model.compile(optimizer = Adam(), loss = 'categorical_crossentropy', metrics = ['accuracy'])\n",
        "train=model.fit(x_train,y_train,batch_size=batch_size,epochs=epochs,verbose=1)\n",
        "eval = model.evaluate(x_test, y_test)\n",
        "print('Test loss: ', eval[0])\n",
        "print('Test accuracy: ', eval[1])"
      ],
      "metadata": {
        "colab": {
          "base_uri": "https://localhost:8080/"
        },
        "id": "_yw-dLT9l1qR",
        "outputId": "11682244-ff8d-4953-d30f-48c6c38290f2"
      },
      "execution_count": 74,
      "outputs": [
        {
          "output_type": "stream",
          "name": "stdout",
          "text": [
            "Epoch 1/50\n",
            "4/4 [==============================] - 7s 909ms/step - loss: 2.6518 - accuracy: 0.1606\n",
            "Epoch 2/50\n",
            "4/4 [==============================] - 0s 100ms/step - loss: 2.1311 - accuracy: 0.2801\n",
            "Epoch 3/50\n",
            "4/4 [==============================] - 0s 102ms/step - loss: 2.0487 - accuracy: 0.2962\n",
            "Epoch 4/50\n",
            "4/4 [==============================] - 0s 100ms/step - loss: 2.0927 - accuracy: 0.2299\n",
            "Epoch 5/50\n",
            "4/4 [==============================] - 0s 100ms/step - loss: 2.0291 - accuracy: 0.2731\n",
            "Epoch 6/50\n",
            "4/4 [==============================] - 0s 104ms/step - loss: 1.9224 - accuracy: 0.2952\n",
            "Epoch 7/50\n",
            "4/4 [==============================] - 0s 107ms/step - loss: 1.7788 - accuracy: 0.3213\n",
            "Epoch 8/50\n",
            "4/4 [==============================] - 0s 112ms/step - loss: 1.6322 - accuracy: 0.3795\n",
            "Epoch 9/50\n",
            "4/4 [==============================] - 0s 104ms/step - loss: 1.4560 - accuracy: 0.4307\n",
            "Epoch 10/50\n",
            "4/4 [==============================] - 0s 105ms/step - loss: 1.3354 - accuracy: 0.5030\n",
            "Epoch 11/50\n",
            "4/4 [==============================] - 0s 104ms/step - loss: 1.2179 - accuracy: 0.5331\n",
            "Epoch 12/50\n",
            "4/4 [==============================] - 0s 102ms/step - loss: 1.0621 - accuracy: 0.6104\n",
            "Epoch 13/50\n",
            "4/4 [==============================] - 0s 105ms/step - loss: 1.0488 - accuracy: 0.6114\n",
            "Epoch 14/50\n",
            "4/4 [==============================] - 0s 103ms/step - loss: 1.0292 - accuracy: 0.6145\n",
            "Epoch 15/50\n",
            "4/4 [==============================] - 0s 100ms/step - loss: 0.8088 - accuracy: 0.7139\n",
            "Epoch 16/50\n",
            "4/4 [==============================] - 0s 103ms/step - loss: 0.7594 - accuracy: 0.7149\n",
            "Epoch 17/50\n",
            "4/4 [==============================] - 0s 102ms/step - loss: 0.7049 - accuracy: 0.7329\n",
            "Epoch 18/50\n",
            "4/4 [==============================] - 0s 100ms/step - loss: 0.5745 - accuracy: 0.7922\n",
            "Epoch 19/50\n",
            "4/4 [==============================] - 0s 101ms/step - loss: 0.5323 - accuracy: 0.8173\n",
            "Epoch 20/50\n",
            "4/4 [==============================] - 0s 102ms/step - loss: 0.4368 - accuracy: 0.8424\n",
            "Epoch 21/50\n",
            "4/4 [==============================] - 0s 98ms/step - loss: 0.3822 - accuracy: 0.8645\n",
            "Epoch 22/50\n",
            "4/4 [==============================] - 0s 102ms/step - loss: 0.3349 - accuracy: 0.8855\n",
            "Epoch 23/50\n",
            "4/4 [==============================] - 0s 106ms/step - loss: 0.5288 - accuracy: 0.8072\n",
            "Epoch 24/50\n",
            "4/4 [==============================] - 0s 115ms/step - loss: 0.3610 - accuracy: 0.8755\n",
            "Epoch 25/50\n",
            "4/4 [==============================] - 0s 113ms/step - loss: 0.2689 - accuracy: 0.9147\n",
            "Epoch 26/50\n",
            "4/4 [==============================] - 0s 115ms/step - loss: 0.2216 - accuracy: 0.9347\n",
            "Epoch 27/50\n",
            "4/4 [==============================] - 0s 114ms/step - loss: 0.2041 - accuracy: 0.9277\n",
            "Epoch 28/50\n",
            "4/4 [==============================] - 0s 106ms/step - loss: 0.1651 - accuracy: 0.9378\n",
            "Epoch 29/50\n",
            "4/4 [==============================] - 0s 109ms/step - loss: 0.1586 - accuracy: 0.9418\n",
            "Epoch 30/50\n",
            "4/4 [==============================] - 0s 109ms/step - loss: 0.1322 - accuracy: 0.9608\n",
            "Epoch 31/50\n",
            "4/4 [==============================] - 0s 110ms/step - loss: 0.1009 - accuracy: 0.9729\n",
            "Epoch 32/50\n",
            "4/4 [==============================] - 0s 101ms/step - loss: 0.0798 - accuracy: 0.9769\n",
            "Epoch 33/50\n",
            "4/4 [==============================] - 0s 101ms/step - loss: 0.0624 - accuracy: 0.9819\n",
            "Epoch 34/50\n",
            "4/4 [==============================] - 0s 103ms/step - loss: 0.0585 - accuracy: 0.9809\n",
            "Epoch 35/50\n",
            "4/4 [==============================] - 0s 104ms/step - loss: 0.0521 - accuracy: 0.9789\n",
            "Epoch 36/50\n",
            "4/4 [==============================] - 0s 105ms/step - loss: 0.0270 - accuracy: 0.9940\n",
            "Epoch 37/50\n",
            "4/4 [==============================] - 0s 105ms/step - loss: 0.0307 - accuracy: 0.9900\n",
            "Epoch 38/50\n",
            "4/4 [==============================] - 0s 105ms/step - loss: 0.0338 - accuracy: 0.9900\n",
            "Epoch 39/50\n",
            "4/4 [==============================] - 0s 102ms/step - loss: 0.0328 - accuracy: 0.9900\n",
            "Epoch 40/50\n",
            "4/4 [==============================] - 0s 102ms/step - loss: 0.0283 - accuracy: 0.9930\n",
            "Epoch 41/50\n",
            "4/4 [==============================] - 0s 102ms/step - loss: 0.0211 - accuracy: 0.9920\n",
            "Epoch 42/50\n",
            "4/4 [==============================] - 0s 101ms/step - loss: 0.0105 - accuracy: 0.9990\n",
            "Epoch 43/50\n",
            "4/4 [==============================] - 0s 104ms/step - loss: 0.0149 - accuracy: 0.9950\n",
            "Epoch 44/50\n",
            "4/4 [==============================] - 0s 102ms/step - loss: 0.0124 - accuracy: 0.9960\n",
            "Epoch 45/50\n",
            "4/4 [==============================] - 0s 104ms/step - loss: 0.0066 - accuracy: 1.0000\n",
            "Epoch 46/50\n",
            "4/4 [==============================] - 0s 102ms/step - loss: 0.0051 - accuracy: 0.9990\n",
            "Epoch 47/50\n",
            "4/4 [==============================] - 0s 104ms/step - loss: 0.0053 - accuracy: 1.0000\n",
            "Epoch 48/50\n",
            "4/4 [==============================] - 0s 101ms/step - loss: 0.0094 - accuracy: 0.9970\n",
            "Epoch 49/50\n",
            "4/4 [==============================] - 0s 104ms/step - loss: 0.0046 - accuracy: 1.0000\n",
            "Epoch 50/50\n",
            "4/4 [==============================] - 0s 100ms/step - loss: 0.0098 - accuracy: 0.9970\n",
            "8/8 [==============================] - 0s 12ms/step - loss: 1.0461 - accuracy: 0.8273\n",
            "Test loss:  1.0461173057556152\n",
            "Test accuracy:  0.827309250831604\n"
          ]
        }
      ]
    },
    {
      "cell_type": "code",
      "source": [
        "test_loss, test_acc = model.evaluate(x_test, y_test)\n",
        "print(\"Accuracy:\", test_acc)\n",
        "print('Loss:', test_loss)"
      ],
      "metadata": {
        "colab": {
          "base_uri": "https://localhost:8080/"
        },
        "id": "Wtu6uksGl3Mj",
        "outputId": "7ad8154a-6636-4cf1-d3aa-dc0cad1601cd"
      },
      "execution_count": 75,
      "outputs": [
        {
          "output_type": "stream",
          "name": "stdout",
          "text": [
            "8/8 [==============================] - 0s 11ms/step - loss: 1.0461 - accuracy: 0.8273\n",
            "Accuracy: 0.827309250831604\n",
            "Loss: 1.0461173057556152\n"
          ]
        }
      ]
    },
    {
      "cell_type": "code",
      "source": [
        "accuracy = train.history['accuracy']\n",
        "loss = train.history['loss']\n",
        "epochs = range(len(accuracy))\n",
        "plt.plot(epochs, accuracy, 'bo', label = 'Training accuracy')\n",
        "plt.plot(epochs, loss, 'b', label = 'Traning loss')\n",
        "plt.show()"
      ],
      "metadata": {
        "colab": {
          "base_uri": "https://localhost:8080/",
          "height": 430
        },
        "id": "CfCxsXpwl48j",
        "outputId": "96bf4f4c-42c9-4d67-d051-3b24df09dafe"
      },
      "execution_count": 76,
      "outputs": [
        {
          "output_type": "display_data",
          "data": {
            "text/plain": [
              "<Figure size 640x480 with 1 Axes>"
            ],
            "image/png": "[encoded data removed]"
          },
          "metadata": {}
        }
      ]
    },
    {
      "cell_type": "code",
      "source": [
        "#Save model\n",
        "model.save('/content/drive/MyDrive/Colab Notebooks/FLOWER/MODEL_FLOWER3.h5')"
      ],
      "metadata": {
        "id": "cSLb0JqDl7lt"
      },
      "execution_count": 77,
      "outputs": []
    }
  ]
}