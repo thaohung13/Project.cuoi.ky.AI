{
  "nbformat": 4,
  "nbformat_minor": 0,
  "metadata": {
    "colab": {
      "provenance": [],
      "gpuType": "T4",
      "include_colab_link": true
    },
    "kernelspec": {
      "name": "python3",
      "display_name": "Python 3"
    },
    "language_info": {
      "name": "python"
    },
    "gpuClass": "standard",
    "accelerator": "GPU"
  },
  "cells": [
    {
      "cell_type": "markdown",
      "metadata": {
        "id": "view-in-github",
        "colab_type": "text"
      },
      "source": [
        "<a href=\"https://colab.research.google.com/github/thaohung13/Project.cuoi.ky.AI/blob/main/DETECT10FLOWER(91.9).ipynb\" target=\"_parent\"><img src=\"https://colab.research.google.com/assets/colab-badge.svg\" alt=\"Open In Colab\"/></a>"
      ]
    },
    {
      "cell_type": "code",
      "execution_count": 2,
      "metadata": {
        "id": "dECoW6YblV-z"
      },
      "outputs": [],
      "source": [
        "from os import listdir\n",
        "from numpy import asarray, save\n",
        "from keras.utils import load_img\n",
        "from keras.utils import img_to_array\n",
        "import numpy as np\n",
        "from sklearn.model_selection import train_test_split\n",
        "from keras.datasets import cifar100\n",
        "import matplotlib.pyplot as plt\n",
        "from keras.layers import Dense, Dropout, Flatten, Conv2D, MaxPooling2D, Normalization\n",
        "from keras.models import Sequential, Model\n",
        "from keras import Input\n",
        "from keras.layers import LeakyReLU\n",
        "from keras.optimizers import Adam"
      ]
    },
    {
      "cell_type": "code",
      "source": [
        "from google.colab import drive\n",
        "drive.mount('/content/drive')"
      ],
      "metadata": {
        "colab": {
          "base_uri": "https://localhost:8080/"
        },
        "id": "U4XLAeBllbTr",
        "outputId": "8df398c7-95a4-4465-cec1-be297430e5b6"
      },
      "execution_count": 3,
      "outputs": [
        {
          "output_type": "stream",
          "name": "stdout",
          "text": [
            "Drive already mounted at /content/drive; to attempt to forcibly remount, call drive.mount(\"/content/drive\", force_remount=True).\n"
          ]
        }
      ]
    },
    {
      "cell_type": "code",
      "source": [
        "from numpy import asarray\n",
        "\n",
        "folder = '/content/drive/MyDrive/AI -Trần Thảo Hưng -20146344/DATA2/'\n",
        "photos, labels = list(), list()\n",
        "for file in listdir(folder):\n",
        "  output = 0.0\n",
        "  if file.startswith('Hong'):\n",
        "    output = 0\n",
        "  if file.startswith('Su'):\n",
        "    output = 1\n",
        "  if file.startswith('Sen'):\n",
        "    output = 2\n",
        "  if file.startswith('Mai'):\n",
        "    output = 3\n",
        "  if file.startswith('PhongLuDo'):\n",
        "    output = 4\n",
        "  if file.startswith('HongMon'):\n",
        "    output = 5\n",
        "  if file.startswith('ThienDieu'):\n",
        "    output = 6\n",
        "  if file.startswith('CucVanTho'):\n",
        "    output = 7\n",
        "  if file.startswith('HuongDuong'):\n",
        "    output = 8\n",
        "  if file.startswith('DaUyenThao'):\n",
        "    output = 9\n",
        "  photo = load_img(folder + file, target_size=(128, 128))\n",
        "  photo = img_to_array(photo)\n",
        "  photos.append(photo)\n",
        "  labels.append(output)\n",
        "\n",
        "photos = asarray(photos)\n",
        "labels = asarray(labels)\n",
        "print(photos.shape, labels.shape)\n",
        "save('/content/drive/MyDrive/AI -Trần Thảo Hưng -20146344/model/FL_PHOTOS1', photos)\n",
        "save('/content/drive/MyDrive/AI -Trần Thảo Hưng -20146344/model/FL_LABELS1', labels)"
      ],
      "metadata": {
        "colab": {
          "base_uri": "https://localhost:8080/"
        },
        "id": "sNT-XeT4ldXZ",
        "outputId": "2bb77309-c803-4ae0-8e7d-98df94ae26af"
      },
      "execution_count": 4,
      "outputs": [
        {
          "output_type": "stream",
          "name": "stdout",
          "text": [
            "(1238, 128, 128, 3) (1238,)\n"
          ]
        }
      ]
    },
    {
      "cell_type": "code",
      "source": [
        "# Load images and labels\n",
        "from keras.utils import to_categorical #one hot encoding\n",
        "photos = np.load('/content/drive/MyDrive/AI -Trần Thảo Hưng -20146344/model/FL_PHOTOS1.npy')\n",
        "labels = np.load('/content/drive/MyDrive/AI -Trần Thảo Hưng -20146344/model/FL_LABELS1.npy')\n",
        "labels_one_hot = to_categorical(labels)\n",
        "x_train, x_test, y_train, y_test = train_test_split(photos, labels_one_hot, test_size = 0.2, random_state = 128)"
      ],
      "metadata": {
        "id": "lp7XL7SblsKl"
      },
      "execution_count": 5,
      "outputs": []
    },
    {
      "cell_type": "code",
      "source": [
        "model = Sequential()\n",
        "#Convolutional\n",
        "model.add(Conv2D(8, kernel_size= (3,3), activation= 'relu', input_shape = (128,128,3), padding= 'same'))\n",
        "model.add(MaxPooling2D((2,2), padding= 'same'))\n",
        "\n",
        "model.add(Conv2D(16, kernel_size= (3,3), activation= 'relu', padding= 'same'))\n",
        "model.add(MaxPooling2D((2,2), padding= 'same'))\n",
        "\n",
        "model.add(Conv2D(32, kernel_size= (3,3), activation= 'relu', padding= 'same'))\n",
        "model.add(Conv2D(32, kernel_size= (3,3), activation= 'relu', padding= 'same'))\n",
        "model.add(MaxPooling2D((2,2), padding= 'same'))\n",
        "\n",
        "model.add(Conv2D(64, kernel_size= (3,3), activation= 'relu', padding= 'same'))\n",
        "model.add(Conv2D(64, kernel_size= (3,3), activation= 'relu', padding= 'same'))\n",
        "model.add(MaxPooling2D((2,2), padding= 'same'))\n",
        "\n",
        "# Fully connected layers\n",
        "model.add(Flatten())\n",
        "model.add(Dense(512, activation= 'relu'))\n",
        "model.add(Dropout(0.5))\n",
        "model.add(Dense(512, activation= 'relu'))\n",
        "model.add(Dropout(0.5))\n",
        "model.add(Dense(10, activation= 'softmax'))\n",
        "model.compile(optimizer = Adam(), loss = 'categorical_crossentropy', metrics = ['accuracy'])\n",
        "model.summary()"
      ],
      "metadata": {
        "colab": {
          "base_uri": "https://localhost:8080/"
        },
        "id": "N0JYyJhIlt-9",
        "outputId": "c048ae0a-691e-461e-e5f2-01d5b341493b"
      },
      "execution_count": 6,
      "outputs": [
        {
          "output_type": "stream",
          "name": "stdout",
          "text": [
            "Model: \"sequential\"\n",
            "_________________________________________________________________\n",
            " Layer (type)                Output Shape              Param #   \n",
            "=================================================================\n",
            " conv2d (Conv2D)             (None, 128, 128, 8)       224       \n",
            "                                                                 \n",
            " max_pooling2d (MaxPooling2D  (None, 64, 64, 8)        0         \n",
            " )                                                               \n",
            "                                                                 \n",
            " conv2d_1 (Conv2D)           (None, 64, 64, 16)        1168      \n",
            "                                                                 \n",
            " max_pooling2d_1 (MaxPooling  (None, 32, 32, 16)       0         \n",
            " 2D)                                                             \n",
            "                                                                 \n",
            " conv2d_2 (Conv2D)           (None, 32, 32, 32)        4640      \n",
            "                                                                 \n",
            " conv2d_3 (Conv2D)           (None, 32, 32, 32)        9248      \n",
            "                                                                 \n",
            " max_pooling2d_2 (MaxPooling  (None, 16, 16, 32)       0         \n",
            " 2D)                                                             \n",
            "                                                                 \n",
            " conv2d_4 (Conv2D)           (None, 16, 16, 64)        18496     \n",
            "                                                                 \n",
            " conv2d_5 (Conv2D)           (None, 16, 16, 64)        36928     \n",
            "                                                                 \n",
            " max_pooling2d_3 (MaxPooling  (None, 8, 8, 64)         0         \n",
            " 2D)                                                             \n",
            "                                                                 \n",
            " flatten (Flatten)           (None, 4096)              0         \n",
            "                                                                 \n",
            " dense (Dense)               (None, 512)               2097664   \n",
            "                                                                 \n",
            " dropout (Dropout)           (None, 512)               0         \n",
            "                                                                 \n",
            " dense_1 (Dense)             (None, 512)               262656    \n",
            "                                                                 \n",
            " dropout_1 (Dropout)         (None, 512)               0         \n",
            "                                                                 \n",
            " dense_2 (Dense)             (None, 10)                5130      \n",
            "                                                                 \n",
            "=================================================================\n",
            "Total params: 2,436,154\n",
            "Trainable params: 2,436,154\n",
            "Non-trainable params: 0\n",
            "_________________________________________________________________\n"
          ]
        }
      ]
    },
    {
      "cell_type": "code",
      "source": [
        "from keras.preprocessing.image import ImageDataGenerator\n",
        "aug = ImageDataGenerator(rotation_range=20, zoom_range=0.2,\n",
        "    rescale=1./255,\n",
        "\twidth_shift_range=0.2,\n",
        "    height_shift_range=0.2,\n",
        "\thorizontal_flip=True,\n",
        "    brightness_range=[0.2,1.5], fill_mode=\"nearest\")"
      ],
      "metadata": {
        "id": "1vL9Bt43NpFR"
      },
      "execution_count": 7,
      "outputs": []
    },
    {
      "cell_type": "code",
      "source": [
        "y_train.shape"
      ],
      "metadata": {
        "colab": {
          "base_uri": "https://localhost:8080/"
        },
        "id": "f8YA8GNcl0EJ",
        "outputId": "c43369bb-d31c-4a17-aa9a-f81f0ef2ab39"
      },
      "execution_count": 8,
      "outputs": [
        {
          "output_type": "execute_result",
          "data": {
            "text/plain": [
              "(990, 10)"
            ]
          },
          "metadata": {},
          "execution_count": 8
        }
      ]
    },
    {
      "cell_type": "code",
      "source": [
        "# Training \n",
        "train = model.fit_generator(aug.flow(x_train, y_train, batch_size=64),\n",
        "                               epochs=200,\n",
        "                               validation_data=aug.flow(x_test,y_test,\n",
        "                               batch_size=len(x_test)))"
      ],
      "metadata": {
        "colab": {
          "base_uri": "https://localhost:8080/"
        },
        "id": "_yw-dLT9l1qR",
        "outputId": "2f9f7652-f93c-4cf4-9446-e4b2bc064d16"
      },
      "execution_count": 9,
      "outputs": [
        {
          "output_type": "stream",
          "name": "stderr",
          "text": [
            "<ipython-input-9-e3ce0a308667>:2: UserWarning: `Model.fit_generator` is deprecated and will be removed in a future version. Please use `Model.fit`, which supports generators.\n",
            "  train = model.fit_generator(aug.flow(x_train, y_train, batch_size=64),\n"
          ]
        },
        {
          "output_type": "stream",
          "name": "stdout",
          "text": [
            "Epoch 1/200\n",
            "16/16 [==============================] - 19s 527ms/step - loss: 2.1868 - accuracy: 0.2495 - val_loss: 2.1866 - val_accuracy: 0.2298\n",
            "Epoch 2/200\n",
            "16/16 [==============================] - 6s 370ms/step - loss: 2.0718 - accuracy: 0.2869 - val_loss: 2.1174 - val_accuracy: 0.2298\n",
            "Epoch 3/200\n",
            "16/16 [==============================] - 5s 333ms/step - loss: 1.9348 - accuracy: 0.2848 - val_loss: 1.8922 - val_accuracy: 0.2419\n",
            "Epoch 4/200\n",
            "16/16 [==============================] - 5s 334ms/step - loss: 1.7732 - accuracy: 0.3414 - val_loss: 1.6024 - val_accuracy: 0.4718\n",
            "Epoch 5/200\n",
            "16/16 [==============================] - 7s 439ms/step - loss: 1.5643 - accuracy: 0.4192 - val_loss: 1.4409 - val_accuracy: 0.4516\n",
            "Epoch 6/200\n",
            "16/16 [==============================] - 5s 335ms/step - loss: 1.4745 - accuracy: 0.4465 - val_loss: 1.2764 - val_accuracy: 0.5605\n",
            "Epoch 7/200\n",
            "16/16 [==============================] - 6s 386ms/step - loss: 1.4057 - accuracy: 0.4788 - val_loss: 1.2433 - val_accuracy: 0.5524\n",
            "Epoch 8/200\n",
            "16/16 [==============================] - 5s 336ms/step - loss: 1.2745 - accuracy: 0.5101 - val_loss: 1.1771 - val_accuracy: 0.5685\n",
            "Epoch 9/200\n",
            "16/16 [==============================] - 7s 428ms/step - loss: 1.1882 - accuracy: 0.5596 - val_loss: 1.0606 - val_accuracy: 0.5968\n",
            "Epoch 10/200\n",
            "16/16 [==============================] - 5s 332ms/step - loss: 1.1668 - accuracy: 0.5434 - val_loss: 1.1099 - val_accuracy: 0.5726\n",
            "Epoch 11/200\n",
            "16/16 [==============================] - 5s 333ms/step - loss: 1.1293 - accuracy: 0.5667 - val_loss: 1.1168 - val_accuracy: 0.5766\n",
            "Epoch 12/200\n",
            "16/16 [==============================] - 6s 359ms/step - loss: 1.1871 - accuracy: 0.5535 - val_loss: 1.0219 - val_accuracy: 0.6290\n",
            "Epoch 13/200\n",
            "16/16 [==============================] - 5s 335ms/step - loss: 1.0103 - accuracy: 0.6061 - val_loss: 0.9208 - val_accuracy: 0.6774\n",
            "Epoch 14/200\n",
            "16/16 [==============================] - 7s 434ms/step - loss: 0.9822 - accuracy: 0.6222 - val_loss: 1.0097 - val_accuracy: 0.6452\n",
            "Epoch 15/200\n",
            "16/16 [==============================] - 5s 339ms/step - loss: 0.9332 - accuracy: 0.6586 - val_loss: 0.8710 - val_accuracy: 0.6694\n",
            "Epoch 16/200\n",
            "16/16 [==============================] - 7s 413ms/step - loss: 0.9178 - accuracy: 0.6505 - val_loss: 0.8758 - val_accuracy: 0.6895\n",
            "Epoch 17/200\n",
            "16/16 [==============================] - 7s 441ms/step - loss: 0.8375 - accuracy: 0.6687 - val_loss: 0.8409 - val_accuracy: 0.6976\n",
            "Epoch 18/200\n",
            "16/16 [==============================] - 7s 430ms/step - loss: 0.8124 - accuracy: 0.6889 - val_loss: 1.0146 - val_accuracy: 0.6411\n",
            "Epoch 19/200\n",
            "16/16 [==============================] - 5s 332ms/step - loss: 0.8462 - accuracy: 0.7101 - val_loss: 0.7704 - val_accuracy: 0.7177\n",
            "Epoch 20/200\n",
            "16/16 [==============================] - 7s 441ms/step - loss: 0.7847 - accuracy: 0.7101 - val_loss: 0.7782 - val_accuracy: 0.7137\n",
            "Epoch 21/200\n",
            "16/16 [==============================] - 6s 347ms/step - loss: 0.8099 - accuracy: 0.6949 - val_loss: 0.8198 - val_accuracy: 0.7016\n",
            "Epoch 22/200\n",
            "16/16 [==============================] - 7s 435ms/step - loss: 0.8397 - accuracy: 0.6909 - val_loss: 0.8344 - val_accuracy: 0.7137\n",
            "Epoch 23/200\n",
            "16/16 [==============================] - 7s 434ms/step - loss: 0.8859 - accuracy: 0.6899 - val_loss: 0.9718 - val_accuracy: 0.6411\n",
            "Epoch 24/200\n",
            "16/16 [==============================] - 5s 333ms/step - loss: 0.8400 - accuracy: 0.6899 - val_loss: 0.6982 - val_accuracy: 0.7944\n",
            "Epoch 25/200\n",
            "16/16 [==============================] - 7s 434ms/step - loss: 0.7231 - accuracy: 0.7384 - val_loss: 0.7529 - val_accuracy: 0.7500\n",
            "Epoch 26/200\n",
            "16/16 [==============================] - 5s 334ms/step - loss: 0.7344 - accuracy: 0.7384 - val_loss: 0.6816 - val_accuracy: 0.7742\n",
            "Epoch 27/200\n",
            "16/16 [==============================] - 7s 436ms/step - loss: 0.6443 - accuracy: 0.7616 - val_loss: 0.7164 - val_accuracy: 0.7621\n",
            "Epoch 28/200\n",
            "16/16 [==============================] - 6s 385ms/step - loss: 0.6503 - accuracy: 0.7556 - val_loss: 0.6241 - val_accuracy: 0.7863\n",
            "Epoch 29/200\n",
            "16/16 [==============================] - 5s 335ms/step - loss: 0.6644 - accuracy: 0.7747 - val_loss: 0.7749 - val_accuracy: 0.7298\n",
            "Epoch 30/200\n",
            "16/16 [==============================] - 7s 437ms/step - loss: 0.6331 - accuracy: 0.7525 - val_loss: 0.7700 - val_accuracy: 0.7661\n",
            "Epoch 31/200\n",
            "16/16 [==============================] - 5s 336ms/step - loss: 0.6377 - accuracy: 0.7808 - val_loss: 0.5932 - val_accuracy: 0.7782\n",
            "Epoch 32/200\n",
            "16/16 [==============================] - 7s 423ms/step - loss: 0.5918 - accuracy: 0.7667 - val_loss: 0.5909 - val_accuracy: 0.8065\n",
            "Epoch 33/200\n",
            "16/16 [==============================] - 5s 336ms/step - loss: 0.5518 - accuracy: 0.8091 - val_loss: 0.5819 - val_accuracy: 0.7903\n",
            "Epoch 34/200\n",
            "16/16 [==============================] - 7s 432ms/step - loss: 0.4974 - accuracy: 0.8071 - val_loss: 0.5522 - val_accuracy: 0.8266\n",
            "Epoch 35/200\n",
            "16/16 [==============================] - 5s 337ms/step - loss: 0.5346 - accuracy: 0.8141 - val_loss: 0.5560 - val_accuracy: 0.7944\n",
            "Epoch 36/200\n",
            "16/16 [==============================] - 7s 438ms/step - loss: 0.5175 - accuracy: 0.8121 - val_loss: 0.6098 - val_accuracy: 0.7782\n",
            "Epoch 37/200\n",
            "16/16 [==============================] - 5s 331ms/step - loss: 0.5285 - accuracy: 0.8111 - val_loss: 0.5432 - val_accuracy: 0.8024\n",
            "Epoch 38/200\n",
            "16/16 [==============================] - 6s 355ms/step - loss: 0.4779 - accuracy: 0.8414 - val_loss: 0.5725 - val_accuracy: 0.8185\n",
            "Epoch 39/200\n",
            "16/16 [==============================] - 5s 329ms/step - loss: 0.4823 - accuracy: 0.8374 - val_loss: 0.7097 - val_accuracy: 0.8065\n",
            "Epoch 40/200\n",
            "16/16 [==============================] - 7s 426ms/step - loss: 0.4978 - accuracy: 0.8101 - val_loss: 0.5968 - val_accuracy: 0.8065\n",
            "Epoch 41/200\n",
            "16/16 [==============================] - 5s 332ms/step - loss: 0.4309 - accuracy: 0.8444 - val_loss: 0.6088 - val_accuracy: 0.8226\n",
            "Epoch 42/200\n",
            "16/16 [==============================] - 7s 452ms/step - loss: 0.4670 - accuracy: 0.8313 - val_loss: 0.7047 - val_accuracy: 0.7661\n",
            "Epoch 43/200\n",
            "16/16 [==============================] - 5s 329ms/step - loss: 0.5792 - accuracy: 0.7949 - val_loss: 0.5690 - val_accuracy: 0.8065\n",
            "Epoch 44/200\n",
            "16/16 [==============================] - 5s 331ms/step - loss: 0.4722 - accuracy: 0.8475 - val_loss: 0.5950 - val_accuracy: 0.8065\n",
            "Epoch 45/200\n",
            "16/16 [==============================] - 7s 414ms/step - loss: 0.4671 - accuracy: 0.8212 - val_loss: 0.5742 - val_accuracy: 0.8185\n",
            "Epoch 46/200\n",
            "16/16 [==============================] - 5s 332ms/step - loss: 0.4050 - accuracy: 0.8626 - val_loss: 0.4753 - val_accuracy: 0.8710\n",
            "Epoch 47/200\n",
            "16/16 [==============================] - 7s 433ms/step - loss: 0.4051 - accuracy: 0.8566 - val_loss: 0.5531 - val_accuracy: 0.8306\n",
            "Epoch 48/200\n",
            "16/16 [==============================] - 5s 336ms/step - loss: 0.3643 - accuracy: 0.8798 - val_loss: 0.5195 - val_accuracy: 0.8468\n",
            "Epoch 49/200\n",
            "16/16 [==============================] - 7s 425ms/step - loss: 0.3672 - accuracy: 0.8677 - val_loss: 0.5983 - val_accuracy: 0.8145\n",
            "Epoch 50/200\n",
            "16/16 [==============================] - 5s 331ms/step - loss: 0.3729 - accuracy: 0.8606 - val_loss: 0.5055 - val_accuracy: 0.8548\n",
            "Epoch 51/200\n",
            "16/16 [==============================] - 7s 404ms/step - loss: 0.3114 - accuracy: 0.8949 - val_loss: 0.5060 - val_accuracy: 0.8629\n",
            "Epoch 52/200\n",
            "16/16 [==============================] - 5s 332ms/step - loss: 0.3914 - accuracy: 0.8606 - val_loss: 0.5780 - val_accuracy: 0.8629\n",
            "Epoch 53/200\n",
            "16/16 [==============================] - 7s 427ms/step - loss: 0.3756 - accuracy: 0.8616 - val_loss: 0.5084 - val_accuracy: 0.8427\n",
            "Epoch 54/200\n",
            "16/16 [==============================] - 5s 329ms/step - loss: 0.3699 - accuracy: 0.8646 - val_loss: 0.5562 - val_accuracy: 0.8427\n",
            "Epoch 55/200\n",
            "16/16 [==============================] - 7s 431ms/step - loss: 0.3125 - accuracy: 0.8919 - val_loss: 0.5082 - val_accuracy: 0.8589\n",
            "Epoch 56/200\n",
            "16/16 [==============================] - 7s 422ms/step - loss: 0.3128 - accuracy: 0.8899 - val_loss: 0.5060 - val_accuracy: 0.8669\n",
            "Epoch 57/200\n",
            "16/16 [==============================] - 5s 330ms/step - loss: 0.3359 - accuracy: 0.8646 - val_loss: 0.4354 - val_accuracy: 0.8992\n",
            "Epoch 58/200\n",
            "16/16 [==============================] - 7s 433ms/step - loss: 0.3207 - accuracy: 0.8970 - val_loss: 0.5128 - val_accuracy: 0.8790\n",
            "Epoch 59/200\n",
            "16/16 [==============================] - 5s 332ms/step - loss: 0.3228 - accuracy: 0.8848 - val_loss: 0.4584 - val_accuracy: 0.8427\n",
            "Epoch 60/200\n",
            "16/16 [==============================] - 7s 414ms/step - loss: 0.2812 - accuracy: 0.8970 - val_loss: 0.5823 - val_accuracy: 0.8468\n",
            "Epoch 61/200\n",
            "16/16 [==============================] - 5s 341ms/step - loss: 0.3163 - accuracy: 0.8848 - val_loss: 0.4649 - val_accuracy: 0.8427\n",
            "Epoch 62/200\n",
            "16/16 [==============================] - 7s 431ms/step - loss: 0.2908 - accuracy: 0.9020 - val_loss: 0.4942 - val_accuracy: 0.8750\n",
            "Epoch 63/200\n",
            "16/16 [==============================] - 7s 427ms/step - loss: 0.3163 - accuracy: 0.8838 - val_loss: 0.5921 - val_accuracy: 0.8306\n",
            "Epoch 64/200\n",
            "16/16 [==============================] - 5s 331ms/step - loss: 0.3206 - accuracy: 0.8939 - val_loss: 0.5285 - val_accuracy: 0.8548\n",
            "Epoch 65/200\n",
            "16/16 [==============================] - 7s 423ms/step - loss: 0.3125 - accuracy: 0.8899 - val_loss: 0.4812 - val_accuracy: 0.8831\n",
            "Epoch 66/200\n",
            "16/16 [==============================] - 5s 330ms/step - loss: 0.2850 - accuracy: 0.8909 - val_loss: 0.5088 - val_accuracy: 0.8468\n",
            "Epoch 67/200\n",
            "16/16 [==============================] - 7s 444ms/step - loss: 0.2674 - accuracy: 0.8990 - val_loss: 0.4863 - val_accuracy: 0.8710\n",
            "Epoch 68/200\n",
            "16/16 [==============================] - 5s 326ms/step - loss: 0.2210 - accuracy: 0.9222 - val_loss: 0.5737 - val_accuracy: 0.8508\n",
            "Epoch 69/200\n",
            "16/16 [==============================] - 6s 355ms/step - loss: 0.2714 - accuracy: 0.9040 - val_loss: 0.5820 - val_accuracy: 0.8548\n",
            "Epoch 70/200\n",
            "16/16 [==============================] - 6s 396ms/step - loss: 0.2888 - accuracy: 0.8990 - val_loss: 0.5111 - val_accuracy: 0.8589\n",
            "Epoch 71/200\n",
            "16/16 [==============================] - 5s 342ms/step - loss: 0.2737 - accuracy: 0.9010 - val_loss: 0.4474 - val_accuracy: 0.8750\n",
            "Epoch 72/200\n",
            "16/16 [==============================] - 7s 429ms/step - loss: 0.2187 - accuracy: 0.9162 - val_loss: 0.5636 - val_accuracy: 0.8831\n",
            "Epoch 73/200\n",
            "16/16 [==============================] - 5s 330ms/step - loss: 0.2318 - accuracy: 0.9091 - val_loss: 0.6105 - val_accuracy: 0.8468\n",
            "Epoch 74/200\n",
            "16/16 [==============================] - 7s 430ms/step - loss: 0.2334 - accuracy: 0.9162 - val_loss: 0.4123 - val_accuracy: 0.8508\n",
            "Epoch 75/200\n",
            "16/16 [==============================] - 5s 334ms/step - loss: 0.2843 - accuracy: 0.8970 - val_loss: 0.5485 - val_accuracy: 0.8468\n",
            "Epoch 76/200\n",
            "16/16 [==============================] - 7s 431ms/step - loss: 0.2485 - accuracy: 0.9202 - val_loss: 0.5570 - val_accuracy: 0.8266\n",
            "Epoch 77/200\n",
            "16/16 [==============================] - 5s 330ms/step - loss: 0.2240 - accuracy: 0.9263 - val_loss: 0.5924 - val_accuracy: 0.8589\n",
            "Epoch 78/200\n",
            "16/16 [==============================] - 7s 431ms/step - loss: 0.2170 - accuracy: 0.9253 - val_loss: 0.4070 - val_accuracy: 0.8871\n",
            "Epoch 79/200\n",
            "16/16 [==============================] - 5s 331ms/step - loss: 0.2738 - accuracy: 0.9131 - val_loss: 0.4753 - val_accuracy: 0.9032\n",
            "Epoch 80/200\n",
            "16/16 [==============================] - 7s 410ms/step - loss: 0.2550 - accuracy: 0.9061 - val_loss: 0.4152 - val_accuracy: 0.8750\n",
            "Epoch 81/200\n",
            "16/16 [==============================] - 5s 332ms/step - loss: 0.2071 - accuracy: 0.9263 - val_loss: 0.6339 - val_accuracy: 0.8750\n",
            "Epoch 82/200\n",
            "16/16 [==============================] - 7s 431ms/step - loss: 0.2065 - accuracy: 0.9303 - val_loss: 0.4375 - val_accuracy: 0.8790\n",
            "Epoch 83/200\n",
            "16/16 [==============================] - 5s 334ms/step - loss: 0.1921 - accuracy: 0.9253 - val_loss: 0.4238 - val_accuracy: 0.8911\n",
            "Epoch 84/200\n",
            "16/16 [==============================] - 7s 416ms/step - loss: 0.1892 - accuracy: 0.9343 - val_loss: 0.4508 - val_accuracy: 0.8831\n",
            "Epoch 85/200\n",
            "16/16 [==============================] - 5s 331ms/step - loss: 0.1997 - accuracy: 0.9394 - val_loss: 0.3740 - val_accuracy: 0.8992\n",
            "Epoch 86/200\n",
            "16/16 [==============================] - 7s 428ms/step - loss: 0.1740 - accuracy: 0.9394 - val_loss: 0.5132 - val_accuracy: 0.8992\n",
            "Epoch 87/200\n",
            "16/16 [==============================] - 5s 329ms/step - loss: 0.2204 - accuracy: 0.9313 - val_loss: 0.4507 - val_accuracy: 0.8831\n",
            "Epoch 88/200\n",
            "16/16 [==============================] - 7s 424ms/step - loss: 0.2356 - accuracy: 0.9172 - val_loss: 0.4151 - val_accuracy: 0.8589\n",
            "Epoch 89/200\n",
            "16/16 [==============================] - 5s 332ms/step - loss: 0.2068 - accuracy: 0.9273 - val_loss: 0.3912 - val_accuracy: 0.8790\n",
            "Epoch 90/200\n",
            "16/16 [==============================] - 7s 438ms/step - loss: 0.1655 - accuracy: 0.9424 - val_loss: 0.3617 - val_accuracy: 0.8992\n",
            "Epoch 91/200\n",
            "16/16 [==============================] - 5s 337ms/step - loss: 0.2060 - accuracy: 0.9303 - val_loss: 0.4341 - val_accuracy: 0.8669\n",
            "Epoch 92/200\n",
            "16/16 [==============================] - 7s 432ms/step - loss: 0.1472 - accuracy: 0.9495 - val_loss: 0.4700 - val_accuracy: 0.8710\n",
            "Epoch 93/200\n",
            "16/16 [==============================] - 5s 338ms/step - loss: 0.1990 - accuracy: 0.9404 - val_loss: 0.5786 - val_accuracy: 0.8427\n",
            "Epoch 94/200\n",
            "16/16 [==============================] - 7s 428ms/step - loss: 0.1931 - accuracy: 0.9384 - val_loss: 0.4355 - val_accuracy: 0.8871\n",
            "Epoch 95/200\n",
            "16/16 [==============================] - 5s 332ms/step - loss: 0.1664 - accuracy: 0.9384 - val_loss: 0.4351 - val_accuracy: 0.8831\n",
            "Epoch 96/200\n",
            "16/16 [==============================] - 7s 459ms/step - loss: 0.1610 - accuracy: 0.9333 - val_loss: 0.5923 - val_accuracy: 0.8669\n",
            "Epoch 97/200\n",
            "16/16 [==============================] - 6s 389ms/step - loss: 0.1436 - accuracy: 0.9485 - val_loss: 0.4471 - val_accuracy: 0.9032\n",
            "Epoch 98/200\n",
            "16/16 [==============================] - 8s 512ms/step - loss: 0.1495 - accuracy: 0.9515 - val_loss: 0.4500 - val_accuracy: 0.8911\n",
            "Epoch 99/200\n",
            "16/16 [==============================] - 5s 329ms/step - loss: 0.2049 - accuracy: 0.9364 - val_loss: 0.4471 - val_accuracy: 0.8750\n",
            "Epoch 100/200\n",
            "16/16 [==============================] - 6s 384ms/step - loss: 0.1802 - accuracy: 0.9394 - val_loss: 0.4996 - val_accuracy: 0.8952\n",
            "Epoch 101/200\n",
            "16/16 [==============================] - 6s 363ms/step - loss: 0.1722 - accuracy: 0.9374 - val_loss: 0.4689 - val_accuracy: 0.8790\n",
            "Epoch 102/200\n",
            "16/16 [==============================] - 5s 331ms/step - loss: 0.1622 - accuracy: 0.9434 - val_loss: 0.5035 - val_accuracy: 0.8750\n",
            "Epoch 103/200\n",
            "16/16 [==============================] - 7s 434ms/step - loss: 0.2420 - accuracy: 0.9323 - val_loss: 0.3451 - val_accuracy: 0.8992\n",
            "Epoch 104/200\n",
            "16/16 [==============================] - 5s 325ms/step - loss: 0.1688 - accuracy: 0.9444 - val_loss: 0.3701 - val_accuracy: 0.9113\n",
            "Epoch 105/200\n",
            "16/16 [==============================] - 7s 425ms/step - loss: 0.1476 - accuracy: 0.9485 - val_loss: 0.4989 - val_accuracy: 0.8831\n",
            "Epoch 106/200\n",
            "16/16 [==============================] - 5s 330ms/step - loss: 0.1722 - accuracy: 0.9343 - val_loss: 0.4502 - val_accuracy: 0.8629\n",
            "Epoch 107/200\n",
            "16/16 [==============================] - 5s 330ms/step - loss: 0.2375 - accuracy: 0.9192 - val_loss: 0.3775 - val_accuracy: 0.8871\n",
            "Epoch 108/200\n",
            "16/16 [==============================] - 7s 425ms/step - loss: 0.1890 - accuracy: 0.9374 - val_loss: 0.5460 - val_accuracy: 0.8629\n",
            "Epoch 109/200\n",
            "16/16 [==============================] - 5s 331ms/step - loss: 0.1678 - accuracy: 0.9394 - val_loss: 0.3732 - val_accuracy: 0.8911\n",
            "Epoch 110/200\n",
            "16/16 [==============================] - 6s 366ms/step - loss: 0.1565 - accuracy: 0.9414 - val_loss: 0.5593 - val_accuracy: 0.8669\n",
            "Epoch 111/200\n",
            "16/16 [==============================] - 5s 330ms/step - loss: 0.1570 - accuracy: 0.9485 - val_loss: 0.5104 - val_accuracy: 0.9113\n",
            "Epoch 112/200\n",
            "16/16 [==============================] - 7s 432ms/step - loss: 0.1606 - accuracy: 0.9455 - val_loss: 0.4545 - val_accuracy: 0.8831\n",
            "Epoch 113/200\n",
            "16/16 [==============================] - 5s 330ms/step - loss: 0.1386 - accuracy: 0.9545 - val_loss: 0.4886 - val_accuracy: 0.8669\n",
            "Epoch 114/200\n",
            "16/16 [==============================] - 6s 347ms/step - loss: 0.2234 - accuracy: 0.9253 - val_loss: 0.4462 - val_accuracy: 0.8911\n",
            "Epoch 115/200\n",
            "16/16 [==============================] - 5s 339ms/step - loss: 0.1649 - accuracy: 0.9495 - val_loss: 0.4138 - val_accuracy: 0.8952\n",
            "Epoch 116/200\n",
            "16/16 [==============================] - 7s 432ms/step - loss: 0.2051 - accuracy: 0.9384 - val_loss: 0.5469 - val_accuracy: 0.8589\n",
            "Epoch 117/200\n",
            "16/16 [==============================] - 5s 345ms/step - loss: 0.2153 - accuracy: 0.9313 - val_loss: 0.4410 - val_accuracy: 0.9032\n",
            "Epoch 118/200\n",
            "16/16 [==============================] - 7s 430ms/step - loss: 0.1465 - accuracy: 0.9485 - val_loss: 0.4913 - val_accuracy: 0.8992\n",
            "Epoch 119/200\n",
            "16/16 [==============================] - 5s 330ms/step - loss: 0.1361 - accuracy: 0.9606 - val_loss: 0.4457 - val_accuracy: 0.8952\n",
            "Epoch 120/200\n",
            "16/16 [==============================] - 6s 394ms/step - loss: 0.1206 - accuracy: 0.9576 - val_loss: 0.5068 - val_accuracy: 0.8508\n",
            "Epoch 121/200\n",
            "16/16 [==============================] - 6s 356ms/step - loss: 0.1480 - accuracy: 0.9444 - val_loss: 0.3770 - val_accuracy: 0.9194\n",
            "Epoch 122/200\n",
            "16/16 [==============================] - 5s 327ms/step - loss: 0.1463 - accuracy: 0.9455 - val_loss: 0.3983 - val_accuracy: 0.8952\n",
            "Epoch 123/200\n",
            "16/16 [==============================] - 7s 424ms/step - loss: 0.0998 - accuracy: 0.9677 - val_loss: 0.3784 - val_accuracy: 0.8992\n",
            "Epoch 124/200\n",
            "16/16 [==============================] - 5s 330ms/step - loss: 0.1956 - accuracy: 0.9333 - val_loss: 0.7645 - val_accuracy: 0.8185\n",
            "Epoch 125/200\n",
            "16/16 [==============================] - 7s 438ms/step - loss: 0.1814 - accuracy: 0.9414 - val_loss: 0.4404 - val_accuracy: 0.8710\n",
            "Epoch 126/200\n",
            "16/16 [==============================] - 5s 329ms/step - loss: 0.1658 - accuracy: 0.9485 - val_loss: 0.4103 - val_accuracy: 0.8790\n",
            "Epoch 127/200\n",
            "16/16 [==============================] - 7s 431ms/step - loss: 0.2082 - accuracy: 0.9313 - val_loss: 0.4894 - val_accuracy: 0.8589\n",
            "Epoch 128/200\n",
            "16/16 [==============================] - 5s 349ms/step - loss: 0.1775 - accuracy: 0.9364 - val_loss: 0.4727 - val_accuracy: 0.8669\n",
            "Epoch 129/200\n",
            "16/16 [==============================] - 6s 347ms/step - loss: 0.1086 - accuracy: 0.9606 - val_loss: 0.4126 - val_accuracy: 0.8911\n",
            "Epoch 130/200\n",
            "16/16 [==============================] - 7s 432ms/step - loss: 0.0928 - accuracy: 0.9707 - val_loss: 0.4020 - val_accuracy: 0.9113\n",
            "Epoch 131/200\n",
            "16/16 [==============================] - 5s 330ms/step - loss: 0.1274 - accuracy: 0.9586 - val_loss: 0.4530 - val_accuracy: 0.8952\n",
            "Epoch 132/200\n",
            "16/16 [==============================] - 7s 443ms/step - loss: 0.1478 - accuracy: 0.9576 - val_loss: 0.4384 - val_accuracy: 0.8871\n",
            "Epoch 133/200\n",
            "16/16 [==============================] - 5s 331ms/step - loss: 0.1010 - accuracy: 0.9636 - val_loss: 0.3175 - val_accuracy: 0.9032\n",
            "Epoch 134/200\n",
            "16/16 [==============================] - 6s 347ms/step - loss: 0.1361 - accuracy: 0.9525 - val_loss: 0.4672 - val_accuracy: 0.8952\n",
            "Epoch 135/200\n",
            "16/16 [==============================] - 5s 334ms/step - loss: 0.1017 - accuracy: 0.9707 - val_loss: 0.3741 - val_accuracy: 0.9113\n",
            "Epoch 136/200\n",
            "16/16 [==============================] - 7s 419ms/step - loss: 0.0721 - accuracy: 0.9747 - val_loss: 0.3734 - val_accuracy: 0.9234\n",
            "Epoch 137/200\n",
            "16/16 [==============================] - 5s 330ms/step - loss: 0.1084 - accuracy: 0.9586 - val_loss: 0.2909 - val_accuracy: 0.9073\n",
            "Epoch 138/200\n",
            "16/16 [==============================] - 5s 329ms/step - loss: 0.1720 - accuracy: 0.9475 - val_loss: 0.5020 - val_accuracy: 0.8790\n",
            "Epoch 139/200\n",
            "16/16 [==============================] - 8s 498ms/step - loss: 0.1689 - accuracy: 0.9485 - val_loss: 0.4044 - val_accuracy: 0.8911\n",
            "Epoch 140/200\n",
            "16/16 [==============================] - 5s 329ms/step - loss: 0.1075 - accuracy: 0.9606 - val_loss: 0.4106 - val_accuracy: 0.8952\n",
            "Epoch 141/200\n",
            "16/16 [==============================] - 7s 474ms/step - loss: 0.1013 - accuracy: 0.9677 - val_loss: 0.5014 - val_accuracy: 0.9032\n",
            "Epoch 142/200\n",
            "16/16 [==============================] - 5s 325ms/step - loss: 0.1413 - accuracy: 0.9515 - val_loss: 0.3706 - val_accuracy: 0.9032\n",
            "Epoch 143/200\n",
            "16/16 [==============================] - 7s 430ms/step - loss: 0.1205 - accuracy: 0.9606 - val_loss: 0.4474 - val_accuracy: 0.8911\n",
            "Epoch 144/200\n",
            "16/16 [==============================] - 5s 329ms/step - loss: 0.1613 - accuracy: 0.9515 - val_loss: 0.5220 - val_accuracy: 0.8790\n",
            "Epoch 145/200\n",
            "16/16 [==============================] - 5s 334ms/step - loss: 0.1280 - accuracy: 0.9525 - val_loss: 0.5653 - val_accuracy: 0.8629\n",
            "Epoch 146/200\n",
            "16/16 [==============================] - 5s 332ms/step - loss: 0.1250 - accuracy: 0.9545 - val_loss: 0.5963 - val_accuracy: 0.8710\n",
            "Epoch 147/200\n",
            "16/16 [==============================] - 7s 432ms/step - loss: 0.1488 - accuracy: 0.9455 - val_loss: 0.3701 - val_accuracy: 0.9073\n",
            "Epoch 148/200\n",
            "16/16 [==============================] - 5s 332ms/step - loss: 0.1098 - accuracy: 0.9657 - val_loss: 0.3925 - val_accuracy: 0.9073\n",
            "Epoch 149/200\n",
            "16/16 [==============================] - 6s 390ms/step - loss: 0.0924 - accuracy: 0.9697 - val_loss: 0.4899 - val_accuracy: 0.8992\n",
            "Epoch 150/200\n",
            "16/16 [==============================] - 6s 354ms/step - loss: 0.1164 - accuracy: 0.9677 - val_loss: 0.4023 - val_accuracy: 0.9073\n",
            "Epoch 151/200\n",
            "16/16 [==============================] - 5s 334ms/step - loss: 0.1368 - accuracy: 0.9657 - val_loss: 0.4888 - val_accuracy: 0.8871\n",
            "Epoch 152/200\n",
            "16/16 [==============================] - 5s 334ms/step - loss: 0.1070 - accuracy: 0.9626 - val_loss: 0.4237 - val_accuracy: 0.9315\n",
            "Epoch 153/200\n",
            "16/16 [==============================] - 5s 335ms/step - loss: 0.0889 - accuracy: 0.9707 - val_loss: 0.4079 - val_accuracy: 0.9113\n",
            "Epoch 154/200\n",
            "16/16 [==============================] - 6s 375ms/step - loss: 0.0805 - accuracy: 0.9687 - val_loss: 0.5328 - val_accuracy: 0.8992\n",
            "Epoch 155/200\n",
            "16/16 [==============================] - 6s 396ms/step - loss: 0.1597 - accuracy: 0.9434 - val_loss: 0.3732 - val_accuracy: 0.8871\n",
            "Epoch 156/200\n",
            "16/16 [==============================] - 5s 333ms/step - loss: 0.2022 - accuracy: 0.9424 - val_loss: 0.5094 - val_accuracy: 0.8548\n",
            "Epoch 157/200\n",
            "16/16 [==============================] - 7s 428ms/step - loss: 0.1728 - accuracy: 0.9475 - val_loss: 0.4086 - val_accuracy: 0.8992\n",
            "Epoch 158/200\n",
            "16/16 [==============================] - 5s 331ms/step - loss: 0.1797 - accuracy: 0.9505 - val_loss: 0.6637 - val_accuracy: 0.8589\n",
            "Epoch 159/200\n",
            "16/16 [==============================] - 5s 332ms/step - loss: 0.1526 - accuracy: 0.9505 - val_loss: 0.4228 - val_accuracy: 0.9113\n",
            "Epoch 160/200\n",
            "16/16 [==============================] - 6s 361ms/step - loss: 0.1148 - accuracy: 0.9636 - val_loss: 0.4519 - val_accuracy: 0.9073\n",
            "Epoch 161/200\n",
            "16/16 [==============================] - 5s 338ms/step - loss: 0.0800 - accuracy: 0.9758 - val_loss: 0.4931 - val_accuracy: 0.8952\n",
            "Epoch 162/200\n",
            "16/16 [==============================] - 7s 435ms/step - loss: 0.1041 - accuracy: 0.9596 - val_loss: 0.4510 - val_accuracy: 0.9073\n",
            "Epoch 163/200\n",
            "16/16 [==============================] - 5s 331ms/step - loss: 0.1246 - accuracy: 0.9576 - val_loss: 0.4367 - val_accuracy: 0.8992\n",
            "Epoch 164/200\n",
            "16/16 [==============================] - 7s 465ms/step - loss: 0.1021 - accuracy: 0.9636 - val_loss: 0.3784 - val_accuracy: 0.9113\n",
            "Epoch 165/200\n",
            "16/16 [==============================] - 5s 332ms/step - loss: 0.1022 - accuracy: 0.9747 - val_loss: 0.4372 - val_accuracy: 0.8952\n",
            "Epoch 166/200\n",
            "16/16 [==============================] - 6s 379ms/step - loss: 0.0674 - accuracy: 0.9828 - val_loss: 0.4241 - val_accuracy: 0.9073\n",
            "Epoch 167/200\n",
            "16/16 [==============================] - 5s 329ms/step - loss: 0.0816 - accuracy: 0.9747 - val_loss: 0.5322 - val_accuracy: 0.8952\n",
            "Epoch 168/200\n",
            "16/16 [==============================] - 7s 430ms/step - loss: 0.0694 - accuracy: 0.9768 - val_loss: 0.4823 - val_accuracy: 0.9073\n",
            "Epoch 169/200\n",
            "16/16 [==============================] - 5s 335ms/step - loss: 0.1088 - accuracy: 0.9677 - val_loss: 0.7672 - val_accuracy: 0.8548\n",
            "Epoch 170/200\n",
            "16/16 [==============================] - 7s 464ms/step - loss: 0.1357 - accuracy: 0.9596 - val_loss: 0.5459 - val_accuracy: 0.8871\n",
            "Epoch 171/200\n",
            "16/16 [==============================] - 5s 334ms/step - loss: 0.1011 - accuracy: 0.9677 - val_loss: 0.4764 - val_accuracy: 0.8992\n",
            "Epoch 172/200\n",
            "16/16 [==============================] - 6s 379ms/step - loss: 0.0697 - accuracy: 0.9828 - val_loss: 0.3841 - val_accuracy: 0.8911\n",
            "Epoch 173/200\n",
            "16/16 [==============================] - 6s 382ms/step - loss: 0.0576 - accuracy: 0.9798 - val_loss: 0.3874 - val_accuracy: 0.9234\n",
            "Epoch 174/200\n",
            "16/16 [==============================] - 5s 339ms/step - loss: 0.1145 - accuracy: 0.9626 - val_loss: 0.4924 - val_accuracy: 0.8831\n",
            "Epoch 175/200\n",
            "16/16 [==============================] - 7s 438ms/step - loss: 0.1542 - accuracy: 0.9576 - val_loss: 0.4338 - val_accuracy: 0.9032\n",
            "Epoch 176/200\n",
            "16/16 [==============================] - 5s 339ms/step - loss: 0.0881 - accuracy: 0.9677 - val_loss: 0.3655 - val_accuracy: 0.9194\n",
            "Epoch 177/200\n",
            "16/16 [==============================] - 7s 428ms/step - loss: 0.1650 - accuracy: 0.9444 - val_loss: 0.5156 - val_accuracy: 0.8911\n",
            "Epoch 178/200\n",
            "16/16 [==============================] - 5s 335ms/step - loss: 0.0902 - accuracy: 0.9737 - val_loss: 0.4933 - val_accuracy: 0.8831\n",
            "Epoch 179/200\n",
            "16/16 [==============================] - 6s 396ms/step - loss: 0.0852 - accuracy: 0.9717 - val_loss: 0.4324 - val_accuracy: 0.8992\n",
            "Epoch 180/200\n",
            "16/16 [==============================] - 5s 333ms/step - loss: 0.0976 - accuracy: 0.9707 - val_loss: 0.4510 - val_accuracy: 0.9153\n",
            "Epoch 181/200\n",
            "16/16 [==============================] - 8s 546ms/step - loss: 0.0982 - accuracy: 0.9657 - val_loss: 0.3452 - val_accuracy: 0.9113\n",
            "Epoch 182/200\n",
            "16/16 [==============================] - 5s 338ms/step - loss: 0.0907 - accuracy: 0.9687 - val_loss: 0.3633 - val_accuracy: 0.9073\n",
            "Epoch 183/200\n",
            "16/16 [==============================] - 6s 397ms/step - loss: 0.0760 - accuracy: 0.9788 - val_loss: 0.4188 - val_accuracy: 0.9395\n",
            "Epoch 184/200\n",
            "16/16 [==============================] - 6s 350ms/step - loss: 0.0501 - accuracy: 0.9838 - val_loss: 0.4166 - val_accuracy: 0.9113\n",
            "Epoch 185/200\n",
            "16/16 [==============================] - 5s 325ms/step - loss: 0.0648 - accuracy: 0.9838 - val_loss: 0.3372 - val_accuracy: 0.9315\n",
            "Epoch 186/200\n",
            "16/16 [==============================] - 7s 426ms/step - loss: 0.0675 - accuracy: 0.9737 - val_loss: 0.3318 - val_accuracy: 0.9274\n",
            "Epoch 187/200\n",
            "16/16 [==============================] - 5s 333ms/step - loss: 0.0558 - accuracy: 0.9828 - val_loss: 0.3538 - val_accuracy: 0.9315\n",
            "Epoch 188/200\n",
            "16/16 [==============================] - 7s 438ms/step - loss: 0.0811 - accuracy: 0.9727 - val_loss: 0.7450 - val_accuracy: 0.8831\n",
            "Epoch 189/200\n",
            "16/16 [==============================] - 5s 330ms/step - loss: 0.0696 - accuracy: 0.9707 - val_loss: 0.4613 - val_accuracy: 0.9032\n",
            "Epoch 190/200\n",
            "16/16 [==============================] - 5s 333ms/step - loss: 0.0721 - accuracy: 0.9758 - val_loss: 0.4521 - val_accuracy: 0.9274\n",
            "Epoch 191/200\n",
            "16/16 [==============================] - 7s 434ms/step - loss: 0.0621 - accuracy: 0.9778 - val_loss: 0.6525 - val_accuracy: 0.9194\n",
            "Epoch 192/200\n",
            "16/16 [==============================] - 5s 331ms/step - loss: 0.0571 - accuracy: 0.9778 - val_loss: 0.5202 - val_accuracy: 0.9234\n",
            "Epoch 193/200\n",
            "16/16 [==============================] - 7s 428ms/step - loss: 0.0792 - accuracy: 0.9737 - val_loss: 0.4315 - val_accuracy: 0.9194\n",
            "Epoch 194/200\n",
            "16/16 [==============================] - 7s 428ms/step - loss: 0.0900 - accuracy: 0.9697 - val_loss: 0.5339 - val_accuracy: 0.8710\n",
            "Epoch 195/200\n",
            "16/16 [==============================] - 5s 336ms/step - loss: 0.0730 - accuracy: 0.9737 - val_loss: 0.5313 - val_accuracy: 0.8871\n",
            "Epoch 196/200\n",
            "16/16 [==============================] - 7s 430ms/step - loss: 0.1034 - accuracy: 0.9636 - val_loss: 0.5185 - val_accuracy: 0.9032\n",
            "Epoch 197/200\n",
            "16/16 [==============================] - 5s 334ms/step - loss: 0.1543 - accuracy: 0.9485 - val_loss: 0.6383 - val_accuracy: 0.8871\n",
            "Epoch 198/200\n",
            "16/16 [==============================] - 5s 337ms/step - loss: 0.1674 - accuracy: 0.9465 - val_loss: 0.7739 - val_accuracy: 0.8589\n",
            "Epoch 199/200\n",
            "16/16 [==============================] - 7s 429ms/step - loss: 0.1632 - accuracy: 0.9434 - val_loss: 0.4001 - val_accuracy: 0.9153\n",
            "Epoch 200/200\n",
            "16/16 [==============================] - 5s 333ms/step - loss: 0.0959 - accuracy: 0.9657 - val_loss: 0.3675 - val_accuracy: 0.9032\n"
          ]
        }
      ]
    },
    {
      "cell_type": "code",
      "source": [
        "#Đoạn code này đánh giá độ chính xác và sự mất mát của mô hình\n",
        "test_loss, test_acc = model.evaluate(x_test, y_test)\n",
        "print(\"Accuracy:\", test_acc)\n",
        "print('Loss:', test_loss)"
      ],
      "metadata": {
        "colab": {
          "base_uri": "https://localhost:8080/"
        },
        "id": "Wtu6uksGl3Mj",
        "outputId": "0291b232-feed-42e8-ee21-623c0969741f"
      },
      "execution_count": 10,
      "outputs": [
        {
          "output_type": "stream",
          "name": "stdout",
          "text": [
            "8/8 [==============================] - 1s 32ms/step - loss: 53.1204 - accuracy: 0.9194\n",
            "Accuracy: 0.9193548560142517\n",
            "Loss: 53.12040710449219\n"
          ]
        }
      ]
    },
    {
      "cell_type": "code",
      "source": [
        "# plot the training and validation accuracy over epochs\n",
        "import matplotlib.pyplot as plt\n",
        "plt.plot(train.history['accuracy'], label='Training accuracy')\n",
        "plt.plot(train.history['val_accuracy'], label = 'Validation accuracy')\n",
        "plt.xlabel('Epoch')\n",
        "plt.ylabel('Accuracy')\n",
        "plt.legend()\n",
        "plt.show()"
      ],
      "metadata": {
        "colab": {
          "base_uri": "https://localhost:8080/",
          "height": 449
        },
        "id": "JEVZn2Z7OAc3",
        "outputId": "ccb4e229-983f-4515-bf07-9843448887f2"
      },
      "execution_count": 11,
      "outputs": [
        {
          "output_type": "display_data",
          "data": {
            "text/plain": [
              "<Figure size 640x480 with 1 Axes>"
            ],
            "image/png": "[encoded data removed]"
          },
          "metadata": {}
        }
      ]
    },
    {
      "cell_type": "code",
      "source": [
        "accuracy = train.history['accuracy']\n",
        "loss = train.history['loss']\n",
        "epochs = range(len(accuracy))\n",
        "plt.plot(epochs, accuracy, 'bo', label = 'Training accuracy')\n",
        "plt.plot(epochs, loss, 'b', label = 'Traning loss')\n",
        "plt.show()"
      ],
      "metadata": {
        "colab": {
          "base_uri": "https://localhost:8080/",
          "height": 430
        },
        "id": "CfCxsXpwl48j",
        "outputId": "4edf6fcd-2e1d-4bc0-a844-98b3f87cbda5"
      },
      "execution_count": 12,
      "outputs": [
        {
          "output_type": "display_data",
          "data": {
            "text/plain": [
              "<Figure size 640x480 with 1 Axes>"
            ],
            "image/png": "[encoded data removed]"
          },
          "metadata": {}
        }
      ]
    },
    {
      "cell_type": "code",
      "source": [
        "#Save model\n",
        "model.save('/content/drive/MyDrive/AI -Trần Thảo Hưng -20146344/model/MODEL.h5')"
      ],
      "metadata": {
        "id": "cSLb0JqDl7lt"
      },
      "execution_count": 13,
      "outputs": []
    }
  ]
}