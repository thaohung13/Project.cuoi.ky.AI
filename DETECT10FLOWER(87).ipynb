{
  "nbformat": 4,
  "nbformat_minor": 0,
  "metadata": {
    "colab": {
      "provenance": [],
      "gpuType": "T4",
      "include_colab_link": true
    },
    "kernelspec": {
      "name": "python3",
      "display_name": "Python 3"
    },
    "language_info": {
      "name": "python"
    },
    "gpuClass": "standard",
    "accelerator": "GPU"
  },
  "cells": [
    {
      "cell_type": "markdown",
      "metadata": {
        "id": "view-in-github",
        "colab_type": "text"
      },
      "source": [
        "<a href=\"https://colab.research.google.com/github/thaohung13/Project.cuoi.ky.AI/blob/main/DETECT10FLOWER(87).ipynb\" target=\"_parent\"><img src=\"https://colab.research.google.com/assets/colab-badge.svg\" alt=\"Open In Colab\"/></a>"
      ]
    },
    {
      "cell_type": "code",
      "execution_count": 335,
      "metadata": {
        "id": "dECoW6YblV-z"
      },
      "outputs": [],
      "source": [
        "from os import listdir\n",
        "from numpy import asarray, save\n",
        "from keras.utils import load_img\n",
        "from keras.utils import img_to_array\n",
        "import numpy as np\n",
        "from sklearn.model_selection import train_test_split\n",
        "from keras.datasets import cifar100\n",
        "import matplotlib.pyplot as plt\n",
        "from keras.layers import Dense, Dropout, Flatten, Conv2D, MaxPooling2D, Normalization\n",
        "from keras.models import Sequential, Model\n",
        "from keras import Input\n",
        "from keras.layers import LeakyReLU\n",
        "from keras.optimizers import Adam"
      ]
    },
    {
      "cell_type": "code",
      "source": [
        "from google.colab import drive\n",
        "drive.mount('/content/drive')"
      ],
      "metadata": {
        "colab": {
          "base_uri": "https://localhost:8080/"
        },
        "id": "U4XLAeBllbTr",
        "outputId": "0a53146e-9c01-4f0e-ee85-02b85208c0b4"
      },
      "execution_count": 336,
      "outputs": [
        {
          "output_type": "stream",
          "name": "stdout",
          "text": [
            "Drive already mounted at /content/drive; to attempt to forcibly remount, call drive.mount(\"/content/drive\", force_remount=True).\n"
          ]
        }
      ]
    },
    {
      "cell_type": "code",
      "source": [
        "from numpy import asarray\n",
        "\n",
        "folder = '/content/drive/MyDrive/AI -Trần Thảo Hưng -20146344/DATA2/'\n",
        "photos, labels = list(), list()\n",
        "for file in listdir(folder):\n",
        "  output = 0.0\n",
        "  if file.startswith('Hong'):\n",
        "    output = 0\n",
        "  if file.startswith('Su'):\n",
        "    output = 1\n",
        "  if file.startswith('Sen'):\n",
        "    output = 2\n",
        "  if file.startswith('Mai'):\n",
        "    output = 3\n",
        "  if file.startswith('PhongLuDo'):\n",
        "    output = 4\n",
        "  if file.startswith('HongMon'):\n",
        "    output = 5\n",
        "  if file.startswith('ThienDieu'):\n",
        "    output = 6\n",
        "  if file.startswith('CucVanTho'):\n",
        "    output = 7\n",
        "  if file.startswith('HuongDuong'):\n",
        "    output = 8\n",
        "  if file.startswith('DaUyenThao'):\n",
        "    output = 9\n",
        "  photo = load_img(folder + file, target_size=(128, 128))\n",
        "  photo = img_to_array(photo)\n",
        "  photos.append(photo)\n",
        "  labels.append(output)\n",
        "\n",
        "photos = asarray(photos)\n",
        "labels = asarray(labels)\n",
        "print(photos.shape, labels.shape)\n",
        "save('/content/drive/MyDrive/AI -Trần Thảo Hưng -20146344/model/FL_PHOTOS1', photos)\n",
        "save('/content/drive/MyDrive/AI -Trần Thảo Hưng -20146344/model/FL_LABELS1', labels)"
      ],
      "metadata": {
        "colab": {
          "base_uri": "https://localhost:8080/"
        },
        "id": "sNT-XeT4ldXZ",
        "outputId": "a24ad636-93d7-48ef-a8d7-f51a8fca9a36"
      },
      "execution_count": 337,
      "outputs": [
        {
          "output_type": "stream",
          "name": "stdout",
          "text": [
            "(1245, 128, 128, 3) (1245,)\n"
          ]
        }
      ]
    },
    {
      "cell_type": "code",
      "source": [
        "# Load images and labels\n",
        "from keras.utils import to_categorical #one hot encoding\n",
        "photos = np.load('/content/drive/MyDrive/AI -Trần Thảo Hưng -20146344/model/FL_PHOTOS1.npy')\n",
        "labels = np.load('/content/drive/MyDrive/AI -Trần Thảo Hưng -20146344/model/FL_LABELS1.npy')\n",
        "labels_one_hot = to_categorical(labels)\n",
        "x_train, x_test, y_train, y_test = train_test_split(photos, labels_one_hot, test_size = 0.2, random_state = 128)"
      ],
      "metadata": {
        "id": "lp7XL7SblsKl"
      },
      "execution_count": 374,
      "outputs": []
    },
    {
      "cell_type": "code",
      "source": [
        "model = Sequential()\n",
        "#Convolutional\n",
        "model.add(Conv2D(8, kernel_size= (3,3), activation= 'relu', input_shape = (128,128,3), padding= 'same'))\n",
        "model.add(Conv2D(8, kernel_size= (3,3), activation= 'relu', padding= 'same'))\n",
        "model.add(MaxPooling2D((2,2), padding= 'same'))\n",
        "\n",
        "model.add(Conv2D(16, kernel_size= (3,3), activation= 'relu', padding= 'same'))\n",
        "model.add(Conv2D(16, kernel_size= (3,3), activation= 'relu', padding= 'same'))\n",
        "model.add(MaxPooling2D((2,2), padding= 'same'))\n",
        "\n",
        "model.add(Conv2D(32, kernel_size= (3,3), activation= 'relu', padding= 'same'))\n",
        "model.add(Conv2D(32, kernel_size= (3,3), activation= 'relu', padding= 'same'))\n",
        "model.add(MaxPooling2D((2,2), padding= 'same'))\n",
        "\n",
        "model.add(Conv2D(64, kernel_size= (3,3), activation= 'relu', padding= 'same'))\n",
        "model.add(Conv2D(64, kernel_size= (3,3), activation= 'relu', padding= 'same'))\n",
        "model.add(MaxPooling2D((2,2), padding= 'same'))\n",
        "\n",
        "model.add(Conv2D(64, kernel_size= (2,2), activation= 'relu', padding= 'same'))\n",
        "model.add(Conv2D(64, kernel_size= (2,2), activation= 'relu', padding= 'same'))\n",
        "model.add(MaxPooling2D((2,2), padding= 'same'))\n",
        "\n",
        "# Fully connected layers\n",
        "model.add(Flatten())\n",
        "model.add(Dense(512, activation= 'relu'))\n",
        "model.add(Dropout(0.25))\n",
        "model.add(Dense(512, activation= 'relu'))\n",
        "model.add(Dropout(0.25))\n",
        "model.add(Dense(10, activation= 'softmax'))\n",
        "model.summary()"
      ],
      "metadata": {
        "colab": {
          "base_uri": "https://localhost:8080/"
        },
        "id": "N0JYyJhIlt-9",
        "outputId": "58bd5087-f3ce-47a2-f611-6b6beecd2add"
      },
      "execution_count": 375,
      "outputs": [
        {
          "output_type": "stream",
          "name": "stdout",
          "text": [
            "Model: \"sequential_35\"\n",
            "_________________________________________________________________\n",
            " Layer (type)                Output Shape              Param #   \n",
            "=================================================================\n",
            " conv2d_350 (Conv2D)         (None, 128, 128, 8)       224       \n",
            "                                                                 \n",
            " conv2d_351 (Conv2D)         (None, 128, 128, 8)       584       \n",
            "                                                                 \n",
            " max_pooling2d_175 (MaxPooli  (None, 64, 64, 8)        0         \n",
            " ng2D)                                                           \n",
            "                                                                 \n",
            " conv2d_352 (Conv2D)         (None, 64, 64, 16)        1168      \n",
            "                                                                 \n",
            " conv2d_353 (Conv2D)         (None, 64, 64, 16)        2320      \n",
            "                                                                 \n",
            " max_pooling2d_176 (MaxPooli  (None, 32, 32, 16)       0         \n",
            " ng2D)                                                           \n",
            "                                                                 \n",
            " conv2d_354 (Conv2D)         (None, 32, 32, 32)        4640      \n",
            "                                                                 \n",
            " conv2d_355 (Conv2D)         (None, 32, 32, 32)        9248      \n",
            "                                                                 \n",
            " max_pooling2d_177 (MaxPooli  (None, 16, 16, 32)       0         \n",
            " ng2D)                                                           \n",
            "                                                                 \n",
            " conv2d_356 (Conv2D)         (None, 16, 16, 64)        18496     \n",
            "                                                                 \n",
            " conv2d_357 (Conv2D)         (None, 16, 16, 64)        36928     \n",
            "                                                                 \n",
            " max_pooling2d_178 (MaxPooli  (None, 8, 8, 64)         0         \n",
            " ng2D)                                                           \n",
            "                                                                 \n",
            " conv2d_358 (Conv2D)         (None, 8, 8, 64)          16448     \n",
            "                                                                 \n",
            " conv2d_359 (Conv2D)         (None, 8, 8, 64)          16448     \n",
            "                                                                 \n",
            " max_pooling2d_179 (MaxPooli  (None, 4, 4, 64)         0         \n",
            " ng2D)                                                           \n",
            "                                                                 \n",
            " flatten_35 (Flatten)        (None, 1024)              0         \n",
            "                                                                 \n",
            " dense_109 (Dense)           (None, 512)               524800    \n",
            "                                                                 \n",
            " dropout_74 (Dropout)        (None, 512)               0         \n",
            "                                                                 \n",
            " dense_110 (Dense)           (None, 512)               262656    \n",
            "                                                                 \n",
            " dropout_75 (Dropout)        (None, 512)               0         \n",
            "                                                                 \n",
            " dense_111 (Dense)           (None, 10)                5130      \n",
            "                                                                 \n",
            "=================================================================\n",
            "Total params: 899,090\n",
            "Trainable params: 899,090\n",
            "Non-trainable params: 0\n",
            "_________________________________________________________________\n"
          ]
        }
      ]
    },
    {
      "cell_type": "code",
      "source": [
        "x_train.shape"
      ],
      "metadata": {
        "colab": {
          "base_uri": "https://localhost:8080/"
        },
        "id": "AkhvQL9vlySs",
        "outputId": "20ff06bd-187c-48df-90e7-0305466c5607"
      },
      "execution_count": 376,
      "outputs": [
        {
          "output_type": "execute_result",
          "data": {
            "text/plain": [
              "(996, 128, 128, 3)"
            ]
          },
          "metadata": {},
          "execution_count": 376
        }
      ]
    },
    {
      "cell_type": "code",
      "source": [
        "y_train.shape"
      ],
      "metadata": {
        "colab": {
          "base_uri": "https://localhost:8080/"
        },
        "id": "f8YA8GNcl0EJ",
        "outputId": "be63e71b-45d1-4017-aa86-d0bb3dc26025"
      },
      "execution_count": 377,
      "outputs": [
        {
          "output_type": "execute_result",
          "data": {
            "text/plain": [
              "(996, 10)"
            ]
          },
          "metadata": {},
          "execution_count": 377
        }
      ]
    },
    {
      "cell_type": "code",
      "source": [
        "# Training\n",
        "batch_size= 64\n",
        "epochs= 80   \n",
        "\n",
        "model.compile(optimizer = Adam(), loss = 'categorical_crossentropy', metrics = ['accuracy'])\n",
        "train=model.fit(x_train,y_train,batch_size=batch_size,epochs=epochs,verbose=1)\n",
        "eval = model.evaluate(x_test, y_test)\n",
        "print('Test loss: ', eval[0])\n",
        "print('Test accuracy: ', eval[1])"
      ],
      "metadata": {
        "colab": {
          "base_uri": "https://localhost:8080/"
        },
        "id": "_yw-dLT9l1qR",
        "outputId": "9d92b5a5-0019-4bb6-fff2-7019553e6089"
      },
      "execution_count": 378,
      "outputs": [
        {
          "output_type": "stream",
          "name": "stdout",
          "text": [
            "Epoch 1/80\n",
            "16/16 [==============================] - 2s 42ms/step - loss: 2.3108 - accuracy: 0.2199\n",
            "Epoch 2/80\n",
            "16/16 [==============================] - 0s 30ms/step - loss: 2.0265 - accuracy: 0.2751\n",
            "Epoch 3/80\n",
            "16/16 [==============================] - 0s 29ms/step - loss: 1.7510 - accuracy: 0.3745\n",
            "Epoch 4/80\n",
            "16/16 [==============================] - 0s 29ms/step - loss: 1.3247 - accuracy: 0.5281\n",
            "Epoch 5/80\n",
            "16/16 [==============================] - 0s 29ms/step - loss: 1.1197 - accuracy: 0.6034\n",
            "Epoch 6/80\n",
            "16/16 [==============================] - 0s 29ms/step - loss: 0.8865 - accuracy: 0.6938\n",
            "Epoch 7/80\n",
            "16/16 [==============================] - 0s 29ms/step - loss: 0.8725 - accuracy: 0.7118\n",
            "Epoch 8/80\n",
            "16/16 [==============================] - 0s 28ms/step - loss: 0.8322 - accuracy: 0.7169\n",
            "Epoch 9/80\n",
            "16/16 [==============================] - 0s 26ms/step - loss: 0.6467 - accuracy: 0.7882\n",
            "Epoch 10/80\n",
            "16/16 [==============================] - 0s 27ms/step - loss: 0.4512 - accuracy: 0.8484\n",
            "Epoch 11/80\n",
            "16/16 [==============================] - 0s 26ms/step - loss: 0.3184 - accuracy: 0.8956\n",
            "Epoch 12/80\n",
            "16/16 [==============================] - 0s 27ms/step - loss: 0.3010 - accuracy: 0.9086\n",
            "Epoch 13/80\n",
            "16/16 [==============================] - 0s 27ms/step - loss: 0.2513 - accuracy: 0.9096\n",
            "Epoch 14/80\n",
            "16/16 [==============================] - 0s 26ms/step - loss: 0.1547 - accuracy: 0.9498\n",
            "Epoch 15/80\n",
            "16/16 [==============================] - 0s 26ms/step - loss: 0.1611 - accuracy: 0.9528\n",
            "Epoch 16/80\n",
            "16/16 [==============================] - 0s 27ms/step - loss: 0.1642 - accuracy: 0.9518\n",
            "Epoch 17/80\n",
            "16/16 [==============================] - 0s 26ms/step - loss: 0.0723 - accuracy: 0.9719\n",
            "Epoch 18/80\n",
            "16/16 [==============================] - 0s 27ms/step - loss: 0.0535 - accuracy: 0.9890\n",
            "Epoch 19/80\n",
            "16/16 [==============================] - 0s 26ms/step - loss: 0.0321 - accuracy: 0.9920\n",
            "Epoch 20/80\n",
            "16/16 [==============================] - 0s 27ms/step - loss: 0.0968 - accuracy: 0.9649\n",
            "Epoch 21/80\n",
            "16/16 [==============================] - 0s 26ms/step - loss: 0.1527 - accuracy: 0.9438\n",
            "Epoch 22/80\n",
            "16/16 [==============================] - 0s 27ms/step - loss: 0.0899 - accuracy: 0.9689\n",
            "Epoch 23/80\n",
            "16/16 [==============================] - 0s 27ms/step - loss: 0.0384 - accuracy: 0.9890\n",
            "Epoch 24/80\n",
            "16/16 [==============================] - 0s 27ms/step - loss: 0.1135 - accuracy: 0.9639\n",
            "Epoch 25/80\n",
            "16/16 [==============================] - 0s 27ms/step - loss: 0.2027 - accuracy: 0.9347\n",
            "Epoch 26/80\n",
            "16/16 [==============================] - 0s 27ms/step - loss: 0.1296 - accuracy: 0.9649\n",
            "Epoch 27/80\n",
            "16/16 [==============================] - 0s 27ms/step - loss: 0.0466 - accuracy: 0.9839\n",
            "Epoch 28/80\n",
            "16/16 [==============================] - 0s 27ms/step - loss: 0.0410 - accuracy: 0.9920\n",
            "Epoch 29/80\n",
            "16/16 [==============================] - 0s 27ms/step - loss: 0.0246 - accuracy: 0.9940\n",
            "Epoch 30/80\n",
            "16/16 [==============================] - 0s 27ms/step - loss: 0.0382 - accuracy: 0.9859\n",
            "Epoch 31/80\n",
            "16/16 [==============================] - 0s 29ms/step - loss: 0.0830 - accuracy: 0.9769\n",
            "Epoch 32/80\n",
            "16/16 [==============================] - 0s 30ms/step - loss: 0.0849 - accuracy: 0.9749\n",
            "Epoch 33/80\n",
            "16/16 [==============================] - 0s 30ms/step - loss: 0.0392 - accuracy: 0.9880\n",
            "Epoch 34/80\n",
            "16/16 [==============================] - 0s 30ms/step - loss: 0.0186 - accuracy: 0.9960\n",
            "Epoch 35/80\n",
            "16/16 [==============================] - 0s 30ms/step - loss: 0.0073 - accuracy: 0.9970\n",
            "Epoch 36/80\n",
            "16/16 [==============================] - 0s 29ms/step - loss: 0.0223 - accuracy: 0.9940\n",
            "Epoch 37/80\n",
            "16/16 [==============================] - 0s 30ms/step - loss: 0.0649 - accuracy: 0.9769\n",
            "Epoch 38/80\n",
            "16/16 [==============================] - 0s 29ms/step - loss: 0.0599 - accuracy: 0.9769\n",
            "Epoch 39/80\n",
            "16/16 [==============================] - 0s 30ms/step - loss: 0.0609 - accuracy: 0.9839\n",
            "Epoch 40/80\n",
            "16/16 [==============================] - 0s 27ms/step - loss: 0.2044 - accuracy: 0.9398\n",
            "Epoch 41/80\n",
            "16/16 [==============================] - 0s 27ms/step - loss: 0.0975 - accuracy: 0.9699\n",
            "Epoch 42/80\n",
            "16/16 [==============================] - 0s 26ms/step - loss: 0.0571 - accuracy: 0.9829\n",
            "Epoch 43/80\n",
            "16/16 [==============================] - 0s 27ms/step - loss: 0.0143 - accuracy: 0.9970\n",
            "Epoch 44/80\n",
            "16/16 [==============================] - 0s 27ms/step - loss: 0.0129 - accuracy: 0.9940\n",
            "Epoch 45/80\n",
            "16/16 [==============================] - 0s 26ms/step - loss: 0.0413 - accuracy: 0.9890\n",
            "Epoch 46/80\n",
            "16/16 [==============================] - 0s 28ms/step - loss: 0.0207 - accuracy: 0.9930\n",
            "Epoch 47/80\n",
            "16/16 [==============================] - 0s 27ms/step - loss: 0.0100 - accuracy: 0.9970\n",
            "Epoch 48/80\n",
            "16/16 [==============================] - 0s 27ms/step - loss: 0.0228 - accuracy: 0.9910\n",
            "Epoch 49/80\n",
            "16/16 [==============================] - 0s 28ms/step - loss: 0.0420 - accuracy: 0.9859\n",
            "Epoch 50/80\n",
            "16/16 [==============================] - 0s 28ms/step - loss: 0.0656 - accuracy: 0.9829\n",
            "Epoch 51/80\n",
            "16/16 [==============================] - 0s 27ms/step - loss: 0.0148 - accuracy: 0.9960\n",
            "Epoch 52/80\n",
            "16/16 [==============================] - 0s 28ms/step - loss: 0.0181 - accuracy: 0.9940\n",
            "Epoch 53/80\n",
            "16/16 [==============================] - 0s 28ms/step - loss: 0.0470 - accuracy: 0.9839\n",
            "Epoch 54/80\n",
            "16/16 [==============================] - 0s 28ms/step - loss: 0.0441 - accuracy: 0.9849\n",
            "Epoch 55/80\n",
            "16/16 [==============================] - 0s 28ms/step - loss: 0.0294 - accuracy: 0.9940\n",
            "Epoch 56/80\n",
            "16/16 [==============================] - 0s 28ms/step - loss: 0.0359 - accuracy: 0.9890\n",
            "Epoch 57/80\n",
            "16/16 [==============================] - 0s 28ms/step - loss: 0.0141 - accuracy: 0.9950\n",
            "Epoch 58/80\n",
            "16/16 [==============================] - 0s 27ms/step - loss: 0.0014 - accuracy: 1.0000\n",
            "Epoch 59/80\n",
            "16/16 [==============================] - 0s 29ms/step - loss: 0.0037 - accuracy: 0.9980\n",
            "Epoch 60/80\n",
            "16/16 [==============================] - 0s 27ms/step - loss: 0.0033 - accuracy: 0.9990\n",
            "Epoch 61/80\n",
            "16/16 [==============================] - 0s 28ms/step - loss: 0.0028 - accuracy: 0.9990\n",
            "Epoch 62/80\n",
            "16/16 [==============================] - 0s 30ms/step - loss: 0.0019 - accuracy: 1.0000\n",
            "Epoch 63/80\n",
            "16/16 [==============================] - 0s 30ms/step - loss: 7.5714e-04 - accuracy: 1.0000\n",
            "Epoch 64/80\n",
            "16/16 [==============================] - 0s 29ms/step - loss: 2.9898e-04 - accuracy: 1.0000\n",
            "Epoch 65/80\n",
            "16/16 [==============================] - 0s 30ms/step - loss: 5.4786e-04 - accuracy: 1.0000\n",
            "Epoch 66/80\n",
            "16/16 [==============================] - 0s 31ms/step - loss: 3.4694e-04 - accuracy: 1.0000\n",
            "Epoch 67/80\n",
            "16/16 [==============================] - 1s 31ms/step - loss: 2.2357e-04 - accuracy: 1.0000\n",
            "Epoch 68/80\n",
            "16/16 [==============================] - 0s 31ms/step - loss: 1.6454e-04 - accuracy: 1.0000\n",
            "Epoch 69/80\n",
            "16/16 [==============================] - 0s 31ms/step - loss: 4.1723e-04 - accuracy: 1.0000\n",
            "Epoch 70/80\n",
            "16/16 [==============================] - 0s 31ms/step - loss: 1.8833e-04 - accuracy: 1.0000\n",
            "Epoch 71/80\n",
            "16/16 [==============================] - 0s 27ms/step - loss: 2.4190e-04 - accuracy: 1.0000\n",
            "Epoch 72/80\n",
            "16/16 [==============================] - 0s 28ms/step - loss: 4.3387e-05 - accuracy: 1.0000\n",
            "Epoch 73/80\n",
            "16/16 [==============================] - 0s 28ms/step - loss: 7.3103e-05 - accuracy: 1.0000\n",
            "Epoch 74/80\n",
            "16/16 [==============================] - 0s 28ms/step - loss: 3.0921e-05 - accuracy: 1.0000\n",
            "Epoch 75/80\n",
            "16/16 [==============================] - 0s 28ms/step - loss: 6.5906e-05 - accuracy: 1.0000\n",
            "Epoch 76/80\n",
            "16/16 [==============================] - 0s 28ms/step - loss: 1.8868e-05 - accuracy: 1.0000\n",
            "Epoch 77/80\n",
            "16/16 [==============================] - 0s 29ms/step - loss: 5.6424e-05 - accuracy: 1.0000\n",
            "Epoch 78/80\n",
            "16/16 [==============================] - 0s 28ms/step - loss: 3.5394e-05 - accuracy: 1.0000\n",
            "Epoch 79/80\n",
            "16/16 [==============================] - 0s 28ms/step - loss: 3.8446e-05 - accuracy: 1.0000\n",
            "Epoch 80/80\n",
            "16/16 [==============================] - 0s 28ms/step - loss: 2.9306e-05 - accuracy: 1.0000\n",
            "8/8 [==============================] - 0s 7ms/step - loss: 1.0143 - accuracy: 0.8715\n",
            "Test loss:  1.0143344402313232\n",
            "Test accuracy:  0.8714859485626221\n"
          ]
        }
      ]
    },
    {
      "cell_type": "code",
      "source": [
        "test_loss, test_acc = model.evaluate(x_test, y_test)\n",
        "print(\"Accuracy:\", test_acc)\n",
        "print('Loss:', test_loss)"
      ],
      "metadata": {
        "colab": {
          "base_uri": "https://localhost:8080/"
        },
        "id": "Wtu6uksGl3Mj",
        "outputId": "f0c81c31-4696-486d-d966-3793f2ceb3cd"
      },
      "execution_count": 381,
      "outputs": [
        {
          "output_type": "stream",
          "name": "stdout",
          "text": [
            "8/8 [==============================] - 0s 10ms/step - loss: 1.0143 - accuracy: 0.8715\n",
            "Accuracy: 0.8714859485626221\n",
            "Loss: 1.0143344402313232\n"
          ]
        }
      ]
    },
    {
      "cell_type": "code",
      "source": [
        "accuracy = train.history['accuracy']\n",
        "loss = train.history['loss']\n",
        "epochs = range(len(accuracy))\n",
        "plt.plot(epochs, accuracy, 'bo', label = 'Training accuracy')\n",
        "plt.plot(epochs, loss, 'b', label = 'Traning loss')\n",
        "plt.show()"
      ],
      "metadata": {
        "colab": {
          "base_uri": "https://localhost:8080/",
          "height": 430
        },
        "id": "CfCxsXpwl48j",
        "outputId": "c458e9ca-ba80-4097-cd18-86e4af52b93c"
      },
      "execution_count": 382,
      "outputs": [
        {
          "output_type": "display_data",
          "data": {
            "text/plain": [
              "<Figure size 640x480 with 1 Axes>"
            ],
            "image/png": "[encoded data removed]"
          },
          "metadata": {}
        }
      ]
    },
    {
      "cell_type": "code",
      "source": [
        "#Save model\n",
        "model.save('/content/drive/MyDrive/AI -Trần Thảo Hưng -20146344/file model/MODEL2.h5')"
      ],
      "metadata": {
        "id": "cSLb0JqDl7lt"
      },
      "execution_count": 383,
      "outputs": []
    }
  ]
}