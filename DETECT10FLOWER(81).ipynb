{
  "nbformat": 4,
  "nbformat_minor": 0,
  "metadata": {
    "colab": {
      "provenance": [],
      "gpuType": "T4",
      "include_colab_link": true
    },
    "kernelspec": {
      "name": "python3",
      "display_name": "Python 3"
    },
    "language_info": {
      "name": "python"
    },
    "gpuClass": "standard",
    "accelerator": "GPU"
  },
  "cells": [
    {
      "cell_type": "markdown",
      "metadata": {
        "id": "view-in-github",
        "colab_type": "text"
      },
      "source": [
        "<a href=\"https://colab.research.google.com/github/thaohung13/Project.cuoi.ky.AI/blob/main/DETECT10FLOWER(81).ipynb\" target=\"_parent\"><img src=\"https://colab.research.google.com/assets/colab-badge.svg\" alt=\"Open In Colab\"/></a>"
      ]
    },
    {
      "cell_type": "code",
      "execution_count": 34,
      "metadata": {
        "id": "dECoW6YblV-z"
      },
      "outputs": [],
      "source": [
        "from os import listdir\n",
        "from numpy import asarray, save\n",
        "from keras.utils import load_img\n",
        "from keras.utils import img_to_array\n",
        "import numpy as np\n",
        "from sklearn.model_selection import train_test_split\n",
        "from keras.datasets import cifar100\n",
        "import matplotlib.pyplot as plt\n",
        "from keras.layers import Dense, Dropout, Flatten, Conv2D, MaxPooling2D, Normalization\n",
        "from keras.models import Sequential, Model\n",
        "from keras import Input\n",
        "from keras.layers import LeakyReLU\n",
        "from keras.optimizers import Adam"
      ]
    },
    {
      "cell_type": "code",
      "source": [
        "from google.colab import drive\n",
        "drive.mount('/content/drive')"
      ],
      "metadata": {
        "colab": {
          "base_uri": "https://localhost:8080/"
        },
        "id": "U4XLAeBllbTr",
        "outputId": "34e5e2d9-0f74-40c8-db07-14583c81be3c"
      },
      "execution_count": 35,
      "outputs": [
        {
          "output_type": "stream",
          "name": "stdout",
          "text": [
            "Drive already mounted at /content/drive; to attempt to forcibly remount, call drive.mount(\"/content/drive\", force_remount=True).\n"
          ]
        }
      ]
    },
    {
      "cell_type": "code",
      "source": [
        "from numpy import asarray\n",
        "\n",
        "folder = '/content/drive/MyDrive/AI -Trần Thảo Hưng -20146344/DATA2/'\n",
        "photos, labels = list(), list()\n",
        "for file in listdir(folder):\n",
        "  output = 0.0\n",
        "  if file.startswith('Hong'):\n",
        "    output = 0\n",
        "  if file.startswith('Su'):\n",
        "    output = 1\n",
        "  if file.startswith('Sen'):\n",
        "    output = 2\n",
        "  if file.startswith('Mai'):\n",
        "    output = 3\n",
        "  if file.startswith('HaiDuong'):\n",
        "    output = 4\n",
        "  if file.startswith('HongMon'):\n",
        "    output = 5\n",
        "  if file.startswith('ThienDieu'):\n",
        "    output = 6\n",
        "  if file.startswith('CucVanTho'):\n",
        "    output = 7\n",
        "  if file.startswith('HuongDuong'):\n",
        "    output = 8\n",
        "  if file.startswith('DaUyenThao'):\n",
        "    output = 9\n",
        "  photo = load_img(folder + file, target_size=(128, 128))\n",
        "  photo = img_to_array(photo)\n",
        "  photos.append(photo)\n",
        "  labels.append(output)\n",
        "\n",
        "photos = asarray(photos)\n",
        "labels = asarray(labels)\n",
        "print(photos.shape, labels.shape)\n",
        "save('/content/drive/MyDrive/AI -Trần Thảo Hưng -20146344/model/HOA_PHOTOS3', photos)\n",
        "save('/content/drive/MyDrive/AI -Trần Thảo Hưng -20146344/model/HOA_LABELS3', labels)"
      ],
      "metadata": {
        "colab": {
          "base_uri": "https://localhost:8080/"
        },
        "id": "sNT-XeT4ldXZ",
        "outputId": "a553a759-42e2-4c52-f4e9-85625193335f"
      },
      "execution_count": 36,
      "outputs": [
        {
          "output_type": "stream",
          "name": "stdout",
          "text": [
            "(1245, 128, 128, 3) (1245,)\n"
          ]
        }
      ]
    },
    {
      "cell_type": "code",
      "source": [
        "# Load images and labels\n",
        "from keras.utils import to_categorical #one hot encoding\n",
        "photos = np.load('/content/drive/MyDrive/AI -Trần Thảo Hưng -20146344/model/HOA_PHOTOS3.npy')\n",
        "labels = np.load('/content/drive/MyDrive/AI -Trần Thảo Hưng -20146344/model/HOA_LABELS3.npy')\n",
        "labels_one_hot = to_categorical(labels)\n",
        "x_train, x_test, y_train, y_test = train_test_split(photos, labels_one_hot, test_size = 0.2, random_state = 128)"
      ],
      "metadata": {
        "id": "lp7XL7SblsKl"
      },
      "execution_count": 37,
      "outputs": []
    },
    {
      "cell_type": "code",
      "source": [
        "model = Sequential()\n",
        "#Convolutional\n",
        "model.add(Conv2D(8, kernel_size= (3,3), activation= 'relu', input_shape = (128,128,3), padding= 'same'))\n",
        "model.add(Conv2D(8, kernel_size= (3,3), activation= 'relu', padding= 'same'))\n",
        "model.add(MaxPooling2D((2,2), padding= 'same'))\n",
        "\n",
        "model.add(Conv2D(16, kernel_size= (3,3), activation= 'relu', padding= 'same'))\n",
        "model.add(Conv2D(16, kernel_size= (3,3), activation= 'relu', padding= 'same'))\n",
        "model.add(MaxPooling2D((2,2), padding= 'same'))\n",
        "\n",
        "model.add(Conv2D(32, kernel_size= (3,3), activation= 'relu', padding= 'same'))\n",
        "model.add(Conv2D(32, kernel_size= (3,3), activation= 'relu', padding= 'same'))\n",
        "model.add(MaxPooling2D((2,2), padding= 'same'))\n",
        "\n",
        "model.add(Conv2D(64, kernel_size= (3,3), activation= 'relu', padding= 'same'))\n",
        "model.add(Conv2D(64, kernel_size= (3,3), activation= 'relu', padding= 'same'))\n",
        "model.add(MaxPooling2D((2,2), padding= 'same'))\n",
        "\n",
        "# Fully connected layers\n",
        "model.add(Flatten())\n",
        "model.add(Dense(512, activation= 'relu'))\n",
        "model.add(Dropout(0.25))\n",
        "model.add(Dense(512, activation= 'relu'))\n",
        "model.add(Dropout(0.25))\n",
        "model.add(Dense(10, activation= 'softmax'))\n",
        "model.summary()"
      ],
      "metadata": {
        "colab": {
          "base_uri": "https://localhost:8080/"
        },
        "id": "N0JYyJhIlt-9",
        "outputId": "cde8afa6-5883-47cd-846f-c42d0f983583"
      },
      "execution_count": 38,
      "outputs": [
        {
          "output_type": "stream",
          "name": "stdout",
          "text": [
            "Model: \"sequential_7\"\n",
            "_________________________________________________________________\n",
            " Layer (type)                Output Shape              Param #   \n",
            "=================================================================\n",
            " conv2d_26 (Conv2D)          (None, 128, 128, 8)       224       \n",
            "                                                                 \n",
            " conv2d_27 (Conv2D)          (None, 128, 128, 8)       584       \n",
            "                                                                 \n",
            " max_pooling2d_16 (MaxPoolin  (None, 64, 64, 8)        0         \n",
            " g2D)                                                            \n",
            "                                                                 \n",
            " conv2d_28 (Conv2D)          (None, 64, 64, 16)        1168      \n",
            "                                                                 \n",
            " conv2d_29 (Conv2D)          (None, 64, 64, 16)        2320      \n",
            "                                                                 \n",
            " max_pooling2d_17 (MaxPoolin  (None, 32, 32, 16)       0         \n",
            " g2D)                                                            \n",
            "                                                                 \n",
            " conv2d_30 (Conv2D)          (None, 32, 32, 32)        4640      \n",
            "                                                                 \n",
            " conv2d_31 (Conv2D)          (None, 32, 32, 32)        9248      \n",
            "                                                                 \n",
            " max_pooling2d_18 (MaxPoolin  (None, 16, 16, 32)       0         \n",
            " g2D)                                                            \n",
            "                                                                 \n",
            " conv2d_32 (Conv2D)          (None, 16, 16, 64)        18496     \n",
            "                                                                 \n",
            " conv2d_33 (Conv2D)          (None, 16, 16, 64)        36928     \n",
            "                                                                 \n",
            " max_pooling2d_19 (MaxPoolin  (None, 8, 8, 64)         0         \n",
            " g2D)                                                            \n",
            "                                                                 \n",
            " flatten_3 (Flatten)         (None, 4096)              0         \n",
            "                                                                 \n",
            " dense_11 (Dense)            (None, 512)               2097664   \n",
            "                                                                 \n",
            " dropout_8 (Dropout)         (None, 512)               0         \n",
            "                                                                 \n",
            " dense_12 (Dense)            (None, 512)               262656    \n",
            "                                                                 \n",
            " dropout_9 (Dropout)         (None, 512)               0         \n",
            "                                                                 \n",
            " dense_13 (Dense)            (None, 10)                5130      \n",
            "                                                                 \n",
            "=================================================================\n",
            "Total params: 2,439,058\n",
            "Trainable params: 2,439,058\n",
            "Non-trainable params: 0\n",
            "_________________________________________________________________\n"
          ]
        }
      ]
    },
    {
      "cell_type": "code",
      "source": [
        "x_train.shape"
      ],
      "metadata": {
        "colab": {
          "base_uri": "https://localhost:8080/"
        },
        "id": "AkhvQL9vlySs",
        "outputId": "dae4fad7-3bd6-49f3-c5a8-a435bf81d5e8"
      },
      "execution_count": 39,
      "outputs": [
        {
          "output_type": "execute_result",
          "data": {
            "text/plain": [
              "(996, 128, 128, 3)"
            ]
          },
          "metadata": {},
          "execution_count": 39
        }
      ]
    },
    {
      "cell_type": "code",
      "source": [
        "y_train.shape"
      ],
      "metadata": {
        "colab": {
          "base_uri": "https://localhost:8080/"
        },
        "id": "f8YA8GNcl0EJ",
        "outputId": "7545c707-8666-44b8-d2fc-dd85d87b6e95"
      },
      "execution_count": 40,
      "outputs": [
        {
          "output_type": "execute_result",
          "data": {
            "text/plain": [
              "(996, 10)"
            ]
          },
          "metadata": {},
          "execution_count": 40
        }
      ]
    },
    {
      "cell_type": "code",
      "source": [
        "# Training\n",
        "batch_size=128\n",
        "epochs=50   \n",
        "\n",
        "model.compile(optimizer = Adam(), loss = 'categorical_crossentropy', metrics = ['accuracy'])\n",
        "train=model.fit(x_train,y_train,batch_size=batch_size,epochs=epochs,verbose=1)\n",
        "eval = model.evaluate(x_test, y_test)\n",
        "print('Test loss: ', eval[0])\n",
        "print('Test accuracy: ', eval[1])"
      ],
      "metadata": {
        "colab": {
          "base_uri": "https://localhost:8080/"
        },
        "id": "_yw-dLT9l1qR",
        "outputId": "5ee1d4ad-2f74-4cf9-821e-929837f4503e"
      },
      "execution_count": 41,
      "outputs": [
        {
          "output_type": "stream",
          "name": "stdout",
          "text": [
            "Epoch 1/50\n",
            "8/8 [==============================] - 3s 165ms/step - loss: 2.9249 - accuracy: 0.2179\n",
            "Epoch 2/50\n",
            "8/8 [==============================] - 0s 56ms/step - loss: 1.9587 - accuracy: 0.2882\n",
            "Epoch 3/50\n",
            "8/8 [==============================] - 0s 56ms/step - loss: 1.5997 - accuracy: 0.3845\n",
            "Epoch 4/50\n",
            "8/8 [==============================] - 0s 56ms/step - loss: 1.3219 - accuracy: 0.4980\n",
            "Epoch 5/50\n",
            "8/8 [==============================] - 0s 57ms/step - loss: 1.1169 - accuracy: 0.5823\n",
            "Epoch 6/50\n",
            "8/8 [==============================] - 0s 56ms/step - loss: 0.8446 - accuracy: 0.7139\n",
            "Epoch 7/50\n",
            "8/8 [==============================] - 0s 56ms/step - loss: 0.7227 - accuracy: 0.7410\n",
            "Epoch 8/50\n",
            "8/8 [==============================] - 0s 57ms/step - loss: 0.6378 - accuracy: 0.7871\n",
            "Epoch 9/50\n",
            "8/8 [==============================] - 0s 57ms/step - loss: 0.4965 - accuracy: 0.8173\n",
            "Epoch 10/50\n",
            "8/8 [==============================] - 0s 56ms/step - loss: 0.4044 - accuracy: 0.8635\n",
            "Epoch 11/50\n",
            "8/8 [==============================] - 0s 57ms/step - loss: 0.2942 - accuracy: 0.8976\n",
            "Epoch 12/50\n",
            "8/8 [==============================] - 0s 57ms/step - loss: 0.1973 - accuracy: 0.9327\n",
            "Epoch 13/50\n",
            "8/8 [==============================] - 0s 58ms/step - loss: 0.1702 - accuracy: 0.9418\n",
            "Epoch 14/50\n",
            "8/8 [==============================] - 0s 59ms/step - loss: 0.0965 - accuracy: 0.9699\n",
            "Epoch 15/50\n",
            "8/8 [==============================] - 1s 66ms/step - loss: 0.1041 - accuracy: 0.9598\n",
            "Epoch 16/50\n",
            "8/8 [==============================] - 1s 67ms/step - loss: 0.1177 - accuracy: 0.9639\n",
            "Epoch 17/50\n",
            "8/8 [==============================] - 1s 66ms/step - loss: 0.1184 - accuracy: 0.9598\n",
            "Epoch 18/50\n",
            "8/8 [==============================] - 1s 73ms/step - loss: 0.0646 - accuracy: 0.9799\n",
            "Epoch 19/50\n",
            "8/8 [==============================] - 1s 67ms/step - loss: 0.0771 - accuracy: 0.9739\n",
            "Epoch 20/50\n",
            "8/8 [==============================] - 1s 62ms/step - loss: 0.0575 - accuracy: 0.9799\n",
            "Epoch 21/50\n",
            "8/8 [==============================] - 0s 57ms/step - loss: 0.0301 - accuracy: 0.9920\n",
            "Epoch 22/50\n",
            "8/8 [==============================] - 0s 58ms/step - loss: 0.0392 - accuracy: 0.9880\n",
            "Epoch 23/50\n",
            "8/8 [==============================] - 0s 57ms/step - loss: 0.0579 - accuracy: 0.9819\n",
            "Epoch 24/50\n",
            "8/8 [==============================] - 0s 58ms/step - loss: 0.0413 - accuracy: 0.9880\n",
            "Epoch 25/50\n",
            "8/8 [==============================] - 0s 58ms/step - loss: 0.0462 - accuracy: 0.9849\n",
            "Epoch 26/50\n",
            "8/8 [==============================] - 0s 57ms/step - loss: 0.0379 - accuracy: 0.9869\n",
            "Epoch 27/50\n",
            "8/8 [==============================] - 0s 56ms/step - loss: 0.0246 - accuracy: 0.9910\n",
            "Epoch 28/50\n",
            "8/8 [==============================] - 0s 57ms/step - loss: 0.0306 - accuracy: 0.9890\n",
            "Epoch 29/50\n",
            "8/8 [==============================] - 0s 57ms/step - loss: 0.0367 - accuracy: 0.9849\n",
            "Epoch 30/50\n",
            "8/8 [==============================] - 0s 57ms/step - loss: 0.0236 - accuracy: 0.9900\n",
            "Epoch 31/50\n",
            "8/8 [==============================] - 0s 57ms/step - loss: 0.0621 - accuracy: 0.9849\n",
            "Epoch 32/50\n",
            "8/8 [==============================] - 0s 59ms/step - loss: 0.0284 - accuracy: 0.9910\n",
            "Epoch 33/50\n",
            "8/8 [==============================] - 0s 57ms/step - loss: 0.0196 - accuracy: 0.9960\n",
            "Epoch 34/50\n",
            "8/8 [==============================] - 0s 57ms/step - loss: 0.0092 - accuracy: 0.9970\n",
            "Epoch 35/50\n",
            "8/8 [==============================] - 0s 56ms/step - loss: 0.0163 - accuracy: 0.9940\n",
            "Epoch 36/50\n",
            "8/8 [==============================] - 0s 57ms/step - loss: 0.0209 - accuracy: 0.9920\n",
            "Epoch 37/50\n",
            "8/8 [==============================] - 0s 57ms/step - loss: 0.0145 - accuracy: 0.9960\n",
            "Epoch 38/50\n",
            "8/8 [==============================] - 0s 57ms/step - loss: 0.0146 - accuracy: 0.9940\n",
            "Epoch 39/50\n",
            "8/8 [==============================] - 0s 57ms/step - loss: 0.0242 - accuracy: 0.9910\n",
            "Epoch 40/50\n",
            "8/8 [==============================] - 0s 57ms/step - loss: 0.0439 - accuracy: 0.9880\n",
            "Epoch 41/50\n",
            "8/8 [==============================] - 0s 57ms/step - loss: 0.0645 - accuracy: 0.9759\n",
            "Epoch 42/50\n",
            "8/8 [==============================] - 0s 60ms/step - loss: 0.0628 - accuracy: 0.9789\n",
            "Epoch 43/50\n",
            "8/8 [==============================] - 0s 58ms/step - loss: 0.0200 - accuracy: 0.9940\n",
            "Epoch 44/50\n",
            "8/8 [==============================] - 0s 59ms/step - loss: 0.0160 - accuracy: 0.9940\n",
            "Epoch 45/50\n",
            "8/8 [==============================] - 0s 59ms/step - loss: 0.0184 - accuracy: 0.9930\n",
            "Epoch 46/50\n",
            "8/8 [==============================] - 0s 59ms/step - loss: 0.0102 - accuracy: 0.9970\n",
            "Epoch 47/50\n",
            "8/8 [==============================] - 0s 59ms/step - loss: 0.0115 - accuracy: 0.9970\n",
            "Epoch 48/50\n",
            "8/8 [==============================] - 0s 62ms/step - loss: 0.0089 - accuracy: 0.9970\n",
            "Epoch 49/50\n",
            "8/8 [==============================] - 0s 62ms/step - loss: 0.0119 - accuracy: 0.9970\n",
            "Epoch 50/50\n",
            "8/8 [==============================] - 0s 56ms/step - loss: 0.0112 - accuracy: 0.9950\n",
            "8/8 [==============================] - 0s 18ms/step - loss: 1.0831 - accuracy: 0.8193\n",
            "Test loss:  1.0830851793289185\n",
            "Test accuracy:  0.8192771077156067\n"
          ]
        }
      ]
    },
    {
      "cell_type": "code",
      "source": [
        "test_loss, test_acc = model.evaluate(x_test, y_test)\n",
        "print(\"Accuracy:\", test_acc)\n",
        "print('Loss:', test_loss)"
      ],
      "metadata": {
        "colab": {
          "base_uri": "https://localhost:8080/"
        },
        "id": "Wtu6uksGl3Mj",
        "outputId": "ea4d6ca6-0ab5-4303-b596-980998042a96"
      },
      "execution_count": 42,
      "outputs": [
        {
          "output_type": "stream",
          "name": "stdout",
          "text": [
            "8/8 [==============================] - 0s 7ms/step - loss: 1.0831 - accuracy: 0.8193\n",
            "Accuracy: 0.8192771077156067\n",
            "Loss: 1.0830851793289185\n"
          ]
        }
      ]
    },
    {
      "cell_type": "code",
      "source": [
        "accuracy = train.history['accuracy']\n",
        "loss = train.history['loss']\n",
        "epochs = range(len(accuracy))\n",
        "plt.plot(epochs, accuracy, 'bo', label = 'Training accuracy')\n",
        "plt.plot(epochs, loss, 'b', label = 'Traning loss')\n",
        "plt.show()"
      ],
      "metadata": {
        "colab": {
          "base_uri": "https://localhost:8080/",
          "height": 430
        },
        "id": "CfCxsXpwl48j",
        "outputId": "ae4d4f39-b644-4a09-d62c-7460bb834bee"
      },
      "execution_count": 43,
      "outputs": [
        {
          "output_type": "display_data",
          "data": {
            "text/plain": [
              "<Figure size 640x480 with 1 Axes>"
            ],
            "image/png": "[encoded data removed]"
          },
          "metadata": {}
        }
      ]
    },
    {
      "cell_type": "code",
      "source": [
        "#Save model\n",
        "model.save('/content/drive/MyDrive/Colab Notebooks/FLOWER/MODEL_FLOWER2.h5')"
      ],
      "metadata": {
        "id": "cSLb0JqDl7lt"
      },
      "execution_count": 44,
      "outputs": []
    }
  ]
}
